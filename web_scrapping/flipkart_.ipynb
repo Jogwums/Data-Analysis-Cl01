{
 "cells": [
  {
   "cell_type": "code",
   "execution_count": 13,
   "metadata": {},
   "outputs": [
    {
     "name": "stdout",
     "output_type": "stream",
     "text": [
      "Done\n"
     ]
    }
   ],
   "source": [
    "import json\n",
    "import ssl\n",
    "import bs4\n",
    "from urllib.request import Request, urlopen\n",
    "from bs4 import BeautifulSoup\n",
    "import pandas as pd \n",
    "\n",
    "print(\"Done\")"
   ]
  },
  {
   "cell_type": "code",
   "execution_count": 2,
   "metadata": {},
   "outputs": [],
   "source": [
    "# SSL certificate errors might pop up\n",
    "# to ignore them \n",
    "ctx = ssl.create_default_context()\n",
    "ctx.check_hostname = False\n",
    "ctx.verify_mode = ssl.CERT_NONE"
   ]
  },
  {
   "cell_type": "code",
   "execution_count": 3,
   "metadata": {},
   "outputs": [],
   "source": [
    "# Request input from the user\n",
    "# url = input('Enter flipkart product page, URL only')\n",
    "# OR\n",
    "url = \"https://www.flipkart.com/mobiles/mi~brand/pr?sid=tyy,4io\""
   ]
  },
  {
   "cell_type": "code",
   "execution_count": 4,
   "metadata": {},
   "outputs": [],
   "source": [
    "#Make the website believe you are accessing it from a mozilla browser\n",
    "req = Request(url, headers={'User-Agent': 'Mozilla/5.0'})\n",
    "webpage = urlopen(req).read()"
   ]
  },
  {
   "cell_type": "code",
   "execution_count": 5,
   "metadata": {},
   "outputs": [],
   "source": [
    "# Create a beautiful soup obj\n",
    "soup = BeautifulSoup(webpage, 'html.parser')\n",
    "html_obj = soup.prettify('utf-8')\n",
    "\n",
    "# creating a dict to store the diff data points \n",
    "product_details = {}\n",
    "product_details[\"highlights\"] = []\n",
    "product_details[\"product_desc\"] = {}\n"
   ]
  },
  {
   "cell_type": "code",
   "execution_count": 6,
   "metadata": {},
   "outputs": [],
   "source": [
    "# print(html_obj)"
   ]
  },
  {
   "cell_type": "code",
   "execution_count": 7,
   "metadata": {},
   "outputs": [],
   "source": [
    "mainContainer = soup.find_all('div', '_1AtVbE')"
   ]
  },
  {
   "cell_type": "code",
   "execution_count": 15,
   "metadata": {},
   "outputs": [],
   "source": [
    "product_details = [] #pd.DataFrame()\n",
    "for block in mainContainer:\n",
    "    product_details.append(block.find('div', class_='_4rR01T'))"
   ]
  },
  {
   "cell_type": "code",
   "execution_count": 16,
   "metadata": {},
   "outputs": [
    {
     "data": {
      "text/plain": [
       "[None,\n",
       " None,\n",
       " None,\n",
       " <div class=\"_4rR01T\">Redmi 9 (Carbon Black, 64 GB)</div>,\n",
       " <div class=\"_4rR01T\">Redmi 9 (Sky Blue, 64 GB)</div>,\n",
       " <div class=\"_4rR01T\">Xiaomi 11Lite NE (Jazz Blue, 128 GB)</div>,\n",
       " <div class=\"_4rR01T\">Redmi 9A (SeaBlue, 32 GB)</div>,\n",
       " <div class=\"_4rR01T\">Redmi 9A (Midnight Black, 32 GB)</div>,\n",
       " <div class=\"_4rR01T\">Redmi 9A (Midnight Black, 32 GB)</div>,\n",
       " <div class=\"_4rR01T\">Redmi 9A (Nature Green, 32 GB)</div>,\n",
       " <div class=\"_4rR01T\">Xiaomi 11Lite NE (Diamond Dazzle, 128 GB)</div>,\n",
       " <div class=\"_4rR01T\">Redmi 9A (Nature Green, 32 GB)</div>,\n",
       " <div class=\"_4rR01T\">Xiaomi 11Lite NE (Tuscany Coral, 128 GB)</div>,\n",
       " <div class=\"_4rR01T\">Redmi 9A Sport (Carbon Black, 32 GB)</div>,\n",
       " <div class=\"_4rR01T\">REDMI NOTE 10 LITE (Glacier White, 128 GB)</div>,\n",
       " <div class=\"_4rR01T\">Redmi 9A (Sea Blue, 32 GB)</div>,\n",
       " <div class=\"_4rR01T\">Redmi 9A Sport (Metallic Blue, 32 GB)</div>,\n",
       " <div class=\"_4rR01T\">Redmi 9A Sport (Metallic Blue, 32 GB)</div>,\n",
       " <div class=\"_4rR01T\">Redmi 9A Sport (Coral Green, 32 GB)</div>,\n",
       " <div class=\"_4rR01T\">Redmi 8A Dual (Sky White, 64 GB)</div>,\n",
       " <div class=\"_4rR01T\">Redmi K20 (Carbon Black, 128 GB)</div>,\n",
       " <div class=\"_4rR01T\">Redmi 7A (Matte Black, 32 GB)</div>,\n",
       " <div class=\"_4rR01T\">REDMI Note 11T 5G (Stardust White, 128 GB)</div>,\n",
       " <div class=\"_4rR01T\">REDMI Note 11T 5G (Matte black, 128 GB)</div>,\n",
       " <div class=\"_4rR01T\">REDMI Note 11T 5G (Matte black, 128 GB)</div>,\n",
       " <div class=\"_4rR01T\">REDMI Note 11T 5G (Aquamarine Blue, 128 GB)</div>,\n",
       " <div class=\"_4rR01T\">REDMI Note 11T 5G (Stardust White, 128 GB)</div>,\n",
       " None,\n",
       " None,\n",
       " None,\n",
       " None]"
      ]
     },
     "execution_count": 16,
     "metadata": {},
     "output_type": "execute_result"
    }
   ],
   "source": [
    "product_details"
   ]
  },
  {
   "cell_type": "code",
   "execution_count": 17,
   "metadata": {},
   "outputs": [
    {
     "ename": "JSONDecodeError",
     "evalue": "Expecting value: line 1 column 1 (char 0)",
     "output_type": "error",
     "traceback": [
      "\u001b[1;31m---------------------------------------------------------------------------\u001b[0m",
      "\u001b[1;31mJSONDecodeError\u001b[0m                           Traceback (most recent call last)",
      "\u001b[1;32m<ipython-input-17-52dbd99df53d>\u001b[0m in \u001b[0;36m<module>\u001b[1;34m\u001b[0m\n\u001b[0;32m      2\u001b[0m \u001b[1;31m# avg ratings, name, number of reviews, brand, image of product\u001b[0m\u001b[1;33m\u001b[0m\u001b[1;33m\u001b[0m\u001b[1;33m\u001b[0m\u001b[0m\n\u001b[0;32m      3\u001b[0m \u001b[1;32mfor\u001b[0m \u001b[0mscript\u001b[0m \u001b[1;32min\u001b[0m \u001b[0msoup\u001b[0m\u001b[1;33m.\u001b[0m\u001b[0mfindAll\u001b[0m\u001b[1;33m(\u001b[0m\u001b[1;34m'script'\u001b[0m\u001b[1;33m,\u001b[0m \u001b[0mattrs\u001b[0m\u001b[1;33m=\u001b[0m\u001b[1;33m{\u001b[0m\u001b[1;34m'id'\u001b[0m\u001b[1;33m:\u001b[0m \u001b[1;34m'jsonLD'\u001b[0m\u001b[1;33m}\u001b[0m\u001b[1;33m)\u001b[0m\u001b[1;33m:\u001b[0m\u001b[1;33m\u001b[0m\u001b[1;33m\u001b[0m\u001b[0m\n\u001b[1;32m----> 4\u001b[1;33m     \u001b[0mjson_data\u001b[0m \u001b[1;33m=\u001b[0m \u001b[0mjson\u001b[0m\u001b[1;33m.\u001b[0m\u001b[0mloads\u001b[0m\u001b[1;33m(\u001b[0m\u001b[0mscript\u001b[0m\u001b[1;33m.\u001b[0m\u001b[0mtext\u001b[0m\u001b[1;33m)\u001b[0m\u001b[1;33m\u001b[0m\u001b[1;33m\u001b[0m\u001b[0m\n\u001b[0m\u001b[0;32m      5\u001b[0m     \u001b[0mproduct_details\u001b[0m\u001b[1;33m[\u001b[0m\u001b[1;34m\"ratings\"\u001b[0m\u001b[1;33m]\u001b[0m \u001b[1;33m=\u001b[0m \u001b[0mjson_data\u001b[0m\u001b[1;33m[\u001b[0m\u001b[1;36m0\u001b[0m\u001b[1;33m]\u001b[0m\u001b[1;33m[\u001b[0m\u001b[1;34m\"aggregateRating\"\u001b[0m\u001b[1;33m]\u001b[0m\u001b[1;33m[\u001b[0m\u001b[1;34m\"ratingValue\"\u001b[0m\u001b[1;33m]\u001b[0m\u001b[1;33m\u001b[0m\u001b[1;33m\u001b[0m\u001b[0m\n\u001b[0;32m      6\u001b[0m     \u001b[0mproduct_details\u001b[0m\u001b[1;33m[\u001b[0m\u001b[1;34m\"no_of_reviewers\"\u001b[0m\u001b[1;33m]\u001b[0m \u001b[1;33m=\u001b[0m \u001b[0mjson_data\u001b[0m\u001b[1;33m[\u001b[0m\u001b[1;36m0\u001b[0m\u001b[1;33m]\u001b[0m\u001b[1;33m[\u001b[0m\u001b[1;34m\"aggregateRating\"\u001b[0m\u001b[1;33m]\u001b[0m\u001b[1;33m[\u001b[0m\u001b[1;34m\"reviewCount\"\u001b[0m\u001b[1;33m]\u001b[0m\u001b[1;33m\u001b[0m\u001b[1;33m\u001b[0m\u001b[0m\n",
      "\u001b[1;32mC:\\_anaconda3_11_2021\\lib\\json\\__init__.py\u001b[0m in \u001b[0;36mloads\u001b[1;34m(s, cls, object_hook, parse_float, parse_int, parse_constant, object_pairs_hook, **kw)\u001b[0m\n\u001b[0;32m    355\u001b[0m             \u001b[0mparse_int\u001b[0m \u001b[1;32mis\u001b[0m \u001b[1;32mNone\u001b[0m \u001b[1;32mand\u001b[0m \u001b[0mparse_float\u001b[0m \u001b[1;32mis\u001b[0m \u001b[1;32mNone\u001b[0m \u001b[1;32mand\u001b[0m\u001b[1;33m\u001b[0m\u001b[1;33m\u001b[0m\u001b[0m\n\u001b[0;32m    356\u001b[0m             parse_constant is None and object_pairs_hook is None and not kw):\n\u001b[1;32m--> 357\u001b[1;33m         \u001b[1;32mreturn\u001b[0m \u001b[0m_default_decoder\u001b[0m\u001b[1;33m.\u001b[0m\u001b[0mdecode\u001b[0m\u001b[1;33m(\u001b[0m\u001b[0ms\u001b[0m\u001b[1;33m)\u001b[0m\u001b[1;33m\u001b[0m\u001b[1;33m\u001b[0m\u001b[0m\n\u001b[0m\u001b[0;32m    358\u001b[0m     \u001b[1;32mif\u001b[0m \u001b[0mcls\u001b[0m \u001b[1;32mis\u001b[0m \u001b[1;32mNone\u001b[0m\u001b[1;33m:\u001b[0m\u001b[1;33m\u001b[0m\u001b[1;33m\u001b[0m\u001b[0m\n\u001b[0;32m    359\u001b[0m         \u001b[0mcls\u001b[0m \u001b[1;33m=\u001b[0m \u001b[0mJSONDecoder\u001b[0m\u001b[1;33m\u001b[0m\u001b[1;33m\u001b[0m\u001b[0m\n",
      "\u001b[1;32mC:\\_anaconda3_11_2021\\lib\\json\\decoder.py\u001b[0m in \u001b[0;36mdecode\u001b[1;34m(self, s, _w)\u001b[0m\n\u001b[0;32m    335\u001b[0m \u001b[1;33m\u001b[0m\u001b[0m\n\u001b[0;32m    336\u001b[0m         \"\"\"\n\u001b[1;32m--> 337\u001b[1;33m         \u001b[0mobj\u001b[0m\u001b[1;33m,\u001b[0m \u001b[0mend\u001b[0m \u001b[1;33m=\u001b[0m \u001b[0mself\u001b[0m\u001b[1;33m.\u001b[0m\u001b[0mraw_decode\u001b[0m\u001b[1;33m(\u001b[0m\u001b[0ms\u001b[0m\u001b[1;33m,\u001b[0m \u001b[0midx\u001b[0m\u001b[1;33m=\u001b[0m\u001b[0m_w\u001b[0m\u001b[1;33m(\u001b[0m\u001b[0ms\u001b[0m\u001b[1;33m,\u001b[0m \u001b[1;36m0\u001b[0m\u001b[1;33m)\u001b[0m\u001b[1;33m.\u001b[0m\u001b[0mend\u001b[0m\u001b[1;33m(\u001b[0m\u001b[1;33m)\u001b[0m\u001b[1;33m)\u001b[0m\u001b[1;33m\u001b[0m\u001b[1;33m\u001b[0m\u001b[0m\n\u001b[0m\u001b[0;32m    338\u001b[0m         \u001b[0mend\u001b[0m \u001b[1;33m=\u001b[0m \u001b[0m_w\u001b[0m\u001b[1;33m(\u001b[0m\u001b[0ms\u001b[0m\u001b[1;33m,\u001b[0m \u001b[0mend\u001b[0m\u001b[1;33m)\u001b[0m\u001b[1;33m.\u001b[0m\u001b[0mend\u001b[0m\u001b[1;33m(\u001b[0m\u001b[1;33m)\u001b[0m\u001b[1;33m\u001b[0m\u001b[1;33m\u001b[0m\u001b[0m\n\u001b[0;32m    339\u001b[0m         \u001b[1;32mif\u001b[0m \u001b[0mend\u001b[0m \u001b[1;33m!=\u001b[0m \u001b[0mlen\u001b[0m\u001b[1;33m(\u001b[0m\u001b[0ms\u001b[0m\u001b[1;33m)\u001b[0m\u001b[1;33m:\u001b[0m\u001b[1;33m\u001b[0m\u001b[1;33m\u001b[0m\u001b[0m\n",
      "\u001b[1;32mC:\\_anaconda3_11_2021\\lib\\json\\decoder.py\u001b[0m in \u001b[0;36mraw_decode\u001b[1;34m(self, s, idx)\u001b[0m\n\u001b[0;32m    353\u001b[0m             \u001b[0mobj\u001b[0m\u001b[1;33m,\u001b[0m \u001b[0mend\u001b[0m \u001b[1;33m=\u001b[0m \u001b[0mself\u001b[0m\u001b[1;33m.\u001b[0m\u001b[0mscan_once\u001b[0m\u001b[1;33m(\u001b[0m\u001b[0ms\u001b[0m\u001b[1;33m,\u001b[0m \u001b[0midx\u001b[0m\u001b[1;33m)\u001b[0m\u001b[1;33m\u001b[0m\u001b[1;33m\u001b[0m\u001b[0m\n\u001b[0;32m    354\u001b[0m         \u001b[1;32mexcept\u001b[0m \u001b[0mStopIteration\u001b[0m \u001b[1;32mas\u001b[0m \u001b[0merr\u001b[0m\u001b[1;33m:\u001b[0m\u001b[1;33m\u001b[0m\u001b[1;33m\u001b[0m\u001b[0m\n\u001b[1;32m--> 355\u001b[1;33m             \u001b[1;32mraise\u001b[0m \u001b[0mJSONDecodeError\u001b[0m\u001b[1;33m(\u001b[0m\u001b[1;34m\"Expecting value\"\u001b[0m\u001b[1;33m,\u001b[0m \u001b[0ms\u001b[0m\u001b[1;33m,\u001b[0m \u001b[0merr\u001b[0m\u001b[1;33m.\u001b[0m\u001b[0mvalue\u001b[0m\u001b[1;33m)\u001b[0m \u001b[1;32mfrom\u001b[0m \u001b[1;32mNone\u001b[0m\u001b[1;33m\u001b[0m\u001b[1;33m\u001b[0m\u001b[0m\n\u001b[0m\u001b[0;32m    356\u001b[0m         \u001b[1;32mreturn\u001b[0m \u001b[0mobj\u001b[0m\u001b[1;33m,\u001b[0m \u001b[0mend\u001b[0m\u001b[1;33m\u001b[0m\u001b[1;33m\u001b[0m\u001b[0m\n",
      "\u001b[1;31mJSONDecodeError\u001b[0m: Expecting value: line 1 column 1 (char 0)"
     ]
    }
   ],
   "source": [
    "# Extract from soup\n",
    "# avg ratings, name, number of reviews, brand, image of product\n",
    "for script in soup.findAll('script', attrs={'id': 'jsonLD'}):\n",
    "    json_data = json.loads(script.text)\n",
    "    product_details[\"ratings\"] = json_data[0][\"aggregateRating\"][\"ratingValue\"]\n",
    "    product_details[\"no_of_reviewers\"] = json_data[0][\"aggregateRating\"][\"reviewCount\"]\n",
    "    product_details[\"brand\"] = json_data[0][\"brand\"][\"name\"]\n",
    "    product_details[\"name\"] = json_data[0][\"name\"]\n",
    "    product_details[\"image\"] = json_data[0][\"image\"]\n",
    "    break\n",
    "\n",
    "# Extract top highlights of the product\n",
    "for li in soup.findAll('li', attrs={'class': '_2-riNZ'}):\n",
    "    product_details[\"highlights\"].append(li.text.strip())\n",
    "    \n",
    "# Extract the price of the product \n",
    "for div in soup.findAll('div', attrs={'class': '_1vC4DE _3qQ9m1'}):\n",
    "    product_details[\"price_in_indian_rupees\"] = float(div.text.strip()[1:].replace(\",\",\"\"))\n",
    "    break\n",
    "\n",
    "# Extract key value pairs in the description of the product \n",
    "description_headers = soup.findAll('div', attrs={'class': '_2THx53'})\n",
    "descriptions = soup.findAll('div', attrs={'class': '_1aK10F'})\n",
    "\n",
    "for i, desc in enumerate(descriptions):\n",
    "    product_details[\"product_desc\"][description_headers[i].text.strip()]\\\n",
    "    = desc.text.strip()\n",
    "\n",
    "# Save the product dictionary to a json file \n",
    "with open('./product_details.json', 'w', encoding=\"utf-8\") as outfile:\n",
    "    json.dump(product_details, outfile, indent=4, sort_keys=True)\n",
    "    \n",
    "# Save the product HTML content to a HTML file\n",
    "with open('./output_file.html', 'wb') as file:\n",
    "    file.write(html_obj)\n",
    "    \n",
    "#Finish\n",
    "print(\"*----Extraction of Data is Complete. Check json file----*\")"
   ]
  },
  {
   "cell_type": "code",
   "execution_count": null,
   "metadata": {},
   "outputs": [],
   "source": []
  }
 ],
 "metadata": {
  "kernelspec": {
   "display_name": "Python 3",
   "language": "python",
   "name": "python3"
  },
  "language_info": {
   "codemirror_mode": {
    "name": "ipython",
    "version": 3
   },
   "file_extension": ".py",
   "mimetype": "text/x-python",
   "name": "python",
   "nbconvert_exporter": "python",
   "pygments_lexer": "ipython3",
   "version": "3.8.8"
  }
 },
 "nbformat": 4,
 "nbformat_minor": 4
}
