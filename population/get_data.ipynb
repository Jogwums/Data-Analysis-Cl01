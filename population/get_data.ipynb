{
 "cells": [
  {
   "cell_type": "code",
   "execution_count": 1,
   "metadata": {},
   "outputs": [],
   "source": [
    "# get data from web source\n",
    "# https://www.worldometers.info/world-population/population-by-country/"
   ]
  },
  {
   "cell_type": "code",
   "execution_count": 1,
   "metadata": {},
   "outputs": [
    {
     "name": "stdout",
     "output_type": "stream",
     "text": [
      "Done\n"
     ]
    }
   ],
   "source": [
    "import pandas as pd, numpy as np, requests\n",
    "\n",
    "print(\"Done\")"
   ]
  },
  {
   "cell_type": "code",
   "execution_count": 11,
   "metadata": {},
   "outputs": [],
   "source": [
    "filepath = \"./world_by_country.csv\"\n",
    "\n",
    "tables = pd.read_csv(filepath, delimiter=\"\\t\")"
   ]
  },
  {
   "cell_type": "code",
   "execution_count": 12,
   "metadata": {},
   "outputs": [
    {
     "data": {
      "text/html": [
       "<div>\n",
       "<style scoped>\n",
       "    .dataframe tbody tr th:only-of-type {\n",
       "        vertical-align: middle;\n",
       "    }\n",
       "\n",
       "    .dataframe tbody tr th {\n",
       "        vertical-align: top;\n",
       "    }\n",
       "\n",
       "    .dataframe thead th {\n",
       "        text-align: right;\n",
       "    }\n",
       "</style>\n",
       "<table border=\"1\" class=\"dataframe\">\n",
       "  <thead>\n",
       "    <tr style=\"text-align: right;\">\n",
       "      <th></th>\n",
       "      <th>#</th>\n",
       "      <th>Country(or_dependency)</th>\n",
       "      <th>Population(2020)</th>\n",
       "      <th>Yearly_Change</th>\n",
       "      <th>Net_Change</th>\n",
       "      <th>Density(P/Km²)</th>\n",
       "      <th>Land Area(Km²)</th>\n",
       "      <th>Migrants(net)</th>\n",
       "      <th>Fert.Rate</th>\n",
       "      <th>Med.Age</th>\n",
       "      <th>UrbanPop %</th>\n",
       "      <th>World Share</th>\n",
       "    </tr>\n",
       "  </thead>\n",
       "  <tbody>\n",
       "    <tr>\n",
       "      <th>0</th>\n",
       "      <td>1</td>\n",
       "      <td>China</td>\n",
       "      <td>1,439,323,776</td>\n",
       "      <td>0.39 %</td>\n",
       "      <td>5,540,090</td>\n",
       "      <td>153</td>\n",
       "      <td>9,388,211</td>\n",
       "      <td>-348,399</td>\n",
       "      <td>1.7</td>\n",
       "      <td>38</td>\n",
       "      <td>61 %</td>\n",
       "      <td>18.47 %</td>\n",
       "    </tr>\n",
       "    <tr>\n",
       "      <th>1</th>\n",
       "      <td>2</td>\n",
       "      <td>India</td>\n",
       "      <td>1,380,004,385</td>\n",
       "      <td>0.99 %</td>\n",
       "      <td>13,586,631</td>\n",
       "      <td>464</td>\n",
       "      <td>2,973,190</td>\n",
       "      <td>-532,687</td>\n",
       "      <td>2.2</td>\n",
       "      <td>28</td>\n",
       "      <td>35 %</td>\n",
       "      <td>17.70 %</td>\n",
       "    </tr>\n",
       "    <tr>\n",
       "      <th>2</th>\n",
       "      <td>3</td>\n",
       "      <td>United States</td>\n",
       "      <td>331,002,651</td>\n",
       "      <td>0.59 %</td>\n",
       "      <td>1,937,734</td>\n",
       "      <td>36</td>\n",
       "      <td>9,147,420</td>\n",
       "      <td>954,806</td>\n",
       "      <td>1.8</td>\n",
       "      <td>38</td>\n",
       "      <td>83 %</td>\n",
       "      <td>4.25 %</td>\n",
       "    </tr>\n",
       "    <tr>\n",
       "      <th>3</th>\n",
       "      <td>4</td>\n",
       "      <td>Indonesia</td>\n",
       "      <td>273,523,615</td>\n",
       "      <td>1.07 %</td>\n",
       "      <td>2,898,047</td>\n",
       "      <td>151</td>\n",
       "      <td>1,811,570</td>\n",
       "      <td>-98,955</td>\n",
       "      <td>2.3</td>\n",
       "      <td>30</td>\n",
       "      <td>56 %</td>\n",
       "      <td>3.51 %</td>\n",
       "    </tr>\n",
       "    <tr>\n",
       "      <th>4</th>\n",
       "      <td>5</td>\n",
       "      <td>Pakistan</td>\n",
       "      <td>220,892,340</td>\n",
       "      <td>2.00 %</td>\n",
       "      <td>4,327,022</td>\n",
       "      <td>287</td>\n",
       "      <td>770,880</td>\n",
       "      <td>-233,379</td>\n",
       "      <td>3.6</td>\n",
       "      <td>23</td>\n",
       "      <td>35 %</td>\n",
       "      <td>2.83 %</td>\n",
       "    </tr>\n",
       "  </tbody>\n",
       "</table>\n",
       "</div>"
      ],
      "text/plain": [
       "   # Country(or_dependency) Population(2020) Yearly_Change  Net_Change  \\\n",
       "0  1                  China    1,439,323,776        0.39 %   5,540,090   \n",
       "1  2                  India    1,380,004,385        0.99 %  13,586,631   \n",
       "2  3          United States      331,002,651        0.59 %   1,937,734   \n",
       "3  4              Indonesia      273,523,615        1.07 %   2,898,047   \n",
       "4  5               Pakistan      220,892,340        2.00 %   4,327,022   \n",
       "\n",
       "  Density(P/Km²) Land Area(Km²) Migrants(net) Fert.Rate Med.Age UrbanPop %  \\\n",
       "0            153      9,388,211      -348,399       1.7      38       61 %   \n",
       "1            464      2,973,190      -532,687       2.2      28       35 %   \n",
       "2             36      9,147,420       954,806       1.8      38       83 %   \n",
       "3            151      1,811,570       -98,955       2.3      30       56 %   \n",
       "4            287        770,880      -233,379       3.6      23       35 %   \n",
       "\n",
       "  World Share  \n",
       "0     18.47 %  \n",
       "1     17.70 %  \n",
       "2      4.25 %  \n",
       "3      3.51 %  \n",
       "4      2.83 %  "
      ]
     },
     "execution_count": 12,
     "metadata": {},
     "output_type": "execute_result"
    }
   ],
   "source": [
    "tables.head()"
   ]
  },
  {
   "cell_type": "code",
   "execution_count": 13,
   "metadata": {},
   "outputs": [],
   "source": [
    "# \\t - used for space delimiter\n",
    "# export the table to excel using, pd.to_excel"
   ]
  },
  {
   "cell_type": "code",
   "execution_count": 14,
   "metadata": {},
   "outputs": [],
   "source": [
    "tables.to_excel(\"world_population.xlsx\")"
   ]
  },
  {
   "cell_type": "code",
   "execution_count": null,
   "metadata": {},
   "outputs": [],
   "source": [
    "# Export Done"
   ]
  }
 ],
 "metadata": {
  "interpreter": {
   "hash": "a5409bb92d8dccdfaa1f161c1473bdb1d911944018d534f65b90784abdf78097"
  },
  "kernelspec": {
   "display_name": "Python 3.7.7 64-bit",
   "name": "python3"
  },
  "language_info": {
   "codemirror_mode": {
    "name": "ipython",
    "version": 3
   },
   "file_extension": ".py",
   "mimetype": "text/x-python",
   "name": "python",
   "nbconvert_exporter": "python",
   "pygments_lexer": "ipython3",
   "version": "3.7.7"
  },
  "orig_nbformat": 4
 },
 "nbformat": 4,
 "nbformat_minor": 2
}
