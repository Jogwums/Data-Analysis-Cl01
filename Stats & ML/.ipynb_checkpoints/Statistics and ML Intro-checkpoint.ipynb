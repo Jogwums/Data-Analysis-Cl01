{
 "cells": [
  {
   "cell_type": "code",
   "execution_count": 1,
   "metadata": {},
   "outputs": [],
   "source": [
    "#ML involves the use of mathematics and statistics concepts to prepare and analyze data as well as make predictions \n",
    "#from same data"
   ]
  },
  {
   "cell_type": "code",
   "execution_count": 2,
   "metadata": {},
   "outputs": [],
   "source": [
    "#Basic Stats\n",
    "#Data Types and Operations\n",
    "#Categorical data , Nominal data and Ordinal data\n"
   ]
  },
  {
   "cell_type": "code",
   "execution_count": 3,
   "metadata": {},
   "outputs": [],
   "source": [
    "#Mean Median Mode (Measure of Central Tendency)\n",
    "#Average, Middle number and Most frequently occuring number"
   ]
  },
  {
   "cell_type": "code",
   "execution_count": 4,
   "metadata": {},
   "outputs": [],
   "source": [
    "#Example\n",
    "speed = [99,86,87,88,111,86,103,87,94,78,77,85,86]"
   ]
  },
  {
   "cell_type": "code",
   "execution_count": 5,
   "metadata": {},
   "outputs": [],
   "source": [
    "#programmers way\n",
    "#  "
   ]
  },
  {
   "cell_type": "code",
   "execution_count": 6,
   "metadata": {},
   "outputs": [],
   "source": [
    "def sumAll(*args):\n",
    "    return sum(args)"
   ]
  },
  {
   "cell_type": "code",
   "execution_count": 7,
   "metadata": {},
   "outputs": [
    {
     "data": {
      "text/plain": [
       "6"
      ]
     },
     "execution_count": 7,
     "metadata": {},
     "output_type": "execute_result"
    }
   ],
   "source": [
    "sumAll(1,2,3)"
   ]
  },
  {
   "cell_type": "code",
   "execution_count": 8,
   "metadata": {},
   "outputs": [
    {
     "data": {
      "text/plain": [
       "89.76923076923077"
      ]
     },
     "execution_count": 8,
     "metadata": {},
     "output_type": "execute_result"
    }
   ],
   "source": [
    "def mean(x):\n",
    "    return sum(x) / len(x)\n",
    "\n",
    "mean(speed)"
   ]
  },
  {
   "cell_type": "code",
   "execution_count": 9,
   "metadata": {},
   "outputs": [
    {
     "name": "stdout",
     "output_type": "stream",
     "text": [
      "89.76923076923077\n"
     ]
    }
   ],
   "source": [
    "#Mean\n",
    "import numpy\n",
    "\n",
    "x = numpy.mean(speed)\n",
    "\n",
    "print(x)"
   ]
  },
  {
   "cell_type": "code",
   "execution_count": 10,
   "metadata": {},
   "outputs": [
    {
     "data": {
      "text/plain": [
       "87"
      ]
     },
     "execution_count": 10,
     "metadata": {},
     "output_type": "execute_result"
    }
   ],
   "source": [
    "#Median programmers way \n",
    "def median(v):\n",
    "    \"\"\"finds the middle value in v \"\"\"\n",
    "    no = len(v)\n",
    "    sorted_v = sorted(v)\n",
    "    midpoint = no // 2\n",
    "\n",
    "    if no % 2 == 1:\n",
    "        #if odd return the middle value \n",
    "        return sorted_v[midpoint]\n",
    "    else:\n",
    "        #if even return the average of the middle values \n",
    "        lo = midpoint - 1\n",
    "        hi = midpoint\n",
    "        return (sorted_v[lo] + sorted_v[hi]) / 2\n",
    "\n",
    "median(speed)\n"
   ]
  },
  {
   "cell_type": "code",
   "execution_count": 11,
   "metadata": {},
   "outputs": [
    {
     "name": "stdout",
     "output_type": "stream",
     "text": [
      "87.0\n"
     ]
    }
   ],
   "source": [
    "#Median\n",
    "\n",
    "y = numpy.median(speed)\n",
    "\n",
    "print(y)\n"
   ]
  },
  {
   "cell_type": "code",
   "execution_count": 12,
   "metadata": {},
   "outputs": [
    {
     "name": "stdout",
     "output_type": "stream",
     "text": [
      "ModeResult(mode=array([86]), count=array([3]))\n"
     ]
    }
   ],
   "source": [
    "#Mode\n",
    "import scipy\n",
    "from scipy import stats\n",
    "\n",
    "z = stats.mode(speed)\n",
    "\n",
    "print(z)"
   ]
  },
  {
   "cell_type": "code",
   "execution_count": 13,
   "metadata": {},
   "outputs": [],
   "source": [
    "#Standard Deviation\n",
    "#This gives an idea of how spread out the values are from the mean value\n"
   ]
  },
  {
   "cell_type": "code",
   "execution_count": 14,
   "metadata": {},
   "outputs": [],
   "source": [
    "import numpy\n",
    "speed = [86,87,88,86,87,85,86]\n",
    "\n",
    "mean = numpy.mean(speed) #86.42857142857143\n",
    "\n",
    "S_D = 0.9035079029052513"
   ]
  },
  {
   "cell_type": "code",
   "execution_count": 15,
   "metadata": {},
   "outputs": [
    {
     "data": {
      "text/plain": [
       "0.9035079029052513"
      ]
     },
     "execution_count": 15,
     "metadata": {},
     "output_type": "execute_result"
    }
   ],
   "source": [
    "x = numpy.std(speed)\n",
    "x"
   ]
  },
  {
   "cell_type": "code",
   "execution_count": 16,
   "metadata": {},
   "outputs": [],
   "source": [
    "speed = [32,111,138,28,59,77,97]\n",
    "\n",
    "x = numpy.std(speed)\n",
    "\n",
    "S_D = 37.84501153334721\n"
   ]
  },
  {
   "cell_type": "code",
   "execution_count": 17,
   "metadata": {},
   "outputs": [],
   "source": [
    "#the Variance is another number that indicates how spreadout the values are\n",
    "\n",
    "#To calculate the variance\\\n",
    "#1. find the mean of a set of numbers\n",
    "#2. find the difference from the mean\n",
    "#3. for each difference, find the square\n",
    "#4. the VARIANCE is the average number of these squares\n",
    "\n",
    "#Use Numpy var() method to calculate the variance"
   ]
  },
  {
   "cell_type": "code",
   "execution_count": 18,
   "metadata": {},
   "outputs": [
    {
     "name": "stdout",
     "output_type": "stream",
     "text": [
      "The Variance is:  1432.2448979591834\n",
      "The SD is:  37.84501153334721\n"
     ]
    }
   ],
   "source": [
    "import numpy as np\n",
    "\n",
    "speed = [32,111,138,28,59,77,97]\n",
    "\n",
    "x = np.var(speed)\n",
    "\n",
    "print(\"The Variance is: \", x)\n",
    "\n",
    "#The standard deviation, SD is the Sqrt of Variance\n",
    "\n",
    "print(\"The SD is: \", np.sqrt(x))"
   ]
  },
  {
   "cell_type": "markdown",
   "metadata": {},
   "source": [
    "# Percentiles\n",
    "#Percentiles are used in statistics \n",
    "#to give you a number that describes the value that a given percent of the values are lower than."
   ]
  },
  {
   "cell_type": "markdown",
   "metadata": {},
   "source": [
    "'''Example: Let's say we have an array of the ages of all the people that lives in a street.\n",
    "ages = [5,31,43,48,50,41,7,11,15,39,80,82,32,2,8,6,25,36,27,61,31]\n",
    "What is the 75. percentile? The answer is 43, meaning that 75% of the people are 43 or younger.\n",
    "'''"
   ]
  },
  {
   "cell_type": "code",
   "execution_count": 19,
   "metadata": {},
   "outputs": [],
   "source": [
    "ages = [5,31,43,48,50,41,7,11,15,39,80,82,32,2,8,6,25,36,27,61,31]\n",
    "\n",
    "#Using the percentile() method in numpy to find the specified percentile\n"
   ]
  },
  {
   "cell_type": "code",
   "execution_count": 20,
   "metadata": {},
   "outputs": [
    {
     "name": "stdout",
     "output_type": "stream",
     "text": [
      "43.0\n"
     ]
    }
   ],
   "source": [
    "import numpy\n",
    "\n",
    "x = numpy.percentile(ages, 75)\n",
    "\n",
    "print(x)"
   ]
  },
  {
   "cell_type": "code",
   "execution_count": 21,
   "metadata": {},
   "outputs": [
    {
     "name": "stdout",
     "output_type": "stream",
     "text": [
      "61.0\n"
     ]
    }
   ],
   "source": [
    "#What is the age that 90% of the people are younger than?\n",
    "\n",
    "x = numpy.percentile(ages, 90)\n",
    "print(x)"
   ]
  },
  {
   "cell_type": "markdown",
   "metadata": {},
   "source": [
    "# Data Sets\n",
    "\n",
    "#To create big data sets for testing,\n",
    "#we use the Python module NumPy, which comes with a number of methods to create random data sets, of any size."
   ]
  },
  {
   "cell_type": "code",
   "execution_count": 22,
   "metadata": {},
   "outputs": [
    {
     "name": "stdout",
     "output_type": "stream",
     "text": [
      "[1.52813311e+00 2.35174154e+00 3.36459962e+00 1.92124673e-01\n",
      " 3.39872041e+00 2.22630507e+00 1.74792158e+00 1.30009805e+00\n",
      " 9.72266286e-01 3.45446085e-01 4.87423960e+00 2.51325676e-01\n",
      " 1.44080259e+00 3.56930537e+00 1.93985164e-01 4.80506017e+00\n",
      " 4.05141780e+00 1.85173988e+00 4.80253947e+00 1.13783601e+00\n",
      " 4.47069127e-01 2.29986448e+00 3.40163789e+00 7.84908614e-01\n",
      " 1.81467258e+00 1.65257183e+00 4.29883542e+00 1.79425929e+00\n",
      " 4.91066611e+00 4.42377868e-01 2.71003490e+00 2.34807574e+00\n",
      " 4.28874511e+00 2.26912498e+00 1.90014170e+00 2.43345140e+00\n",
      " 1.19110921e+00 1.64149568e-01 1.63374016e+00 2.23697722e+00\n",
      " 6.28689969e-01 4.62214315e+00 1.88105477e+00 2.05754260e-01\n",
      " 3.46648089e+00 4.29470259e+00 3.18838990e+00 4.19655875e+00\n",
      " 1.58963652e+00 1.62223683e+00 4.60707042e+00 8.44119162e-01\n",
      " 3.66022179e+00 4.74288415e+00 3.97558771e+00 1.80110099e+00\n",
      " 3.58098868e+00 2.06167635e+00 3.62941600e-01 2.90433214e+00\n",
      " 1.89703189e+00 4.39170969e-01 3.36643558e+00 1.25468200e+00\n",
      " 3.71527495e+00 9.53003360e-01 5.04390252e-01 1.49545773e+00\n",
      " 1.05155870e+00 2.11541161e+00 2.12761408e+00 8.98224049e-01\n",
      " 4.23550308e+00 2.13971259e+00 3.11954497e+00 3.29626715e-01\n",
      " 4.53935615e-01 2.45575122e+00 1.82568394e+00 1.15350994e+00\n",
      " 4.36738354e+00 6.69835563e-01 3.54508787e+00 2.87405302e+00\n",
      " 2.12662742e+00 1.06501604e+00 1.50106694e+00 6.68502409e-01\n",
      " 1.43360147e+00 1.51295491e+00 2.40152391e+00 1.12395142e+00\n",
      " 4.00983892e+00 8.58316731e-01 3.79069755e+00 1.30171802e+00\n",
      " 2.65626533e+00 1.93515826e+00 1.81599075e+00 4.55385237e+00\n",
      " 3.35931257e+00 1.67452936e+00 3.65778015e+00 1.83356818e+00\n",
      " 3.93030252e-01 2.67068009e+00 3.28806114e+00 4.25872552e-01\n",
      " 4.89409536e+00 1.04099686e+00 2.98135039e+00 3.31602997e-01\n",
      " 1.14661243e+00 4.91698705e+00 4.35136994e+00 1.01472239e+00\n",
      " 9.35479734e-01 2.05408616e+00 3.54270131e+00 3.37572834e+00\n",
      " 3.68484111e+00 3.42377587e+00 4.76064038e+00 1.01052874e-01\n",
      " 4.84197840e+00 2.58930184e+00 3.38150189e+00 2.67299098e+00\n",
      " 2.85740313e+00 6.35988159e-02 2.71317211e+00 3.70274802e+00\n",
      " 2.78715605e+00 1.79248610e+00 4.75550458e+00 3.28647827e+00\n",
      " 3.46432380e+00 4.48501846e+00 3.09793896e+00 3.08591446e+00\n",
      " 4.33177401e+00 1.70763009e-02 3.88780109e+00 1.52493181e+00\n",
      " 2.38770831e+00 1.71285587e+00 6.34973286e-01 7.83621360e-01\n",
      " 2.25499697e+00 2.55613648e+00 3.36118381e+00 4.26712683e+00\n",
      " 3.95114992e+00 2.65348542e+00 1.13501829e+00 6.63672644e-01\n",
      " 8.15601451e-01 2.10291107e+00 2.83295202e+00 3.42747975e+00\n",
      " 6.15075195e-01 2.35404651e+00 3.44184655e+00 3.17533502e+00\n",
      " 2.60804612e+00 2.19576648e+00 4.09151740e-03 3.91281768e+00\n",
      " 1.36582705e+00 6.75768586e-01 4.52303514e+00 8.71739817e-01\n",
      " 2.65442668e+00 2.20582141e+00 2.73305580e+00 8.70503661e-01\n",
      " 3.65995655e+00 1.29476396e+00 4.27297991e-02 4.10513303e+00\n",
      " 1.56284461e+00 1.42737447e+00 1.36224697e+00 2.55065116e+00\n",
      " 4.78660346e+00 2.06983790e+00 4.71018476e+00 8.80257743e-01\n",
      " 4.11606941e+00 2.49773561e+00 1.51467353e+00 2.55523944e+00\n",
      " 3.67059999e+00 1.48212370e+00 4.81625111e+00 4.23935358e+00\n",
      " 3.56822798e+00 1.62004151e+00 4.83502826e+00 2.28076473e+00\n",
      " 1.47502487e+00 3.69416167e+00 4.18606460e+00 4.05872507e+00\n",
      " 8.51201433e-01 3.10518834e+00 1.94536081e+00 3.32343798e+00\n",
      " 4.83941021e+00 3.20966401e+00 1.86249094e+00 4.95000815e+00\n",
      " 1.64002086e+00 1.24984957e+00 4.13976760e+00 3.07131843e+00\n",
      " 2.71244932e+00 3.41890809e+00 1.26925128e+00 3.08503110e-01\n",
      " 2.05627133e+00 3.00687864e-01 3.60196989e-01 4.41999220e-01\n",
      " 3.65705428e+00 1.44268436e+00 2.15301945e-01 4.86327392e+00\n",
      " 2.59844484e+00 4.85328299e+00 1.89635243e-01 1.44814080e+00\n",
      " 2.09051436e+00 3.32727083e+00 4.78846145e+00 4.87741340e+00\n",
      " 4.82966507e+00 6.92424956e-02 2.40152379e+00 1.09679697e+00\n",
      " 1.12661251e+00 3.93518972e+00 4.95072872e+00 1.62223947e+00\n",
      " 1.51874976e+00 9.83734009e-01 1.38040580e+00 2.63300151e-01\n",
      " 3.79634384e+00 2.18672568e+00]\n"
     ]
    }
   ],
   "source": [
    "import numpy\n",
    "\n",
    "x = numpy.random.uniform(0.0, 5.0, 250)\n",
    "\n",
    "print(x)"
   ]
  },
  {
   "cell_type": "markdown",
   "metadata": {},
   "source": [
    "# Histogram\n",
    "\n",
    "#This is used to visualize data"
   ]
  },
  {
   "cell_type": "code",
   "execution_count": 23,
   "metadata": {},
   "outputs": [
    {
     "data": {
      "image/png": "[encoded data removed]",
      "text/plain": [
       "<Figure size 432x288 with 1 Axes>"
      ]
     },
     "metadata": {
      "needs_background": "light"
     },
     "output_type": "display_data"
    }
   ],
   "source": [
    "import numpy\n",
    "import matplotlib.pyplot as plt\n",
    "%matplotlib inline\n",
    "\n",
    "x = numpy.random.uniform(0.0, 5.0, 250)\n",
    "\n",
    "plt.hist(x, 5)\n",
    "plt.show()"
   ]
  },
  {
   "cell_type": "code",
   "execution_count": 24,
   "metadata": {},
   "outputs": [
    {
     "data": {
      "image/png": "[encoded data removed]",
      "text/plain": [
       "<Figure size 432x288 with 1 Axes>"
      ]
     },
     "metadata": {
      "needs_background": "light"
     },
     "output_type": "display_data"
    }
   ],
   "source": [
    "#Create a bigger dataset and plot\n",
    "import numpy\n",
    "import matplotlib.pyplot as plt\n",
    "\n",
    "x = numpy.random.uniform(0.0, 5.0, 100000)\n",
    "\n",
    "plt.hist(x, 100)\n",
    "plt.show()\n"
   ]
  },
  {
   "cell_type": "markdown",
   "metadata": {},
   "source": [
    "# Normal Distribution "
   ]
  },
  {
   "cell_type": "code",
   "execution_count": 25,
   "metadata": {},
   "outputs": [
    {
     "data": {
      "image/png": "[encoded data removed]",
      "text/plain": [
       "<Figure size 432x288 with 1 Axes>"
      ]
     },
     "metadata": {
      "needs_background": "light"
     },
     "output_type": "display_data"
    },
    {
     "data": {
      "text/plain": [
       "'We use the array from the numpy.random.normal() method, with 100000 values,  to draw a histogram with 100 bars.\\nWe specify that the mean value is 5.0, and the standard deviation is 1.0.\\nMeaning that the values should be concentrated around 5.0, and rarely further away than 1.0 from the mean.\\nAnd as you can see from the histogram, most values are between 4.0 and 6.0, with a top at approximately 5.0.\\n'"
      ]
     },
     "execution_count": 25,
     "metadata": {},
     "output_type": "execute_result"
    }
   ],
   "source": [
    "#Example\n",
    "#A typical normal data distribution:\n",
    "import numpy\n",
    "import matplotlib.pyplot as plt\n",
    "\n",
    "x = numpy.random.normal(5.0, 1.0, 100000)\n",
    "\n",
    "plt.hist(x, 100)\n",
    "plt.show()\n",
    "\n",
    "'''We use the array from the numpy.random.normal() method, with 100000 values,  to draw a histogram with 100 bars.\n",
    "We specify that the mean value is 5.0, and the standard deviation is 1.0.\n",
    "Meaning that the values should be concentrated around 5.0, and rarely further away than 1.0 from the mean.\n",
    "And as you can see from the histogram, most values are between 4.0 and 6.0, with a top at approximately 5.0.\n",
    "'''"
   ]
  },
  {
   "cell_type": "markdown",
   "metadata": {},
   "source": [
    "# Scatter Plot"
   ]
  },
  {
   "cell_type": "code",
   "execution_count": 26,
   "metadata": {},
   "outputs": [],
   "source": [
    "## A scatter plot is a diagram where each value in the data set is represented by a dot."
   ]
  },
  {
   "cell_type": "code",
   "execution_count": 27,
   "metadata": {},
   "outputs": [],
   "source": [
    "#let x be the ages of each car \n",
    "x = [5,7,8,7,2,17,2,9,4,11,12,9,6]\n",
    "\n",
    "#let y be the speed of each car \n",
    "y = [99,86,87,88,111,86,103,87,94,78,77,85,86]"
   ]
  },
  {
   "cell_type": "code",
   "execution_count": 28,
   "metadata": {},
   "outputs": [
    {
     "data": {
      "image/png": "[encoded data removed]",
      "text/plain": [
       "<Figure size 432x288 with 1 Axes>"
      ]
     },
     "metadata": {
      "needs_background": "light"
     },
     "output_type": "display_data"
    }
   ],
   "source": [
    "plt.scatter(x,y)\n",
    "plt.show()"
   ]
  },
  {
   "cell_type": "code",
   "execution_count": 29,
   "metadata": {},
   "outputs": [],
   "source": [
    "# The x-axis represents ages, and the y-axis represents speeds.\n",
    "# What we can read from the diagram is that the two fastest cars were both 2 years old, and the slowest car was 12 years old.\n",
    "# Note that we registered only 13 cars so the results might just be a coincedence "
   ]
  },
  {
   "cell_type": "markdown",
   "metadata": {},
   "source": [
    "# Random Data Distributions"
   ]
  },
  {
   "cell_type": "markdown",
   "metadata": {},
   "source": [
    "# In Machine Learning the data sets can contain thousands-, or even millions, of values.\n",
    "\n",
    "# You might not have real world data when you are testing an algorithm, you might have to use randomly generated values.\n",
    "\n",
    "# As we have learned in the previous chapter, the NumPy module can help us with that!\n",
    "\n",
    "# Let us create two arrays that are both filled with 1000 random numbers from a normal data distribution.\n",
    "\n",
    "# The first array will have the mean set to 5.0 with a standard deviation of 1.0.\n",
    "\n",
    "# The second array will have the mean set to 10.0 with a standard deviation of 2.0:"
   ]
  },
  {
   "cell_type": "code",
   "execution_count": 30,
   "metadata": {},
   "outputs": [
    {
     "data": {
      "image/png": "[encoded data removed]",
      "text/plain": [
       "<Figure size 432x288 with 1 Axes>"
      ]
     },
     "metadata": {
      "needs_background": "light"
     },
     "output_type": "display_data"
    }
   ],
   "source": [
    "import numpy\n",
    "import matplotlib.pyplot as plt\n",
    "\n",
    "x = numpy.random.normal(5.0, 1.0, 1000)\n",
    "y = numpy.random.normal(10.0, 2.0, 1000)\n",
    "\n",
    "plt.scatter(x, y)\n",
    "plt.show()"
   ]
  },
  {
   "cell_type": "code",
   "execution_count": 31,
   "metadata": {},
   "outputs": [],
   "source": [
    "# Scatter Plot Explained\n",
    "# We can see that the dots are concentrated around the value 5 on the x-axis, and 10 on the y-axis.\n",
    "\n",
    "# We can also see that the spread is wider on the y-axis than on the x-axis."
   ]
  },
  {
   "cell_type": "markdown",
   "metadata": {},
   "source": [
    "# Machine Learning - Linear Regression"
   ]
  },
  {
   "cell_type": "markdown",
   "metadata": {},
   "source": [
    "# Regression\n",
    "### The term regression is used when you try to find the relationship between variables.\n",
    "\n",
    "### In Machine Learning, and in statistical modeling, that relationship is used to predict the outcome of future events."
   ]
  },
  {
   "cell_type": "markdown",
   "metadata": {},
   "source": [
    "# Linear Regression\n",
    "Linear regression uses the relationship between the data-points to draw a straight line through all them.\n",
    "\n",
    "This line can be used to predict future values."
   ]
  },
  {
   "cell_type": "code",
   "execution_count": 32,
   "metadata": {},
   "outputs": [],
   "source": [
    "# Python has methods for finding a relationship between data-points and to draw a line of linear regression. We will show you how to use these methods instead of going through the mathematic formula.\n",
    "\n",
    "# In the example below, the x-axis represents age, and the y-axis represents speed. We have registered the age and speed of 13 cars as they were passing a tollbooth. Let us see if the data we collected could be used in a linear regression:"
   ]
  },
  {
   "cell_type": "code",
   "execution_count": 33,
   "metadata": {},
   "outputs": [
    {
     "data": {
      "image/png": "[encoded data removed]",
      "text/plain": [
       "<Figure size 432x288 with 1 Axes>"
      ]
     },
     "metadata": {
      "needs_background": "light"
     },
     "output_type": "display_data"
    }
   ],
   "source": [
    "import matplotlib.pyplot as plt\n",
    "\n",
    "x = [5,7,8,7,2,17,2,9,4,11,12,9,6]\n",
    "y = [99,86,87,88,111,86,103,87,94,78,77,85,86]\n",
    "\n",
    "plt.scatter(x, y)\n",
    "plt.show()"
   ]
  },
  {
   "cell_type": "markdown",
   "metadata": {},
   "source": [
    "## In Machine Learning, predicting the future is very important."
   ]
  },
  {
   "cell_type": "code",
   "execution_count": 34,
   "metadata": {},
   "outputs": [
    {
     "data": {
      "image/png": "[encoded data removed]",
      "text/plain": [
       "<Figure size 432x288 with 1 Axes>"
      ]
     },
     "metadata": {
      "needs_background": "light"
     },
     "output_type": "display_data"
    }
   ],
   "source": [
    "#Import scipy and draw the line of Linear Regression:\n",
    "\n",
    "import matplotlib.pyplot as plt\n",
    "from scipy import stats\n",
    "\n",
    "#Create the arrays that represent the values of the x and y axis:\n",
    "\n",
    "x = [5,7,8,7,2,17,2,9,4,11,12,9,6]\n",
    "y = [99,86,87,88,111,86,103,87,94,78,77,85,86]\n",
    "\n",
    "#Execute a method that returns some important key values of Linear Regression:\n",
    "slope, intercept, r, p, std_err = stats.linregress(x, y)\n",
    "\n",
    "# Create a function that uses the slope and intercept values to return a new value. This new value represents where on the y-axis the corresponding x value will be placed:\n",
    "def myfunc(x):\n",
    "  return slope * x + intercept\n",
    "\n",
    "#Run each value of the x array through the function. This will result in a new array with new values for the y-axis:\n",
    "mymodel = list(map(myfunc, x))\n",
    "\n",
    "#Draw the original scatter plot:\n",
    "plt.scatter(x, y)\n",
    "#Draw the line of linear regression:\n",
    "plt.plot(x, mymodel)\n",
    "#Display the diagram:\n",
    "plt.show()"
   ]
  },
  {
   "cell_type": "markdown",
   "metadata": {},
   "source": [
    "# R for Relationship\n",
    "## It is important to know how the relationship between the values of the x-axis and the values of the y-axis is, if there are no relationship the linear regression can not be used to predict anything.\n",
    "\n",
    "## This relationship - the coefficient of correlation - is called r.\n",
    " \n",
    "## The r value ranges from -1 to 1, where 0 means no relationship, and 1 (and -1) means 100% related.\n",
    "\n",
    "## Python and the Scipy module will compute this value for you, all you have to do is feed it with the x and y values."
   ]
  },
  {
   "cell_type": "code",
   "execution_count": 35,
   "metadata": {},
   "outputs": [
    {
     "name": "stdout",
     "output_type": "stream",
     "text": [
      "-0.758591524376155\n"
     ]
    }
   ],
   "source": [
    "#Checking the fit of this data  \n",
    "\n",
    "#How well does my data fit in a linear regression?\n",
    "\n",
    "from scipy import stats\n",
    "\n",
    "x = [5,7,8,7,2,17,2,9,4,11,12,9,6]\n",
    "y = [99,86,87,88,111,86,103,87,94,78,77,85,86]\n",
    "\n",
    "slope, intercept, r, p, std_err = stats.linregress(x, y)\n",
    "\n",
    "print(r)"
   ]
  },
  {
   "cell_type": "code",
   "execution_count": 36,
   "metadata": {},
   "outputs": [],
   "source": [
    "#The result -0.76 shows that there is a relationship, not perfect, but it indicates that we could use linear regression in future predictions."
   ]
  },
  {
   "cell_type": "markdown",
   "metadata": {},
   "source": [
    "# How to check the relationship, r in a dataset \n",
    "## To determine if linear regression is useable to predict future values "
   ]
  },
  {
   "cell_type": "code",
   "execution_count": 37,
   "metadata": {},
   "outputs": [],
   "source": [
    "#Get the Test dataset "
   ]
  },
  {
   "cell_type": "code",
   "execution_count": 38,
   "metadata": {},
   "outputs": [
    {
     "name": "stdout",
     "output_type": "stream",
     "text": [
      "0.01331814154297491\n"
     ]
    }
   ],
   "source": [
    "import numpy\n",
    "from scipy import stats\n",
    "\n",
    "x = [89,43,36,36,95,10,66,34,38,20,26,29,48,64,6,5,36,66,72,40]\n",
    "y = [21,46,3,35,67,95,53,72,58,10,26,34,90,33,38,20,56,2,47,15]\n",
    "\n",
    "slope, intercept, r, p, std_err = stats.linregress(x, y)\n",
    "\n",
    "print(r)"
   ]
  },
  {
   "cell_type": "code",
   "execution_count": 39,
   "metadata": {},
   "outputs": [],
   "source": [
    "#Very low value of r shows that linear regression will not be a good fit \n",
    "# values of r should range from -1 to 1 (-1, 0, 1)\n",
    "# 0 or any value near means bad fit \n",
    "# -1 or 1 means 100% (good fit)"
   ]
  },
  {
   "cell_type": "code",
   "execution_count": 40,
   "metadata": {},
   "outputs": [],
   "source": [
    "#Draw the plot of the above example "
   ]
  },
  {
   "cell_type": "code",
   "execution_count": 41,
   "metadata": {},
   "outputs": [
    {
     "data": {
      "image/png": "[encoded data removed]",
      "text/plain": [
       "<Figure size 432x288 with 1 Axes>"
      ]
     },
     "metadata": {
      "needs_background": "light"
     },
     "output_type": "display_data"
    }
   ],
   "source": [
    "import matplotlib.pyplot as plt\n",
    "from scipy import stats\n",
    "\n",
    "x = [89,43,36,36,95,10,66,34,38,20,26,29,48,64,6,5,36,66,72,40]\n",
    "y = [21,46,3,35,67,95,53,72,58,10,26,34,90,33,38,20,56,2,47,15]\n",
    "\n",
    "slope, intercept, r, p, std_err = stats.linregress(x, y)\n",
    "\n",
    "def myfunc(x):\n",
    "    return slope * x + intercept\n",
    "\n",
    "mymodel = list(map(myfunc, x))\n",
    "\n",
    "plt.scatter(x, y)\n",
    "plt.plot(x, mymodel)\n",
    "plt.show()"
   ]
  },
  {
   "cell_type": "code",
   "execution_count": 42,
   "metadata": {},
   "outputs": [],
   "source": [
    "#Plot shows that the fit is bad and that this dataset is not suitable for linear regression "
   ]
  },
  {
   "cell_type": "markdown",
   "metadata": {},
   "source": [
    "# Predict Future Values\n",
    "## Now we can use the information we have gathered to predict future values.\n",
    "\n",
    "## Example: Let us try to predict the speed of a 10 years old car.\n",
    "\n",
    "## To do so, we need the same myfunc() function from the example above:"
   ]
  },
  {
   "cell_type": "code",
   "execution_count": 44,
   "metadata": {},
   "outputs": [
    {
     "name": "stdout",
     "output_type": "stream",
     "text": [
      "85.59308314937454\n"
     ]
    }
   ],
   "source": [
    "from scipy import stats\n",
    "\n",
    "x = [5,7,8,7,2,17,2,9,4,11,12,9,6]\n",
    "y = [99,86,87,88,111,86,103,87,94,78,77,85,86]\n",
    "\n",
    "slope, intercept, r, p, std_err = stats.linregress(x, y)\n",
    "\n",
    "def myfunc(x):\n",
    "    return slope * x + intercept\n",
    "\n",
    "speed = myfunc(10)\n",
    "\n",
    "print(speed)"
   ]
  },
  {
   "cell_type": "code",
   "execution_count": 45,
   "metadata": {},
   "outputs": [],
   "source": [
    "#Result shows a speed of 85.59 / 85.6 for a 10 year old car.\n",
    "#We can also infer that from the diagram "
   ]
  },
  {
   "cell_type": "markdown",
   "metadata": {},
   "source": [
    "# Machine Learning - Polynomial Regression"
   ]
  },
  {
   "cell_type": "markdown",
   "metadata": {},
   "source": [
    "### If your data points clearly will not fit a linear regression (a straight line through all data points), it might be ideal for polynomial regression.\n",
    "\n",
    "Polynomial regression, like linear regression, uses the relationship between the variables x and y to find the best way to draw a line through the data points."
   ]
  },
  {
   "cell_type": "markdown",
   "metadata": {},
   "source": [
    "## How Does it Work?\n",
    "Python has methods for finding a relationship between data-points and to draw a line of polynomial regression. We will show you how to use these methods instead of going through the mathematic formula.\n",
    "\n",
    "In the example below, we have registered 18 cars as they were passing a certain tollbooth.\n",
    "\n",
    "We have registered the car's speed, and the time of day (hour) the passing occurred.\n",
    "\n",
    "The x-axis represents the hours of the day and the y-axis represents the speed:"
   ]
  },
  {
   "cell_type": "code",
   "execution_count": 46,
   "metadata": {},
   "outputs": [
    {
     "data": {
      "image/png": "[encoded data removed]",
      "text/plain": [
       "<Figure size 432x288 with 1 Axes>"
      ]
     },
     "metadata": {
      "needs_background": "light"
     },
     "output_type": "display_data"
    }
   ],
   "source": [
    "import matplotlib.pyplot as plt\n",
    "\n",
    "x = [1,2,3,5,6,7,8,9,10,12,13,14,15,16,18,19,21,22]\n",
    "y = [100,90,80,60,60,55,60,65,70,70,75,76,78,79,90,99,99,100]\n",
    "\n",
    "plt.scatter(x, y)\n",
    "plt.show()"
   ]
  },
  {
   "cell_type": "markdown",
   "metadata": {},
   "source": [
    "## Extend the plot \n"
   ]
  },
  {
   "cell_type": "code",
   "execution_count": 47,
   "metadata": {},
   "outputs": [
    {
     "data": {
      "image/png": "[encoded data removed]",
      "text/plain": [
       "<Figure size 432x288 with 1 Axes>"
      ]
     },
     "metadata": {
      "needs_background": "light"
     },
     "output_type": "display_data"
    }
   ],
   "source": [
    "import numpy\n",
    "import matplotlib.pyplot as plt\n",
    "\n",
    "#Create the arrays that represent the values of the x and y axis:\n",
    "x = [1,2,3,5,6,7,8,9,10,12,13,14,15,16,18,19,21,22]\n",
    "y = [100,90,80,60,60,55,60,65,70,70,75,76,78,79,90,99,99,100]\n",
    "\n",
    "#NumPy has a method that lets us make a polynomial model:\n",
    "mymodel = numpy.poly1d(numpy.polyfit(x, y, 3))\n",
    "\n",
    "#Then specify how the line will display, we start at position 1, and end at position 22:\n",
    "myline = numpy.linspace(1, 22, 100)\n",
    "\n",
    "#Draw the original scatter plot:\n",
    "plt.scatter(x, y)\n",
    "\n",
    "#Draw the line of polynomial regression:\n",
    "plt.plot(myline, mymodel(myline))\n",
    "plt.show()"
   ]
  },
  {
   "cell_type": "markdown",
   "metadata": {},
   "source": [
    "###After getting the line of fit\n",
    "# R-Squared\n",
    " It is important to know how well the relationship between the values of the x- and y-axis is, if there are no relationship the polynomial regression can not be used to predict anything.\n",
    "\n",
    " The relationship is measured with a value called the r-squared.\n",
    "\n",
    " The r-squared value ranges from 0 to 1, where 0 means no relationship, and 1 means 100% related.\n",
    "\n",
    " Python and the Sklearn module will compute this value for you, all you have to do is feed it with the x and y arrays: "
   ]
  },
  {
   "cell_type": "code",
   "execution_count": 48,
   "metadata": {},
   "outputs": [
    {
     "name": "stdout",
     "output_type": "stream",
     "text": [
      "0.9432150416451027\n"
     ]
    }
   ],
   "source": [
    "import numpy\n",
    "from sklearn.metrics import r2_score\n",
    "\n",
    "x = [1,2,3,5,6,7,8,9,10,12,13,14,15,16,18,19,21,22]\n",
    "y = [100,90,80,60,60,55,60,65,70,70,75,76,78,79,90,99,99,100]\n",
    "\n",
    "mymodel = numpy.poly1d(numpy.polyfit(x, y, 3))\n",
    "\n",
    "print(r2_score(y, mymodel(x)))"
   ]
  },
  {
   "cell_type": "code",
   "execution_count": 49,
   "metadata": {},
   "outputs": [],
   "source": [
    "#The result 0.94 shows that there is a very good relationship, and we can use polynomial regression in future predictions."
   ]
  },
  {
   "cell_type": "markdown",
   "metadata": {},
   "source": [
    "# Predict Future Values\n",
    " Now we can use the information we have gathered to predict future values.\n",
    "\n",
    " Example: Let us try to predict the speed of a car that passes the tollbooth at around 17 P.M:\n",
    "\n",
    " To do so, we need the same mymodel array from the example above:"
   ]
  },
  {
   "cell_type": "code",
   "execution_count": 50,
   "metadata": {},
   "outputs": [],
   "source": [
    "# Predict the speed of a car passing at 17 P.M:"
   ]
  },
  {
   "cell_type": "code",
   "execution_count": 51,
   "metadata": {},
   "outputs": [
    {
     "name": "stdout",
     "output_type": "stream",
     "text": [
      "88.87331269697987\n"
     ]
    }
   ],
   "source": [
    "import numpy\n",
    "from sklearn.metrics import r2_score\n",
    "\n",
    "x = [1,2,3,5,6,7,8,9,10,12,13,14,15,16,18,19,21,22]\n",
    "y = [100,90,80,60,60,55,60,65,70,70,75,76,78,79,90,99,99,100]\n",
    "\n",
    "mymodel = numpy.poly1d(numpy.polyfit(x, y, 3))\n",
    "\n",
    "speed = mymodel(17)\n",
    "print(speed)"
   ]
  },
  {
   "cell_type": "markdown",
   "metadata": {},
   "source": [
    "# Bad Fit?\n",
    "Let us create an example where polynomial regression would not be the best method to predict future values."
   ]
  },
  {
   "cell_type": "code",
   "execution_count": 52,
   "metadata": {},
   "outputs": [
    {
     "data": {
      "image/png": "[encoded data removed]",
      "text/plain": [
       "<Figure size 432x288 with 1 Axes>"
      ]
     },
     "metadata": {
      "needs_background": "light"
     },
     "output_type": "display_data"
    }
   ],
   "source": [
    "import numpy\n",
    "import matplotlib.pyplot as plt\n",
    "\n",
    "x = [89,43,36,36,95,10,66,34,38,20,26,29,48,64,6,5,36,66,72,40]\n",
    "y = [21,46,3,35,67,95,53,72,58,10,26,34,90,33,38,20,56,2,47,15]\n",
    "\n",
    "mymodel = numpy.poly1d(numpy.polyfit(x, y, 3))\n",
    "\n",
    "myline = numpy.linspace(2, 95, 100)\n",
    "\n",
    "plt.scatter(x, y)\n",
    "plt.plot(myline, mymodel(myline))\n",
    "plt.show()"
   ]
  },
  {
   "cell_type": "code",
   "execution_count": 53,
   "metadata": {},
   "outputs": [
    {
     "name": "stdout",
     "output_type": "stream",
     "text": [
      "0.009952707566680652\n"
     ]
    }
   ],
   "source": [
    "import numpy\n",
    "from sklearn.metrics import r2_score\n",
    "\n",
    "x = [89,43,36,36,95,10,66,34,38,20,26,29,48,64,6,5,36,66,72,40]\n",
    "y = [21,46,3,35,67,95,53,72,58,10,26,34,90,33,38,20,56,2,47,15]\n",
    "\n",
    "mymodel = numpy.poly1d(numpy.polyfit(x, y, 3))\n",
    "\n",
    "print(r2_score(y, mymodel(x)))"
   ]
  },
  {
   "cell_type": "code",
   "execution_count": 54,
   "metadata": {},
   "outputs": [],
   "source": [
    "# The result: 0.00995 indicates a very bad relationship, and tells us that this data set is not suitable for polynomial regression."
   ]
  },
  {
   "cell_type": "code",
   "execution_count": null,
   "metadata": {},
   "outputs": [],
   "source": []
  },
  {
   "cell_type": "markdown",
   "metadata": {},
   "source": [
    "## Neural Networks"
   ]
  },
  {
   "cell_type": "code",
   "execution_count": 55,
   "metadata": {},
   "outputs": [],
   "source": [
    "## keras library "
   ]
  },
  {
   "cell_type": "code",
   "execution_count": 58,
   "metadata": {},
   "outputs": [],
   "source": [
    "# from keras.models import Sequential"
   ]
  },
  {
   "cell_type": "code",
   "execution_count": null,
   "metadata": {},
   "outputs": [],
   "source": []
  },
  {
   "cell_type": "code",
   "execution_count": null,
   "metadata": {},
   "outputs": [],
   "source": []
  }
 ],
 "metadata": {
  "kernelspec": {
   "display_name": "Python 3 (ipykernel)",
   "language": "python",
   "name": "python3"
  },
  "language_info": {
   "codemirror_mode": {
    "name": "ipython",
    "version": 3
   },
   "file_extension": ".py",
   "mimetype": "text/x-python",
   "name": "python",
   "nbconvert_exporter": "python",
   "pygments_lexer": "ipython3",
   "version": "3.9.7"
  }
 },
 "nbformat": 4,
 "nbformat_minor": 2
}
