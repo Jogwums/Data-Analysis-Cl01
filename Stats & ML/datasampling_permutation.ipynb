{
 "cells": [
  {
   "cell_type": "code",
   "execution_count": 1,
   "id": "abb37cad-88eb-4c62-adf8-867bea3d6a40",
   "metadata": {},
   "outputs": [],
   "source": [
    "# creating a deck of cards"
   ]
  },
  {
   "cell_type": "code",
   "execution_count": 2,
   "id": "d5672be8-dea0-44c7-916b-150538938182",
   "metadata": {},
   "outputs": [],
   "source": [
    "# Hearts Spades Clubs Diamonds"
   ]
  },
  {
   "cell_type": "code",
   "execution_count": 3,
   "id": "c5c41688-c290-46d4-8ca5-a5cc961672ce",
   "metadata": {},
   "outputs": [],
   "source": [
    "import pandas as pd\n",
    "\n",
    "suits = ['H', 'S', 'C', 'D']\n",
    "card_val = (list(range(1,11)) + [10] * 3) * 4\n",
    "base_names = ['A'] + list(range(2,11)) + ['J','K','Q']\n",
    "cards = []\n",
    "for suit in ['H', 'S', 'C', 'D']:\n",
    "    cards.extend(str(num) + suit for num in base_names)\n",
    "    \n",
    "deck = pd.Series(card_val, index=cards)"
   ]
  },
  {
   "cell_type": "code",
   "execution_count": 5,
   "id": "f2e53125-9c86-423f-bad6-393170321bdf",
   "metadata": {},
   "outputs": [
    {
     "data": {
      "text/plain": [
       "AH      1\n",
       "2H      2\n",
       "3H      3\n",
       "4H      4\n",
       "5H      5\n",
       "6H      6\n",
       "7H      7\n",
       "8H      8\n",
       "9H      9\n",
       "10H    10\n",
       "JH     10\n",
       "KH     10\n",
       "QH     10\n",
       "dtype: int64"
      ]
     },
     "execution_count": 5,
     "metadata": {},
     "output_type": "execute_result"
    }
   ],
   "source": [
    "deck[:13]"
   ]
  },
  {
   "cell_type": "code",
   "execution_count": 6,
   "id": "fc669af0-284b-47c8-becc-60c47a2104a6",
   "metadata": {},
   "outputs": [],
   "source": [
    "# pick 5 cards from the deck"
   ]
  },
  {
   "cell_type": "code",
   "execution_count": 7,
   "id": "bbc359de-bf78-4dfb-a829-057dfcd68617",
   "metadata": {},
   "outputs": [],
   "source": [
    "def draw(deck, n=5):\n",
    "    return deck.sample(n)"
   ]
  },
  {
   "cell_type": "code",
   "execution_count": 8,
   "id": "11a761d0-2596-402b-8159-3d381d9435dd",
   "metadata": {},
   "outputs": [
    {
     "data": {
      "text/plain": [
       "9H    9\n",
       "6C    6\n",
       "3S    3\n",
       "2C    2\n",
       "8D    8\n",
       "dtype: int64"
      ]
     },
     "execution_count": 8,
     "metadata": {},
     "output_type": "execute_result"
    }
   ],
   "source": [
    "draw(deck)"
   ]
  },
  {
   "cell_type": "code",
   "execution_count": 9,
   "id": "5e7684f9-aa02-4e2e-aa6d-a9c2cfd82955",
   "metadata": {},
   "outputs": [],
   "source": [
    "# suppose we wanted 2 random cards from each suit ( clubs, spades, hearts or diamonds)"
   ]
  },
  {
   "cell_type": "code",
   "execution_count": 10,
   "id": "defeeee0-d27b-4b30-bf5b-738474c16e66",
   "metadata": {},
   "outputs": [],
   "source": [
    "# we can group based on the suits then apply a function as above"
   ]
  },
  {
   "cell_type": "code",
   "execution_count": 11,
   "id": "210a8c1b-e9bd-493d-8879-ea29249819e2",
   "metadata": {},
   "outputs": [
    {
     "data": {
      "text/plain": [
       "C  4C      4\n",
       "   10C    10\n",
       "D  7D      7\n",
       "   10D    10\n",
       "H  7H      7\n",
       "   9H      9\n",
       "S  3S      3\n",
       "   7S      7\n",
       "dtype: int64"
      ]
     },
     "execution_count": 11,
     "metadata": {},
     "output_type": "execute_result"
    }
   ],
   "source": [
    "get_suit = lambda card: card[-1] #last letter is suit \n",
    "deck.groupby(get_suit).apply(draw, n=2)"
   ]
  },
  {
   "cell_type": "code",
   "execution_count": null,
   "id": "10c2bfca-1f2b-43e0-baf0-977006215bf7",
   "metadata": {},
   "outputs": [],
   "source": []
  }
 ],
 "metadata": {
  "kernelspec": {
   "display_name": "Python 3 (ipykernel)",
   "language": "python",
   "name": "python3"
  },
  "language_info": {
   "codemirror_mode": {
    "name": "ipython",
    "version": 3
   },
   "file_extension": ".py",
   "mimetype": "text/x-python",
   "name": "python",
   "nbconvert_exporter": "python",
   "pygments_lexer": "ipython3",
   "version": "3.9.7"
  }
 },
 "nbformat": 4,
 "nbformat_minor": 5
}
