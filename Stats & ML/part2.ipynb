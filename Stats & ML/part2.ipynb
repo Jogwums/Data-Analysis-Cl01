{
 "metadata": {
  "language_info": {
   "codemirror_mode": {
    "name": "ipython",
    "version": 3
   },
   "file_extension": ".py",
   "mimetype": "text/x-python",
   "name": "python",
   "nbconvert_exporter": "python",
   "pygments_lexer": "ipython3",
   "version": "3.7.1-final"
  },
  "orig_nbformat": 2,
  "kernelspec": {
   "name": "python3",
   "display_name": "Python 3",
   "language": "python"
  }
 },
 "nbformat": 4,
 "nbformat_minor": 2,
 "cells": [
  {
   "cell_type": "code",
   "execution_count": 7,
   "metadata": {},
   "outputs": [],
   "source": [
    "import numpy as np\n",
    "import pandas as pd\n",
    "import matplotlib.pyplot as plt\n",
    "import seaborn as sns\n",
    "from sklearn.tree import DecisionTreeClassifier\n"
   ]
  },
  {
   "cell_type": "code",
   "execution_count": 6,
   "metadata": {},
   "outputs": [
    {
     "output_type": "execute_result",
     "data": {
      "text/plain": [
       "0    HipHop\n",
       "1    HipHop\n",
       "Name: genre, dtype: object"
      ]
     },
     "metadata": {},
     "execution_count": 6
    }
   ],
   "source": [
    "data = pd.read_csv(\"../datasets/music.csv\")\n",
    "data.head()\n",
    "#split the data set into two parts\n",
    "# the 1st two columns, age and gender will be used to try to predict the 3rd column, genre \n",
    "X = data.drop(columns=[\"genre\"]) \n",
    "y = data[\"genre\"]\n",
    "y.head(2)"
   ]
  },
  {
   "source": [
    "## Usually the dataset is divided into the X and y groups, input and output respectively \n"
   ],
   "cell_type": "markdown",
   "metadata": {}
  },
  {
   "source": [
    "## Next create a model to predict the outcomes\n",
    "- Using a machine learning algorithm, we can build a model to predict \n",
    "- each algorithm has it's pros and cons depending on its accuracy\n",
    "- Decision Tree algorithm"
   ],
   "cell_type": "markdown",
   "metadata": {}
  },
  {
   "cell_type": "code",
   "execution_count": 8,
   "metadata": {},
   "outputs": [],
   "source": [
    "#Scikit learn is the package \n",
    "#Has a module called 'tree' and a class called DecisionTreeClassifier \n",
    "# we will use the classifier to create a model  "
   ]
  },
  {
   "cell_type": "code",
   "execution_count": 9,
   "metadata": {},
   "outputs": [],
   "source": [
    "model = DecisionTreeClassifier() #new instance of DTC"
   ]
  },
  {
   "cell_type": "code",
   "execution_count": 11,
   "metadata": {},
   "outputs": [
    {
     "output_type": "execute_result",
     "data": {
      "text/plain": [
       "DecisionTreeClassifier(class_weight=None, criterion='gini', max_depth=None,\n",
       "            max_features=None, max_leaf_nodes=None,\n",
       "            min_impurity_decrease=0.0, min_impurity_split=None,\n",
       "            min_samples_leaf=1, min_samples_split=2,\n",
       "            min_weight_fraction_leaf=0.0, presort=False, random_state=None,\n",
       "            splitter='best')"
      ]
     },
     "metadata": {},
     "execution_count": 11
    }
   ],
   "source": [
    "#Next we have to train the model by feeding it with datasets \n",
    "model.fit(X,y)"
   ]
  },
  {
   "cell_type": "code",
   "execution_count": 13,
   "metadata": {},
   "outputs": [
    {
     "output_type": "execute_result",
     "data": {
      "text/plain": [
       "   age  gender   genre\n",
       "0   20       1  HipHop\n",
       "1   23       1  HipHop\n",
       "2   25       1  HipHop"
      ],
      "text/html": "<div>\n<style scoped>\n    .dataframe tbody tr th:only-of-type {\n        vertical-align: middle;\n    }\n\n    .dataframe tbody tr th {\n        vertical-align: top;\n    }\n\n    .dataframe thead th {\n        text-align: right;\n    }\n</style>\n<table border=\"1\" class=\"dataframe\">\n  <thead>\n    <tr style=\"text-align: right;\">\n      <th></th>\n      <th>age</th>\n      <th>gender</th>\n      <th>genre</th>\n    </tr>\n  </thead>\n  <tbody>\n    <tr>\n      <th>0</th>\n      <td>20</td>\n      <td>1</td>\n      <td>HipHop</td>\n    </tr>\n    <tr>\n      <th>1</th>\n      <td>23</td>\n      <td>1</td>\n      <td>HipHop</td>\n    </tr>\n    <tr>\n      <th>2</th>\n      <td>25</td>\n      <td>1</td>\n      <td>HipHop</td>\n    </tr>\n  </tbody>\n</table>\n</div>"
     },
     "metadata": {},
     "execution_count": 13
    }
   ],
   "source": [
    "#inspect the data \n",
    "data.head(3)\n",
    "#20 - 25 year old males should like 'Hiphop'\n",
    "#while \n",
    "#20-25 ear old females should like 'Dance' from the dataset!"
   ]
  },
  {
   "cell_type": "code",
   "execution_count": 18,
   "metadata": {},
   "outputs": [
    {
     "output_type": "execute_result",
     "data": {
      "text/plain": [
       "array(['HipHop', 'Dance'], dtype=object)"
      ]
     },
     "metadata": {},
     "execution_count": 18
    }
   ],
   "source": [
    "prediction = model.predict([[21,1], [22,0]])\n",
    "prediction"
   ]
  },
  {
   "cell_type": "code",
   "execution_count": 15,
   "metadata": {},
   "outputs": [],
   "source": [
    "#the result shows the model is predicting that a 21yo male should like Hiphop while a \n",
    "# 22yo female should like Dance \n",
    "\n",
    "# Questions \n",
    "#Is this model accurate?Inspect the data \n"
   ]
  },
  {
   "source": [
    "## How to measure the acuracy of a model\n",
    "- If a model is not acurate enough it is possible to improve it by training with a larger dataset \n",
    "- or simply using a better algorithm "
   ],
   "cell_type": "markdown",
   "metadata": {}
  },
  {
   "cell_type": "code",
   "execution_count": 20,
   "metadata": {},
   "outputs": [],
   "source": [
    "#This next step will invovle diving your dataset into 2 parts\n",
    "# one for training and the other for testing \n",
    "# usually a 70-80 /30-20 split is common btw training and testing data sets "
   ]
  },
  {
   "cell_type": "code",
   "execution_count": 21,
   "metadata": {},
   "outputs": [],
   "source": [
    "import numpy as np\n",
    "import pandas as pd\n",
    "import matplotlib.pyplot as plt\n",
    "import seaborn as sns\n",
    "from sklearn.tree import DecisionTreeClassifier\n",
    "from sklearn.model_selection import train_test_split #used for spliting the dataset "
   ]
  },
  {
   "cell_type": "code",
   "execution_count": 58,
   "metadata": {},
   "outputs": [],
   "source": [
    "data = pd.read_csv(\"../datasets/music.csv\")\n",
    "X = data.drop(columns=[\"genre\"]) \n",
    "y = data[\"genre\"]\n",
    "#split the data \n",
    "#test_size specifies the % left for testing, the larger percentage is used for training the model\n",
    "#train_test_split returns a tuple \n",
    "#therefore we can unpack it by assigning variables to it. \n",
    "#the conventions used are:\n",
    "\n",
    "X_train, X_test, y_train, y_test = train_test_split(X,y,test_size=0.2)\n",
    "\n",
    "#create the model \n",
    "model = DecisionTreeClassifier()\n",
    "\n",
    "#train the model, use the splited data \n",
    "model.fit(X_train, y_train)\n",
    "\n",
    "predictions= model.predict(X_test)\n"
   ]
  },
  {
   "cell_type": "code",
   "execution_count": 59,
   "metadata": {},
   "outputs": [
    {
     "output_type": "execute_result",
     "data": {
      "text/plain": [
       "1.0"
      ]
     },
     "metadata": {},
     "execution_count": 59
    }
   ],
   "source": [
    "# To use the data for accuracy testing import an accuracy score function \n",
    "from sklearn.metrics import accuracy_score\n",
    "\n",
    "#Check the accuracy of the predictions\n",
    "score = accuracy_score(y_test, predictions)\n",
    "score"
   ]
  },
  {
   "source": [
    "## you can vary the train test split to see how the accuracy changes "
   ],
   "cell_type": "markdown",
   "metadata": {}
  },
  {
   "cell_type": "code",
   "execution_count": null,
   "metadata": {},
   "outputs": [],
   "source": []
  }
 ]
}