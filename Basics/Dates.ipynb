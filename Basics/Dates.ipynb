{
 "metadata": {
  "language_info": {
   "codemirror_mode": {
    "name": "ipython",
    "version": 3
   },
   "file_extension": ".py",
   "mimetype": "text/x-python",
   "name": "python",
   "nbconvert_exporter": "python",
   "pygments_lexer": "ipython3",
   "version": "3.9.1-final"
  },
  "orig_nbformat": 2,
  "kernelspec": {
   "name": "python3",
   "display_name": "Python 3.9.1 64-bit",
   "metadata": {
    "interpreter": {
     "hash": "b1ee877665787ef736d896fd412d6716aab4e647147ff7517dc995e63a594f98"
    }
   }
  }
 },
 "nbformat": 4,
 "nbformat_minor": 2,
 "cells": [
  {
   "source": [
    "## Working with Dates and Time in Python \n",
    "\n",
    "Python has builtin modules to handle date, time and datetime"
   ],
   "cell_type": "markdown",
   "metadata": {}
  },
  {
   "source": [
    "## Table of Contents\n",
    "- The Importance of the Date-Time Component\n",
    "- Working with Dates in Python\n",
    "- Working with Time in Python\n",
    "- DateTime in Python\n",
    "    - Updating old dates\n",
    "    - Extracting Weekday from DateTime\n",
    "    - What week is it?\n",
    "    - Leap year or not? Use the calendar!\n",
    "    - The Different Datetime formats\n",
    "    - Advanced DateTime formatting with Strptime & Strftime\n",
    "    - Timedelta\n",
    "- DateTime with Pandas\n",
    "    - DateTime and Timedelta objects in Pandas\n",
    "    - Date range in Pandas\n",
    "    - Making DateTime features in Pandas"
   ],
   "cell_type": "markdown",
   "metadata": {}
  },
  {
   "source": [
    "## The Importance of the Date-Time Component\n",
    "It’s worth reiterating, dates and times are a treasure trove of information and that is why data scientists love them so much.\n",
    "\n",
    "Before we dive into the crux of the article, I want you to experience this yourself. Take a look at the date and time right now. Try and imagine all kinds of information that you can extract from it to understand your reading habit. The year, month, day, hour, and minute are the usual suspects.\n",
    "\n",
    "But if you dig a little further, you can determine whether you prefer reading on weekdays or weekends, whether you are a morning person or a night owl (we are in the same boat here!), or whether you accumulate all the interesting articles to read at the end of the month!\n",
    "\n",
    "Clearly, the list will go on and you will gradually learn a lot about your reading habits if you repeat this exercise after collecting the data over a period of time, say a month. Now imagine how useful this feature would be in a real-world scenario where information is collected over a long period of time."
   ],
   "cell_type": "markdown",
   "metadata": {}
  },
  {
   "source": [
    "Date and time features find importance in data science problems spanning industries from sales, marketing, and finance to HR, e-commerce, retail, and many more. Predicting how the stock markets will behave tomorrow, how many products will be sold in the upcoming week, when is the best time to launch a new product, how long before a position at the company gets filled, etc. are some of the problems that we can find answers to using date and time data.\n",
    "\n",
    "This incredible amount of insight that you can unravel from the data is what makes date and time components so fun to work with! So let’s get down to the business of mastering date-time manipulation in Python."
   ],
   "cell_type": "markdown",
   "metadata": {}
  },
  {
   "source": [
    "## Working with Dates in Python\n",
    "The date class in the DateTime module of Python deals with dates in the Gregorian calendar. It accepts three integer arguments: year, month, and day. Let’s have a look at how it’s done:"
   ],
   "cell_type": "markdown",
   "metadata": {}
  },
  {
   "cell_type": "code",
   "execution_count": 2,
   "metadata": {},
   "outputs": [
    {
     "output_type": "stream",
     "name": "stdout",
     "text": [
      "2020-04-23\n<class 'datetime.date'>\n"
     ]
    }
   ],
   "source": [
    "from datetime import date\n",
    "\n",
    "d1 = date(2020,4,23)\n",
    "\n",
    "print(d1)\n",
    "\n",
    "print(type(d1))"
   ]
  },
  {
   "source": [
    "\n",
    "You can see how easy it was to create a date object of datetime class. And it’s even easier to extract features like day, month, and year from the date. This can be done using the day, month, and year attributes. We will see how to do that on the current local day date object that we will create using the today() function:"
   ],
   "cell_type": "markdown",
   "metadata": {}
  },
  {
   "cell_type": "code",
   "execution_count": 3,
   "metadata": {},
   "outputs": [
    {
     "output_type": "stream",
     "name": "stdout",
     "text": [
      "2021-03-26\nDay : 26\nMonth : 3\nYear : 2021\n"
     ]
    }
   ],
   "source": [
    "# present day date\n",
    "d1 = date.today()\n",
    "print(d1)\n",
    "# day\n",
    "print('Day :',d1.day)\n",
    "# month\n",
    "print('Month :',d1.month)\n",
    "# year\n",
    "print('Year :',d1.year)"
   ]
  },
  {
   "source": [
    "## Working with Time in Python\n",
    "time is another class of the DateTime module that accepts integer arguments for time up to microseconds and returns a DateTime object:"
   ],
   "cell_type": "markdown",
   "metadata": {}
  },
  {
   "cell_type": "code",
   "execution_count": 5,
   "metadata": {},
   "outputs": [
    {
     "output_type": "stream",
     "name": "stdout",
     "text": [
      "13:20:13.000040\n<class 'datetime.time'>\n"
     ]
    }
   ],
   "source": [
    "from datetime import time\n",
    "\n",
    "t1 = time(13,20,13,40)\n",
    "\n",
    "print(t1)\n",
    "\n",
    "print(type(t1))"
   ]
  },
  {
   "source": [
    "You can extract features like hour, minute, second, and microsecond from the time object using the respective attributes. Here is an example:"
   ],
   "cell_type": "markdown",
   "metadata": {}
  },
  {
   "cell_type": "code",
   "execution_count": 8,
   "metadata": {},
   "outputs": [
    {
     "output_type": "stream",
     "name": "stdout",
     "text": [
      "Hour : 13\nMinute : 20\nSecond : 13\nMicrosecond : 40\n"
     ]
    }
   ],
   "source": [
    "# hour\n",
    "print('Hour :',t1.hour)\n",
    "# minute\n",
    "print('Minute :',t1.minute)\n",
    "# second\n",
    "print('Second :',t1.second)\n",
    "# microsecond\n",
    "print('Microsecond :',t1.microsecond)"
   ]
  },
  {
   "source": [
    "## DateTime in Python\n",
    "So far, we have seen how to create a date and a time object using the DateTime module. But the beauty of the DateTime module is that it lets you dovetail both the properties into a single object, DateTime!\n",
    "\n",
    "datetime is a class and an object in Python’s DateTime module, just like date and time. The arguments are a combination of date and time attributes, starting from the year and ending in microseconds.\n",
    "\n",
    "So, let’s see how you can create a DateTime object:"
   ],
   "cell_type": "markdown",
   "metadata": {}
  },
  {
   "cell_type": "code",
   "execution_count": 10,
   "metadata": {},
   "outputs": [
    {
     "output_type": "stream",
     "name": "stdout",
     "text": [
      "2020-04-23 11:20:30.000040\n<class 'datetime.datetime'>\n"
     ]
    }
   ],
   "source": [
    "from datetime import datetime\n",
    "d1 = datetime(2020,4,23,11,20,30,40)\n",
    "print(d1)\n",
    "print(type(d1))"
   ]
  },
  {
   "cell_type": "code",
   "execution_count": 11,
   "metadata": {},
   "outputs": [
    {
     "output_type": "execute_result",
     "data": {
      "text/plain": [
       "datetime.datetime(2021, 3, 26, 23, 34, 36, 405300)"
      ]
     },
     "metadata": {},
     "execution_count": 11
    }
   ],
   "source": [
    "# local date-time\n",
    "d1 = datetime.now()\n",
    "d1"
   ]
  },
  {
   "source": [
    "You can go on and extract whichever value you want to from the DateTime object using the same attributes we used with the date and time objects individually.\n",
    "\n",
    "Next, let’s look at some of the methods in the DateTime class."
   ],
   "cell_type": "markdown",
   "metadata": {}
  },
  {
   "source": [
    "## Updating old Dates\n",
    "First, we’ll see how to separate date and time from the DateTime object using the date() and time() methods. But you could also replace a value in the DateTime objects without having to change the entire date using the replace() method:"
   ],
   "cell_type": "markdown",
   "metadata": {}
  },
  {
   "cell_type": "code",
   "execution_count": 13,
   "metadata": {},
   "outputs": [
    {
     "output_type": "stream",
     "name": "stdout",
     "text": [
      "Datetime : 2021-03-26 23:34:36.405300\nDate : 2021-03-26\nTime : 23:34:36.405300\nNew datetime : 2021-03-24 14:34:36.405300\n"
     ]
    }
   ],
   "source": [
    "print('Datetime :',d1)\n",
    "# date\n",
    "print('Date :',d1.date())\n",
    "# time\n",
    "print('Time :',d1.time())\n",
    "# new datetime\n",
    "print('New datetime :',d1.replace(day=24, hour=14))"
   ]
  },
  {
   "source": [
    "## Weekday from DateTime\n",
    "One really cool thing that you can do with the DateTime function is to extract the day of the week! This is especially helpful in feature engineering because the value of the target variable can be dependent on the day of the week, like sales of a product are generally higher on a weekend or traffic on StackOverflow could be higher on a weekday when people are working, etc.\n",
    "\n",
    "The * weekday() * method returns an integer value for the day of the week, where Monday is 0 and Sunday is 6. But if you wanted it to return the weekday value between 1 and 7, like in a real-world scenario, you should use *isoweekday()*:"
   ],
   "cell_type": "markdown",
   "metadata": {}
  },
  {
   "cell_type": "code",
   "execution_count": 15,
   "metadata": {},
   "outputs": [
    {
     "output_type": "stream",
     "name": "stdout",
     "text": [
      "4\n5\n"
     ]
    }
   ],
   "source": [
    "d1 = datetime.now()\n",
    "# week starts from 0\n",
    "print(d1.weekday()) # output 4 for Friday\n",
    "# week starts with 1\n",
    "print(d1.isoweekday()) # output 5 in ISO format"
   ]
  },
  {
   "source": [
    "## What Week is it?\n",
    "Alright, you know the day of the week, but do you know what week of the year is it? This is another very important feature that you can generate from the given date in a dataset.\n",
    "\n",
    "Sometimes the value of the target variable might be higher during certain times of the year. For example, the sales of products on e-commerce websites are generally higher during vacations.\n",
    "\n",
    "You can get the week of the year by slicing the value returned by the isocalendar() method:"
   ],
   "cell_type": "markdown",
   "metadata": {}
  },
  {
   "cell_type": "code",
   "execution_count": 17,
   "metadata": {},
   "outputs": [
    {
     "output_type": "stream",
     "name": "stdout",
     "text": [
      "datetime.IsoCalendarDate(year=2021, week=12, weekday=5)\nWeek : 12\n"
     ]
    }
   ],
   "source": [
    "d1 = datetime.now()\n",
    "# retuns year, week, month\n",
    "print(d1.isocalendar())\n",
    "print('Week :',d1.isocalendar()[1])"
   ]
  },
  {
   "source": [
    "## Leap Year or Not? Use Calendar!\n",
    "Want to check whether it is a leap year or not? You will need to use the isleap() method from the calendar module and pass the year as an attribute:"
   ],
   "cell_type": "markdown",
   "metadata": {}
  },
  {
   "cell_type": "code",
   "execution_count": 20,
   "metadata": {},
   "outputs": [
    {
     "output_type": "execute_result",
     "data": {
      "text/plain": [
       "False"
      ]
     },
     "metadata": {},
     "execution_count": 20
    }
   ],
   "source": [
    "import calendar\n",
    "d1 = datetime.now()\n",
    "# leap year or not\n",
    "calendar.isleap(d1.year) # Output True or False"
   ]
  },
  {
   "cell_type": "code",
   "execution_count": 21,
   "metadata": {},
   "outputs": [
    {
     "output_type": "stream",
     "name": "stdout",
     "text": [
      "     March 2020\nMo Tu We Th Fr Sa Su\n                   1\n 2  3  4  5  6  7  8\n 9 10 11 12 13 14 15\n16 17 18 19 20 21 22\n23 24 25 26 27 28 29\n30 31\n\n"
     ]
    }
   ],
   "source": [
    "# view calendar\n",
    "# Its was March when I worked on this\n",
    "print(calendar.month(2020,3))"
   ]
  },
  {
   "cell_type": "code",
   "execution_count": 22,
   "metadata": {},
   "outputs": [],
   "source": [
    "# Not free this month? You can have a look at the entire calendar for the year:"
   ]
  },
  {
   "cell_type": "code",
   "execution_count": 23,
   "metadata": {},
   "outputs": [
    {
     "output_type": "stream",
     "name": "stdout",
     "text": [
      "                                  2021\n\n      January                   February                   March\nMo Tu We Th Fr Sa Su      Mo Tu We Th Fr Sa Su      Mo Tu We Th Fr Sa Su\n             1  2  3       1  2  3  4  5  6  7       1  2  3  4  5  6  7\n 4  5  6  7  8  9 10       8  9 10 11 12 13 14       8  9 10 11 12 13 14\n11 12 13 14 15 16 17      15 16 17 18 19 20 21      15 16 17 18 19 20 21\n18 19 20 21 22 23 24      22 23 24 25 26 27 28      22 23 24 25 26 27 28\n25 26 27 28 29 30 31                                29 30 31\n\n       April                      May                       June\nMo Tu We Th Fr Sa Su      Mo Tu We Th Fr Sa Su      Mo Tu We Th Fr Sa Su\n          1  2  3  4                      1  2          1  2  3  4  5  6\n 5  6  7  8  9 10 11       3  4  5  6  7  8  9       7  8  9 10 11 12 13\n12 13 14 15 16 17 18      10 11 12 13 14 15 16      14 15 16 17 18 19 20\n19 20 21 22 23 24 25      17 18 19 20 21 22 23      21 22 23 24 25 26 27\n26 27 28 29 30            24 25 26 27 28 29 30      28 29 30\n                          31\n\n        July                     August                  September\nMo Tu We Th Fr Sa Su      Mo Tu We Th Fr Sa Su      Mo Tu We Th Fr Sa Su\n          1  2  3  4                         1             1  2  3  4  5\n 5  6  7  8  9 10 11       2  3  4  5  6  7  8       6  7  8  9 10 11 12\n12 13 14 15 16 17 18       9 10 11 12 13 14 15      13 14 15 16 17 18 19\n19 20 21 22 23 24 25      16 17 18 19 20 21 22      20 21 22 23 24 25 26\n26 27 28 29 30 31         23 24 25 26 27 28 29      27 28 29 30\n                          30 31\n\n      October                   November                  December\nMo Tu We Th Fr Sa Su      Mo Tu We Th Fr Sa Su      Mo Tu We Th Fr Sa Su\n             1  2  3       1  2  3  4  5  6  7             1  2  3  4  5\n 4  5  6  7  8  9 10       8  9 10 11 12 13 14       6  7  8  9 10 11 12\n11 12 13 14 15 16 17      15 16 17 18 19 20 21      13 14 15 16 17 18 19\n18 19 20 21 22 23 24      22 23 24 25 26 27 28      20 21 22 23 24 25 26\n25 26 27 28 29 30 31      29 30                     27 28 29 30 31\n\n"
     ]
    }
   ],
   "source": [
    "print(calendar.calendar(2021))"
   ]
  },
  {
   "source": [
    "## DateTime Formats\n",
    "The Datetime module lets you interchange the format of DateTime between a few options.\n",
    "\n",
    "First up is the ISO format. If you wanted to create a DateTime object from the string form of the date in ISO format, use the fromisoformat() method. And if you intended to do the reverse, use the isoformat() method:"
   ],
   "cell_type": "markdown",
   "metadata": {}
  },
  {
   "cell_type": "code",
   "execution_count": 25,
   "metadata": {},
   "outputs": [
    {
     "output_type": "stream",
     "name": "stdout",
     "text": [
      "2020-04-23\n<class 'datetime.date'>\n2020-04-23\n<class 'str'>\n"
     ]
    }
   ],
   "source": [
    "# ISO format\n",
    "d1_datetime = date.fromisoformat('2020-04-23')\n",
    "print(d1_datetime)\n",
    "print(type(d1_datetime))\n",
    "d1_ISO = date(2020,4,23).isoformat()\n",
    "print(d1_ISO)\n",
    "print(type(d1_ISO))"
   ]
  },
  {
   "source": [
    "If you wanted to convert DateTime into a string format, you could use the ctime() method. This returns the date in a string format. And if you wanted to extract just the date from that, well, you would have to use slicing:"
   ],
   "cell_type": "markdown",
   "metadata": {}
  },
  {
   "cell_type": "code",
   "execution_count": 26,
   "metadata": {},
   "outputs": [
    {
     "output_type": "stream",
     "name": "stdout",
     "text": [
      "Fri Mar 26 23:46:09 2021\nFri Mar 26\n"
     ]
    }
   ],
   "source": [
    "# date in string format\n",
    "d1 = datetime.now()\n",
    "# string format for date\n",
    "print(d1.ctime())\n",
    "# slicing to extract date\n",
    "print(d1.ctime()[:10])"
   ]
  },
  {
   "source": [
    "And if none of these functions strike your fancy, you could use the format() method which lets you define your own format:"
   ],
   "cell_type": "markdown",
   "metadata": {}
  },
  {
   "cell_type": "code",
   "execution_count": 27,
   "metadata": {},
   "outputs": [
    {
     "output_type": "execute_result",
     "data": {
      "text/plain": [
       "'2020/04/23'"
      ]
     },
     "metadata": {},
     "execution_count": 27
    }
   ],
   "source": [
    "date(2020,4,23).__format__('%Y/%m/%d')"
   ]
  },
  {
   "source": [
    "Wait – what are these arguments I passed to the function? These are called formatted string codes and we will look at them in detail in the next section."
   ],
   "cell_type": "markdown",
   "metadata": {}
  },
  {
   "source": [
    "## Advanced DateTime Formatting with Strptime & Strftime\n",
    "These functions are very important as they let you define the format of the DateTime object explicitly. This can give you a lot of flexibility with handling DateTime features.\n",
    "\n",
    "strptime() creates a DateTime object from a string representing date and time. It takes two arguments: the date and the format in which your date is present. Have a look below:"
   ],
   "cell_type": "markdown",
   "metadata": {}
  },
  {
   "cell_type": "code",
   "execution_count": 29,
   "metadata": {},
   "outputs": [
    {
     "output_type": "stream",
     "name": "stdout",
     "text": [
      "2020-04-22 13:20:13\n<class 'datetime.datetime'>\n"
     ]
    }
   ],
   "source": [
    "# strptime\n",
    "date = '22 April, 2020 13:20:13'\n",
    "d1 = datetime.strptime(date,'%d %B, %Y %H:%M:%S')\n",
    "print(d1)\n",
    "print(type(d1))"
   ]
  },
  {
   "source": [
    "You define the format using the formatting codes as I did above. There are a number of formatting codes and you can have a look at them in the [documentation](https://docs.python.org/3/library/datetime.html#strftime-and-strptime-format-codes).\n",
    "\n",
    "The stftime() method, on the other hand, can be used to convert the DateTime object into a string representing date and time:"
   ],
   "cell_type": "markdown",
   "metadata": {}
  },
  {
   "cell_type": "code",
   "execution_count": null,
   "metadata": {},
   "outputs": [],
   "source": []
  }
 ]
}