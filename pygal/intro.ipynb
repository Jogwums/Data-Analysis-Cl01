{
 "metadata": {
  "language_info": {
   "codemirror_mode": {
    "name": "ipython",
    "version": 3
   },
   "file_extension": ".py",
   "mimetype": "text/x-python",
   "name": "python",
   "nbconvert_exporter": "python",
   "pygments_lexer": "ipython3",
   "version": "3.9.1-final"
  },
  "orig_nbformat": 2,
  "kernelspec": {
   "name": "python3",
   "display_name": "Python 3.9.1 64-bit",
   "metadata": {
    "interpreter": {
     "hash": "b1ee877665787ef736d896fd412d6716aab4e647147ff7517dc995e63a594f98"
    }
   }
  }
 },
 "nbformat": 4,
 "nbformat_minor": 2,
 "cells": [
  {
   "cell_type": "code",
   "execution_count": 3,
   "metadata": {},
   "outputs": [
    {
     "output_type": "stream",
     "name": "stdout",
     "text": [
      "Done\n"
     ]
    }
   ],
   "source": [
    "from __future__ import print_function\n",
    "import numpy as np\n",
    "import pandas as pd\n",
    "import matplotlib.pyplot as plt\n",
    "import os.path\n",
    "from collections import defaultdict\n",
    "import string\n",
    "import requests\n",
    "import pygal \n",
    "import seaborn as sns\n",
    "print(\"Done\")"
   ]
  },
  {
   "cell_type": "code",
   "execution_count": 5,
   "metadata": {},
   "outputs": [],
   "source": [
    "# load dataset from seaborn \n",
    "exc = sns.load_dataset('exercise')"
   ]
  },
  {
   "cell_type": "code",
   "execution_count": 7,
   "metadata": {},
   "outputs": [],
   "source": [
    "del exc[\"Unnamed: 0\"]"
   ]
  },
  {
   "cell_type": "code",
   "execution_count": 8,
   "metadata": {},
   "outputs": [
    {
     "output_type": "execute_result",
     "data": {
      "text/plain": [
       "    id     diet  pulse    time     kind\n",
       "0    1  low fat     85   1 min     rest\n",
       "1    1  low fat     85  15 min     rest\n",
       "2    1  low fat     88  30 min     rest\n",
       "3    2  low fat     90   1 min     rest\n",
       "4    2  low fat     92  15 min     rest\n",
       "..  ..      ...    ...     ...      ...\n",
       "85  29   no fat    135  15 min  running\n",
       "86  29   no fat    130  30 min  running\n",
       "87  30   no fat     99   1 min  running\n",
       "88  30   no fat    111  15 min  running\n",
       "89  30   no fat    150  30 min  running\n",
       "\n",
       "[90 rows x 5 columns]"
      ],
      "text/html": "<div>\n<style scoped>\n    .dataframe tbody tr th:only-of-type {\n        vertical-align: middle;\n    }\n\n    .dataframe tbody tr th {\n        vertical-align: top;\n    }\n\n    .dataframe thead th {\n        text-align: right;\n    }\n</style>\n<table border=\"1\" class=\"dataframe\">\n  <thead>\n    <tr style=\"text-align: right;\">\n      <th></th>\n      <th>id</th>\n      <th>diet</th>\n      <th>pulse</th>\n      <th>time</th>\n      <th>kind</th>\n    </tr>\n  </thead>\n  <tbody>\n    <tr>\n      <th>0</th>\n      <td>1</td>\n      <td>low fat</td>\n      <td>85</td>\n      <td>1 min</td>\n      <td>rest</td>\n    </tr>\n    <tr>\n      <th>1</th>\n      <td>1</td>\n      <td>low fat</td>\n      <td>85</td>\n      <td>15 min</td>\n      <td>rest</td>\n    </tr>\n    <tr>\n      <th>2</th>\n      <td>1</td>\n      <td>low fat</td>\n      <td>88</td>\n      <td>30 min</td>\n      <td>rest</td>\n    </tr>\n    <tr>\n      <th>3</th>\n      <td>2</td>\n      <td>low fat</td>\n      <td>90</td>\n      <td>1 min</td>\n      <td>rest</td>\n    </tr>\n    <tr>\n      <th>4</th>\n      <td>2</td>\n      <td>low fat</td>\n      <td>92</td>\n      <td>15 min</td>\n      <td>rest</td>\n    </tr>\n    <tr>\n      <th>...</th>\n      <td>...</td>\n      <td>...</td>\n      <td>...</td>\n      <td>...</td>\n      <td>...</td>\n    </tr>\n    <tr>\n      <th>85</th>\n      <td>29</td>\n      <td>no fat</td>\n      <td>135</td>\n      <td>15 min</td>\n      <td>running</td>\n    </tr>\n    <tr>\n      <th>86</th>\n      <td>29</td>\n      <td>no fat</td>\n      <td>130</td>\n      <td>30 min</td>\n      <td>running</td>\n    </tr>\n    <tr>\n      <th>87</th>\n      <td>30</td>\n      <td>no fat</td>\n      <td>99</td>\n      <td>1 min</td>\n      <td>running</td>\n    </tr>\n    <tr>\n      <th>88</th>\n      <td>30</td>\n      <td>no fat</td>\n      <td>111</td>\n      <td>15 min</td>\n      <td>running</td>\n    </tr>\n    <tr>\n      <th>89</th>\n      <td>30</td>\n      <td>no fat</td>\n      <td>150</td>\n      <td>30 min</td>\n      <td>running</td>\n    </tr>\n  </tbody>\n</table>\n<p>90 rows × 5 columns</p>\n</div>"
     },
     "metadata": {},
     "execution_count": 8
    }
   ],
   "source": [
    "exc"
   ]
  },
  {
   "cell_type": "code",
   "execution_count": 9,
   "metadata": {},
   "outputs": [],
   "source": [
    "from pygal.style import LightStyle"
   ]
  },
  {
   "cell_type": "code",
   "execution_count": 10,
   "metadata": {},
   "outputs": [],
   "source": [
    "bar_chart = pygal.Bar(style=LightStyle, width=800, height=600,\n",
    "                      legend_at_bottom=True, human_readable=True,\n",
    "                      title='Exercise Patterns and Cardio Diease')"
   ]
  },
  {
   "cell_type": "code",
   "execution_count": 11,
   "metadata": {},
   "outputs": [],
   "source": [
    "for index, row in exc.iterrows():\n",
    "    bar_chart.add(row[\"diet\"], row[\"pulse\"])"
   ]
  },
  {
   "cell_type": "code",
   "execution_count": 13,
   "metadata": {},
   "outputs": [],
   "source": [
    "bar_chart.render_to_file('budget.svg')\n",
    "# bar_chart.render_to_png('budget.png')"
   ]
  },
  {
   "cell_type": "code",
   "execution_count": 23,
   "metadata": {},
   "outputs": [],
   "source": [
    "# create a pivot table \n",
    "table = pd.pivot_table(exc, index=['kind','diet'], values=['pulse'], aggfunc=[np.mean,len])"
   ]
  },
  {
   "cell_type": "code",
   "execution_count": 28,
   "metadata": {},
   "outputs": [
    {
     "output_type": "execute_result",
     "data": {
      "text/plain": [
       "                      mean   len\n",
       "                     pulse pulse\n",
       "kind    diet                    \n",
       "rest    no fat   92.333333    15\n",
       "walking no fat   96.933333    15\n",
       "running no fat  121.066667    15"
      ],
      "text/html": "<div>\n<style scoped>\n    .dataframe tbody tr th:only-of-type {\n        vertical-align: middle;\n    }\n\n    .dataframe tbody tr th {\n        vertical-align: top;\n    }\n\n    .dataframe thead tr th {\n        text-align: left;\n    }\n\n    .dataframe thead tr:last-of-type th {\n        text-align: right;\n    }\n</style>\n<table border=\"1\" class=\"dataframe\">\n  <thead>\n    <tr>\n      <th></th>\n      <th></th>\n      <th>mean</th>\n      <th>len</th>\n    </tr>\n    <tr>\n      <th></th>\n      <th></th>\n      <th>pulse</th>\n      <th>pulse</th>\n    </tr>\n    <tr>\n      <th>kind</th>\n      <th>diet</th>\n      <th></th>\n      <th></th>\n    </tr>\n  </thead>\n  <tbody>\n    <tr>\n      <th>rest</th>\n      <th>no fat</th>\n      <td>92.333333</td>\n      <td>15</td>\n    </tr>\n    <tr>\n      <th>walking</th>\n      <th>no fat</th>\n      <td>96.933333</td>\n      <td>15</td>\n    </tr>\n    <tr>\n      <th>running</th>\n      <th>no fat</th>\n      <td>121.066667</td>\n      <td>15</td>\n    </tr>\n  </tbody>\n</table>\n</div>"
     },
     "metadata": {},
     "execution_count": 28
    }
   ],
   "source": [
    "table.query(\"diet == ['no fat']\")"
   ]
  },
  {
   "cell_type": "code",
   "execution_count": 30,
   "metadata": {},
   "outputs": [],
   "source": [
    "x=0"
   ]
  },
  {
   "cell_type": "code",
   "execution_count": null,
   "metadata": {},
   "outputs": [],
   "source": []
  }
 ]
}