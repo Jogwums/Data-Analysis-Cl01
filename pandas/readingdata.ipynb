{
 "metadata": {
  "language_info": {
   "codemirror_mode": {
    "name": "ipython",
    "version": 3
   },
   "file_extension": ".py",
   "mimetype": "text/x-python",
   "name": "python",
   "nbconvert_exporter": "python",
   "pygments_lexer": "ipython3",
   "version": "3.8.5-final"
  },
  "orig_nbformat": 2,
  "kernelspec": {
   "name": "python3",
   "display_name": "Python 3.8.5 64-bit (conda)",
   "metadata": {
    "interpreter": {
     "hash": "707f2f2694b2eef79a2f5b573125f7f7b8598195dad01db7fbfd0f31ea0103dd"
    }
   }
  }
 },
 "nbformat": 4,
 "nbformat_minor": 2,
 "cells": [
  {
   "source": [
    "# Reading Data with python \n"
   ],
   "cell_type": "markdown",
   "metadata": {}
  },
  {
   "cell_type": "code",
   "execution_count": 1,
   "metadata": {},
   "outputs": [
    {
     "output_type": "stream",
     "name": "stdout",
     "text": [
      "<_io.TextIOWrapper name='../datasets/cars.csv' mode='r' encoding='cp1252'>\n"
     ]
    }
   ],
   "source": [
    "with open('../datasets/cars.csv', 'r') as cars:\n",
    "    print(cars)"
   ]
  },
  {
   "cell_type": "code",
   "execution_count": 2,
   "metadata": {},
   "outputs": [
    {
     "output_type": "stream",
     "name": "stdout",
     "text": [
      "0 Car,Model,Volume,Weight,CO2\n\n1 Toyoty,Aygo,1000,790,99\n\n2 Mitsubishi,Space Star,1200,1160,95\n\n3 Skoda,Citigo,1000,929,95\n\n4 Fiat,500,900,865,90\n\n5 Mini,Cooper,1500,1140,105\n\n6 VW,Up!,1000,929,105\n\n7 Skoda,Fabia,1400,1109,90\n\n8 Mercedes,A-Class,1500,1365,92\n\n9 Ford,Fiesta,1500,1112,98\n\n"
     ]
    }
   ],
   "source": [
    "#once the file is open we can read its content as follows \n",
    "with open('../datasets/cars.csv', 'r') as cars:\n",
    "    for index, line in enumerate(cars.readlines()):\n",
    "        #read just the first 10 lines \n",
    "        if(index < 10):\n",
    "            print(index, line)"
   ]
  },
  {
   "cell_type": "code",
   "execution_count": 3,
   "metadata": {},
   "outputs": [],
   "source": [
    "# to process this data further, involves a lot of manual work e.g spliting values by the correct separator etc."
   ]
  },
  {
   "cell_type": "code",
   "execution_count": 4,
   "metadata": {},
   "outputs": [],
   "source": [
    "# Avoid all this by using pandas "
   ]
  },
  {
   "source": [
    "# Reading Data from Data bases "
   ],
   "cell_type": "markdown",
   "metadata": {}
  },
  {
   "cell_type": "code",
   "execution_count": 5,
   "metadata": {},
   "outputs": [],
   "source": [
    "# sql db"
   ]
  },
  {
   "source": [
    "# Reading data from html tables"
   ],
   "cell_type": "markdown",
   "metadata": {}
  },
  {
   "cell_type": "code",
   "execution_count": 6,
   "metadata": {},
   "outputs": [],
   "source": [
    "import pandas as pd"
   ]
  },
  {
   "cell_type": "code",
   "execution_count": 7,
   "metadata": {},
   "outputs": [],
   "source": [
    "data = pd.read_html('https://en.wikipedia.org/wiki/Body_mass_index') #looks for multiple tables "
   ]
  },
  {
   "cell_type": "code",
   "execution_count": 10,
   "metadata": {},
   "outputs": [
    {
     "output_type": "execute_result",
     "data": {
      "text/plain": [
       "9"
      ]
     },
     "metadata": {},
     "execution_count": 10
    }
   ],
   "source": [
    "len(data) # shows how many tables "
   ]
  },
  {
   "cell_type": "code",
   "execution_count": 15,
   "metadata": {},
   "outputs": [],
   "source": [
    "df = data[2] # third table "
   ]
  },
  {
   "cell_type": "code",
   "execution_count": 16,
   "metadata": {},
   "outputs": [
    {
     "output_type": "execute_result",
     "data": {
      "text/plain": [
       "                                Category BMI (kg/m2)       BMI Prime      \n",
       "                                Category        from    to      from    to\n",
       "0              Very severely underweight         NaN  15.0       NaN  0.60\n",
       "1                   Severely underweight        15.0  16.0      0.60  0.64\n",
       "2                            Underweight        16.0  18.5      0.64  0.74\n",
       "3                Normal (healthy weight)        18.5  25.0      0.74  1.00\n",
       "4                             Overweight        25.0  30.0      1.00  1.20\n",
       "5       Obese Class I (Moderately obese)        30.0  35.0      1.20  1.40\n",
       "6        Obese Class II (Severely obese)        35.0  40.0      1.40  1.60\n",
       "7  Obese Class III (Very severely obese)        40.0   NaN      1.60   NaN"
      ],
      "text/html": "<div>\n<style scoped>\n    .dataframe tbody tr th:only-of-type {\n        vertical-align: middle;\n    }\n\n    .dataframe tbody tr th {\n        vertical-align: top;\n    }\n\n    .dataframe thead tr th {\n        text-align: left;\n    }\n</style>\n<table border=\"1\" class=\"dataframe\">\n  <thead>\n    <tr>\n      <th></th>\n      <th>Category</th>\n      <th colspan=\"2\" halign=\"left\">BMI (kg/m2)</th>\n      <th colspan=\"2\" halign=\"left\">BMI Prime</th>\n    </tr>\n    <tr>\n      <th></th>\n      <th>Category</th>\n      <th>from</th>\n      <th>to</th>\n      <th>from</th>\n      <th>to</th>\n    </tr>\n  </thead>\n  <tbody>\n    <tr>\n      <th>0</th>\n      <td>Very severely underweight</td>\n      <td>NaN</td>\n      <td>15.0</td>\n      <td>NaN</td>\n      <td>0.60</td>\n    </tr>\n    <tr>\n      <th>1</th>\n      <td>Severely underweight</td>\n      <td>15.0</td>\n      <td>16.0</td>\n      <td>0.60</td>\n      <td>0.64</td>\n    </tr>\n    <tr>\n      <th>2</th>\n      <td>Underweight</td>\n      <td>16.0</td>\n      <td>18.5</td>\n      <td>0.64</td>\n      <td>0.74</td>\n    </tr>\n    <tr>\n      <th>3</th>\n      <td>Normal (healthy weight)</td>\n      <td>18.5</td>\n      <td>25.0</td>\n      <td>0.74</td>\n      <td>1.00</td>\n    </tr>\n    <tr>\n      <th>4</th>\n      <td>Overweight</td>\n      <td>25.0</td>\n      <td>30.0</td>\n      <td>1.00</td>\n      <td>1.20</td>\n    </tr>\n    <tr>\n      <th>5</th>\n      <td>Obese Class I (Moderately obese)</td>\n      <td>30.0</td>\n      <td>35.0</td>\n      <td>1.20</td>\n      <td>1.40</td>\n    </tr>\n    <tr>\n      <th>6</th>\n      <td>Obese Class II (Severely obese)</td>\n      <td>35.0</td>\n      <td>40.0</td>\n      <td>1.40</td>\n      <td>1.60</td>\n    </tr>\n    <tr>\n      <th>7</th>\n      <td>Obese Class III (Very severely obese)</td>\n      <td>40.0</td>\n      <td>NaN</td>\n      <td>1.60</td>\n      <td>NaN</td>\n    </tr>\n  </tbody>\n</table>\n</div>"
     },
     "metadata": {},
     "execution_count": 16
    }
   ],
   "source": [
    "df"
   ]
  },
  {
   "cell_type": "code",
   "execution_count": null,
   "metadata": {},
   "outputs": [],
   "source": []
  }
 ]
}