{
 "metadata": {
  "language_info": {
   "codemirror_mode": {
    "name": "ipython",
    "version": 3
   },
   "file_extension": ".py",
   "mimetype": "text/x-python",
   "name": "python",
   "nbconvert_exporter": "python",
   "pygments_lexer": "ipython3",
   "version": "3.8.5-final"
  },
  "orig_nbformat": 2,
  "kernelspec": {
   "name": "python3",
   "display_name": "Python 3",
   "language": "python"
  }
 },
 "nbformat": 4,
 "nbformat_minor": 2,
 "cells": [
  {
   "cell_type": "code",
   "execution_count": 1,
   "metadata": {},
   "outputs": [],
   "source": [
    "#Using pandas \n",
    "#Import files from different sources \n",
    "#CSV #Excel #JSON \n",
    "#Export files n same formats "
   ]
  },
  {
   "cell_type": "code",
   "execution_count": 2,
   "metadata": {},
   "outputs": [],
   "source": [
    "import numpy as np\n",
    "import pandas as pd"
   ]
  },
  {
   "cell_type": "code",
   "execution_count": 9,
   "metadata": {},
   "outputs": [],
   "source": [
    "swapi_df = pd.read_json('https://swapi.dev/api/people/?page/1')"
   ]
  },
  {
   "cell_type": "code",
   "execution_count": 11,
   "metadata": {},
   "outputs": [
    {
     "output_type": "execute_result",
     "data": {
      "text/plain": [
       "   count                                           next  previous  \\\n",
       "0     82  http://swapi.dev/api/people/?page%2F1=&page=2       NaN   \n",
       "1     82  http://swapi.dev/api/people/?page%2F1=&page=2       NaN   \n",
       "2     82  http://swapi.dev/api/people/?page%2F1=&page=2       NaN   \n",
       "3     82  http://swapi.dev/api/people/?page%2F1=&page=2       NaN   \n",
       "4     82  http://swapi.dev/api/people/?page%2F1=&page=2       NaN   \n",
       "\n",
       "                                             results  \n",
       "0  {'name': 'Luke Skywalker', 'height': '172', 'm...  \n",
       "1  {'name': 'C-3PO', 'height': '167', 'mass': '75...  \n",
       "2  {'name': 'R2-D2', 'height': '96', 'mass': '32'...  \n",
       "3  {'name': 'Darth Vader', 'height': '202', 'mass...  \n",
       "4  {'name': 'Leia Organa', 'height': '150', 'mass...  "
      ],
      "text/html": "<div>\n<style scoped>\n    .dataframe tbody tr th:only-of-type {\n        vertical-align: middle;\n    }\n\n    .dataframe tbody tr th {\n        vertical-align: top;\n    }\n\n    .dataframe thead th {\n        text-align: right;\n    }\n</style>\n<table border=\"1\" class=\"dataframe\">\n  <thead>\n    <tr style=\"text-align: right;\">\n      <th></th>\n      <th>count</th>\n      <th>next</th>\n      <th>previous</th>\n      <th>results</th>\n    </tr>\n  </thead>\n  <tbody>\n    <tr>\n      <th>0</th>\n      <td>82</td>\n      <td>http://swapi.dev/api/people/?page%2F1=&amp;page=2</td>\n      <td>NaN</td>\n      <td>{'name': 'Luke Skywalker', 'height': '172', 'm...</td>\n    </tr>\n    <tr>\n      <th>1</th>\n      <td>82</td>\n      <td>http://swapi.dev/api/people/?page%2F1=&amp;page=2</td>\n      <td>NaN</td>\n      <td>{'name': 'C-3PO', 'height': '167', 'mass': '75...</td>\n    </tr>\n    <tr>\n      <th>2</th>\n      <td>82</td>\n      <td>http://swapi.dev/api/people/?page%2F1=&amp;page=2</td>\n      <td>NaN</td>\n      <td>{'name': 'R2-D2', 'height': '96', 'mass': '32'...</td>\n    </tr>\n    <tr>\n      <th>3</th>\n      <td>82</td>\n      <td>http://swapi.dev/api/people/?page%2F1=&amp;page=2</td>\n      <td>NaN</td>\n      <td>{'name': 'Darth Vader', 'height': '202', 'mass...</td>\n    </tr>\n    <tr>\n      <th>4</th>\n      <td>82</td>\n      <td>http://swapi.dev/api/people/?page%2F1=&amp;page=2</td>\n      <td>NaN</td>\n      <td>{'name': 'Leia Organa', 'height': '150', 'mass...</td>\n    </tr>\n  </tbody>\n</table>\n</div>"
     },
     "metadata": {},
     "execution_count": 11
    }
   ],
   "source": [
    "swapi_df.head()"
   ]
  },
  {
   "cell_type": "code",
   "execution_count": 12,
   "metadata": {},
   "outputs": [],
   "source": [
    "import json \n",
    "import pandas as pd\n",
    "from pandas.io.json import json_normalize as jsn"
   ]
  },
  {
   "cell_type": "code",
   "execution_count": 14,
   "metadata": {},
   "outputs": [],
   "source": [
    "with open('../datasets/swapi.json') as f:\n",
    "    d = json.load(f)"
   ]
  },
  {
   "cell_type": "code",
   "execution_count": 15,
   "metadata": {},
   "outputs": [
    {
     "output_type": "stream",
     "name": "stdout",
     "text": [
      "{'results': [{'name': 'Luke Skywalker', 'height': '172', 'mass': '77', 'hair_color': 'blond', 'skin_color': 'fair', 'eye_color': 'blue', 'birth_year': '19BBY', 'gender': 'male', 'homeworld': 'http://swapi.dev/api/planets/1/', 'films': ['http://swapi.dev/api/films/1/', 'http://swapi.dev/api/films/2/', 'http://swapi.dev/api/films/3/', 'http://swapi.dev/api/films/6/'], 'species': [], 'vehicles': ['http://swapi.dev/api/vehicles/14/', 'http://swapi.dev/api/vehicles/30/'], 'starships': ['http://swapi.dev/api/starships/12/', 'http://swapi.dev/api/starships/22/'], 'created': '2014-12-09T13:50:51.644000Z', 'edited': '2014-12-20T21:17:56.891000Z', 'url': 'http://swapi.dev/api/people/1/'}, {'name': 'C-3PO', 'height': '167', 'mass': '75', 'hair_color': 'n/a', 'skin_color': 'gold', 'eye_color': 'yellow', 'birth_year': '112BBY', 'gender': 'n/a', 'homeworld': 'http://swapi.dev/api/planets/1/', 'films': ['http://swapi.dev/api/films/1/', 'http://swapi.dev/api/films/2/', 'http://swapi.dev/api/films/3/', 'http://swapi.dev/api/films/4/', 'http://swapi.dev/api/films/5/', 'http://swapi.dev/api/films/6/'], 'species': ['http://swapi.dev/api/species/2/'], 'vehicles': [], 'starships': [], 'created': '2014-12-10T15:10:51.357000Z', 'edited': '2014-12-20T21:17:50.309000Z', 'url': 'http://swapi.dev/api/people/2/'}, {'name': 'R2-D2', 'height': '96', 'mass': '32', 'hair_color': 'n/a', 'skin_color': 'white, blue', 'eye_color': 'red', 'birth_year': '33BBY', 'gender': 'n/a', 'homeworld': 'http://swapi.dev/api/planets/8/', 'films': ['http://swapi.dev/api/films/1/', 'http://swapi.dev/api/films/2/', 'http://swapi.dev/api/films/3/', 'http://swapi.dev/api/films/4/', 'http://swapi.dev/api/films/5/', 'http://swapi.dev/api/films/6/'], 'species': ['http://swapi.dev/api/species/2/'], 'vehicles': [], 'starships': [], 'created': '2014-12-10T15:11:50.376000Z', 'edited': '2014-12-20T21:17:50.311000Z', 'url': 'http://swapi.dev/api/people/3/'}, {'name': 'Darth Vader', 'height': '202', 'mass': '136', 'hair_color': 'none', 'skin_color': 'white', 'eye_color': 'yellow', 'birth_year': '41.9BBY', 'gender': 'male', 'homeworld': 'http://swapi.dev/api/planets/1/', 'films': ['http://swapi.dev/api/films/1/', 'http://swapi.dev/api/films/2/', 'http://swapi.dev/api/films/3/', 'http://swapi.dev/api/films/6/'], 'species': [], 'vehicles': [], 'starships': ['http://swapi.dev/api/starships/13/'], 'created': '2014-12-10T15:18:20.704000Z', 'edited': '2014-12-20T21:17:50.313000Z', 'url': 'http://swapi.dev/api/people/4/'}, {'name': 'Leia Organa', 'height': '150', 'mass': '49', 'hair_color': 'brown', 'skin_color': 'light', 'eye_color': 'brown', 'birth_year': '19BBY', 'gender': 'female', 'homeworld': 'http://swapi.dev/api/planets/2/', 'films': ['http://swapi.dev/api/films/1/', 'http://swapi.dev/api/films/2/', 'http://swapi.dev/api/films/3/', 'http://swapi.dev/api/films/6/'], 'species': [], 'vehicles': ['http://swapi.dev/api/vehicles/30/'], 'starships': [], 'created': '2014-12-10T15:20:09.791000Z', 'edited': '2014-12-20T21:17:50.315000Z', 'url': 'http://swapi.dev/api/people/5/'}, {'name': 'Owen Lars', 'height': '178', 'mass': '120', 'hair_color': 'brown, grey', 'skin_color': 'light', 'eye_color': 'blue', 'birth_year': '52BBY', 'gender': 'male', 'homeworld': 'http://swapi.dev/api/planets/1/', 'films': ['http://swapi.dev/api/films/1/', 'http://swapi.dev/api/films/5/', 'http://swapi.dev/api/films/6/'], 'species': [], 'vehicles': [], 'starships': [], 'created': '2014-12-10T15:52:14.024000Z', 'edited': '2014-12-20T21:17:50.317000Z', 'url': 'http://swapi.dev/api/people/6/'}, {'name': 'Beru Whitesun lars', 'height': '165', 'mass': '75', 'hair_color': 'brown', 'skin_color': 'light', 'eye_color': 'blue', 'birth_year': '47BBY', 'gender': 'female', 'homeworld': 'http://swapi.dev/api/planets/1/', 'films': ['http://swapi.dev/api/films/1/', 'http://swapi.dev/api/films/5/', 'http://swapi.dev/api/films/6/'], 'species': [], 'vehicles': [], 'starships': [], 'created': '2014-12-10T15:53:41.121000Z', 'edited': '2014-12-20T21:17:50.319000Z', 'url': 'http://swapi.dev/api/people/7/'}, {'name': 'R5-D4', 'height': '97', 'mass': '32', 'hair_color': 'n/a', 'skin_color': 'white, red', 'eye_color': 'red', 'birth_year': 'unknown', 'gender': 'n/a', 'homeworld': 'http://swapi.dev/api/planets/1/', 'films': ['http://swapi.dev/api/films/1/'], 'species': ['http://swapi.dev/api/species/2/'], 'vehicles': [], 'starships': [], 'created': '2014-12-10T15:57:50.959000Z', 'edited': '2014-12-20T21:17:50.321000Z', 'url': 'http://swapi.dev/api/people/8/'}, {'name': 'Biggs Darklighter', 'height': '183', 'mass': '84', 'hair_color': 'black', 'skin_color': 'light', 'eye_color': 'brown', 'birth_year': '24BBY', 'gender': 'male', 'homeworld': 'http://swapi.dev/api/planets/1/', 'films': ['http://swapi.dev/api/films/1/'], 'species': [], 'vehicles': [], 'starships': ['http://swapi.dev/api/starships/12/'], 'created': '2014-12-10T15:59:50.509000Z', 'edited': '2014-12-20T21:17:50.323000Z', 'url': 'http://swapi.dev/api/people/9/'}, {'name': 'Obi-Wan Kenobi', 'height': '182', 'mass': '77', 'hair_color': 'auburn, white', 'skin_color': 'fair', 'eye_color': 'blue-gray', 'birth_year': '57BBY', 'gender': 'male', 'homeworld': 'http://swapi.dev/api/planets/20/', 'films': ['http://swapi.dev/api/films/1/', 'http://swapi.dev/api/films/2/', 'http://swapi.dev/api/films/3/', 'http://swapi.dev/api/films/4/', 'http://swapi.dev/api/films/5/', 'http://swapi.dev/api/films/6/'], 'species': [], 'vehicles': ['http://swapi.dev/api/vehicles/38/'], 'starships': ['http://swapi.dev/api/starships/48/', 'http://swapi.dev/api/starships/59/', 'http://swapi.dev/api/starships/64/', 'http://swapi.dev/api/starships/65/', 'http://swapi.dev/api/starships/74/'], 'created': '2014-12-10T16:16:29.192000Z', 'edited': '2014-12-20T21:17:50.325000Z', 'url': 'http://swapi.dev/api/people/10/'}]}\n"
     ]
    }
   ],
   "source": [
    "print(d)"
   ]
  },
  {
   "cell_type": "code",
   "execution_count": 17,
   "metadata": {},
   "outputs": [
    {
     "output_type": "execute_result",
     "data": {
      "text/plain": [
       "  birth_year                      created                       edited  \\\n",
       "0      19BBY  2014-12-09T13:50:51.644000Z  2014-12-20T21:17:56.891000Z   \n",
       "1     112BBY  2014-12-10T15:10:51.357000Z  2014-12-20T21:17:50.309000Z   \n",
       "2      33BBY  2014-12-10T15:11:50.376000Z  2014-12-20T21:17:50.311000Z   \n",
       "3    41.9BBY  2014-12-10T15:18:20.704000Z  2014-12-20T21:17:50.313000Z   \n",
       "4      19BBY  2014-12-10T15:20:09.791000Z  2014-12-20T21:17:50.315000Z   \n",
       "\n",
       "  eye_color                                              films  gender  \\\n",
       "0      blue  [http://swapi.dev/api/films/1/, http://swapi.d...    male   \n",
       "1    yellow  [http://swapi.dev/api/films/1/, http://swapi.d...     n/a   \n",
       "2       red  [http://swapi.dev/api/films/1/, http://swapi.d...     n/a   \n",
       "3    yellow  [http://swapi.dev/api/films/1/, http://swapi.d...    male   \n",
       "4     brown  [http://swapi.dev/api/films/1/, http://swapi.d...  female   \n",
       "\n",
       "  hair_color height                        homeworld mass            name  \\\n",
       "0      blond    172  http://swapi.dev/api/planets/1/   77  Luke Skywalker   \n",
       "1        n/a    167  http://swapi.dev/api/planets/1/   75           C-3PO   \n",
       "2        n/a     96  http://swapi.dev/api/planets/8/   32           R2-D2   \n",
       "3       none    202  http://swapi.dev/api/planets/1/  136     Darth Vader   \n",
       "4      brown    150  http://swapi.dev/api/planets/2/   49     Leia Organa   \n",
       "\n",
       "    skin_color                            species  \\\n",
       "0         fair                                 []   \n",
       "1         gold  [http://swapi.dev/api/species/2/]   \n",
       "2  white, blue  [http://swapi.dev/api/species/2/]   \n",
       "3        white                                 []   \n",
       "4        light                                 []   \n",
       "\n",
       "                                           starships  \\\n",
       "0  [http://swapi.dev/api/starships/12/, http://sw...   \n",
       "1                                                 []   \n",
       "2                                                 []   \n",
       "3               [http://swapi.dev/api/starships/13/]   \n",
       "4                                                 []   \n",
       "\n",
       "                              url  \\\n",
       "0  http://swapi.dev/api/people/1/   \n",
       "1  http://swapi.dev/api/people/2/   \n",
       "2  http://swapi.dev/api/people/3/   \n",
       "3  http://swapi.dev/api/people/4/   \n",
       "4  http://swapi.dev/api/people/5/   \n",
       "\n",
       "                                            vehicles  \n",
       "0  [http://swapi.dev/api/vehicles/14/, http://swa...  \n",
       "1                                                 []  \n",
       "2                                                 []  \n",
       "3                                                 []  \n",
       "4                [http://swapi.dev/api/vehicles/30/]  "
      ],
      "text/html": "<div>\n<style scoped>\n    .dataframe tbody tr th:only-of-type {\n        vertical-align: middle;\n    }\n\n    .dataframe tbody tr th {\n        vertical-align: top;\n    }\n\n    .dataframe thead th {\n        text-align: right;\n    }\n</style>\n<table border=\"1\" class=\"dataframe\">\n  <thead>\n    <tr style=\"text-align: right;\">\n      <th></th>\n      <th>birth_year</th>\n      <th>created</th>\n      <th>edited</th>\n      <th>eye_color</th>\n      <th>films</th>\n      <th>gender</th>\n      <th>hair_color</th>\n      <th>height</th>\n      <th>homeworld</th>\n      <th>mass</th>\n      <th>name</th>\n      <th>skin_color</th>\n      <th>species</th>\n      <th>starships</th>\n      <th>url</th>\n      <th>vehicles</th>\n    </tr>\n  </thead>\n  <tbody>\n    <tr>\n      <th>0</th>\n      <td>19BBY</td>\n      <td>2014-12-09T13:50:51.644000Z</td>\n      <td>2014-12-20T21:17:56.891000Z</td>\n      <td>blue</td>\n      <td>[http://swapi.dev/api/films/1/, http://swapi.d...</td>\n      <td>male</td>\n      <td>blond</td>\n      <td>172</td>\n      <td>http://swapi.dev/api/planets/1/</td>\n      <td>77</td>\n      <td>Luke Skywalker</td>\n      <td>fair</td>\n      <td>[]</td>\n      <td>[http://swapi.dev/api/starships/12/, http://sw...</td>\n      <td>http://swapi.dev/api/people/1/</td>\n      <td>[http://swapi.dev/api/vehicles/14/, http://swa...</td>\n    </tr>\n    <tr>\n      <th>1</th>\n      <td>112BBY</td>\n      <td>2014-12-10T15:10:51.357000Z</td>\n      <td>2014-12-20T21:17:50.309000Z</td>\n      <td>yellow</td>\n      <td>[http://swapi.dev/api/films/1/, http://swapi.d...</td>\n      <td>n/a</td>\n      <td>n/a</td>\n      <td>167</td>\n      <td>http://swapi.dev/api/planets/1/</td>\n      <td>75</td>\n      <td>C-3PO</td>\n      <td>gold</td>\n      <td>[http://swapi.dev/api/species/2/]</td>\n      <td>[]</td>\n      <td>http://swapi.dev/api/people/2/</td>\n      <td>[]</td>\n    </tr>\n    <tr>\n      <th>2</th>\n      <td>33BBY</td>\n      <td>2014-12-10T15:11:50.376000Z</td>\n      <td>2014-12-20T21:17:50.311000Z</td>\n      <td>red</td>\n      <td>[http://swapi.dev/api/films/1/, http://swapi.d...</td>\n      <td>n/a</td>\n      <td>n/a</td>\n      <td>96</td>\n      <td>http://swapi.dev/api/planets/8/</td>\n      <td>32</td>\n      <td>R2-D2</td>\n      <td>white, blue</td>\n      <td>[http://swapi.dev/api/species/2/]</td>\n      <td>[]</td>\n      <td>http://swapi.dev/api/people/3/</td>\n      <td>[]</td>\n    </tr>\n    <tr>\n      <th>3</th>\n      <td>41.9BBY</td>\n      <td>2014-12-10T15:18:20.704000Z</td>\n      <td>2014-12-20T21:17:50.313000Z</td>\n      <td>yellow</td>\n      <td>[http://swapi.dev/api/films/1/, http://swapi.d...</td>\n      <td>male</td>\n      <td>none</td>\n      <td>202</td>\n      <td>http://swapi.dev/api/planets/1/</td>\n      <td>136</td>\n      <td>Darth Vader</td>\n      <td>white</td>\n      <td>[]</td>\n      <td>[http://swapi.dev/api/starships/13/]</td>\n      <td>http://swapi.dev/api/people/4/</td>\n      <td>[]</td>\n    </tr>\n    <tr>\n      <th>4</th>\n      <td>19BBY</td>\n      <td>2014-12-10T15:20:09.791000Z</td>\n      <td>2014-12-20T21:17:50.315000Z</td>\n      <td>brown</td>\n      <td>[http://swapi.dev/api/films/1/, http://swapi.d...</td>\n      <td>female</td>\n      <td>brown</td>\n      <td>150</td>\n      <td>http://swapi.dev/api/planets/2/</td>\n      <td>49</td>\n      <td>Leia Organa</td>\n      <td>light</td>\n      <td>[]</td>\n      <td>[]</td>\n      <td>http://swapi.dev/api/people/5/</td>\n      <td>[http://swapi.dev/api/vehicles/30/]</td>\n    </tr>\n  </tbody>\n</table>\n</div>"
     },
     "metadata": {},
     "execution_count": 17
    }
   ],
   "source": [
    "data = jsn(d['results'])\n",
    "data.head()"
   ]
  },
  {
   "cell_type": "code",
   "execution_count": 31,
   "metadata": {},
   "outputs": [],
   "source": [
    "swapi_films_data = data"
   ]
  },
  {
   "cell_type": "code",
   "execution_count": 33,
   "metadata": {},
   "outputs": [
    {
     "output_type": "execute_result",
     "data": {
      "text/plain": [
       "  birth_year                      created                       edited  \\\n",
       "0      19BBY  2014-12-09T13:50:51.644000Z  2014-12-20T21:17:56.891000Z   \n",
       "1     112BBY  2014-12-10T15:10:51.357000Z  2014-12-20T21:17:50.309000Z   \n",
       "2      33BBY  2014-12-10T15:11:50.376000Z  2014-12-20T21:17:50.311000Z   \n",
       "\n",
       "  eye_color                                              films gender  \\\n",
       "0      blue  [http://swapi.dev/api/films/1/, http://swapi.d...   male   \n",
       "1    yellow  [http://swapi.dev/api/films/1/, http://swapi.d...    n/a   \n",
       "2       red  [http://swapi.dev/api/films/1/, http://swapi.d...    n/a   \n",
       "\n",
       "  hair_color height                        homeworld mass            name  \\\n",
       "0      blond    172  http://swapi.dev/api/planets/1/   77  Luke Skywalker   \n",
       "1        n/a    167  http://swapi.dev/api/planets/1/   75           C-3PO   \n",
       "2        n/a     96  http://swapi.dev/api/planets/8/   32           R2-D2   \n",
       "\n",
       "    skin_color                            species  \\\n",
       "0         fair                                 []   \n",
       "1         gold  [http://swapi.dev/api/species/2/]   \n",
       "2  white, blue  [http://swapi.dev/api/species/2/]   \n",
       "\n",
       "                                           starships  \\\n",
       "0  [http://swapi.dev/api/starships/12/, http://sw...   \n",
       "1                                                 []   \n",
       "2                                                 []   \n",
       "\n",
       "                              url  \\\n",
       "0  http://swapi.dev/api/people/1/   \n",
       "1  http://swapi.dev/api/people/2/   \n",
       "2  http://swapi.dev/api/people/3/   \n",
       "\n",
       "                                            vehicles  \n",
       "0  [http://swapi.dev/api/vehicles/14/, http://swa...  \n",
       "1                                                 []  \n",
       "2                                                 []  "
      ],
      "text/html": "<div>\n<style scoped>\n    .dataframe tbody tr th:only-of-type {\n        vertical-align: middle;\n    }\n\n    .dataframe tbody tr th {\n        vertical-align: top;\n    }\n\n    .dataframe thead th {\n        text-align: right;\n    }\n</style>\n<table border=\"1\" class=\"dataframe\">\n  <thead>\n    <tr style=\"text-align: right;\">\n      <th></th>\n      <th>birth_year</th>\n      <th>created</th>\n      <th>edited</th>\n      <th>eye_color</th>\n      <th>films</th>\n      <th>gender</th>\n      <th>hair_color</th>\n      <th>height</th>\n      <th>homeworld</th>\n      <th>mass</th>\n      <th>name</th>\n      <th>skin_color</th>\n      <th>species</th>\n      <th>starships</th>\n      <th>url</th>\n      <th>vehicles</th>\n    </tr>\n  </thead>\n  <tbody>\n    <tr>\n      <th>0</th>\n      <td>19BBY</td>\n      <td>2014-12-09T13:50:51.644000Z</td>\n      <td>2014-12-20T21:17:56.891000Z</td>\n      <td>blue</td>\n      <td>[http://swapi.dev/api/films/1/, http://swapi.d...</td>\n      <td>male</td>\n      <td>blond</td>\n      <td>172</td>\n      <td>http://swapi.dev/api/planets/1/</td>\n      <td>77</td>\n      <td>Luke Skywalker</td>\n      <td>fair</td>\n      <td>[]</td>\n      <td>[http://swapi.dev/api/starships/12/, http://sw...</td>\n      <td>http://swapi.dev/api/people/1/</td>\n      <td>[http://swapi.dev/api/vehicles/14/, http://swa...</td>\n    </tr>\n    <tr>\n      <th>1</th>\n      <td>112BBY</td>\n      <td>2014-12-10T15:10:51.357000Z</td>\n      <td>2014-12-20T21:17:50.309000Z</td>\n      <td>yellow</td>\n      <td>[http://swapi.dev/api/films/1/, http://swapi.d...</td>\n      <td>n/a</td>\n      <td>n/a</td>\n      <td>167</td>\n      <td>http://swapi.dev/api/planets/1/</td>\n      <td>75</td>\n      <td>C-3PO</td>\n      <td>gold</td>\n      <td>[http://swapi.dev/api/species/2/]</td>\n      <td>[]</td>\n      <td>http://swapi.dev/api/people/2/</td>\n      <td>[]</td>\n    </tr>\n    <tr>\n      <th>2</th>\n      <td>33BBY</td>\n      <td>2014-12-10T15:11:50.376000Z</td>\n      <td>2014-12-20T21:17:50.311000Z</td>\n      <td>red</td>\n      <td>[http://swapi.dev/api/films/1/, http://swapi.d...</td>\n      <td>n/a</td>\n      <td>n/a</td>\n      <td>96</td>\n      <td>http://swapi.dev/api/planets/8/</td>\n      <td>32</td>\n      <td>R2-D2</td>\n      <td>white, blue</td>\n      <td>[http://swapi.dev/api/species/2/]</td>\n      <td>[]</td>\n      <td>http://swapi.dev/api/people/3/</td>\n      <td>[]</td>\n    </tr>\n  </tbody>\n</table>\n</div>"
     },
     "metadata": {},
     "execution_count": 33
    }
   ],
   "source": [
    "swapi_films_data.head(3)"
   ]
  },
  {
   "cell_type": "code",
   "execution_count": 34,
   "metadata": {},
   "outputs": [],
   "source": [
    "#Create a new dataFrame from existing columns "
   ]
  },
  {
   "cell_type": "code",
   "execution_count": 35,
   "metadata": {},
   "outputs": [],
   "source": [
    "new_df = pd.DataFrame(swapi_films_data, columns=['name', 'gender', 'height','birth_year', 'mass', 'species'])"
   ]
  },
  {
   "cell_type": "code",
   "execution_count": 36,
   "metadata": {},
   "outputs": [
    {
     "output_type": "execute_result",
     "data": {
      "text/plain": [
       "                 name  gender height birth_year mass  \\\n",
       "0      Luke Skywalker    male    172      19BBY   77   \n",
       "1               C-3PO     n/a    167     112BBY   75   \n",
       "2               R2-D2     n/a     96      33BBY   32   \n",
       "3         Darth Vader    male    202    41.9BBY  136   \n",
       "4         Leia Organa  female    150      19BBY   49   \n",
       "5           Owen Lars    male    178      52BBY  120   \n",
       "6  Beru Whitesun lars  female    165      47BBY   75   \n",
       "7               R5-D4     n/a     97    unknown   32   \n",
       "8   Biggs Darklighter    male    183      24BBY   84   \n",
       "9      Obi-Wan Kenobi    male    182      57BBY   77   \n",
       "\n",
       "                             species  \n",
       "0                                 []  \n",
       "1  [http://swapi.dev/api/species/2/]  \n",
       "2  [http://swapi.dev/api/species/2/]  \n",
       "3                                 []  \n",
       "4                                 []  \n",
       "5                                 []  \n",
       "6                                 []  \n",
       "7  [http://swapi.dev/api/species/2/]  \n",
       "8                                 []  \n",
       "9                                 []  "
      ],
      "text/html": "<div>\n<style scoped>\n    .dataframe tbody tr th:only-of-type {\n        vertical-align: middle;\n    }\n\n    .dataframe tbody tr th {\n        vertical-align: top;\n    }\n\n    .dataframe thead th {\n        text-align: right;\n    }\n</style>\n<table border=\"1\" class=\"dataframe\">\n  <thead>\n    <tr style=\"text-align: right;\">\n      <th></th>\n      <th>name</th>\n      <th>gender</th>\n      <th>height</th>\n      <th>birth_year</th>\n      <th>mass</th>\n      <th>species</th>\n    </tr>\n  </thead>\n  <tbody>\n    <tr>\n      <th>0</th>\n      <td>Luke Skywalker</td>\n      <td>male</td>\n      <td>172</td>\n      <td>19BBY</td>\n      <td>77</td>\n      <td>[]</td>\n    </tr>\n    <tr>\n      <th>1</th>\n      <td>C-3PO</td>\n      <td>n/a</td>\n      <td>167</td>\n      <td>112BBY</td>\n      <td>75</td>\n      <td>[http://swapi.dev/api/species/2/]</td>\n    </tr>\n    <tr>\n      <th>2</th>\n      <td>R2-D2</td>\n      <td>n/a</td>\n      <td>96</td>\n      <td>33BBY</td>\n      <td>32</td>\n      <td>[http://swapi.dev/api/species/2/]</td>\n    </tr>\n    <tr>\n      <th>3</th>\n      <td>Darth Vader</td>\n      <td>male</td>\n      <td>202</td>\n      <td>41.9BBY</td>\n      <td>136</td>\n      <td>[]</td>\n    </tr>\n    <tr>\n      <th>4</th>\n      <td>Leia Organa</td>\n      <td>female</td>\n      <td>150</td>\n      <td>19BBY</td>\n      <td>49</td>\n      <td>[]</td>\n    </tr>\n    <tr>\n      <th>5</th>\n      <td>Owen Lars</td>\n      <td>male</td>\n      <td>178</td>\n      <td>52BBY</td>\n      <td>120</td>\n      <td>[]</td>\n    </tr>\n    <tr>\n      <th>6</th>\n      <td>Beru Whitesun lars</td>\n      <td>female</td>\n      <td>165</td>\n      <td>47BBY</td>\n      <td>75</td>\n      <td>[]</td>\n    </tr>\n    <tr>\n      <th>7</th>\n      <td>R5-D4</td>\n      <td>n/a</td>\n      <td>97</td>\n      <td>unknown</td>\n      <td>32</td>\n      <td>[http://swapi.dev/api/species/2/]</td>\n    </tr>\n    <tr>\n      <th>8</th>\n      <td>Biggs Darklighter</td>\n      <td>male</td>\n      <td>183</td>\n      <td>24BBY</td>\n      <td>84</td>\n      <td>[]</td>\n    </tr>\n    <tr>\n      <th>9</th>\n      <td>Obi-Wan Kenobi</td>\n      <td>male</td>\n      <td>182</td>\n      <td>57BBY</td>\n      <td>77</td>\n      <td>[]</td>\n    </tr>\n  </tbody>\n</table>\n</div>"
     },
     "metadata": {},
     "execution_count": 36
    }
   ],
   "source": [
    "new_df"
   ]
  },
  {
   "cell_type": "code",
   "execution_count": 43,
   "metadata": {},
   "outputs": [
    {
     "output_type": "execute_result",
     "data": {
      "text/plain": [
       "Index(['name', 'gender', 'height', 'birth_year', 'mass', 'species'], dtype='object')"
      ]
     },
     "metadata": {},
     "execution_count": 43
    }
   ],
   "source": [
    "new_df.columns"
   ]
  },
  {
   "cell_type": "code",
   "execution_count": 64,
   "metadata": {},
   "outputs": [
    {
     "output_type": "execute_result",
     "data": {
      "text/plain": [
       "0     77\n",
       "1     75\n",
       "2     32\n",
       "3    136\n",
       "4     49\n",
       "5    120\n",
       "6     75\n",
       "7     32\n",
       "8     84\n",
       "9     77\n",
       "Name: mass, dtype: object"
      ]
     },
     "metadata": {},
     "execution_count": 64
    }
   ],
   "source": [
    "new_df['mass']"
   ]
  },
  {
   "cell_type": "code",
   "execution_count": 72,
   "metadata": {},
   "outputs": [
    {
     "output_type": "stream",
     "name": "stdout",
     "text": [
      "['77', '75', '32', '136', '49', '120', '75', '32', '84', '77']\n['77', '75', '32', '136', '49', '120', '75', '32', '84', '77']\n['77', '75', '32', '136', '49', '120', '75', '32', '84', '77']\n['77', '75', '32', '136', '49', '120', '75', '32', '84', '77']\n['77', '75', '32', '136', '49', '120', '75', '32', '84', '77']\n['77', '75', '32', '136', '49', '120', '75', '32', '84', '77']\n['77', '75', '32', '136', '49', '120', '75', '32', '84', '77']\n['77', '75', '32', '136', '49', '120', '75', '32', '84', '77']\n['77', '75', '32', '136', '49', '120', '75', '32', '84', '77']\n['77', '75', '32', '136', '49', '120', '75', '32', '84', '77']\n"
     ]
    }
   ],
   "source": [
    "#create new columns\n",
    "#new_df['bmi'] = (int(new_df[\"mass\"]) / (int(new_df[\"height\"]) / 100) ** 2)\n",
    "# mass = float(new_df['mass'])\n",
    "# height = float(new_df['height'])\n",
    "# bmi = ( (mass) / ((height)/100) ** 2)\n",
    "def counter(list):\n",
    "    for i in list:\n",
    "        print(list.values.tolist())\n",
    "\n",
    "counter(new_df['mass'])     "
   ]
  },
  {
   "cell_type": "code",
   "execution_count": 1,
   "metadata": {},
   "outputs": [],
   "source": [
    "import bs4"
   ]
  },
  {
   "cell_type": "code",
   "execution_count": 2,
   "metadata": {},
   "outputs": [],
   "source": [
    "x = 5"
   ]
  },
  {
   "cell_type": "code",
   "execution_count": 3,
   "metadata": {},
   "outputs": [],
   "source": [
    "y = 4"
   ]
  },
  {
   "cell_type": "code",
   "execution_count": 4,
   "metadata": {},
   "outputs": [],
   "source": [
    "z = x + x"
   ]
  },
  {
   "cell_type": "code",
   "execution_count": 5,
   "metadata": {},
   "outputs": [
    {
     "output_type": "execute_result",
     "data": {
      "text/plain": [
       "10"
      ]
     },
     "metadata": {},
     "execution_count": 5
    }
   ],
   "source": [
    "z"
   ]
  },
  {
   "cell_type": "code",
   "execution_count": 6,
   "metadata": {},
   "outputs": [],
   "source": [
    "# sytax\n",
    "# data types \n",
    "# sequence types \n",
    "# collections "
   ]
  },
  {
   "cell_type": "code",
   "execution_count": 9,
   "metadata": {},
   "outputs": [],
   "source": [
    "syntax = 1 \n",
    "# assigned the value of 1 to variable 'syntax'"
   ]
  },
  {
   "source": [
    "print(syntax)"
   ],
   "cell_type": "code",
   "metadata": {},
   "execution_count": 11,
   "outputs": [
    {
     "output_type": "stream",
     "name": "stdout",
     "text": [
      "1\n"
     ]
    }
   ]
  },
  {
   "cell_type": "code",
   "execution_count": null,
   "metadata": {},
   "outputs": [],
   "source": [
    "# "
   ]
  }
 ]
}