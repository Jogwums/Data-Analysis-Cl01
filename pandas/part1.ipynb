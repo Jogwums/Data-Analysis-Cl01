{
 "metadata": {
  "language_info": {
   "codemirror_mode": {
    "name": "ipython",
    "version": 3
   },
   "file_extension": ".py",
   "mimetype": "text/x-python",
   "name": "python",
   "nbconvert_exporter": "python",
   "pygments_lexer": "ipython3",
   "version": "3.7.1-final"
  },
  "orig_nbformat": 2,
  "kernelspec": {
   "name": "python3",
   "display_name": "Python 3",
   "language": "python"
  }
 },
 "nbformat": 4,
 "nbformat_minor": 2,
 "cells": [
  {
   "cell_type": "code",
   "execution_count": 1,
   "metadata": {},
   "outputs": [],
   "source": [
    "#Using pandas \n",
    "#Import files from different sources \n",
    "#CSV #Excel #JSON \n",
    "#Export files n same formats "
   ]
  },
  {
   "cell_type": "code",
   "execution_count": 2,
   "metadata": {},
   "outputs": [],
   "source": [
    "import numpy as np\n",
    "import pandas as pd"
   ]
  },
  {
   "cell_type": "code",
   "execution_count": 9,
   "metadata": {},
   "outputs": [],
   "source": [
    "swapi_df = pd.read_json('https://swapi.dev/api/people/?page/1')"
   ]
  },
  {
   "cell_type": "code",
   "execution_count": 11,
   "metadata": {},
   "outputs": [
    {
     "output_type": "execute_result",
     "data": {
      "text/plain": [
       "   count                                           next  previous  \\\n",
       "0     82  http://swapi.dev/api/people/?page%2F1=&page=2       NaN   \n",
       "1     82  http://swapi.dev/api/people/?page%2F1=&page=2       NaN   \n",
       "2     82  http://swapi.dev/api/people/?page%2F1=&page=2       NaN   \n",
       "3     82  http://swapi.dev/api/people/?page%2F1=&page=2       NaN   \n",
       "4     82  http://swapi.dev/api/people/?page%2F1=&page=2       NaN   \n",
       "\n",
       "                                             results  \n",
       "0  {'name': 'Luke Skywalker', 'height': '172', 'm...  \n",
       "1  {'name': 'C-3PO', 'height': '167', 'mass': '75...  \n",
       "2  {'name': 'R2-D2', 'height': '96', 'mass': '32'...  \n",
       "3  {'name': 'Darth Vader', 'height': '202', 'mass...  \n",
       "4  {'name': 'Leia Organa', 'height': '150', 'mass...  "
      ],
      "text/html": "<div>\n<style scoped>\n    .dataframe tbody tr th:only-of-type {\n        vertical-align: middle;\n    }\n\n    .dataframe tbody tr th {\n        vertical-align: top;\n    }\n\n    .dataframe thead th {\n        text-align: right;\n    }\n</style>\n<table border=\"1\" class=\"dataframe\">\n  <thead>\n    <tr style=\"text-align: right;\">\n      <th></th>\n      <th>count</th>\n      <th>next</th>\n      <th>previous</th>\n      <th>results</th>\n    </tr>\n  </thead>\n  <tbody>\n    <tr>\n      <th>0</th>\n      <td>82</td>\n      <td>http://swapi.dev/api/people/?page%2F1=&amp;page=2</td>\n      <td>NaN</td>\n      <td>{'name': 'Luke Skywalker', 'height': '172', 'm...</td>\n    </tr>\n    <tr>\n      <th>1</th>\n      <td>82</td>\n      <td>http://swapi.dev/api/people/?page%2F1=&amp;page=2</td>\n      <td>NaN</td>\n      <td>{'name': 'C-3PO', 'height': '167', 'mass': '75...</td>\n    </tr>\n    <tr>\n      <th>2</th>\n      <td>82</td>\n      <td>http://swapi.dev/api/people/?page%2F1=&amp;page=2</td>\n      <td>NaN</td>\n      <td>{'name': 'R2-D2', 'height': '96', 'mass': '32'...</td>\n    </tr>\n    <tr>\n      <th>3</th>\n      <td>82</td>\n      <td>http://swapi.dev/api/people/?page%2F1=&amp;page=2</td>\n      <td>NaN</td>\n      <td>{'name': 'Darth Vader', 'height': '202', 'mass...</td>\n    </tr>\n    <tr>\n      <th>4</th>\n      <td>82</td>\n      <td>http://swapi.dev/api/people/?page%2F1=&amp;page=2</td>\n      <td>NaN</td>\n      <td>{'name': 'Leia Organa', 'height': '150', 'mass...</td>\n    </tr>\n  </tbody>\n</table>\n</div>"
     },
     "metadata": {},
     "execution_count": 11
    }
   ],
   "source": [
    "swapi_df.head()"
   ]
  },
  {
   "cell_type": "code",
   "execution_count": 12,
   "metadata": {},
   "outputs": [],
   "source": [
    "import json \n",
    "import pandas as pd\n",
    "from pandas.io.json import json_normalize as jsn"
   ]
  },
  {
   "cell_type": "code",
   "execution_count": 14,
   "metadata": {},
   "outputs": [],
   "source": [
    "with open('../datasets/swapi.json') as f:\n",
    "    d = json.load(f)"
   ]
  },
  {
   "cell_type": "code",
   "execution_count": 15,
   "metadata": {},
   "outputs": [
    {
     "output_type": "stream",
     "name": "stdout",
     "text": [
      "{'results': [{'name': 'Luke Skywalker', 'height': '172', 'mass': '77', 'hair_color': 'blond', 'skin_color': 'fair', 'eye_color': 'blue', 'birth_year': '19BBY', 'gender': 'male', 'homeworld': 'http://swapi.dev/api/planets/1/', 'films': ['http://swapi.dev/api/films/1/', 'http://swapi.dev/api/films/2/', 'http://swapi.dev/api/films/3/', 'http://swapi.dev/api/films/6/'], 'species': [], 'vehicles': ['http://swapi.dev/api/vehicles/14/', 'http://swapi.dev/api/vehicles/30/'], 'starships': ['http://swapi.dev/api/starships/12/', 'http://swapi.dev/api/starships/22/'], 'created': '2014-12-09T13:50:51.644000Z', 'edited': '2014-12-20T21:17:56.891000Z', 'url': 'http://swapi.dev/api/people/1/'}, {'name': 'C-3PO', 'height': '167', 'mass': '75', 'hair_color': 'n/a', 'skin_color': 'gold', 'eye_color': 'yellow', 'birth_year': '112BBY', 'gender': 'n/a', 'homeworld': 'http://swapi.dev/api/planets/1/', 'films': ['http://swapi.dev/api/films/1/', 'http://swapi.dev/api/films/2/', 'http://swapi.dev/api/films/3/', 'http://swapi.dev/api/films/4/', 'http://swapi.dev/api/films/5/', 'http://swapi.dev/api/films/6/'], 'species': ['http://swapi.dev/api/species/2/'], 'vehicles': [], 'starships': [], 'created': '2014-12-10T15:10:51.357000Z', 'edited': '2014-12-20T21:17:50.309000Z', 'url': 'http://swapi.dev/api/people/2/'}, {'name': 'R2-D2', 'height': '96', 'mass': '32', 'hair_color': 'n/a', 'skin_color': 'white, blue', 'eye_color': 'red', 'birth_year': '33BBY', 'gender': 'n/a', 'homeworld': 'http://swapi.dev/api/planets/8/', 'films': ['http://swapi.dev/api/films/1/', 'http://swapi.dev/api/films/2/', 'http://swapi.dev/api/films/3/', 'http://swapi.dev/api/films/4/', 'http://swapi.dev/api/films/5/', 'http://swapi.dev/api/films/6/'], 'species': ['http://swapi.dev/api/species/2/'], 'vehicles': [], 'starships': [], 'created': '2014-12-10T15:11:50.376000Z', 'edited': '2014-12-20T21:17:50.311000Z', 'url': 'http://swapi.dev/api/people/3/'}, {'name': 'Darth Vader', 'height': '202', 'mass': '136', 'hair_color': 'none', 'skin_color': 'white', 'eye_color': 'yellow', 'birth_year': '41.9BBY', 'gender': 'male', 'homeworld': 'http://swapi.dev/api/planets/1/', 'films': ['http://swapi.dev/api/films/1/', 'http://swapi.dev/api/films/2/', 'http://swapi.dev/api/films/3/', 'http://swapi.dev/api/films/6/'], 'species': [], 'vehicles': [], 'starships': ['http://swapi.dev/api/starships/13/'], 'created': '2014-12-10T15:18:20.704000Z', 'edited': '2014-12-20T21:17:50.313000Z', 'url': 'http://swapi.dev/api/people/4/'}, {'name': 'Leia Organa', 'height': '150', 'mass': '49', 'hair_color': 'brown', 'skin_color': 'light', 'eye_color': 'brown', 'birth_year': '19BBY', 'gender': 'female', 'homeworld': 'http://swapi.dev/api/planets/2/', 'films': ['http://swapi.dev/api/films/1/', 'http://swapi.dev/api/films/2/', 'http://swapi.dev/api/films/3/', 'http://swapi.dev/api/films/6/'], 'species': [], 'vehicles': ['http://swapi.dev/api/vehicles/30/'], 'starships': [], 'created': '2014-12-10T15:20:09.791000Z', 'edited': '2014-12-20T21:17:50.315000Z', 'url': 'http://swapi.dev/api/people/5/'}, {'name': 'Owen Lars', 'height': '178', 'mass': '120', 'hair_color': 'brown, grey', 'skin_color': 'light', 'eye_color': 'blue', 'birth_year': '52BBY', 'gender': 'male', 'homeworld': 'http://swapi.dev/api/planets/1/', 'films': ['http://swapi.dev/api/films/1/', 'http://swapi.dev/api/films/5/', 'http://swapi.dev/api/films/6/'], 'species': [], 'vehicles': [], 'starships': [], 'created': '2014-12-10T15:52:14.024000Z', 'edited': '2014-12-20T21:17:50.317000Z', 'url': 'http://swapi.dev/api/people/6/'}, {'name': 'Beru Whitesun lars', 'height': '165', 'mass': '75', 'hair_color': 'brown', 'skin_color': 'light', 'eye_color': 'blue', 'birth_year': '47BBY', 'gender': 'female', 'homeworld': 'http://swapi.dev/api/planets/1/', 'films': ['http://swapi.dev/api/films/1/', 'http://swapi.dev/api/films/5/', 'http://swapi.dev/api/films/6/'], 'species': [], 'vehicles': [], 'starships': [], 'created': '2014-12-10T15:53:41.121000Z', 'edited': '2014-12-20T21:17:50.319000Z', 'url': 'http://swapi.dev/api/people/7/'}, {'name': 'R5-D4', 'height': '97', 'mass': '32', 'hair_color': 'n/a', 'skin_color': 'white, red', 'eye_color': 'red', 'birth_year': 'unknown', 'gender': 'n/a', 'homeworld': 'http://swapi.dev/api/planets/1/', 'films': ['http://swapi.dev/api/films/1/'], 'species': ['http://swapi.dev/api/species/2/'], 'vehicles': [], 'starships': [], 'created': '2014-12-10T15:57:50.959000Z', 'edited': '2014-12-20T21:17:50.321000Z', 'url': 'http://swapi.dev/api/people/8/'}, {'name': 'Biggs Darklighter', 'height': '183', 'mass': '84', 'hair_color': 'black', 'skin_color': 'light', 'eye_color': 'brown', 'birth_year': '24BBY', 'gender': 'male', 'homeworld': 'http://swapi.dev/api/planets/1/', 'films': ['http://swapi.dev/api/films/1/'], 'species': [], 'vehicles': [], 'starships': ['http://swapi.dev/api/starships/12/'], 'created': '2014-12-10T15:59:50.509000Z', 'edited': '2014-12-20T21:17:50.323000Z', 'url': 'http://swapi.dev/api/people/9/'}, {'name': 'Obi-Wan Kenobi', 'height': '182', 'mass': '77', 'hair_color': 'auburn, white', 'skin_color': 'fair', 'eye_color': 'blue-gray', 'birth_year': '57BBY', 'gender': 'male', 'homeworld': 'http://swapi.dev/api/planets/20/', 'films': ['http://swapi.dev/api/films/1/', 'http://swapi.dev/api/films/2/', 'http://swapi.dev/api/films/3/', 'http://swapi.dev/api/films/4/', 'http://swapi.dev/api/films/5/', 'http://swapi.dev/api/films/6/'], 'species': [], 'vehicles': ['http://swapi.dev/api/vehicles/38/'], 'starships': ['http://swapi.dev/api/starships/48/', 'http://swapi.dev/api/starships/59/', 'http://swapi.dev/api/starships/64/', 'http://swapi.dev/api/starships/65/', 'http://swapi.dev/api/starships/74/'], 'created': '2014-12-10T16:16:29.192000Z', 'edited': '2014-12-20T21:17:50.325000Z', 'url': 'http://swapi.dev/api/people/10/'}]}\n"
     ]
    }
   ],
   "source": [
    "print(d)"
   ]
  },
  {
   "cell_type": "code",
   "execution_count": 17,
   "metadata": {},
   "outputs": [
    {
     "output_type": "execute_result",
     "data": {
      "text/plain": [
       "  birth_year                      created                       edited  \\\n",
       "0      19BBY  2014-12-09T13:50:51.644000Z  2014-12-20T21:17:56.891000Z   \n",
       "1     112BBY  2014-12-10T15:10:51.357000Z  2014-12-20T21:17:50.309000Z   \n",
       "2      33BBY  2014-12-10T15:11:50.376000Z  2014-12-20T21:17:50.311000Z   \n",
       "3    41.9BBY  2014-12-10T15:18:20.704000Z  2014-12-20T21:17:50.313000Z   \n",
       "4      19BBY  2014-12-10T15:20:09.791000Z  2014-12-20T21:17:50.315000Z   \n",
       "\n",
       "  eye_color                                              films  gender  \\\n",
       "0      blue  [http://swapi.dev/api/films/1/, http://swapi.d...    male   \n",
       "1    yellow  [http://swapi.dev/api/films/1/, http://swapi.d...     n/a   \n",
       "2       red  [http://swapi.dev/api/films/1/, http://swapi.d...     n/a   \n",
       "3    yellow  [http://swapi.dev/api/films/1/, http://swapi.d...    male   \n",
       "4     brown  [http://swapi.dev/api/films/1/, http://swapi.d...  female   \n",
       "\n",
       "  hair_color height                        homeworld mass            name  \\\n",
       "0      blond    172  http://swapi.dev/api/planets/1/   77  Luke Skywalker   \n",
       "1        n/a    167  http://swapi.dev/api/planets/1/   75           C-3PO   \n",
       "2        n/a     96  http://swapi.dev/api/planets/8/   32           R2-D2   \n",
       "3       none    202  http://swapi.dev/api/planets/1/  136     Darth Vader   \n",
       "4      brown    150  http://swapi.dev/api/planets/2/   49     Leia Organa   \n",
       "\n",
       "    skin_color                            species  \\\n",
       "0         fair                                 []   \n",
       "1         gold  [http://swapi.dev/api/species/2/]   \n",
       "2  white, blue  [http://swapi.dev/api/species/2/]   \n",
       "3        white                                 []   \n",
       "4        light                                 []   \n",
       "\n",
       "                                           starships  \\\n",
       "0  [http://swapi.dev/api/starships/12/, http://sw...   \n",
       "1                                                 []   \n",
       "2                                                 []   \n",
       "3               [http://swapi.dev/api/starships/13/]   \n",
       "4                                                 []   \n",
       "\n",
       "                              url  \\\n",
       "0  http://swapi.dev/api/people/1/   \n",
       "1  http://swapi.dev/api/people/2/   \n",
       "2  http://swapi.dev/api/people/3/   \n",
       "3  http://swapi.dev/api/people/4/   \n",
       "4  http://swapi.dev/api/people/5/   \n",
       "\n",
       "                                            vehicles  \n",
       "0  [http://swapi.dev/api/vehicles/14/, http://swa...  \n",
       "1                                                 []  \n",
       "2                                                 []  \n",
       "3                                                 []  \n",
       "4                [http://swapi.dev/api/vehicles/30/]  "
      ],
      "text/html": "<div>\n<style scoped>\n    .dataframe tbody tr th:only-of-type {\n        vertical-align: middle;\n    }\n\n    .dataframe tbody tr th {\n        vertical-align: top;\n    }\n\n    .dataframe thead th {\n        text-align: right;\n    }\n</style>\n<table border=\"1\" class=\"dataframe\">\n  <thead>\n    <tr style=\"text-align: right;\">\n      <th></th>\n      <th>birth_year</th>\n      <th>created</th>\n      <th>edited</th>\n      <th>eye_color</th>\n      <th>films</th>\n      <th>gender</th>\n      <th>hair_color</th>\n      <th>height</th>\n      <th>homeworld</th>\n      <th>mass</th>\n      <th>name</th>\n      <th>skin_color</th>\n      <th>species</th>\n      <th>starships</th>\n      <th>url</th>\n      <th>vehicles</th>\n    </tr>\n  </thead>\n  <tbody>\n    <tr>\n      <th>0</th>\n      <td>19BBY</td>\n      <td>2014-12-09T13:50:51.644000Z</td>\n      <td>2014-12-20T21:17:56.891000Z</td>\n      <td>blue</td>\n      <td>[http://swapi.dev/api/films/1/, http://swapi.d...</td>\n      <td>male</td>\n      <td>blond</td>\n      <td>172</td>\n      <td>http://swapi.dev/api/planets/1/</td>\n      <td>77</td>\n      <td>Luke Skywalker</td>\n      <td>fair</td>\n      <td>[]</td>\n      <td>[http://swapi.dev/api/starships/12/, http://sw...</td>\n      <td>http://swapi.dev/api/people/1/</td>\n      <td>[http://swapi.dev/api/vehicles/14/, http://swa...</td>\n    </tr>\n    <tr>\n      <th>1</th>\n      <td>112BBY</td>\n      <td>2014-12-10T15:10:51.357000Z</td>\n      <td>2014-12-20T21:17:50.309000Z</td>\n      <td>yellow</td>\n      <td>[http://swapi.dev/api/films/1/, http://swapi.d...</td>\n      <td>n/a</td>\n      <td>n/a</td>\n      <td>167</td>\n      <td>http://swapi.dev/api/planets/1/</td>\n      <td>75</td>\n      <td>C-3PO</td>\n      <td>gold</td>\n      <td>[http://swapi.dev/api/species/2/]</td>\n      <td>[]</td>\n      <td>http://swapi.dev/api/people/2/</td>\n      <td>[]</td>\n    </tr>\n    <tr>\n      <th>2</th>\n      <td>33BBY</td>\n      <td>2014-12-10T15:11:50.376000Z</td>\n      <td>2014-12-20T21:17:50.311000Z</td>\n      <td>red</td>\n      <td>[http://swapi.dev/api/films/1/, http://swapi.d...</td>\n      <td>n/a</td>\n      <td>n/a</td>\n      <td>96</td>\n      <td>http://swapi.dev/api/planets/8/</td>\n      <td>32</td>\n      <td>R2-D2</td>\n      <td>white, blue</td>\n      <td>[http://swapi.dev/api/species/2/]</td>\n      <td>[]</td>\n      <td>http://swapi.dev/api/people/3/</td>\n      <td>[]</td>\n    </tr>\n    <tr>\n      <th>3</th>\n      <td>41.9BBY</td>\n      <td>2014-12-10T15:18:20.704000Z</td>\n      <td>2014-12-20T21:17:50.313000Z</td>\n      <td>yellow</td>\n      <td>[http://swapi.dev/api/films/1/, http://swapi.d...</td>\n      <td>male</td>\n      <td>none</td>\n      <td>202</td>\n      <td>http://swapi.dev/api/planets/1/</td>\n      <td>136</td>\n      <td>Darth Vader</td>\n      <td>white</td>\n      <td>[]</td>\n      <td>[http://swapi.dev/api/starships/13/]</td>\n      <td>http://swapi.dev/api/people/4/</td>\n      <td>[]</td>\n    </tr>\n    <tr>\n      <th>4</th>\n      <td>19BBY</td>\n      <td>2014-12-10T15:20:09.791000Z</td>\n      <td>2014-12-20T21:17:50.315000Z</td>\n      <td>brown</td>\n      <td>[http://swapi.dev/api/films/1/, http://swapi.d...</td>\n      <td>female</td>\n      <td>brown</td>\n      <td>150</td>\n      <td>http://swapi.dev/api/planets/2/</td>\n      <td>49</td>\n      <td>Leia Organa</td>\n      <td>light</td>\n      <td>[]</td>\n      <td>[]</td>\n      <td>http://swapi.dev/api/people/5/</td>\n      <td>[http://swapi.dev/api/vehicles/30/]</td>\n    </tr>\n  </tbody>\n</table>\n</div>"
     },
     "metadata": {},
     "execution_count": 17
    }
   ],
   "source": [
    "data = jsn(d['results'])\n",
    "data.head()"
   ]
  },
  {
   "cell_type": "code",
   "execution_count": 31,
   "metadata": {},
   "outputs": [],
   "source": [
    "swapi_films_data = data"
   ]
  },
  {
   "cell_type": "code",
   "execution_count": 32,
   "metadata": {},
   "outputs": [
    {
     "output_type": "execute_result",
     "data": {
      "text/plain": [
       "  birth_year                      created                       edited  \\\n",
       "0      19BBY  2014-12-09T13:50:51.644000Z  2014-12-20T21:17:56.891000Z   \n",
       "1     112BBY  2014-12-10T15:10:51.357000Z  2014-12-20T21:17:50.309000Z   \n",
       "2      33BBY  2014-12-10T15:11:50.376000Z  2014-12-20T21:17:50.311000Z   \n",
       "3    41.9BBY  2014-12-10T15:18:20.704000Z  2014-12-20T21:17:50.313000Z   \n",
       "4      19BBY  2014-12-10T15:20:09.791000Z  2014-12-20T21:17:50.315000Z   \n",
       "5      52BBY  2014-12-10T15:52:14.024000Z  2014-12-20T21:17:50.317000Z   \n",
       "6      47BBY  2014-12-10T15:53:41.121000Z  2014-12-20T21:17:50.319000Z   \n",
       "7    unknown  2014-12-10T15:57:50.959000Z  2014-12-20T21:17:50.321000Z   \n",
       "8      24BBY  2014-12-10T15:59:50.509000Z  2014-12-20T21:17:50.323000Z   \n",
       "9      57BBY  2014-12-10T16:16:29.192000Z  2014-12-20T21:17:50.325000Z   \n",
       "\n",
       "   eye_color                                              films  gender  \\\n",
       "0       blue  [http://swapi.dev/api/films/1/, http://swapi.d...    male   \n",
       "1     yellow  [http://swapi.dev/api/films/1/, http://swapi.d...     n/a   \n",
       "2        red  [http://swapi.dev/api/films/1/, http://swapi.d...     n/a   \n",
       "3     yellow  [http://swapi.dev/api/films/1/, http://swapi.d...    male   \n",
       "4      brown  [http://swapi.dev/api/films/1/, http://swapi.d...  female   \n",
       "5       blue  [http://swapi.dev/api/films/1/, http://swapi.d...    male   \n",
       "6       blue  [http://swapi.dev/api/films/1/, http://swapi.d...  female   \n",
       "7        red                    [http://swapi.dev/api/films/1/]     n/a   \n",
       "8      brown                    [http://swapi.dev/api/films/1/]    male   \n",
       "9  blue-gray  [http://swapi.dev/api/films/1/, http://swapi.d...    male   \n",
       "\n",
       "      hair_color height                         homeworld mass  \\\n",
       "0          blond    172   http://swapi.dev/api/planets/1/   77   \n",
       "1            n/a    167   http://swapi.dev/api/planets/1/   75   \n",
       "2            n/a     96   http://swapi.dev/api/planets/8/   32   \n",
       "3           none    202   http://swapi.dev/api/planets/1/  136   \n",
       "4          brown    150   http://swapi.dev/api/planets/2/   49   \n",
       "5    brown, grey    178   http://swapi.dev/api/planets/1/  120   \n",
       "6          brown    165   http://swapi.dev/api/planets/1/   75   \n",
       "7            n/a     97   http://swapi.dev/api/planets/1/   32   \n",
       "8          black    183   http://swapi.dev/api/planets/1/   84   \n",
       "9  auburn, white    182  http://swapi.dev/api/planets/20/   77   \n",
       "\n",
       "                 name   skin_color                            species  \\\n",
       "0      Luke Skywalker         fair                                 []   \n",
       "1               C-3PO         gold  [http://swapi.dev/api/species/2/]   \n",
       "2               R2-D2  white, blue  [http://swapi.dev/api/species/2/]   \n",
       "3         Darth Vader        white                                 []   \n",
       "4         Leia Organa        light                                 []   \n",
       "5           Owen Lars        light                                 []   \n",
       "6  Beru Whitesun lars        light                                 []   \n",
       "7               R5-D4   white, red  [http://swapi.dev/api/species/2/]   \n",
       "8   Biggs Darklighter        light                                 []   \n",
       "9      Obi-Wan Kenobi         fair                                 []   \n",
       "\n",
       "                                           starships  \\\n",
       "0  [http://swapi.dev/api/starships/12/, http://sw...   \n",
       "1                                                 []   \n",
       "2                                                 []   \n",
       "3               [http://swapi.dev/api/starships/13/]   \n",
       "4                                                 []   \n",
       "5                                                 []   \n",
       "6                                                 []   \n",
       "7                                                 []   \n",
       "8               [http://swapi.dev/api/starships/12/]   \n",
       "9  [http://swapi.dev/api/starships/48/, http://sw...   \n",
       "\n",
       "                               url  \\\n",
       "0   http://swapi.dev/api/people/1/   \n",
       "1   http://swapi.dev/api/people/2/   \n",
       "2   http://swapi.dev/api/people/3/   \n",
       "3   http://swapi.dev/api/people/4/   \n",
       "4   http://swapi.dev/api/people/5/   \n",
       "5   http://swapi.dev/api/people/6/   \n",
       "6   http://swapi.dev/api/people/7/   \n",
       "7   http://swapi.dev/api/people/8/   \n",
       "8   http://swapi.dev/api/people/9/   \n",
       "9  http://swapi.dev/api/people/10/   \n",
       "\n",
       "                                            vehicles  \n",
       "0  [http://swapi.dev/api/vehicles/14/, http://swa...  \n",
       "1                                                 []  \n",
       "2                                                 []  \n",
       "3                                                 []  \n",
       "4                [http://swapi.dev/api/vehicles/30/]  \n",
       "5                                                 []  \n",
       "6                                                 []  \n",
       "7                                                 []  \n",
       "8                                                 []  \n",
       "9                [http://swapi.dev/api/vehicles/38/]  "
      ],
      "text/html": "<div>\n<style scoped>\n    .dataframe tbody tr th:only-of-type {\n        vertical-align: middle;\n    }\n\n    .dataframe tbody tr th {\n        vertical-align: top;\n    }\n\n    .dataframe thead th {\n        text-align: right;\n    }\n</style>\n<table border=\"1\" class=\"dataframe\">\n  <thead>\n    <tr style=\"text-align: right;\">\n      <th></th>\n      <th>birth_year</th>\n      <th>created</th>\n      <th>edited</th>\n      <th>eye_color</th>\n      <th>films</th>\n      <th>gender</th>\n      <th>hair_color</th>\n      <th>height</th>\n      <th>homeworld</th>\n      <th>mass</th>\n      <th>name</th>\n      <th>skin_color</th>\n      <th>species</th>\n      <th>starships</th>\n      <th>url</th>\n      <th>vehicles</th>\n    </tr>\n  </thead>\n  <tbody>\n    <tr>\n      <th>0</th>\n      <td>19BBY</td>\n      <td>2014-12-09T13:50:51.644000Z</td>\n      <td>2014-12-20T21:17:56.891000Z</td>\n      <td>blue</td>\n      <td>[http://swapi.dev/api/films/1/, http://swapi.d...</td>\n      <td>male</td>\n      <td>blond</td>\n      <td>172</td>\n      <td>http://swapi.dev/api/planets/1/</td>\n      <td>77</td>\n      <td>Luke Skywalker</td>\n      <td>fair</td>\n      <td>[]</td>\n      <td>[http://swapi.dev/api/starships/12/, http://sw...</td>\n      <td>http://swapi.dev/api/people/1/</td>\n      <td>[http://swapi.dev/api/vehicles/14/, http://swa...</td>\n    </tr>\n    <tr>\n      <th>1</th>\n      <td>112BBY</td>\n      <td>2014-12-10T15:10:51.357000Z</td>\n      <td>2014-12-20T21:17:50.309000Z</td>\n      <td>yellow</td>\n      <td>[http://swapi.dev/api/films/1/, http://swapi.d...</td>\n      <td>n/a</td>\n      <td>n/a</td>\n      <td>167</td>\n      <td>http://swapi.dev/api/planets/1/</td>\n      <td>75</td>\n      <td>C-3PO</td>\n      <td>gold</td>\n      <td>[http://swapi.dev/api/species/2/]</td>\n      <td>[]</td>\n      <td>http://swapi.dev/api/people/2/</td>\n      <td>[]</td>\n    </tr>\n    <tr>\n      <th>2</th>\n      <td>33BBY</td>\n      <td>2014-12-10T15:11:50.376000Z</td>\n      <td>2014-12-20T21:17:50.311000Z</td>\n      <td>red</td>\n      <td>[http://swapi.dev/api/films/1/, http://swapi.d...</td>\n      <td>n/a</td>\n      <td>n/a</td>\n      <td>96</td>\n      <td>http://swapi.dev/api/planets/8/</td>\n      <td>32</td>\n      <td>R2-D2</td>\n      <td>white, blue</td>\n      <td>[http://swapi.dev/api/species/2/]</td>\n      <td>[]</td>\n      <td>http://swapi.dev/api/people/3/</td>\n      <td>[]</td>\n    </tr>\n    <tr>\n      <th>3</th>\n      <td>41.9BBY</td>\n      <td>2014-12-10T15:18:20.704000Z</td>\n      <td>2014-12-20T21:17:50.313000Z</td>\n      <td>yellow</td>\n      <td>[http://swapi.dev/api/films/1/, http://swapi.d...</td>\n      <td>male</td>\n      <td>none</td>\n      <td>202</td>\n      <td>http://swapi.dev/api/planets/1/</td>\n      <td>136</td>\n      <td>Darth Vader</td>\n      <td>white</td>\n      <td>[]</td>\n      <td>[http://swapi.dev/api/starships/13/]</td>\n      <td>http://swapi.dev/api/people/4/</td>\n      <td>[]</td>\n    </tr>\n    <tr>\n      <th>4</th>\n      <td>19BBY</td>\n      <td>2014-12-10T15:20:09.791000Z</td>\n      <td>2014-12-20T21:17:50.315000Z</td>\n      <td>brown</td>\n      <td>[http://swapi.dev/api/films/1/, http://swapi.d...</td>\n      <td>female</td>\n      <td>brown</td>\n      <td>150</td>\n      <td>http://swapi.dev/api/planets/2/</td>\n      <td>49</td>\n      <td>Leia Organa</td>\n      <td>light</td>\n      <td>[]</td>\n      <td>[]</td>\n      <td>http://swapi.dev/api/people/5/</td>\n      <td>[http://swapi.dev/api/vehicles/30/]</td>\n    </tr>\n    <tr>\n      <th>5</th>\n      <td>52BBY</td>\n      <td>2014-12-10T15:52:14.024000Z</td>\n      <td>2014-12-20T21:17:50.317000Z</td>\n      <td>blue</td>\n      <td>[http://swapi.dev/api/films/1/, http://swapi.d...</td>\n      <td>male</td>\n      <td>brown, grey</td>\n      <td>178</td>\n      <td>http://swapi.dev/api/planets/1/</td>\n      <td>120</td>\n      <td>Owen Lars</td>\n      <td>light</td>\n      <td>[]</td>\n      <td>[]</td>\n      <td>http://swapi.dev/api/people/6/</td>\n      <td>[]</td>\n    </tr>\n    <tr>\n      <th>6</th>\n      <td>47BBY</td>\n      <td>2014-12-10T15:53:41.121000Z</td>\n      <td>2014-12-20T21:17:50.319000Z</td>\n      <td>blue</td>\n      <td>[http://swapi.dev/api/films/1/, http://swapi.d...</td>\n      <td>female</td>\n      <td>brown</td>\n      <td>165</td>\n      <td>http://swapi.dev/api/planets/1/</td>\n      <td>75</td>\n      <td>Beru Whitesun lars</td>\n      <td>light</td>\n      <td>[]</td>\n      <td>[]</td>\n      <td>http://swapi.dev/api/people/7/</td>\n      <td>[]</td>\n    </tr>\n    <tr>\n      <th>7</th>\n      <td>unknown</td>\n      <td>2014-12-10T15:57:50.959000Z</td>\n      <td>2014-12-20T21:17:50.321000Z</td>\n      <td>red</td>\n      <td>[http://swapi.dev/api/films/1/]</td>\n      <td>n/a</td>\n      <td>n/a</td>\n      <td>97</td>\n      <td>http://swapi.dev/api/planets/1/</td>\n      <td>32</td>\n      <td>R5-D4</td>\n      <td>white, red</td>\n      <td>[http://swapi.dev/api/species/2/]</td>\n      <td>[]</td>\n      <td>http://swapi.dev/api/people/8/</td>\n      <td>[]</td>\n    </tr>\n    <tr>\n      <th>8</th>\n      <td>24BBY</td>\n      <td>2014-12-10T15:59:50.509000Z</td>\n      <td>2014-12-20T21:17:50.323000Z</td>\n      <td>brown</td>\n      <td>[http://swapi.dev/api/films/1/]</td>\n      <td>male</td>\n      <td>black</td>\n      <td>183</td>\n      <td>http://swapi.dev/api/planets/1/</td>\n      <td>84</td>\n      <td>Biggs Darklighter</td>\n      <td>light</td>\n      <td>[]</td>\n      <td>[http://swapi.dev/api/starships/12/]</td>\n      <td>http://swapi.dev/api/people/9/</td>\n      <td>[]</td>\n    </tr>\n    <tr>\n      <th>9</th>\n      <td>57BBY</td>\n      <td>2014-12-10T16:16:29.192000Z</td>\n      <td>2014-12-20T21:17:50.325000Z</td>\n      <td>blue-gray</td>\n      <td>[http://swapi.dev/api/films/1/, http://swapi.d...</td>\n      <td>male</td>\n      <td>auburn, white</td>\n      <td>182</td>\n      <td>http://swapi.dev/api/planets/20/</td>\n      <td>77</td>\n      <td>Obi-Wan Kenobi</td>\n      <td>fair</td>\n      <td>[]</td>\n      <td>[http://swapi.dev/api/starships/48/, http://sw...</td>\n      <td>http://swapi.dev/api/people/10/</td>\n      <td>[http://swapi.dev/api/vehicles/38/]</td>\n    </tr>\n  </tbody>\n</table>\n</div>"
     },
     "metadata": {},
     "execution_count": 32
    }
   ],
   "source": [
    "swapi_films_data"
   ]
  },
  {
   "cell_type": "code",
   "execution_count": null,
   "metadata": {},
   "outputs": [],
   "source": []
  }
 ]
}