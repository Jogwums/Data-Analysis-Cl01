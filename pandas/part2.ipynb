{
 "metadata": {
  "language_info": {
   "codemirror_mode": {
    "name": "ipython",
    "version": 3
   },
   "file_extension": ".py",
   "mimetype": "text/x-python",
   "name": "python",
   "nbconvert_exporter": "python",
   "pygments_lexer": "ipython3",
   "version": "3.7.1-final"
  },
  "orig_nbformat": 2,
  "kernelspec": {
   "name": "python3",
   "display_name": "Python 3",
   "language": "python"
  }
 },
 "nbformat": 4,
 "nbformat_minor": 2,
 "cells": [
  {
   "cell_type": "code",
   "execution_count": 1,
   "metadata": {},
   "outputs": [],
   "source": [
    "import numpy as np\n",
    "import pandas as pd"
   ]
  },
  {
   "cell_type": "code",
   "execution_count": 9,
   "metadata": {},
   "outputs": [],
   "source": [
    "data = pd.read_csv('../datasets/new_dogs.csv')"
   ]
  },
  {
   "cell_type": "code",
   "execution_count": 14,
   "metadata": {},
   "outputs": [
    {
     "output_type": "execute_result",
     "data": {
      "text/plain": [
       "     name       breed   height_cm   weight_kg        d_o_b\n",
       "0  Ginger   Dachshund          22          10   2019-03-14\n",
       "1   Scout   Dalmatian          59          25   2019-05-09\n",
       "2  Marley    Alsasian          56          28   2020-04-08"
      ],
      "text/html": "<div>\n<style scoped>\n    .dataframe tbody tr th:only-of-type {\n        vertical-align: middle;\n    }\n\n    .dataframe tbody tr th {\n        vertical-align: top;\n    }\n\n    .dataframe thead th {\n        text-align: right;\n    }\n</style>\n<table border=\"1\" class=\"dataframe\">\n  <thead>\n    <tr style=\"text-align: right;\">\n      <th></th>\n      <th>name</th>\n      <th>breed</th>\n      <th>height_cm</th>\n      <th>weight_kg</th>\n      <th>d_o_b</th>\n    </tr>\n  </thead>\n  <tbody>\n    <tr>\n      <th>0</th>\n      <td>Ginger</td>\n      <td>Dachshund</td>\n      <td>22</td>\n      <td>10</td>\n      <td>2019-03-14</td>\n    </tr>\n    <tr>\n      <th>1</th>\n      <td>Scout</td>\n      <td>Dalmatian</td>\n      <td>59</td>\n      <td>25</td>\n      <td>2019-05-09</td>\n    </tr>\n    <tr>\n      <th>2</th>\n      <td>Marley</td>\n      <td>Alsasian</td>\n      <td>56</td>\n      <td>28</td>\n      <td>2020-04-08</td>\n    </tr>\n  </tbody>\n</table>\n</div>"
     },
     "metadata": {},
     "execution_count": 14
    }
   ],
   "source": [
    "data"
   ]
  },
  {
   "cell_type": "code",
   "execution_count": 17,
   "metadata": {},
   "outputs": [],
   "source": [
    "new_dogs = data.copy()"
   ]
  },
  {
   "cell_type": "code",
   "execution_count": 18,
   "metadata": {},
   "outputs": [
    {
     "output_type": "execute_result",
     "data": {
      "text/plain": [
       "     name       breed   height_cm   weight_kg        d_o_b\n",
       "0  Ginger   Dachshund          22          10   2019-03-14\n",
       "1   Scout   Dalmatian          59          25   2019-05-09\n",
       "2  Marley    Alsasian          56          28   2020-04-08"
      ],
      "text/html": "<div>\n<style scoped>\n    .dataframe tbody tr th:only-of-type {\n        vertical-align: middle;\n    }\n\n    .dataframe tbody tr th {\n        vertical-align: top;\n    }\n\n    .dataframe thead th {\n        text-align: right;\n    }\n</style>\n<table border=\"1\" class=\"dataframe\">\n  <thead>\n    <tr style=\"text-align: right;\">\n      <th></th>\n      <th>name</th>\n      <th>breed</th>\n      <th>height_cm</th>\n      <th>weight_kg</th>\n      <th>d_o_b</th>\n    </tr>\n  </thead>\n  <tbody>\n    <tr>\n      <th>0</th>\n      <td>Ginger</td>\n      <td>Dachshund</td>\n      <td>22</td>\n      <td>10</td>\n      <td>2019-03-14</td>\n    </tr>\n    <tr>\n      <th>1</th>\n      <td>Scout</td>\n      <td>Dalmatian</td>\n      <td>59</td>\n      <td>25</td>\n      <td>2019-05-09</td>\n    </tr>\n    <tr>\n      <th>2</th>\n      <td>Marley</td>\n      <td>Alsasian</td>\n      <td>56</td>\n      <td>28</td>\n      <td>2020-04-08</td>\n    </tr>\n  </tbody>\n</table>\n</div>"
     },
     "metadata": {},
     "execution_count": 18
    }
   ],
   "source": [
    "new_dogs"
   ]
  },
  {
   "cell_type": "code",
   "execution_count": 19,
   "metadata": {},
   "outputs": [
    {
     "output_type": "execute_result",
     "data": {
      "text/plain": [
       "0    Ginger\n",
       "1     Scout\n",
       "2    Marley\n",
       "Name: name, dtype: object"
      ]
     },
     "metadata": {},
     "execution_count": 19
    }
   ],
   "source": [
    "new_dogs['name']"
   ]
  },
  {
   "cell_type": "code",
   "execution_count": 23,
   "metadata": {},
   "outputs": [
    {
     "output_type": "execute_result",
     "data": {
      "text/plain": [
       "Index(['name', ' breed', ' height_cm', ' weight_kg', ' d_o_b'], dtype='object')"
      ]
     },
     "metadata": {},
     "execution_count": 23
    }
   ],
   "source": [
    "new_dogs.columns"
   ]
  },
  {
   "cell_type": "code",
   "execution_count": 29,
   "metadata": {},
   "outputs": [
    {
     "output_type": "execute_result",
     "data": {
      "text/plain": [
       "0     Dachshund\n",
       "1     Dalmatian\n",
       "2      Alsasian\n",
       "Name:  breed, dtype: object"
      ]
     },
     "metadata": {},
     "execution_count": 29
    }
   ],
   "source": [
    "new_dogs[\" breed\"]"
   ]
  },
  {
   "cell_type": "code",
   "execution_count": 32,
   "metadata": {},
   "outputs": [],
   "source": [
    "#We can add more columns based on a calculations\n",
    "\n",
    "new_dogs[\"bmi\"] = (new_dogs[\" weight_kg\"] / (new_dogs[\" height_cm\"] / 100) ** 2)"
   ]
  },
  {
   "cell_type": "code",
   "execution_count": 33,
   "metadata": {},
   "outputs": [
    {
     "output_type": "execute_result",
     "data": {
      "text/plain": [
       "     name       breed   height_cm   weight_kg        d_o_b         bmi\n",
       "0  Ginger   Dachshund          22          10   2019-03-14  206.611570\n",
       "1   Scout   Dalmatian          59          25   2019-05-09   71.818443\n",
       "2  Marley    Alsasian          56          28   2020-04-08   89.285714"
      ],
      "text/html": "<div>\n<style scoped>\n    .dataframe tbody tr th:only-of-type {\n        vertical-align: middle;\n    }\n\n    .dataframe tbody tr th {\n        vertical-align: top;\n    }\n\n    .dataframe thead th {\n        text-align: right;\n    }\n</style>\n<table border=\"1\" class=\"dataframe\">\n  <thead>\n    <tr style=\"text-align: right;\">\n      <th></th>\n      <th>name</th>\n      <th>breed</th>\n      <th>height_cm</th>\n      <th>weight_kg</th>\n      <th>d_o_b</th>\n      <th>bmi</th>\n    </tr>\n  </thead>\n  <tbody>\n    <tr>\n      <th>0</th>\n      <td>Ginger</td>\n      <td>Dachshund</td>\n      <td>22</td>\n      <td>10</td>\n      <td>2019-03-14</td>\n      <td>206.611570</td>\n    </tr>\n    <tr>\n      <th>1</th>\n      <td>Scout</td>\n      <td>Dalmatian</td>\n      <td>59</td>\n      <td>25</td>\n      <td>2019-05-09</td>\n      <td>71.818443</td>\n    </tr>\n    <tr>\n      <th>2</th>\n      <td>Marley</td>\n      <td>Alsasian</td>\n      <td>56</td>\n      <td>28</td>\n      <td>2020-04-08</td>\n      <td>89.285714</td>\n    </tr>\n  </tbody>\n</table>\n</div>"
     },
     "metadata": {},
     "execution_count": 33
    }
   ],
   "source": [
    "new_dogs"
   ]
  },
  {
   "cell_type": "code",
   "execution_count": 35,
   "metadata": {},
   "outputs": [],
   "source": [
    "#To create a new CSV file with our updates \n",
    "#use the to_csv method"
   ]
  },
  {
   "cell_type": "code",
   "execution_count": 37,
   "metadata": {},
   "outputs": [],
   "source": [
    "new_dogs.to_csv(\"../datasets/new_dogs_with_bmi.csv\")"
   ]
  },
  {
   "cell_type": "code",
   "execution_count": 38,
   "metadata": {},
   "outputs": [],
   "source": [
    "#Inspect the new file created "
   ]
  },
  {
   "cell_type": "code",
   "execution_count": null,
   "metadata": {},
   "outputs": [],
   "source": []
  }
 ]
}