{
 "cells": [
  {
   "cell_type": "markdown",
   "id": "b016240a",
   "metadata": {},
   "source": [
    "# Train and Understand Regression Models "
   ]
  },
  {
   "cell_type": "markdown",
   "id": "7a635c08",
   "metadata": {},
   "source": [
    "Regression is arguably the most widely used machine learning technique, commonly underlying scientific discoveries, business planning, and stock market analytics. This learning material takes a dive into some common regression analyses, both simple and more complex, and provides some insight on how to assess model performance."
   ]
  },
  {
   "cell_type": "markdown",
   "id": "e8331345",
   "metadata": {},
   "source": [
    "Regression is a simple, common, and highly useful data analysis technique, colloquially referred to as “fitting a trend line\". Regression identifies the strength of relationship between one or more features and a single label. Its simplicity, predictable behavior, ability to forecast, and high level of interpretability means this technique is used throughout finance, business, social sciences, epidemiology, and medicine."
   ]
  },
  {
   "cell_type": "markdown",
   "id": "f0abc817",
   "metadata": {},
   "source": [
    "## Scenario: Veterinary Clinic Overrun\n",
    "Throughout this module, we’ll be using the following example scenario to explain the concepts underlying regression. This scenario is designed to provide an example for how you might use this technique when analyzing future data.\n",
    "\n",
    "##### The avalanche-rescue dog charity you run has had a sudden wave of illness. \n",
    "After a day of retraining and some social activities, many dogs you work with have fallen unwell, the main symptom being fever (elevated body temperature). Concerned for the dogs who haven't yet presented with symptoms, your team have collected basic information on the first 100 dogs who fell ill. Your job is to identify which types of dogs have higher risks of illness, so that they can be proactively checked by the vet."
   ]
  },
  {
   "cell_type": "markdown",
   "id": "73563a4e",
   "metadata": {},
   "source": [
    "##### Objectives:\n",
    "In this module, you will:\n",
    "\n",
    "Understand how regression works\n",
    "Work with new algorithms: Linear regression, multiple linear regression, and polynomial regression\n",
    "Understand the strengths and limitations of regression models\n",
    "Visualize error and cost functions in linear regression\n",
    "Understand basic evaluation metrics for regression"
   ]
  },
  {
   "cell_type": "code",
   "execution_count": null,
   "id": "b0e692ef",
   "metadata": {},
   "outputs": [],
   "source": []
  }
 ],
 "metadata": {
  "kernelspec": {
   "display_name": "Python 3",
   "language": "python",
   "name": "python3"
  },
  "language_info": {
   "codemirror_mode": {
    "name": "ipython",
    "version": 3
   },
   "file_extension": ".py",
   "mimetype": "text/x-python",
   "name": "python",
   "nbconvert_exporter": "python",
   "pygments_lexer": "ipython3",
   "version": "3.8.8"
  }
 },
 "nbformat": 4,
 "nbformat_minor": 5
}
