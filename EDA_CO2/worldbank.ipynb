{
 "metadata": {
  "language_info": {
   "codemirror_mode": {
    "name": "ipython",
    "version": 3
   },
   "file_extension": ".py",
   "mimetype": "text/x-python",
   "name": "python",
   "nbconvert_exporter": "python",
   "pygments_lexer": "ipython3",
   "version": "3.9.5"
  },
  "orig_nbformat": 4,
  "kernelspec": {
   "name": "python3",
   "display_name": "Python 3.9.5 64-bit ('_python3.9.5')"
  },
  "interpreter": {
   "hash": "80f73db8be2d90a968913dcb2c1a0cdd375e1068d408fb33aca8a3217f1a3e19"
  }
 },
 "nbformat": 4,
 "nbformat_minor": 2,
 "cells": [
  {
   "cell_type": "code",
   "execution_count": 1,
   "metadata": {},
   "outputs": [
    {
     "output_type": "stream",
     "name": "stdout",
     "text": [
      "Done\n"
     ]
    }
   ],
   "source": [
    "import numpy as np\n",
    "import pandas as pd \n",
    "import matplotlib.pyplot as plt \n",
    "import seaborn as sns \n",
    "\n",
    "%matplotlib inline \n",
    "print(\"Done\")"
   ]
  },
  {
   "cell_type": "code",
   "execution_count": 7,
   "metadata": {},
   "outputs": [],
   "source": [
    "url = \"../datasets/World_Bank_CO2.xlsx\"\n",
    "data = pd.read_excel(url, sheet_name=\"CO2 Data Cleaned\")"
   ]
  },
  {
   "cell_type": "code",
   "execution_count": 9,
   "metadata": {},
   "outputs": [
    {
     "output_type": "execute_result",
     "data": {
      "text/plain": [
       "      Country Code Country Name              Region  Year  CO2 (kt)  \\\n",
       "11125          ZWE     Zimbabwe  Sub-Saharan Africa  2010  9028.154   \n",
       "11126          ZWE     Zimbabwe  Sub-Saharan Africa  2011  9860.563   \n",
       "\n",
       "       CO2 Per Capita (metric tons)  \n",
       "11125                      0.646073  \n",
       "11126                      0.691698  "
      ],
      "text/html": "<div>\n<style scoped>\n    .dataframe tbody tr th:only-of-type {\n        vertical-align: middle;\n    }\n\n    .dataframe tbody tr th {\n        vertical-align: top;\n    }\n\n    .dataframe thead th {\n        text-align: right;\n    }\n</style>\n<table border=\"1\" class=\"dataframe\">\n  <thead>\n    <tr style=\"text-align: right;\">\n      <th></th>\n      <th>Country Code</th>\n      <th>Country Name</th>\n      <th>Region</th>\n      <th>Year</th>\n      <th>CO2 (kt)</th>\n      <th>CO2 Per Capita (metric tons)</th>\n    </tr>\n  </thead>\n  <tbody>\n    <tr>\n      <th>11125</th>\n      <td>ZWE</td>\n      <td>Zimbabwe</td>\n      <td>Sub-Saharan Africa</td>\n      <td>2010</td>\n      <td>9028.154</td>\n      <td>0.646073</td>\n    </tr>\n    <tr>\n      <th>11126</th>\n      <td>ZWE</td>\n      <td>Zimbabwe</td>\n      <td>Sub-Saharan Africa</td>\n      <td>2011</td>\n      <td>9860.563</td>\n      <td>0.691698</td>\n    </tr>\n  </tbody>\n</table>\n</div>"
     },
     "metadata": {},
     "execution_count": 9
    }
   ],
   "source": [
    "data.tail(2)"
   ]
  },
  {
   "cell_type": "code",
   "execution_count": 10,
   "metadata": {},
   "outputs": [
    {
     "output_type": "execute_result",
     "data": {
      "text/plain": [
       "(11127, 6)"
      ]
     },
     "metadata": {},
     "execution_count": 10
    }
   ],
   "source": [
    "data.shape"
   ]
  },
  {
   "cell_type": "code",
   "execution_count": 11,
   "metadata": {},
   "outputs": [
    {
     "output_type": "stream",
     "name": "stdout",
     "text": [
      "<class 'pandas.core.frame.DataFrame'>\nRangeIndex: 11127 entries, 0 to 11126\nData columns (total 6 columns):\n #   Column                        Non-Null Count  Dtype  \n---  ------                        --------------  -----  \n 0   Country Code                  11127 non-null  object \n 1   Country Name                  11127 non-null  object \n 2   Region                        11127 non-null  object \n 3   Year                          11127 non-null  int64  \n 4   CO2 (kt)                      9032 non-null   float64\n 5   CO2 Per Capita (metric tons)  9029 non-null   float64\ndtypes: float64(2), int64(1), object(3)\nmemory usage: 521.7+ KB\n"
     ]
    }
   ],
   "source": [
    "data.info()"
   ]
  },
  {
   "cell_type": "code",
   "execution_count": 13,
   "metadata": {},
   "outputs": [
    {
     "output_type": "execute_result",
     "data": {
      "text/plain": [
       "               Year      CO2 (kt)  CO2 Per Capita (metric tons)\n",
       "count  11127.000000  9.032000e+03                   9029.000000\n",
       "mean    1985.502292  9.860744e+04                      4.340822\n",
       "std       15.007733  4.663998e+05                      7.560692\n",
       "min     1960.000000  3.667000e+00                      0.000580\n",
       "25%     1973.000000  5.940540e+02                      0.348972\n",
       "50%     1986.000000  4.327060e+03                      1.450587\n",
       "75%     1998.500000  3.992446e+04                      5.953205\n",
       "max     2011.000000  9.019518e+06                     99.840439"
      ],
      "text/html": "<div>\n<style scoped>\n    .dataframe tbody tr th:only-of-type {\n        vertical-align: middle;\n    }\n\n    .dataframe tbody tr th {\n        vertical-align: top;\n    }\n\n    .dataframe thead th {\n        text-align: right;\n    }\n</style>\n<table border=\"1\" class=\"dataframe\">\n  <thead>\n    <tr style=\"text-align: right;\">\n      <th></th>\n      <th>Year</th>\n      <th>CO2 (kt)</th>\n      <th>CO2 Per Capita (metric tons)</th>\n    </tr>\n  </thead>\n  <tbody>\n    <tr>\n      <th>count</th>\n      <td>11127.000000</td>\n      <td>9.032000e+03</td>\n      <td>9029.000000</td>\n    </tr>\n    <tr>\n      <th>mean</th>\n      <td>1985.502292</td>\n      <td>9.860744e+04</td>\n      <td>4.340822</td>\n    </tr>\n    <tr>\n      <th>std</th>\n      <td>15.007733</td>\n      <td>4.663998e+05</td>\n      <td>7.560692</td>\n    </tr>\n    <tr>\n      <th>min</th>\n      <td>1960.000000</td>\n      <td>3.667000e+00</td>\n      <td>0.000580</td>\n    </tr>\n    <tr>\n      <th>25%</th>\n      <td>1973.000000</td>\n      <td>5.940540e+02</td>\n      <td>0.348972</td>\n    </tr>\n    <tr>\n      <th>50%</th>\n      <td>1986.000000</td>\n      <td>4.327060e+03</td>\n      <td>1.450587</td>\n    </tr>\n    <tr>\n      <th>75%</th>\n      <td>1998.500000</td>\n      <td>3.992446e+04</td>\n      <td>5.953205</td>\n    </tr>\n    <tr>\n      <th>max</th>\n      <td>2011.000000</td>\n      <td>9.019518e+06</td>\n      <td>99.840439</td>\n    </tr>\n  </tbody>\n</table>\n</div>"
     },
     "metadata": {},
     "execution_count": 13
    }
   ],
   "source": [
    "data.describe()"
   ]
  },
  {
   "cell_type": "code",
   "execution_count": 15,
   "metadata": {},
   "outputs": [
    {
     "output_type": "execute_result",
     "data": {
      "text/plain": [
       "Country Code                       0\n",
       "Country Name                       0\n",
       "Region                             0\n",
       "Year                               0\n",
       "CO2 (kt)                        2095\n",
       "CO2 Per Capita (metric tons)    2098\n",
       "dtype: int64"
      ]
     },
     "metadata": {},
     "execution_count": 15
    }
   ],
   "source": [
    "data.isnull().sum()"
   ]
  },
  {
   "cell_type": "code",
   "execution_count": 16,
   "metadata": {},
   "outputs": [
    {
     "output_type": "execute_result",
     "data": {
      "text/plain": [
       "Index(['Country Code', 'Country Name', 'Region', 'Year', 'CO2 (kt)',\n",
       "       'CO2 Per Capita (metric tons)'],\n",
       "      dtype='object')"
      ]
     },
     "metadata": {},
     "execution_count": 16
    }
   ],
   "source": [
    "data.columns"
   ]
  },
  {
   "cell_type": "code",
   "execution_count": 21,
   "metadata": {},
   "outputs": [
    {
     "output_type": "execute_result",
     "data": {
      "text/plain": [
       "array(['Aruba', 'Andorra', 'Afghanistan', 'Angola', 'Albania',\n",
       "       'United Arab Emirates', 'Argentina', 'Armenia', 'American Samoa',\n",
       "       'Antigua and Barbuda', 'Australia', 'Austria', 'Azerbaijan',\n",
       "       'Burundi', 'Belgium', 'Benin', 'Burkina Faso', 'Bangladesh',\n",
       "       'Bulgaria', 'Bahrain', 'Bahamas, The', 'Bosnia and Herzegovina',\n",
       "       'Belarus', 'Belize', 'Bermuda', 'Bolivia', 'Brazil', 'Barbados',\n",
       "       'Brunei Darussalam', 'Bhutan', 'Botswana',\n",
       "       'Central African Republic', 'Canada', 'Switzerland',\n",
       "       'Channel Islands', 'Chile', 'China', \"Cote d'Ivoire\", 'Cameroon',\n",
       "       'Congo, Rep.', 'Colombia', 'Comoros', 'Cabo Verde', 'Costa Rica',\n",
       "       'Cuba', 'Curacao', 'Cayman Islands', 'Cyprus', 'Czech Republic',\n",
       "       'Germany', 'Djibouti', 'Dominica', 'Denmark', 'Dominican Republic',\n",
       "       'Algeria', 'Ecuador', 'Egypt, Arab Rep.', 'Eritrea', 'Spain',\n",
       "       'Estonia', 'Ethiopia', 'Finland', 'Fiji', 'France',\n",
       "       'Faroe Islands', 'Micronesia, Fed. Sts.', 'Gabon',\n",
       "       'United Kingdom', 'Georgia', 'Ghana', 'Guinea', 'Gambia, The',\n",
       "       'Guinea-Bissau', 'Equatorial Guinea', 'Greece', 'Grenada',\n",
       "       'Greenland', 'Guatemala', 'Guam', 'Guyana', 'Hong Kong SAR, China',\n",
       "       'Honduras', 'Croatia', 'Haiti', 'Hungary', 'Indonesia',\n",
       "       'Isle of Man', 'India', 'Ireland', 'Iran, Islamic Rep.', 'Iraq',\n",
       "       'Iceland', 'Israel', 'Italy', 'Jamaica', 'Jordan', 'Japan',\n",
       "       'Kazakhstan', 'Kenya', 'Kyrgyz Republic', 'Cambodia', 'Kiribati',\n",
       "       'St. Kitts and Nevis', 'Korea, Rep.', 'Kosovo', 'Kuwait',\n",
       "       'Lao PDR', 'Lebanon', 'Liberia', 'Libya', 'St. Lucia',\n",
       "       'Liechtenstein', 'Sri Lanka', 'Lesotho', 'Lithuania', 'Luxembourg',\n",
       "       'Latvia', 'Macao SAR, China', 'St. Martin (French part)',\n",
       "       'Morocco', 'Monaco', 'Moldova', 'Madagascar', 'Maldives', 'Mexico',\n",
       "       'Marshall Islands', 'Macedonia, FYR', 'Mali', 'Malta', 'Myanmar',\n",
       "       'Montenegro', 'Mongolia', 'Northern Mariana Islands', 'Mozambique',\n",
       "       'Mauritania', 'Mauritius', 'Malawi', 'Malaysia', 'Namibia',\n",
       "       'New Caledonia', 'Niger', 'Nigeria', 'Nicaragua', 'Netherlands',\n",
       "       'Norway', 'Nepal', 'New Zealand', 'Oman', 'Pakistan', 'Panama',\n",
       "       'Peru', 'Philippines', 'Palau', 'Papua New Guinea', 'Poland',\n",
       "       'Puerto Rico', 'Korea, Dem. People’s Rep.', 'Portugal', 'Paraguay',\n",
       "       'French Polynesia', 'Qatar', 'Romania', 'Russian Federation',\n",
       "       'Rwanda', 'Saudi Arabia', 'Sudan', 'Senegal', 'Singapore',\n",
       "       'Solomon Islands', 'Sierra Leone', 'El Salvador', 'San Marino',\n",
       "       'Somalia', 'Serbia', 'South Sudan', 'Sao Tome and Principe',\n",
       "       'Suriname', 'Slovak Republic', 'Slovenia', 'Sweden', 'Swaziland',\n",
       "       'Sint Maarten (Dutch part)', 'Seychelles', 'Syrian Arab Republic',\n",
       "       'Turks and Caicos Islands', 'Chad', 'Togo', 'Thailand',\n",
       "       'Tajikistan', 'Turkmenistan', 'Timor-Leste', 'Tonga',\n",
       "       'Trinidad and Tobago', 'Tunisia', 'Turkey', 'Tuvalu', 'Tanzania',\n",
       "       'Uganda', 'Ukraine', 'Uruguay', 'United States', 'Uzbekistan',\n",
       "       'St. Vincent and the Grenadines', 'Venezuela, RB',\n",
       "       'Virgin Islands (U.S.)', 'Vietnam', 'Vanuatu',\n",
       "       'West Bank and Gaza', 'Samoa', 'Yemen, Rep.', 'South Africa',\n",
       "       'Congo, Dem. Rep.', 'Zambia', 'Zimbabwe'], dtype=object)"
      ]
     },
     "metadata": {},
     "execution_count": 21
    }
   ],
   "source": [
    "data[\"Country Name\"].unique()"
   ]
  },
  {
   "cell_type": "code",
   "execution_count": 24,
   "metadata": {},
   "outputs": [
    {
     "output_type": "stream",
     "name": "stdout",
     "text": [
      "There are 214 different countries in this report\n"
     ]
    }
   ],
   "source": [
    "no_countries = len(data[\"Country Name\"].unique())\n",
    "print(f\"There are {no_countries} different countries in this report\")"
   ]
  },
  {
   "cell_type": "code",
   "execution_count": null,
   "metadata": {},
   "outputs": [],
   "source": []
  }
 ]
}