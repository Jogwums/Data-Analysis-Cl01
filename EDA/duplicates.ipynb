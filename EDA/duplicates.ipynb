{
 "metadata": {
  "language_info": {
   "codemirror_mode": {
    "name": "ipython",
    "version": 3
   },
   "file_extension": ".py",
   "mimetype": "text/x-python",
   "name": "python",
   "nbconvert_exporter": "python",
   "pygments_lexer": "ipython3",
   "version": "3.8.5-final"
  },
  "orig_nbformat": 2,
  "kernelspec": {
   "name": "python3",
   "display_name": "Python 3.8.5 64-bit (conda)",
   "metadata": {
    "interpreter": {
     "hash": "707f2f2694b2eef79a2f5b573125f7f7b8598195dad01db7fbfd0f31ea0103dd"
    }
   }
  }
 },
 "nbformat": 4,
 "nbformat_minor": 2,
 "cells": [
  {
   "source": [
    "# Duplicates\n"
   ],
   "cell_type": "markdown",
   "metadata": {}
  },
  {
   "cell_type": "code",
   "execution_count": 2,
   "metadata": {},
   "outputs": [],
   "source": [
    "## checking duplicate values is simple. however the behaviour varies btw Series and DataFrames"
   ]
  },
  {
   "cell_type": "code",
   "execution_count": 3,
   "metadata": {},
   "outputs": [
    {
     "output_type": "stream",
     "name": "stdout",
     "text": [
      "Setup complete\n"
     ]
    }
   ],
   "source": [
    "# set up environment\n",
    "import numpy as np\n",
    "import pandas as pd\n",
    "print(\"Setup complete\")"
   ]
  },
  {
   "cell_type": "code",
   "execution_count": 6,
   "metadata": {},
   "outputs": [],
   "source": [
    "#Series\n",
    "ambassadors = pd.Series([\n",
    "    'France',\n",
    "    'UK',\n",
    "    'UK',\n",
    "    'Italy',\n",
    "    'Germany',\n",
    "    'Germany',\n",
    "    'Germany',\n",
    "], index=[\n",
    "    'Gerad Araud',\n",
    "    'Kim Darroch',\n",
    "    'Peter Westmacott',\n",
    "    'Armando Varricho',\n",
    "    'Peter Witing',\n",
    "    'Peter Amoh',\n",
    "    'Klaus Bergie'\n",
    "])"
   ]
  },
  {
   "cell_type": "code",
   "execution_count": 7,
   "metadata": {},
   "outputs": [
    {
     "output_type": "execute_result",
     "data": {
      "text/plain": [
       "Gerad Araud          France\n",
       "Kim Darroch              UK\n",
       "Peter Westmacott         UK\n",
       "Armando Varricho      Italy\n",
       "Peter Witing        Germany\n",
       "Peter Amoh          Germany\n",
       "Klaus Bergie        Germany\n",
       "dtype: object"
      ]
     },
     "metadata": {},
     "execution_count": 7
    }
   ],
   "source": [
    "ambassadors"
   ]
  },
  {
   "cell_type": "code",
   "execution_count": 8,
   "metadata": {},
   "outputs": [],
   "source": [
    "# duplicated() tells you which values are duplicates\n",
    "# drop_duplicates() just drops the duplicates "
   ]
  },
  {
   "cell_type": "code",
   "execution_count": 9,
   "metadata": {},
   "outputs": [
    {
     "output_type": "execute_result",
     "data": {
      "text/plain": [
       "Gerad Araud         False\n",
       "Kim Darroch         False\n",
       "Peter Westmacott     True\n",
       "Armando Varricho    False\n",
       "Peter Witing        False\n",
       "Peter Amoh           True\n",
       "Klaus Bergie         True\n",
       "dtype: bool"
      ]
     },
     "metadata": {},
     "execution_count": 9
    }
   ],
   "source": [
    "ambassadors.duplicated()"
   ]
  },
  {
   "cell_type": "code",
   "execution_count": 10,
   "metadata": {},
   "outputs": [],
   "source": [
    "# the method checks from top to bottom \n",
    "# duplicated doesnt consider the first occurence by default \n",
    "# kim darroch and peter witing "
   ]
  },
  {
   "cell_type": "code",
   "execution_count": 12,
   "metadata": {},
   "outputs": [
    {
     "output_type": "execute_result",
     "data": {
      "text/plain": [
       "Gerad Araud         False\n",
       "Kim Darroch          True\n",
       "Peter Westmacott    False\n",
       "Armando Varricho    False\n",
       "Peter Witing         True\n",
       "Peter Amoh           True\n",
       "Klaus Bergie        False\n",
       "dtype: bool"
      ]
     },
     "metadata": {},
     "execution_count": 12
    }
   ],
   "source": [
    "# alternatively, use the keep parameter to specify 'first' or 'last' occurence\n",
    "# use keep=False to mark all duplicates  \n",
    "ambassadors.duplicated(keep='last')"
   ]
  },
  {
   "cell_type": "code",
   "execution_count": 14,
   "metadata": {},
   "outputs": [
    {
     "output_type": "execute_result",
     "data": {
      "text/plain": [
       "Gerad Araud         False\n",
       "Kim Darroch          True\n",
       "Peter Westmacott     True\n",
       "Armando Varricho    False\n",
       "Peter Witing         True\n",
       "Peter Amoh           True\n",
       "Klaus Bergie         True\n",
       "dtype: bool"
      ]
     },
     "metadata": {},
     "execution_count": 14
    }
   ],
   "source": [
    "ambassadors.duplicated(keep=False) #tells us all the duplicates "
   ]
  },
  {
   "source": [
    "## Dropping duplicates"
   ],
   "cell_type": "markdown",
   "metadata": {}
  },
  {
   "cell_type": "code",
   "execution_count": 16,
   "metadata": {},
   "outputs": [
    {
     "output_type": "execute_result",
     "data": {
      "text/plain": [
       "Gerad Araud          France\n",
       "Kim Darroch              UK\n",
       "Armando Varricho      Italy\n",
       "Peter Witing        Germany\n",
       "dtype: object"
      ]
     },
     "metadata": {},
     "execution_count": 16
    }
   ],
   "source": [
    "ambassadors.drop_duplicates() # default, keeps the first occurence"
   ]
  },
  {
   "cell_type": "code",
   "execution_count": 17,
   "metadata": {},
   "outputs": [
    {
     "output_type": "execute_result",
     "data": {
      "text/plain": [
       "Gerad Araud          France\n",
       "Peter Westmacott         UK\n",
       "Armando Varricho      Italy\n",
       "Klaus Bergie        Germany\n",
       "dtype: object"
      ]
     },
     "metadata": {},
     "execution_count": 17
    }
   ],
   "source": [
    "ambassadors.drop_duplicates(keep='last')"
   ]
  },
  {
   "cell_type": "code",
   "execution_count": 19,
   "metadata": {},
   "outputs": [
    {
     "output_type": "execute_result",
     "data": {
      "text/plain": [
       "Gerad Araud         France\n",
       "Armando Varricho     Italy\n",
       "dtype: object"
      ]
     },
     "metadata": {},
     "execution_count": 19
    }
   ],
   "source": [
    "ambassadors.drop_duplicates(keep=False) # removes all duplicates"
   ]
  },
  {
   "source": [
    "## Duplicates in DataFrames"
   ],
   "cell_type": "markdown",
   "metadata": {}
  },
  {
   "cell_type": "code",
   "execution_count": 24,
   "metadata": {},
   "outputs": [],
   "source": [
    "players = pd.DataFrame({\n",
    "    'Name': [\n",
    "        'Christiano Ronaldo',\n",
    "        'Lionel Mercy',\n",
    "        'Thiago Silver',\n",
    "        'Lionel Mercy',\n",
    "        'Lukaku',\n",
    "        'Lionel Mercy'\n",
    "    ],\n",
    "    'Pos': [\n",
    "        'FW',\n",
    "        'FW',\n",
    "        'GK',\n",
    "        'FW',\n",
    "        'ST',\n",
    "        'ST'\n",
    "    ]\n",
    "})"
   ]
  },
  {
   "cell_type": "code",
   "execution_count": 23,
   "metadata": {},
   "outputs": [
    {
     "output_type": "execute_result",
     "data": {
      "text/plain": [
       "                 Name Pos\n",
       "0  Christiano Ronaldo  FW\n",
       "1        Lionel Mercy  FW\n",
       "2       Thiago Silver  GK\n",
       "3        Lionel Mercy  FW\n",
       "4              Lukaku  ST\n",
       "5        Lionel Mercy  ST"
      ],
      "text/html": "<div>\n<style scoped>\n    .dataframe tbody tr th:only-of-type {\n        vertical-align: middle;\n    }\n\n    .dataframe tbody tr th {\n        vertical-align: top;\n    }\n\n    .dataframe thead th {\n        text-align: right;\n    }\n</style>\n<table border=\"1\" class=\"dataframe\">\n  <thead>\n    <tr style=\"text-align: right;\">\n      <th></th>\n      <th>Name</th>\n      <th>Pos</th>\n    </tr>\n  </thead>\n  <tbody>\n    <tr>\n      <th>0</th>\n      <td>Christiano Ronaldo</td>\n      <td>FW</td>\n    </tr>\n    <tr>\n      <th>1</th>\n      <td>Lionel Mercy</td>\n      <td>FW</td>\n    </tr>\n    <tr>\n      <th>2</th>\n      <td>Thiago Silver</td>\n      <td>GK</td>\n    </tr>\n    <tr>\n      <th>3</th>\n      <td>Lionel Mercy</td>\n      <td>FW</td>\n    </tr>\n    <tr>\n      <th>4</th>\n      <td>Lukaku</td>\n      <td>ST</td>\n    </tr>\n    <tr>\n      <th>5</th>\n      <td>Lionel Mercy</td>\n      <td>ST</td>\n    </tr>\n  </tbody>\n</table>\n</div>"
     },
     "metadata": {},
     "execution_count": 23
    }
   ],
   "source": [
    "df # Aside from duplication in the names, there is also duplication in the positions \n",
    "# the dataframe can treat each column differently "
   ]
  },
  {
   "cell_type": "code",
   "execution_count": 27,
   "metadata": {},
   "outputs": [
    {
     "output_type": "execute_result",
     "data": {
      "text/plain": [
       "0    False\n",
       "1    False\n",
       "2    False\n",
       "3     True\n",
       "4    False\n",
       "5    False\n",
       "dtype: bool"
      ]
     },
     "metadata": {},
     "execution_count": 27
    }
   ],
   "source": [
    "players.duplicated() #this matched both columns to check \n",
    "# notice the last columns is slightly different from the 1 and 3\n",
    "# between 1 and 3, 3 is the duplicate "
   ]
  },
  {
   "cell_type": "code",
   "execution_count": 28,
   "metadata": {},
   "outputs": [
    {
     "output_type": "execute_result",
     "data": {
      "text/plain": [
       "0    False\n",
       "1    False\n",
       "2    False\n",
       "3     True\n",
       "4    False\n",
       "5     True\n",
       "dtype: bool"
      ]
     },
     "metadata": {},
     "execution_count": 28
    }
   ],
   "source": [
    "players.duplicated(subset=[\"Name\"])"
   ]
  },
  {
   "cell_type": "code",
   "execution_count": 29,
   "metadata": {},
   "outputs": [
    {
     "output_type": "execute_result",
     "data": {
      "text/plain": [
       "0    False\n",
       "1     True\n",
       "2    False\n",
       "3     True\n",
       "4    False\n",
       "5    False\n",
       "dtype: bool"
      ]
     },
     "metadata": {},
     "execution_count": 29
    }
   ],
   "source": [
    "players.duplicated(subset=[\"Name\"], keep='last')"
   ]
  },
  {
   "cell_type": "code",
   "execution_count": 31,
   "metadata": {},
   "outputs": [
    {
     "output_type": "execute_result",
     "data": {
      "text/plain": [
       "                 Name Pos\n",
       "0  Christiano Ronaldo  FW\n",
       "1        Lionel Mercy  FW\n",
       "2       Thiago Silver  GK\n",
       "4              Lukaku  ST\n",
       "5        Lionel Mercy  ST"
      ],
      "text/html": "<div>\n<style scoped>\n    .dataframe tbody tr th:only-of-type {\n        vertical-align: middle;\n    }\n\n    .dataframe tbody tr th {\n        vertical-align: top;\n    }\n\n    .dataframe thead th {\n        text-align: right;\n    }\n</style>\n<table border=\"1\" class=\"dataframe\">\n  <thead>\n    <tr style=\"text-align: right;\">\n      <th></th>\n      <th>Name</th>\n      <th>Pos</th>\n    </tr>\n  </thead>\n  <tbody>\n    <tr>\n      <th>0</th>\n      <td>Christiano Ronaldo</td>\n      <td>FW</td>\n    </tr>\n    <tr>\n      <th>1</th>\n      <td>Lionel Mercy</td>\n      <td>FW</td>\n    </tr>\n    <tr>\n      <th>2</th>\n      <td>Thiago Silver</td>\n      <td>GK</td>\n    </tr>\n    <tr>\n      <th>4</th>\n      <td>Lukaku</td>\n      <td>ST</td>\n    </tr>\n    <tr>\n      <th>5</th>\n      <td>Lionel Mercy</td>\n      <td>ST</td>\n    </tr>\n  </tbody>\n</table>\n</div>"
     },
     "metadata": {},
     "execution_count": 31
    }
   ],
   "source": [
    "# drop duplicates \n",
    "#works the same way\n",
    "\n",
    "players.drop_duplicates()"
   ]
  },
  {
   "cell_type": "code",
   "execution_count": null,
   "metadata": {},
   "outputs": [],
   "source": []
  }
 ]
}