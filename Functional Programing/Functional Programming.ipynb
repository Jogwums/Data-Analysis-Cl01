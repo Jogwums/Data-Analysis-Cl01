{
 "cells": [
  {
   "cell_type": "code",
   "execution_count": 1,
   "id": "korean-backup",
   "metadata": {},
   "outputs": [],
   "source": [
    "#using functions in py"
   ]
  },
  {
   "cell_type": "code",
   "execution_count": 2,
   "id": "reverse-malawi",
   "metadata": {},
   "outputs": [
    {
     "data": {
      "text/plain": [
       "['chicken', 'cow', 'duck', 'goat', 'pig', 'turkey']"
      ]
     },
     "execution_count": 2,
     "metadata": {},
     "output_type": "execute_result"
    }
   ],
   "source": [
    "#callback functions\n",
    "#e.g sorted()\n",
    "\n",
    "animals = [\"cow\", \"goat\", \"pig\",\"chicken\", \"turkey\", \"duck\"]\n",
    "sorted(animals)"
   ]
  },
  {
   "cell_type": "code",
   "execution_count": 3,
   "id": "korean-building",
   "metadata": {},
   "outputs": [],
   "source": [
    "#sorts based on lexical order (A,B,C...)"
   ]
  },
  {
   "cell_type": "code",
   "execution_count": 4,
   "id": "sudden-april",
   "metadata": {},
   "outputs": [
    {
     "data": {
      "text/plain": [
       "['cow', 'pig', 'goat', 'duck', 'turkey', 'chicken']"
      ]
     },
     "execution_count": 4,
     "metadata": {},
     "output_type": "execute_result"
    }
   ],
   "source": [
    "#adjust the sort with optional args \n",
    "sorted(animals, key=len)"
   ]
  },
  {
   "cell_type": "code",
   "execution_count": 5,
   "id": "burning-financing",
   "metadata": {},
   "outputs": [],
   "source": [
    "#sorts based on length of word "
   ]
  },
  {
   "cell_type": "code",
   "execution_count": 6,
   "id": "centered-jaguar",
   "metadata": {},
   "outputs": [
    {
     "data": {
      "text/plain": [
       "['turkey', 'pig', 'goat', 'duck', 'cow', 'chicken']"
      ]
     },
     "execution_count": 6,
     "metadata": {},
     "output_type": "execute_result"
    }
   ],
   "source": [
    "#optional arg 2 reverse\n",
    "sorted(animals, reverse=True)"
   ]
  },
  {
   "cell_type": "code",
   "execution_count": 7,
   "id": "naughty-terminology",
   "metadata": {},
   "outputs": [
    {
     "data": {
      "text/plain": [
       "['chicken', 'turkey', 'goat', 'duck', 'cow', 'pig']"
      ]
     },
     "execution_count": 7,
     "metadata": {},
     "output_type": "execute_result"
    }
   ],
   "source": [
    "sorted(animals, key=len, reverse=True) #here we are using the lenght but rversing it as well"
   ]
  },
  {
   "cell_type": "code",
   "execution_count": 10,
   "id": "conservative-spare",
   "metadata": {},
   "outputs": [
    {
     "name": "stdout",
     "output_type": "stream",
     "text": [
      "['chicken', 'turkey', 'goat', 'duck', 'cow', 'pig']\n",
      "['chicken', 'turkey', 'goat', 'duck', 'cow', 'pig']\n"
     ]
    }
   ],
   "source": [
    "#defining a callback function to use \n",
    "animals = [\"cow\", \"goat\", \"pig\",\"chicken\", \"turkey\", \"duck\"]\n",
    "print(sorted(animals, key=len, reverse=True))\n",
    "\n",
    "def reverse_len(s):\n",
    "    return -len(s)\n",
    "\n",
    "print(sorted(animals, key=reverse_len)) #here we are using a callback function "
   ]
  },
  {
   "cell_type": "code",
   "execution_count": 11,
   "id": "accepting-creativity",
   "metadata": {},
   "outputs": [],
   "source": [
    "#you can pass a function to another function as an argument\n",
    "#a function can also specify another function as it's return value "
   ]
  },
  {
   "cell_type": "code",
   "execution_count": 15,
   "id": "stuck-acrylic",
   "metadata": {},
   "outputs": [
    {
     "name": "stdout",
     "output_type": "stream",
     "text": [
      "<function outerFunc.<locals>.innerFunc at 0x7ff2dbc171f0>\n",
      "I am the inner function\n",
      "None\n",
      "I am the inner function\n",
      "None\n"
     ]
    }
   ],
   "source": [
    "def outerFunc():\n",
    "    def innerFunc():\n",
    "        print(\"I am the inner function\")\n",
    "    \n",
    "    #function outer returns function inner\n",
    "    return innerFunc\n",
    "\n",
    "function = outerFunc()\n",
    "print(function)\n",
    "\n",
    "print(function())\n",
    "\n",
    "print(outerFunc()())"
   ]
  },
  {
   "cell_type": "markdown",
   "id": "hourly-stick",
   "metadata": {},
   "source": [
    "# Defining an anoymouse Function with Lambda"
   ]
  },
  {
   "cell_type": "code",
   "execution_count": 16,
   "id": "variable-outreach",
   "metadata": {},
   "outputs": [],
   "source": [
    "#an anonymous function is a function without a 'name'\n",
    "# normaly you use the def keyword followed by the function name to define the a function\n",
    "# However, using  a lambda expression, we can define an anonymouse function "
   ]
  },
  {
   "cell_type": "code",
   "execution_count": 17,
   "id": "unlike-check",
   "metadata": {},
   "outputs": [],
   "source": [
    "#syntax: lambda <parameter_list> : <expression>\n",
    "#summary: lambda - keyword that introduces a lambda expression \n",
    "#       : <parameter_list> - an optional comma seperated list of parameter names \n",
    "#       : punctuation the separates  <parameter_list> from <expression>\n",
    "#       : <expression> - an expression usually involving the names in <parameter_list>"
   ]
  },
  {
   "cell_type": "code",
   "execution_count": 18,
   "id": "smoking-visibility",
   "metadata": {},
   "outputs": [
    {
     "data": {
      "text/plain": [
       "<function __main__.<lambda>(s)>"
      ]
     },
     "execution_count": 18,
     "metadata": {},
     "output_type": "execute_result"
    }
   ],
   "source": [
    "#Example \n",
    "lambda s: s[::-1]"
   ]
  },
  {
   "cell_type": "code",
   "execution_count": 19,
   "id": "secondary-mistress",
   "metadata": {},
   "outputs": [
    {
     "data": {
      "text/plain": [
       "True"
      ]
     },
     "execution_count": 19,
     "metadata": {},
     "output_type": "execute_result"
    }
   ],
   "source": [
    "callable(lambda s: s[::-1])"
   ]
  },
  {
   "cell_type": "code",
   "execution_count": 20,
   "id": "headed-halloween",
   "metadata": {},
   "outputs": [
    {
     "data": {
      "text/plain": [
       "'nohtyp evol I'"
      ]
     },
     "execution_count": 20,
     "metadata": {},
     "output_type": "execute_result"
    }
   ],
   "source": [
    "#The object created by a lambda expression is a first class citizen in python, just like strings and nos\n",
    "#therefore you can assign it to a variable and call the function using that name. \n",
    "reverse = lambda s: s[::-1]\n",
    "\n",
    "reverse(\"I love python\")"
   ]
  },
  {
   "cell_type": "code",
   "execution_count": null,
   "id": "lesser-thumb",
   "metadata": {},
   "outputs": [],
   "source": []
  }
 ],
 "metadata": {
  "kernelspec": {
   "display_name": "Python 3",
   "language": "python",
   "name": "python3"
  },
  "language_info": {
   "codemirror_mode": {
    "name": "ipython",
    "version": 3
   },
   "file_extension": ".py",
   "mimetype": "text/x-python",
   "name": "python",
   "nbconvert_exporter": "python",
   "pygments_lexer": "ipython3",
   "version": "3.8.5"
  }
 },
 "nbformat": 4,
 "nbformat_minor": 5
}
