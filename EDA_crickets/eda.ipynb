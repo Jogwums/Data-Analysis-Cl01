{
 "metadata": {
  "language_info": {
   "codemirror_mode": {
    "name": "ipython",
    "version": 3
   },
   "file_extension": ".py",
   "mimetype": "text/x-python",
   "name": "python",
   "nbconvert_exporter": "python",
   "pygments_lexer": "ipython3",
   "version": "3.9.1"
  },
  "orig_nbformat": 2,
  "kernelspec": {
   "name": "python391jvsc74a57bd0b1ee877665787ef736d896fd412d6716aab4e647147ff7517dc995e63a594f98",
   "display_name": "Python 3.9.1 64-bit"
  }
 },
 "nbformat": 4,
 "nbformat_minor": 2,
 "cells": [
  {
   "cell_type": "code",
   "execution_count": 1,
   "metadata": {},
   "outputs": [
    {
     "output_type": "stream",
     "name": "stdout",
     "text": [
      "Done\n"
     ]
    }
   ],
   "source": [
    "import numpy as np\n",
    "import pandas as pd \n",
    "import matplotlib.pyplot as plt \n",
    "import seaborn as sns \n",
    "\n",
    "%matplotlib inline \n",
    "print(\"Done\")"
   ]
  },
  {
   "cell_type": "code",
   "execution_count": 24,
   "metadata": {},
   "outputs": [],
   "source": [
    "# load the data \n",
    "url = \"../datasets/ICF_data/IPL Ball-by-Ball 2008-2020.csv\"\n",
    "url2 = \"../datasets/ICF_data/IPL Matches 2008-2020.csv\"\n",
    "\n",
    "match_data = pd.read_csv(url2)\n",
    "ball_data = pd.read_csv(url)"
   ]
  },
  {
   "cell_type": "code",
   "execution_count": 25,
   "metadata": {},
   "outputs": [
    {
     "output_type": "execute_result",
     "data": {
      "text/plain": [
       "       id        city        date player_of_match  \\\n",
       "0  335982   Bangalore  2008-04-18     BB McCullum   \n",
       "1  335983  Chandigarh  2008-04-19      MEK Hussey   \n",
       "2  335984       Delhi  2008-04-19     MF Maharoof   \n",
       "3  335985      Mumbai  2008-04-20      MV Boucher   \n",
       "4  335986     Kolkata  2008-04-20       DJ Hussey   \n",
       "\n",
       "                                        venue  neutral_venue  \\\n",
       "0                       M Chinnaswamy Stadium              0   \n",
       "1  Punjab Cricket Association Stadium, Mohali              0   \n",
       "2                            Feroz Shah Kotla              0   \n",
       "3                            Wankhede Stadium              0   \n",
       "4                                Eden Gardens              0   \n",
       "\n",
       "                         team1                        team2  \\\n",
       "0  Royal Challengers Bangalore        Kolkata Knight Riders   \n",
       "1              Kings XI Punjab          Chennai Super Kings   \n",
       "2             Delhi Daredevils             Rajasthan Royals   \n",
       "3               Mumbai Indians  Royal Challengers Bangalore   \n",
       "4        Kolkata Knight Riders              Deccan Chargers   \n",
       "\n",
       "                   toss_winner toss_decision                       winner  \\\n",
       "0  Royal Challengers Bangalore         field        Kolkata Knight Riders   \n",
       "1          Chennai Super Kings           bat          Chennai Super Kings   \n",
       "2             Rajasthan Royals           bat             Delhi Daredevils   \n",
       "3               Mumbai Indians           bat  Royal Challengers Bangalore   \n",
       "4              Deccan Chargers           bat        Kolkata Knight Riders   \n",
       "\n",
       "    result  result_margin eliminator method    umpire1         umpire2  \n",
       "0     runs          140.0          N    NaN  Asad Rauf     RE Koertzen  \n",
       "1     runs           33.0          N    NaN  MR Benson      SL Shastri  \n",
       "2  wickets            9.0          N    NaN  Aleem Dar  GA Pratapkumar  \n",
       "3  wickets            5.0          N    NaN   SJ Davis       DJ Harper  \n",
       "4  wickets            5.0          N    NaN  BF Bowden     K Hariharan  "
      ],
      "text/html": "<div>\n<style scoped>\n    .dataframe tbody tr th:only-of-type {\n        vertical-align: middle;\n    }\n\n    .dataframe tbody tr th {\n        vertical-align: top;\n    }\n\n    .dataframe thead th {\n        text-align: right;\n    }\n</style>\n<table border=\"1\" class=\"dataframe\">\n  <thead>\n    <tr style=\"text-align: right;\">\n      <th></th>\n      <th>id</th>\n      <th>city</th>\n      <th>date</th>\n      <th>player_of_match</th>\n      <th>venue</th>\n      <th>neutral_venue</th>\n      <th>team1</th>\n      <th>team2</th>\n      <th>toss_winner</th>\n      <th>toss_decision</th>\n      <th>winner</th>\n      <th>result</th>\n      <th>result_margin</th>\n      <th>eliminator</th>\n      <th>method</th>\n      <th>umpire1</th>\n      <th>umpire2</th>\n    </tr>\n  </thead>\n  <tbody>\n    <tr>\n      <th>0</th>\n      <td>335982</td>\n      <td>Bangalore</td>\n      <td>2008-04-18</td>\n      <td>BB McCullum</td>\n      <td>M Chinnaswamy Stadium</td>\n      <td>0</td>\n      <td>Royal Challengers Bangalore</td>\n      <td>Kolkata Knight Riders</td>\n      <td>Royal Challengers Bangalore</td>\n      <td>field</td>\n      <td>Kolkata Knight Riders</td>\n      <td>runs</td>\n      <td>140.0</td>\n      <td>N</td>\n      <td>NaN</td>\n      <td>Asad Rauf</td>\n      <td>RE Koertzen</td>\n    </tr>\n    <tr>\n      <th>1</th>\n      <td>335983</td>\n      <td>Chandigarh</td>\n      <td>2008-04-19</td>\n      <td>MEK Hussey</td>\n      <td>Punjab Cricket Association Stadium, Mohali</td>\n      <td>0</td>\n      <td>Kings XI Punjab</td>\n      <td>Chennai Super Kings</td>\n      <td>Chennai Super Kings</td>\n      <td>bat</td>\n      <td>Chennai Super Kings</td>\n      <td>runs</td>\n      <td>33.0</td>\n      <td>N</td>\n      <td>NaN</td>\n      <td>MR Benson</td>\n      <td>SL Shastri</td>\n    </tr>\n    <tr>\n      <th>2</th>\n      <td>335984</td>\n      <td>Delhi</td>\n      <td>2008-04-19</td>\n      <td>MF Maharoof</td>\n      <td>Feroz Shah Kotla</td>\n      <td>0</td>\n      <td>Delhi Daredevils</td>\n      <td>Rajasthan Royals</td>\n      <td>Rajasthan Royals</td>\n      <td>bat</td>\n      <td>Delhi Daredevils</td>\n      <td>wickets</td>\n      <td>9.0</td>\n      <td>N</td>\n      <td>NaN</td>\n      <td>Aleem Dar</td>\n      <td>GA Pratapkumar</td>\n    </tr>\n    <tr>\n      <th>3</th>\n      <td>335985</td>\n      <td>Mumbai</td>\n      <td>2008-04-20</td>\n      <td>MV Boucher</td>\n      <td>Wankhede Stadium</td>\n      <td>0</td>\n      <td>Mumbai Indians</td>\n      <td>Royal Challengers Bangalore</td>\n      <td>Mumbai Indians</td>\n      <td>bat</td>\n      <td>Royal Challengers Bangalore</td>\n      <td>wickets</td>\n      <td>5.0</td>\n      <td>N</td>\n      <td>NaN</td>\n      <td>SJ Davis</td>\n      <td>DJ Harper</td>\n    </tr>\n    <tr>\n      <th>4</th>\n      <td>335986</td>\n      <td>Kolkata</td>\n      <td>2008-04-20</td>\n      <td>DJ Hussey</td>\n      <td>Eden Gardens</td>\n      <td>0</td>\n      <td>Kolkata Knight Riders</td>\n      <td>Deccan Chargers</td>\n      <td>Deccan Chargers</td>\n      <td>bat</td>\n      <td>Kolkata Knight Riders</td>\n      <td>wickets</td>\n      <td>5.0</td>\n      <td>N</td>\n      <td>NaN</td>\n      <td>BF Bowden</td>\n      <td>K Hariharan</td>\n    </tr>\n  </tbody>\n</table>\n</div>"
     },
     "metadata": {},
     "execution_count": 25
    }
   ],
   "source": [
    "match_data.head()"
   ]
  },
  {
   "cell_type": "code",
   "execution_count": 26,
   "metadata": {},
   "outputs": [
    {
     "output_type": "execute_result",
     "data": {
      "text/plain": [
       "       id  inning  over  ball      batsman  non_striker     bowler  \\\n",
       "0  335982       1     6     5   RT Ponting  BB McCullum  AA Noffke   \n",
       "1  335982       1     6     6  BB McCullum   RT Ponting  AA Noffke   \n",
       "2  335982       1     7     1  BB McCullum   RT Ponting     Z Khan   \n",
       "3  335982       1     7     2  BB McCullum   RT Ponting     Z Khan   \n",
       "4  335982       1     7     3   RT Ponting  BB McCullum     Z Khan   \n",
       "\n",
       "   batsman_runs  extra_runs  total_runs  non_boundary  is_wicket  \\\n",
       "0             1           0           1             0          0   \n",
       "1             1           0           1             0          0   \n",
       "2             0           0           0             0          0   \n",
       "3             1           0           1             0          0   \n",
       "4             1           0           1             0          0   \n",
       "\n",
       "  dismissal_kind player_dismissed fielder extras_type           batting_team  \\\n",
       "0            NaN              NaN     NaN         NaN  Kolkata Knight Riders   \n",
       "1            NaN              NaN     NaN         NaN  Kolkata Knight Riders   \n",
       "2            NaN              NaN     NaN         NaN  Kolkata Knight Riders   \n",
       "3            NaN              NaN     NaN         NaN  Kolkata Knight Riders   \n",
       "4            NaN              NaN     NaN         NaN  Kolkata Knight Riders   \n",
       "\n",
       "                  bowling_team  \n",
       "0  Royal Challengers Bangalore  \n",
       "1  Royal Challengers Bangalore  \n",
       "2  Royal Challengers Bangalore  \n",
       "3  Royal Challengers Bangalore  \n",
       "4  Royal Challengers Bangalore  "
      ],
      "text/html": "<div>\n<style scoped>\n    .dataframe tbody tr th:only-of-type {\n        vertical-align: middle;\n    }\n\n    .dataframe tbody tr th {\n        vertical-align: top;\n    }\n\n    .dataframe thead th {\n        text-align: right;\n    }\n</style>\n<table border=\"1\" class=\"dataframe\">\n  <thead>\n    <tr style=\"text-align: right;\">\n      <th></th>\n      <th>id</th>\n      <th>inning</th>\n      <th>over</th>\n      <th>ball</th>\n      <th>batsman</th>\n      <th>non_striker</th>\n      <th>bowler</th>\n      <th>batsman_runs</th>\n      <th>extra_runs</th>\n      <th>total_runs</th>\n      <th>non_boundary</th>\n      <th>is_wicket</th>\n      <th>dismissal_kind</th>\n      <th>player_dismissed</th>\n      <th>fielder</th>\n      <th>extras_type</th>\n      <th>batting_team</th>\n      <th>bowling_team</th>\n    </tr>\n  </thead>\n  <tbody>\n    <tr>\n      <th>0</th>\n      <td>335982</td>\n      <td>1</td>\n      <td>6</td>\n      <td>5</td>\n      <td>RT Ponting</td>\n      <td>BB McCullum</td>\n      <td>AA Noffke</td>\n      <td>1</td>\n      <td>0</td>\n      <td>1</td>\n      <td>0</td>\n      <td>0</td>\n      <td>NaN</td>\n      <td>NaN</td>\n      <td>NaN</td>\n      <td>NaN</td>\n      <td>Kolkata Knight Riders</td>\n      <td>Royal Challengers Bangalore</td>\n    </tr>\n    <tr>\n      <th>1</th>\n      <td>335982</td>\n      <td>1</td>\n      <td>6</td>\n      <td>6</td>\n      <td>BB McCullum</td>\n      <td>RT Ponting</td>\n      <td>AA Noffke</td>\n      <td>1</td>\n      <td>0</td>\n      <td>1</td>\n      <td>0</td>\n      <td>0</td>\n      <td>NaN</td>\n      <td>NaN</td>\n      <td>NaN</td>\n      <td>NaN</td>\n      <td>Kolkata Knight Riders</td>\n      <td>Royal Challengers Bangalore</td>\n    </tr>\n    <tr>\n      <th>2</th>\n      <td>335982</td>\n      <td>1</td>\n      <td>7</td>\n      <td>1</td>\n      <td>BB McCullum</td>\n      <td>RT Ponting</td>\n      <td>Z Khan</td>\n      <td>0</td>\n      <td>0</td>\n      <td>0</td>\n      <td>0</td>\n      <td>0</td>\n      <td>NaN</td>\n      <td>NaN</td>\n      <td>NaN</td>\n      <td>NaN</td>\n      <td>Kolkata Knight Riders</td>\n      <td>Royal Challengers Bangalore</td>\n    </tr>\n    <tr>\n      <th>3</th>\n      <td>335982</td>\n      <td>1</td>\n      <td>7</td>\n      <td>2</td>\n      <td>BB McCullum</td>\n      <td>RT Ponting</td>\n      <td>Z Khan</td>\n      <td>1</td>\n      <td>0</td>\n      <td>1</td>\n      <td>0</td>\n      <td>0</td>\n      <td>NaN</td>\n      <td>NaN</td>\n      <td>NaN</td>\n      <td>NaN</td>\n      <td>Kolkata Knight Riders</td>\n      <td>Royal Challengers Bangalore</td>\n    </tr>\n    <tr>\n      <th>4</th>\n      <td>335982</td>\n      <td>1</td>\n      <td>7</td>\n      <td>3</td>\n      <td>RT Ponting</td>\n      <td>BB McCullum</td>\n      <td>Z Khan</td>\n      <td>1</td>\n      <td>0</td>\n      <td>1</td>\n      <td>0</td>\n      <td>0</td>\n      <td>NaN</td>\n      <td>NaN</td>\n      <td>NaN</td>\n      <td>NaN</td>\n      <td>Kolkata Knight Riders</td>\n      <td>Royal Challengers Bangalore</td>\n    </tr>\n  </tbody>\n</table>\n</div>"
     },
     "metadata": {},
     "execution_count": 26
    }
   ],
   "source": [
    "ball_data.head()"
   ]
  },
  {
   "cell_type": "code",
   "execution_count": 27,
   "metadata": {},
   "outputs": [
    {
     "output_type": "execute_result",
     "data": {
      "text/plain": [
       "(816, 17)"
      ]
     },
     "metadata": {},
     "execution_count": 27
    }
   ],
   "source": [
    "# check the shape \n",
    "match_data.shape"
   ]
  },
  {
   "cell_type": "code",
   "execution_count": 28,
   "metadata": {},
   "outputs": [
    {
     "output_type": "execute_result",
     "data": {
      "text/plain": [
       "(193468, 18)"
      ]
     },
     "metadata": {},
     "execution_count": 28
    }
   ],
   "source": [
    "ball_data.shape"
   ]
  },
  {
   "source": [
    "## check for null values "
   ],
   "cell_type": "markdown",
   "metadata": {}
  },
  {
   "cell_type": "code",
   "execution_count": 29,
   "metadata": {},
   "outputs": [
    {
     "output_type": "execute_result",
     "data": {
      "text/plain": [
       "id                       0\n",
       "inning                   0\n",
       "over                     0\n",
       "ball                     0\n",
       "batsman                  0\n",
       "non_striker              0\n",
       "bowler                   0\n",
       "batsman_runs             0\n",
       "extra_runs               0\n",
       "total_runs               0\n",
       "non_boundary             0\n",
       "is_wicket                0\n",
       "dismissal_kind      183973\n",
       "player_dismissed    183973\n",
       "fielder             186684\n",
       "extras_type         183235\n",
       "batting_team             0\n",
       "bowling_team           191\n",
       "dtype: int64"
      ]
     },
     "metadata": {},
     "execution_count": 29
    }
   ],
   "source": [
    "ball_data.isnull().sum()"
   ]
  },
  {
   "cell_type": "code",
   "execution_count": 9,
   "metadata": {},
   "outputs": [],
   "source": [
    "# shows the columns with null values"
   ]
  },
  {
   "cell_type": "code",
   "execution_count": 30,
   "metadata": {},
   "outputs": [
    {
     "output_type": "execute_result",
     "data": {
      "text/plain": [
       "id                   0\n",
       "city                13\n",
       "date                 0\n",
       "player_of_match      4\n",
       "venue                0\n",
       "neutral_venue        0\n",
       "team1                0\n",
       "team2                0\n",
       "toss_winner          0\n",
       "toss_decision        0\n",
       "winner               4\n",
       "result               4\n",
       "result_margin       17\n",
       "eliminator           4\n",
       "method             797\n",
       "umpire1              0\n",
       "umpire2              0\n",
       "dtype: int64"
      ]
     },
     "metadata": {},
     "execution_count": 30
    }
   ],
   "source": [
    "match_data.isnull().sum()"
   ]
  },
  {
   "cell_type": "code",
   "execution_count": 31,
   "metadata": {},
   "outputs": [],
   "source": [
    "# lots of null values are present in the ball data "
   ]
  },
  {
   "cell_type": "code",
   "execution_count": 32,
   "metadata": {},
   "outputs": [],
   "source": [
    "# we can delete the affected columns entirely or rows "
   ]
  },
  {
   "cell_type": "code",
   "execution_count": 33,
   "metadata": {},
   "outputs": [
    {
     "output_type": "execute_result",
     "data": {
      "text/plain": [
       "Index(['id', 'city', 'date', 'player_of_match', 'venue', 'neutral_venue',\n",
       "       'team1', 'team2', 'toss_winner', 'toss_decision', 'winner', 'result',\n",
       "       'result_margin', 'eliminator', 'method', 'umpire1', 'umpire2'],\n",
       "      dtype='object')"
      ]
     },
     "metadata": {},
     "execution_count": 33
    }
   ],
   "source": [
    "match_data.columns"
   ]
  },
  {
   "cell_type": "code",
   "execution_count": 34,
   "metadata": {},
   "outputs": [
    {
     "output_type": "execute_result",
     "data": {
      "text/plain": [
       "Index(['id', 'inning', 'over', 'ball', 'batsman', 'non_striker', 'bowler',\n",
       "       'batsman_runs', 'extra_runs', 'total_runs', 'non_boundary', 'is_wicket',\n",
       "       'dismissal_kind', 'player_dismissed', 'fielder', 'extras_type',\n",
       "       'batting_team', 'bowling_team'],\n",
       "      dtype='object')"
      ]
     },
     "metadata": {},
     "execution_count": 34
    }
   ],
   "source": [
    "ball_data.columns"
   ]
  },
  {
   "cell_type": "code",
   "execution_count": 36,
   "metadata": {},
   "outputs": [
    {
     "output_type": "stream",
     "name": "stdout",
     "text": [
      "matches played so far: 816\n\n Cities where matches are played ['Bangalore' 'Chandigarh' 'Delhi' 'Mumbai' 'Kolkata' 'Jaipur' 'Hyderabad'\n 'Chennai' 'Cape Town' 'Port Elizabeth' 'Durban' 'Centurion' 'East London'\n 'Johannesburg' 'Kimberley' 'Bloemfontein' 'Ahmedabad' 'Cuttack' 'Nagpur'\n 'Dharamsala' 'Kochi' 'Indore' 'Visakhapatnam' 'Pune' 'Raipur' 'Ranchi'\n 'Abu Dhabi' nan 'Rajkot' 'Kanpur' 'Bengaluru' 'Dubai' 'Sharjah']\n\n Teams participated: ['Royal Challengers Bangalore' 'Kings XI Punjab' 'Delhi Daredevils'\n 'Mumbai Indians' 'Kolkata Knight Riders' 'Rajasthan Royals'\n 'Deccan Chargers' 'Chennai Super Kings' 'Kochi Tuskers Kerala'\n 'Pune Warriors' 'Sunrisers Hyderabad' 'Gujarat Lions'\n 'Rising Pune Supergiants' 'Rising Pune Supergiant' 'Delhi Capitals']\n"
     ]
    }
   ],
   "source": [
    "print('matches played so far:', match_data.shape[0])\n",
    "print('\\n Cities where matches are played', match_data['city'].unique())\n",
    "print('\\n Teams participated:', match_data['team1'].unique())"
   ]
  },
  {
   "source": [
    "### Extract the year value from the data column in match_data "
   ],
   "cell_type": "markdown",
   "metadata": {}
  },
  {
   "cell_type": "code",
   "execution_count": 38,
   "metadata": {},
   "outputs": [],
   "source": [
    "match_data['Season'] = pd.DatetimeIndex(match_data['date']).year"
   ]
  },
  {
   "cell_type": "code",
   "execution_count": 39,
   "metadata": {},
   "outputs": [
    {
     "output_type": "execute_result",
     "data": {
      "text/plain": [
       "       id        city        date player_of_match  \\\n",
       "0  335982   Bangalore  2008-04-18     BB McCullum   \n",
       "1  335983  Chandigarh  2008-04-19      MEK Hussey   \n",
       "2  335984       Delhi  2008-04-19     MF Maharoof   \n",
       "3  335985      Mumbai  2008-04-20      MV Boucher   \n",
       "4  335986     Kolkata  2008-04-20       DJ Hussey   \n",
       "\n",
       "                                        venue  neutral_venue  \\\n",
       "0                       M Chinnaswamy Stadium              0   \n",
       "1  Punjab Cricket Association Stadium, Mohali              0   \n",
       "2                            Feroz Shah Kotla              0   \n",
       "3                            Wankhede Stadium              0   \n",
       "4                                Eden Gardens              0   \n",
       "\n",
       "                         team1                        team2  \\\n",
       "0  Royal Challengers Bangalore        Kolkata Knight Riders   \n",
       "1              Kings XI Punjab          Chennai Super Kings   \n",
       "2             Delhi Daredevils             Rajasthan Royals   \n",
       "3               Mumbai Indians  Royal Challengers Bangalore   \n",
       "4        Kolkata Knight Riders              Deccan Chargers   \n",
       "\n",
       "                   toss_winner toss_decision                       winner  \\\n",
       "0  Royal Challengers Bangalore         field        Kolkata Knight Riders   \n",
       "1          Chennai Super Kings           bat          Chennai Super Kings   \n",
       "2             Rajasthan Royals           bat             Delhi Daredevils   \n",
       "3               Mumbai Indians           bat  Royal Challengers Bangalore   \n",
       "4              Deccan Chargers           bat        Kolkata Knight Riders   \n",
       "\n",
       "    result  result_margin eliminator method    umpire1         umpire2  Season  \n",
       "0     runs          140.0          N    NaN  Asad Rauf     RE Koertzen    2008  \n",
       "1     runs           33.0          N    NaN  MR Benson      SL Shastri    2008  \n",
       "2  wickets            9.0          N    NaN  Aleem Dar  GA Pratapkumar    2008  \n",
       "3  wickets            5.0          N    NaN   SJ Davis       DJ Harper    2008  \n",
       "4  wickets            5.0          N    NaN  BF Bowden     K Hariharan    2008  "
      ],
      "text/html": "<div>\n<style scoped>\n    .dataframe tbody tr th:only-of-type {\n        vertical-align: middle;\n    }\n\n    .dataframe tbody tr th {\n        vertical-align: top;\n    }\n\n    .dataframe thead th {\n        text-align: right;\n    }\n</style>\n<table border=\"1\" class=\"dataframe\">\n  <thead>\n    <tr style=\"text-align: right;\">\n      <th></th>\n      <th>id</th>\n      <th>city</th>\n      <th>date</th>\n      <th>player_of_match</th>\n      <th>venue</th>\n      <th>neutral_venue</th>\n      <th>team1</th>\n      <th>team2</th>\n      <th>toss_winner</th>\n      <th>toss_decision</th>\n      <th>winner</th>\n      <th>result</th>\n      <th>result_margin</th>\n      <th>eliminator</th>\n      <th>method</th>\n      <th>umpire1</th>\n      <th>umpire2</th>\n      <th>Season</th>\n    </tr>\n  </thead>\n  <tbody>\n    <tr>\n      <th>0</th>\n      <td>335982</td>\n      <td>Bangalore</td>\n      <td>2008-04-18</td>\n      <td>BB McCullum</td>\n      <td>M Chinnaswamy Stadium</td>\n      <td>0</td>\n      <td>Royal Challengers Bangalore</td>\n      <td>Kolkata Knight Riders</td>\n      <td>Royal Challengers Bangalore</td>\n      <td>field</td>\n      <td>Kolkata Knight Riders</td>\n      <td>runs</td>\n      <td>140.0</td>\n      <td>N</td>\n      <td>NaN</td>\n      <td>Asad Rauf</td>\n      <td>RE Koertzen</td>\n      <td>2008</td>\n    </tr>\n    <tr>\n      <th>1</th>\n      <td>335983</td>\n      <td>Chandigarh</td>\n      <td>2008-04-19</td>\n      <td>MEK Hussey</td>\n      <td>Punjab Cricket Association Stadium, Mohali</td>\n      <td>0</td>\n      <td>Kings XI Punjab</td>\n      <td>Chennai Super Kings</td>\n      <td>Chennai Super Kings</td>\n      <td>bat</td>\n      <td>Chennai Super Kings</td>\n      <td>runs</td>\n      <td>33.0</td>\n      <td>N</td>\n      <td>NaN</td>\n      <td>MR Benson</td>\n      <td>SL Shastri</td>\n      <td>2008</td>\n    </tr>\n    <tr>\n      <th>2</th>\n      <td>335984</td>\n      <td>Delhi</td>\n      <td>2008-04-19</td>\n      <td>MF Maharoof</td>\n      <td>Feroz Shah Kotla</td>\n      <td>0</td>\n      <td>Delhi Daredevils</td>\n      <td>Rajasthan Royals</td>\n      <td>Rajasthan Royals</td>\n      <td>bat</td>\n      <td>Delhi Daredevils</td>\n      <td>wickets</td>\n      <td>9.0</td>\n      <td>N</td>\n      <td>NaN</td>\n      <td>Aleem Dar</td>\n      <td>GA Pratapkumar</td>\n      <td>2008</td>\n    </tr>\n    <tr>\n      <th>3</th>\n      <td>335985</td>\n      <td>Mumbai</td>\n      <td>2008-04-20</td>\n      <td>MV Boucher</td>\n      <td>Wankhede Stadium</td>\n      <td>0</td>\n      <td>Mumbai Indians</td>\n      <td>Royal Challengers Bangalore</td>\n      <td>Mumbai Indians</td>\n      <td>bat</td>\n      <td>Royal Challengers Bangalore</td>\n      <td>wickets</td>\n      <td>5.0</td>\n      <td>N</td>\n      <td>NaN</td>\n      <td>SJ Davis</td>\n      <td>DJ Harper</td>\n      <td>2008</td>\n    </tr>\n    <tr>\n      <th>4</th>\n      <td>335986</td>\n      <td>Kolkata</td>\n      <td>2008-04-20</td>\n      <td>DJ Hussey</td>\n      <td>Eden Gardens</td>\n      <td>0</td>\n      <td>Kolkata Knight Riders</td>\n      <td>Deccan Chargers</td>\n      <td>Deccan Chargers</td>\n      <td>bat</td>\n      <td>Kolkata Knight Riders</td>\n      <td>wickets</td>\n      <td>5.0</td>\n      <td>N</td>\n      <td>NaN</td>\n      <td>BF Bowden</td>\n      <td>K Hariharan</td>\n      <td>2008</td>\n    </tr>\n  </tbody>\n</table>\n</div>"
     },
     "metadata": {},
     "execution_count": 39
    }
   ],
   "source": [
    "match_data.head()"
   ]
  },
  {
   "source": [
    "### Total Number of matches played each season from 2008 -2020"
   ],
   "cell_type": "markdown",
   "metadata": {}
  },
  {
   "cell_type": "code",
   "execution_count": 40,
   "metadata": {},
   "outputs": [],
   "source": [
    "# use groupby first \n",
    "match_per_season = match_data.groupby(['Season'])"
   ]
  },
  {
   "cell_type": "code",
   "execution_count": 42,
   "metadata": {},
   "outputs": [
    {
     "output_type": "execute_result",
     "data": {
      "text/plain": [
       "             id       city        date  player_of_match  \\\n",
       "Season                                                    \n",
       "2008     335982  Bangalore  2008-04-18      BB McCullum   \n",
       "2009     392181  Cape Town  2009-04-18     SR Tendulkar   \n",
       "2010     419106     Mumbai  2010-03-12       AD Mathews   \n",
       "2011     501198    Chennai  2011-04-08       S Anirudha   \n",
       "2012     548306    Chennai  2012-04-04          RE Levi   \n",
       "2013     597998    Kolkata  2013-04-03        SP Narine   \n",
       "2014     729279  Abu Dhabi  2014-04-16        JH Kallis   \n",
       "2015     829705    Kolkata  2015-04-08         M Morkel   \n",
       "2016     980901     Mumbai  2016-04-09        AM Rahane   \n",
       "2017    1082591  Hyderabad  2017-04-05     Yuvraj Singh   \n",
       "2018    1136561     Mumbai  2018-04-07         DJ Bravo   \n",
       "2019    1175356    Chennai  2019-03-23  Harbhajan Singh   \n",
       "2020    1216492  Abu Dhabi  2020-09-19        AT Rayudu   \n",
       "\n",
       "                                            venue  neutral_venue  \\\n",
       "Season                                                             \n",
       "2008                        M Chinnaswamy Stadium              0   \n",
       "2009                                     Newlands              1   \n",
       "2010                   Dr DY Patil Sports Academy              0   \n",
       "2011              MA Chidambaram Stadium, Chepauk              0   \n",
       "2012              MA Chidambaram Stadium, Chepauk              0   \n",
       "2013                                 Eden Gardens              0   \n",
       "2014                         Sheikh Zayed Stadium              1   \n",
       "2015                                 Eden Gardens              0   \n",
       "2016                             Wankhede Stadium              0   \n",
       "2017    Rajiv Gandhi International Stadium, Uppal              0   \n",
       "2018                             Wankhede Stadium              0   \n",
       "2019              MA Chidambaram Stadium, Chepauk              0   \n",
       "2020                         Sheikh Zayed Stadium              0   \n",
       "\n",
       "                              team1                        team2  \\\n",
       "Season                                                             \n",
       "2008    Royal Challengers Bangalore        Kolkata Knight Riders   \n",
       "2009            Chennai Super Kings               Mumbai Indians   \n",
       "2010                Deccan Chargers        Kolkata Knight Riders   \n",
       "2011            Chennai Super Kings        Kolkata Knight Riders   \n",
       "2012            Chennai Super Kings               Mumbai Indians   \n",
       "2013          Kolkata Knight Riders             Delhi Daredevils   \n",
       "2014                 Mumbai Indians        Kolkata Knight Riders   \n",
       "2015          Kolkata Knight Riders               Mumbai Indians   \n",
       "2016                 Mumbai Indians      Rising Pune Supergiants   \n",
       "2017            Sunrisers Hyderabad  Royal Challengers Bangalore   \n",
       "2018                 Mumbai Indians          Chennai Super Kings   \n",
       "2019            Chennai Super Kings  Royal Challengers Bangalore   \n",
       "2020                 Mumbai Indians          Chennai Super Kings   \n",
       "\n",
       "                        toss_winner toss_decision                   winner  \\\n",
       "Season                                                                       \n",
       "2008    Royal Challengers Bangalore         field    Kolkata Knight Riders   \n",
       "2009            Chennai Super Kings         field           Mumbai Indians   \n",
       "2010                Deccan Chargers         field    Kolkata Knight Riders   \n",
       "2011            Chennai Super Kings           bat      Chennai Super Kings   \n",
       "2012                 Mumbai Indians         field           Mumbai Indians   \n",
       "2013          Kolkata Knight Riders         field    Kolkata Knight Riders   \n",
       "2014          Kolkata Knight Riders           bat    Kolkata Knight Riders   \n",
       "2015          Kolkata Knight Riders         field    Kolkata Knight Riders   \n",
       "2016                 Mumbai Indians           bat  Rising Pune Supergiants   \n",
       "2017    Royal Challengers Bangalore         field      Sunrisers Hyderabad   \n",
       "2018            Chennai Super Kings         field      Chennai Super Kings   \n",
       "2019            Chennai Super Kings         field      Chennai Super Kings   \n",
       "2020            Chennai Super Kings         field      Chennai Super Kings   \n",
       "\n",
       "         result  result_margin eliminator method          umpire1  \\\n",
       "Season                                                              \n",
       "2008       runs          140.0          N    D/L        Asad Rauf   \n",
       "2009       runs           19.0          N    D/L      BR Doctrove   \n",
       "2010       runs           11.0          N   None      RE Koertzen   \n",
       "2011       runs            2.0          N    D/L      BR Doctrove   \n",
       "2012    wickets            8.0          N   None        JD Cloete   \n",
       "2013    wickets            6.0          N   None           S Ravi   \n",
       "2014       runs           41.0          N    D/L        M Erasmus   \n",
       "2015    wickets            7.0          N    D/L           S Ravi   \n",
       "2016    wickets            9.0          N    D/L  HDPK Dharmasena   \n",
       "2017       runs           35.0          N    D/L      AY Dandekar   \n",
       "2018    wickets            1.0          N    D/L      CB Gaffaney   \n",
       "2019    wickets            7.0          N   None      AY Dandekar   \n",
       "2020    wickets            5.0          N   None      CB Gaffaney   \n",
       "\n",
       "               umpire2  \n",
       "Season                  \n",
       "2008       RE Koertzen  \n",
       "2009       K Hariharan  \n",
       "2010         RB Tiffin  \n",
       "2011        PR Reiffel  \n",
       "2012        SJA Taufel  \n",
       "2013        SJA Taufel  \n",
       "2014    RK Illingworth  \n",
       "2015     C Shamshuddin  \n",
       "2016         CK Nandan  \n",
       "2017          NJ Llong  \n",
       "2018    A Nand Kishore  \n",
       "2019      BNJ Oxenford  \n",
       "2020         VK Sharma  "
      ],
      "text/html": "<div>\n<style scoped>\n    .dataframe tbody tr th:only-of-type {\n        vertical-align: middle;\n    }\n\n    .dataframe tbody tr th {\n        vertical-align: top;\n    }\n\n    .dataframe thead th {\n        text-align: right;\n    }\n</style>\n<table border=\"1\" class=\"dataframe\">\n  <thead>\n    <tr style=\"text-align: right;\">\n      <th></th>\n      <th>id</th>\n      <th>city</th>\n      <th>date</th>\n      <th>player_of_match</th>\n      <th>venue</th>\n      <th>neutral_venue</th>\n      <th>team1</th>\n      <th>team2</th>\n      <th>toss_winner</th>\n      <th>toss_decision</th>\n      <th>winner</th>\n      <th>result</th>\n      <th>result_margin</th>\n      <th>eliminator</th>\n      <th>method</th>\n      <th>umpire1</th>\n      <th>umpire2</th>\n    </tr>\n    <tr>\n      <th>Season</th>\n      <th></th>\n      <th></th>\n      <th></th>\n      <th></th>\n      <th></th>\n      <th></th>\n      <th></th>\n      <th></th>\n      <th></th>\n      <th></th>\n      <th></th>\n      <th></th>\n      <th></th>\n      <th></th>\n      <th></th>\n      <th></th>\n      <th></th>\n    </tr>\n  </thead>\n  <tbody>\n    <tr>\n      <th>2008</th>\n      <td>335982</td>\n      <td>Bangalore</td>\n      <td>2008-04-18</td>\n      <td>BB McCullum</td>\n      <td>M Chinnaswamy Stadium</td>\n      <td>0</td>\n      <td>Royal Challengers Bangalore</td>\n      <td>Kolkata Knight Riders</td>\n      <td>Royal Challengers Bangalore</td>\n      <td>field</td>\n      <td>Kolkata Knight Riders</td>\n      <td>runs</td>\n      <td>140.0</td>\n      <td>N</td>\n      <td>D/L</td>\n      <td>Asad Rauf</td>\n      <td>RE Koertzen</td>\n    </tr>\n    <tr>\n      <th>2009</th>\n      <td>392181</td>\n      <td>Cape Town</td>\n      <td>2009-04-18</td>\n      <td>SR Tendulkar</td>\n      <td>Newlands</td>\n      <td>1</td>\n      <td>Chennai Super Kings</td>\n      <td>Mumbai Indians</td>\n      <td>Chennai Super Kings</td>\n      <td>field</td>\n      <td>Mumbai Indians</td>\n      <td>runs</td>\n      <td>19.0</td>\n      <td>N</td>\n      <td>D/L</td>\n      <td>BR Doctrove</td>\n      <td>K Hariharan</td>\n    </tr>\n    <tr>\n      <th>2010</th>\n      <td>419106</td>\n      <td>Mumbai</td>\n      <td>2010-03-12</td>\n      <td>AD Mathews</td>\n      <td>Dr DY Patil Sports Academy</td>\n      <td>0</td>\n      <td>Deccan Chargers</td>\n      <td>Kolkata Knight Riders</td>\n      <td>Deccan Chargers</td>\n      <td>field</td>\n      <td>Kolkata Knight Riders</td>\n      <td>runs</td>\n      <td>11.0</td>\n      <td>N</td>\n      <td>None</td>\n      <td>RE Koertzen</td>\n      <td>RB Tiffin</td>\n    </tr>\n    <tr>\n      <th>2011</th>\n      <td>501198</td>\n      <td>Chennai</td>\n      <td>2011-04-08</td>\n      <td>S Anirudha</td>\n      <td>MA Chidambaram Stadium, Chepauk</td>\n      <td>0</td>\n      <td>Chennai Super Kings</td>\n      <td>Kolkata Knight Riders</td>\n      <td>Chennai Super Kings</td>\n      <td>bat</td>\n      <td>Chennai Super Kings</td>\n      <td>runs</td>\n      <td>2.0</td>\n      <td>N</td>\n      <td>D/L</td>\n      <td>BR Doctrove</td>\n      <td>PR Reiffel</td>\n    </tr>\n    <tr>\n      <th>2012</th>\n      <td>548306</td>\n      <td>Chennai</td>\n      <td>2012-04-04</td>\n      <td>RE Levi</td>\n      <td>MA Chidambaram Stadium, Chepauk</td>\n      <td>0</td>\n      <td>Chennai Super Kings</td>\n      <td>Mumbai Indians</td>\n      <td>Mumbai Indians</td>\n      <td>field</td>\n      <td>Mumbai Indians</td>\n      <td>wickets</td>\n      <td>8.0</td>\n      <td>N</td>\n      <td>None</td>\n      <td>JD Cloete</td>\n      <td>SJA Taufel</td>\n    </tr>\n    <tr>\n      <th>2013</th>\n      <td>597998</td>\n      <td>Kolkata</td>\n      <td>2013-04-03</td>\n      <td>SP Narine</td>\n      <td>Eden Gardens</td>\n      <td>0</td>\n      <td>Kolkata Knight Riders</td>\n      <td>Delhi Daredevils</td>\n      <td>Kolkata Knight Riders</td>\n      <td>field</td>\n      <td>Kolkata Knight Riders</td>\n      <td>wickets</td>\n      <td>6.0</td>\n      <td>N</td>\n      <td>None</td>\n      <td>S Ravi</td>\n      <td>SJA Taufel</td>\n    </tr>\n    <tr>\n      <th>2014</th>\n      <td>729279</td>\n      <td>Abu Dhabi</td>\n      <td>2014-04-16</td>\n      <td>JH Kallis</td>\n      <td>Sheikh Zayed Stadium</td>\n      <td>1</td>\n      <td>Mumbai Indians</td>\n      <td>Kolkata Knight Riders</td>\n      <td>Kolkata Knight Riders</td>\n      <td>bat</td>\n      <td>Kolkata Knight Riders</td>\n      <td>runs</td>\n      <td>41.0</td>\n      <td>N</td>\n      <td>D/L</td>\n      <td>M Erasmus</td>\n      <td>RK Illingworth</td>\n    </tr>\n    <tr>\n      <th>2015</th>\n      <td>829705</td>\n      <td>Kolkata</td>\n      <td>2015-04-08</td>\n      <td>M Morkel</td>\n      <td>Eden Gardens</td>\n      <td>0</td>\n      <td>Kolkata Knight Riders</td>\n      <td>Mumbai Indians</td>\n      <td>Kolkata Knight Riders</td>\n      <td>field</td>\n      <td>Kolkata Knight Riders</td>\n      <td>wickets</td>\n      <td>7.0</td>\n      <td>N</td>\n      <td>D/L</td>\n      <td>S Ravi</td>\n      <td>C Shamshuddin</td>\n    </tr>\n    <tr>\n      <th>2016</th>\n      <td>980901</td>\n      <td>Mumbai</td>\n      <td>2016-04-09</td>\n      <td>AM Rahane</td>\n      <td>Wankhede Stadium</td>\n      <td>0</td>\n      <td>Mumbai Indians</td>\n      <td>Rising Pune Supergiants</td>\n      <td>Mumbai Indians</td>\n      <td>bat</td>\n      <td>Rising Pune Supergiants</td>\n      <td>wickets</td>\n      <td>9.0</td>\n      <td>N</td>\n      <td>D/L</td>\n      <td>HDPK Dharmasena</td>\n      <td>CK Nandan</td>\n    </tr>\n    <tr>\n      <th>2017</th>\n      <td>1082591</td>\n      <td>Hyderabad</td>\n      <td>2017-04-05</td>\n      <td>Yuvraj Singh</td>\n      <td>Rajiv Gandhi International Stadium, Uppal</td>\n      <td>0</td>\n      <td>Sunrisers Hyderabad</td>\n      <td>Royal Challengers Bangalore</td>\n      <td>Royal Challengers Bangalore</td>\n      <td>field</td>\n      <td>Sunrisers Hyderabad</td>\n      <td>runs</td>\n      <td>35.0</td>\n      <td>N</td>\n      <td>D/L</td>\n      <td>AY Dandekar</td>\n      <td>NJ Llong</td>\n    </tr>\n    <tr>\n      <th>2018</th>\n      <td>1136561</td>\n      <td>Mumbai</td>\n      <td>2018-04-07</td>\n      <td>DJ Bravo</td>\n      <td>Wankhede Stadium</td>\n      <td>0</td>\n      <td>Mumbai Indians</td>\n      <td>Chennai Super Kings</td>\n      <td>Chennai Super Kings</td>\n      <td>field</td>\n      <td>Chennai Super Kings</td>\n      <td>wickets</td>\n      <td>1.0</td>\n      <td>N</td>\n      <td>D/L</td>\n      <td>CB Gaffaney</td>\n      <td>A Nand Kishore</td>\n    </tr>\n    <tr>\n      <th>2019</th>\n      <td>1175356</td>\n      <td>Chennai</td>\n      <td>2019-03-23</td>\n      <td>Harbhajan Singh</td>\n      <td>MA Chidambaram Stadium, Chepauk</td>\n      <td>0</td>\n      <td>Chennai Super Kings</td>\n      <td>Royal Challengers Bangalore</td>\n      <td>Chennai Super Kings</td>\n      <td>field</td>\n      <td>Chennai Super Kings</td>\n      <td>wickets</td>\n      <td>7.0</td>\n      <td>N</td>\n      <td>None</td>\n      <td>AY Dandekar</td>\n      <td>BNJ Oxenford</td>\n    </tr>\n    <tr>\n      <th>2020</th>\n      <td>1216492</td>\n      <td>Abu Dhabi</td>\n      <td>2020-09-19</td>\n      <td>AT Rayudu</td>\n      <td>Sheikh Zayed Stadium</td>\n      <td>0</td>\n      <td>Mumbai Indians</td>\n      <td>Chennai Super Kings</td>\n      <td>Chennai Super Kings</td>\n      <td>field</td>\n      <td>Chennai Super Kings</td>\n      <td>wickets</td>\n      <td>5.0</td>\n      <td>N</td>\n      <td>None</td>\n      <td>CB Gaffaney</td>\n      <td>VK Sharma</td>\n    </tr>\n  </tbody>\n</table>\n</div>"
     },
     "metadata": {},
     "execution_count": 42
    }
   ],
   "source": [
    "match_per_season.first()"
   ]
  },
  {
   "cell_type": "code",
   "execution_count": 44,
   "metadata": {},
   "outputs": [
    {
     "output_type": "execute_result",
     "data": {
      "text/plain": [
       "    Season  matches\n",
       "0     2008       58\n",
       "1     2009       57\n",
       "2     2010       60\n",
       "3     2011       73\n",
       "4     2012       74\n",
       "5     2013       76\n",
       "6     2014       60\n",
       "7     2015       59\n",
       "8     2016       60\n",
       "9     2017       59\n",
       "10    2018       60\n",
       "11    2019       60\n",
       "12    2020       60"
      ],
      "text/html": "<div>\n<style scoped>\n    .dataframe tbody tr th:only-of-type {\n        vertical-align: middle;\n    }\n\n    .dataframe tbody tr th {\n        vertical-align: top;\n    }\n\n    .dataframe thead th {\n        text-align: right;\n    }\n</style>\n<table border=\"1\" class=\"dataframe\">\n  <thead>\n    <tr style=\"text-align: right;\">\n      <th></th>\n      <th>Season</th>\n      <th>matches</th>\n    </tr>\n  </thead>\n  <tbody>\n    <tr>\n      <th>0</th>\n      <td>2008</td>\n      <td>58</td>\n    </tr>\n    <tr>\n      <th>1</th>\n      <td>2009</td>\n      <td>57</td>\n    </tr>\n    <tr>\n      <th>2</th>\n      <td>2010</td>\n      <td>60</td>\n    </tr>\n    <tr>\n      <th>3</th>\n      <td>2011</td>\n      <td>73</td>\n    </tr>\n    <tr>\n      <th>4</th>\n      <td>2012</td>\n      <td>74</td>\n    </tr>\n    <tr>\n      <th>5</th>\n      <td>2013</td>\n      <td>76</td>\n    </tr>\n    <tr>\n      <th>6</th>\n      <td>2014</td>\n      <td>60</td>\n    </tr>\n    <tr>\n      <th>7</th>\n      <td>2015</td>\n      <td>59</td>\n    </tr>\n    <tr>\n      <th>8</th>\n      <td>2016</td>\n      <td>60</td>\n    </tr>\n    <tr>\n      <th>9</th>\n      <td>2017</td>\n      <td>59</td>\n    </tr>\n    <tr>\n      <th>10</th>\n      <td>2018</td>\n      <td>60</td>\n    </tr>\n    <tr>\n      <th>11</th>\n      <td>2019</td>\n      <td>60</td>\n    </tr>\n    <tr>\n      <th>12</th>\n      <td>2020</td>\n      <td>60</td>\n    </tr>\n  </tbody>\n</table>\n</div>"
     },
     "metadata": {},
     "execution_count": 44
    }
   ],
   "source": [
    "### All season from 2008 to 2020 and matches played \n",
    "match_per_season = match_data.groupby(['Season'])['id'].count().reset_index().rename(columns={'id':'matches'})\n",
    "match_per_season"
   ]
  },
  {
   "source": [
    "### draw a bar chart with the above result "
   ],
   "cell_type": "markdown",
   "metadata": {}
  },
  {
   "cell_type": "code",
   "execution_count": 46,
   "metadata": {},
   "outputs": [
    {
     "output_type": "stream",
     "name": "stderr",
     "text": [
      "C:\\_python3.9.1\\lib\\site-packages\\seaborn\\_decorators.py:36: FutureWarning: Pass the following variable as a keyword arg: x. From version 0.12, the only valid positional argument will be `data`, and passing other arguments without an explicit keyword will result in an error or misinterpretation.\n  warnings.warn(\n"
     ]
    },
    {
     "output_type": "execute_result",
     "data": {
      "text/plain": [
       "Text(0.5, 1.0, 'Total Matches Played Each Season')"
      ]
     },
     "metadata": {},
     "execution_count": 46
    },
    {
     "output_type": "display_data",
     "data": {
      "text/plain": "<Figure size 432x288 with 1 Axes>",
      "image/svg+xml": "<?xml version=\"1.0\" encoding=\"utf-8\" standalone=\"no\"?>\r\n<!DOCTYPE svg PUBLIC \"-//W3C//DTD SVG 1.1//EN\"\r\n  \"http://www.w3.org/Graphics/SVG/1.1/DTD/svg11.dtd\">\r\n<!-- Created with matplotlib (https://matplotlib.org/) -->\r\n<svg height=\"290.955898pt\" version=\"1.1\" viewBox=\"0 0 382.603125 290.955898\" width=\"382.603125pt\" xmlns=\"http://www.w3.org/2000/svg\" xmlns:xlink=\"http://www.w3.org/1999/xlink\">\r\n <metadata>\r\n  <rdf:RDF xmlns:cc=\"http://creativecommons.org/ns#\" xmlns:dc=\"http://purl.org/dc/elements/1.1/\" xmlns:rdf=\"http://www.w3.org/1999/02/22-rdf-syntax-ns#\">\r\n   <cc:Work>\r\n    <dc:type rdf:resource=\"http://purl.org/dc/dcmitype/StillImage\"/>\r\n    <dc:date>2021-05-18T13:29:16.899585</dc:date>\r\n    <dc:format>image/svg+xml</dc:format>\r\n    <dc:creator>\r\n     <cc:Agent>\r\n      <dc:title>Matplotlib v3.3.4, https://matplotlib.org/</dc:title>\r\n     </cc:Agent>\r\n    </dc:creator>\r\n   </cc:Work>\r\n  </rdf:RDF>\r\n </metadata>\r\n <defs>\r\n  <style type=\"text/css\">*{stroke-linecap:butt;stroke-linejoin:round;}</style>\r\n </defs>\r\n <g id=\"figure_1\">\r\n  <g id=\"patch_1\">\r\n   <path d=\"M 0 290.955898 \r\nL 382.603125 290.955898 \r\nL 382.603125 0 \r\nL 0 0 \r\nz\r\n\" style=\"fill:none;\"/>\r\n  </g>\r\n  <g id=\"axes_1\">\r\n   <g id=\"patch_2\">\r\n    <path d=\"M 40.603125 238.238437 \r\nL 375.403125 238.238437 \r\nL 375.403125 20.798437 \r\nL 40.603125 20.798437 \r\nz\r\n\" style=\"fill:#ffffff;\"/>\r\n   </g>\r\n   <g id=\"patch_3\">\r\n    <path clip-path=\"url(#p1c095a5893)\" d=\"M 43.17851 238.238437 \r\nL 63.781587 238.238437 \r\nL 63.781587 80.19934 \r\nL 43.17851 80.19934 \r\nz\r\n\" style=\"fill:#ea96a3;\"/>\r\n   </g>\r\n   <g id=\"patch_4\">\r\n    <path clip-path=\"url(#p1c095a5893)\" d=\"M 68.932356 238.238437 \r\nL 89.535433 238.238437 \r\nL 89.535433 82.924152 \r\nL 68.932356 82.924152 \r\nz\r\n\" style=\"fill:#e39361;\"/>\r\n   </g>\r\n   <g id=\"patch_5\">\r\n    <path clip-path=\"url(#p1c095a5893)\" d=\"M 94.686202 238.238437 \r\nL 115.289279 238.238437 \r\nL 115.289279 74.749716 \r\nL 94.686202 74.749716 \r\nz\r\n\" style=\"fill:#be9b4a;\"/>\r\n   </g>\r\n   <g id=\"patch_6\">\r\n    <path clip-path=\"url(#p1c095a5893)\" d=\"M 120.440048 238.238437 \r\nL 141.043125 238.238437 \r\nL 141.043125 39.327159 \r\nL 120.440048 39.327159 \r\nz\r\n\" style=\"fill:#9fa045;\"/>\r\n   </g>\r\n   <g id=\"patch_7\">\r\n    <path clip-path=\"url(#p1c095a5893)\" d=\"M 146.193894 238.238437 \r\nL 166.796971 238.238437 \r\nL 166.796971 36.602347 \r\nL 146.193894 36.602347 \r\nz\r\n\" style=\"fill:#7aaa47;\"/>\r\n   </g>\r\n   <g id=\"patch_8\">\r\n    <path clip-path=\"url(#p1c095a5893)\" d=\"M 171.94774 238.238437 \r\nL 192.550817 238.238437 \r\nL 192.550817 31.152723 \r\nL 171.94774 31.152723 \r\nz\r\n\" style=\"fill:#49af79;\"/>\r\n   </g>\r\n   <g id=\"patch_9\">\r\n    <path clip-path=\"url(#p1c095a5893)\" d=\"M 197.701587 238.238437 \r\nL 218.304663 238.238437 \r\nL 218.304663 74.749716 \r\nL 197.701587 74.749716 \r\nz\r\n\" style=\"fill:#4aac9a;\"/>\r\n   </g>\r\n   <g id=\"patch_10\">\r\n    <path clip-path=\"url(#p1c095a5893)\" d=\"M 223.455433 238.238437 \r\nL 244.05851 238.238437 \r\nL 244.05851 77.474528 \r\nL 223.455433 77.474528 \r\nz\r\n\" style=\"fill:#4cabae;\"/>\r\n   </g>\r\n   <g id=\"patch_11\">\r\n    <path clip-path=\"url(#p1c095a5893)\" d=\"M 249.209279 238.238437 \r\nL 269.812356 238.238437 \r\nL 269.812356 74.749716 \r\nL 249.209279 74.749716 \r\nz\r\n\" style=\"fill:#52acc9;\"/>\r\n   </g>\r\n   <g id=\"patch_12\">\r\n    <path clip-path=\"url(#p1c095a5893)\" d=\"M 274.963125 238.238437 \r\nL 295.566202 238.238437 \r\nL 295.566202 77.474528 \r\nL 274.963125 77.474528 \r\nz\r\n\" style=\"fill:#8daee7;\"/>\r\n   </g>\r\n   <g id=\"patch_13\">\r\n    <path clip-path=\"url(#p1c095a5893)\" d=\"M 300.716971 238.238437 \r\nL 321.320048 238.238437 \r\nL 321.320048 74.749716 \r\nL 300.716971 74.749716 \r\nz\r\n\" style=\"fill:#bfa3ea;\"/>\r\n   </g>\r\n   <g id=\"patch_14\">\r\n    <path clip-path=\"url(#p1c095a5893)\" d=\"M 326.470817 238.238437 \r\nL 347.073894 238.238437 \r\nL 347.073894 74.749716 \r\nL 326.470817 74.749716 \r\nz\r\n\" style=\"fill:#e689e6;\"/>\r\n   </g>\r\n   <g id=\"patch_15\">\r\n    <path clip-path=\"url(#p1c095a5893)\" d=\"M 352.224663 238.238437 \r\nL 372.82774 238.238437 \r\nL 372.82774 74.749716 \r\nL 352.224663 74.749716 \r\nz\r\n\" style=\"fill:#e891c3;\"/>\r\n   </g>\r\n   <g id=\"matplotlib.axis_1\">\r\n    <g id=\"xtick_1\">\r\n     <g id=\"line2d_1\">\r\n      <defs>\r\n       <path d=\"M 0 0 \r\nL 0 3.5 \r\n\" id=\"mbb803af37e\" style=\"stroke:#000000;stroke-width:0.8;\"/>\r\n      </defs>\r\n      <g>\r\n       <use style=\"stroke:#000000;stroke-width:0.8;\" x=\"53.480048\" xlink:href=\"#mbb803af37e\" y=\"238.238437\"/>\r\n      </g>\r\n     </g>\r\n     <g id=\"text_1\">\r\n      <!-- 2008 -->\r\n      <g transform=\"translate(46.433287 268.607212)rotate(-45)scale(0.1 -0.1)\">\r\n       <defs>\r\n        <path d=\"M 19.1875 8.296875 \r\nL 53.609375 8.296875 \r\nL 53.609375 0 \r\nL 7.328125 0 \r\nL 7.328125 8.296875 \r\nQ 12.9375 14.109375 22.625 23.890625 \r\nQ 32.328125 33.6875 34.8125 36.53125 \r\nQ 39.546875 41.84375 41.421875 45.53125 \r\nQ 43.3125 49.21875 43.3125 52.78125 \r\nQ 43.3125 58.59375 39.234375 62.25 \r\nQ 35.15625 65.921875 28.609375 65.921875 \r\nQ 23.96875 65.921875 18.8125 64.3125 \r\nQ 13.671875 62.703125 7.8125 59.421875 \r\nL 7.8125 69.390625 \r\nQ 13.765625 71.78125 18.9375 73 \r\nQ 24.125 74.21875 28.421875 74.21875 \r\nQ 39.75 74.21875 46.484375 68.546875 \r\nQ 53.21875 62.890625 53.21875 53.421875 \r\nQ 53.21875 48.921875 51.53125 44.890625 \r\nQ 49.859375 40.875 45.40625 35.40625 \r\nQ 44.1875 33.984375 37.640625 27.21875 \r\nQ 31.109375 20.453125 19.1875 8.296875 \r\nz\r\n\" id=\"DejaVuSans-50\"/>\r\n        <path d=\"M 31.78125 66.40625 \r\nQ 24.171875 66.40625 20.328125 58.90625 \r\nQ 16.5 51.421875 16.5 36.375 \r\nQ 16.5 21.390625 20.328125 13.890625 \r\nQ 24.171875 6.390625 31.78125 6.390625 \r\nQ 39.453125 6.390625 43.28125 13.890625 \r\nQ 47.125 21.390625 47.125 36.375 \r\nQ 47.125 51.421875 43.28125 58.90625 \r\nQ 39.453125 66.40625 31.78125 66.40625 \r\nz\r\nM 31.78125 74.21875 \r\nQ 44.046875 74.21875 50.515625 64.515625 \r\nQ 56.984375 54.828125 56.984375 36.375 \r\nQ 56.984375 17.96875 50.515625 8.265625 \r\nQ 44.046875 -1.421875 31.78125 -1.421875 \r\nQ 19.53125 -1.421875 13.0625 8.265625 \r\nQ 6.59375 17.96875 6.59375 36.375 \r\nQ 6.59375 54.828125 13.0625 64.515625 \r\nQ 19.53125 74.21875 31.78125 74.21875 \r\nz\r\n\" id=\"DejaVuSans-48\"/>\r\n        <path d=\"M 31.78125 34.625 \r\nQ 24.75 34.625 20.71875 30.859375 \r\nQ 16.703125 27.09375 16.703125 20.515625 \r\nQ 16.703125 13.921875 20.71875 10.15625 \r\nQ 24.75 6.390625 31.78125 6.390625 \r\nQ 38.8125 6.390625 42.859375 10.171875 \r\nQ 46.921875 13.96875 46.921875 20.515625 \r\nQ 46.921875 27.09375 42.890625 30.859375 \r\nQ 38.875 34.625 31.78125 34.625 \r\nz\r\nM 21.921875 38.8125 \r\nQ 15.578125 40.375 12.03125 44.71875 \r\nQ 8.5 49.078125 8.5 55.328125 \r\nQ 8.5 64.0625 14.71875 69.140625 \r\nQ 20.953125 74.21875 31.78125 74.21875 \r\nQ 42.671875 74.21875 48.875 69.140625 \r\nQ 55.078125 64.0625 55.078125 55.328125 \r\nQ 55.078125 49.078125 51.53125 44.71875 \r\nQ 48 40.375 41.703125 38.8125 \r\nQ 48.828125 37.15625 52.796875 32.3125 \r\nQ 56.78125 27.484375 56.78125 20.515625 \r\nQ 56.78125 9.90625 50.3125 4.234375 \r\nQ 43.84375 -1.421875 31.78125 -1.421875 \r\nQ 19.734375 -1.421875 13.25 4.234375 \r\nQ 6.78125 9.90625 6.78125 20.515625 \r\nQ 6.78125 27.484375 10.78125 32.3125 \r\nQ 14.796875 37.15625 21.921875 38.8125 \r\nz\r\nM 18.3125 54.390625 \r\nQ 18.3125 48.734375 21.84375 45.5625 \r\nQ 25.390625 42.390625 31.78125 42.390625 \r\nQ 38.140625 42.390625 41.71875 45.5625 \r\nQ 45.3125 48.734375 45.3125 54.390625 \r\nQ 45.3125 60.0625 41.71875 63.234375 \r\nQ 38.140625 66.40625 31.78125 66.40625 \r\nQ 25.390625 66.40625 21.84375 63.234375 \r\nQ 18.3125 60.0625 18.3125 54.390625 \r\nz\r\n\" id=\"DejaVuSans-56\"/>\r\n       </defs>\r\n       <use xlink:href=\"#DejaVuSans-50\"/>\r\n       <use x=\"63.623047\" xlink:href=\"#DejaVuSans-48\"/>\r\n       <use x=\"127.246094\" xlink:href=\"#DejaVuSans-48\"/>\r\n       <use x=\"190.869141\" xlink:href=\"#DejaVuSans-56\"/>\r\n      </g>\r\n     </g>\r\n    </g>\r\n    <g id=\"xtick_2\">\r\n     <g id=\"line2d_2\">\r\n      <g>\r\n       <use style=\"stroke:#000000;stroke-width:0.8;\" x=\"79.233894\" xlink:href=\"#mbb803af37e\" y=\"238.238437\"/>\r\n      </g>\r\n     </g>\r\n     <g id=\"text_2\">\r\n      <!-- 2009 -->\r\n      <g transform=\"translate(72.187133 268.607212)rotate(-45)scale(0.1 -0.1)\">\r\n       <defs>\r\n        <path d=\"M 10.984375 1.515625 \r\nL 10.984375 10.5 \r\nQ 14.703125 8.734375 18.5 7.8125 \r\nQ 22.3125 6.890625 25.984375 6.890625 \r\nQ 35.75 6.890625 40.890625 13.453125 \r\nQ 46.046875 20.015625 46.78125 33.40625 \r\nQ 43.953125 29.203125 39.59375 26.953125 \r\nQ 35.25 24.703125 29.984375 24.703125 \r\nQ 19.046875 24.703125 12.671875 31.3125 \r\nQ 6.296875 37.9375 6.296875 49.421875 \r\nQ 6.296875 60.640625 12.9375 67.421875 \r\nQ 19.578125 74.21875 30.609375 74.21875 \r\nQ 43.265625 74.21875 49.921875 64.515625 \r\nQ 56.59375 54.828125 56.59375 36.375 \r\nQ 56.59375 19.140625 48.40625 8.859375 \r\nQ 40.234375 -1.421875 26.421875 -1.421875 \r\nQ 22.703125 -1.421875 18.890625 -0.6875 \r\nQ 15.09375 0.046875 10.984375 1.515625 \r\nz\r\nM 30.609375 32.421875 \r\nQ 37.25 32.421875 41.125 36.953125 \r\nQ 45.015625 41.5 45.015625 49.421875 \r\nQ 45.015625 57.28125 41.125 61.84375 \r\nQ 37.25 66.40625 30.609375 66.40625 \r\nQ 23.96875 66.40625 20.09375 61.84375 \r\nQ 16.21875 57.28125 16.21875 49.421875 \r\nQ 16.21875 41.5 20.09375 36.953125 \r\nQ 23.96875 32.421875 30.609375 32.421875 \r\nz\r\n\" id=\"DejaVuSans-57\"/>\r\n       </defs>\r\n       <use xlink:href=\"#DejaVuSans-50\"/>\r\n       <use x=\"63.623047\" xlink:href=\"#DejaVuSans-48\"/>\r\n       <use x=\"127.246094\" xlink:href=\"#DejaVuSans-48\"/>\r\n       <use x=\"190.869141\" xlink:href=\"#DejaVuSans-57\"/>\r\n      </g>\r\n     </g>\r\n    </g>\r\n    <g id=\"xtick_3\">\r\n     <g id=\"line2d_3\">\r\n      <g>\r\n       <use style=\"stroke:#000000;stroke-width:0.8;\" x=\"104.98774\" xlink:href=\"#mbb803af37e\" y=\"238.238437\"/>\r\n      </g>\r\n     </g>\r\n     <g id=\"text_3\">\r\n      <!-- 2010 -->\r\n      <g transform=\"translate(97.940979 268.607212)rotate(-45)scale(0.1 -0.1)\">\r\n       <defs>\r\n        <path d=\"M 12.40625 8.296875 \r\nL 28.515625 8.296875 \r\nL 28.515625 63.921875 \r\nL 10.984375 60.40625 \r\nL 10.984375 69.390625 \r\nL 28.421875 72.90625 \r\nL 38.28125 72.90625 \r\nL 38.28125 8.296875 \r\nL 54.390625 8.296875 \r\nL 54.390625 0 \r\nL 12.40625 0 \r\nz\r\n\" id=\"DejaVuSans-49\"/>\r\n       </defs>\r\n       <use xlink:href=\"#DejaVuSans-50\"/>\r\n       <use x=\"63.623047\" xlink:href=\"#DejaVuSans-48\"/>\r\n       <use x=\"127.246094\" xlink:href=\"#DejaVuSans-49\"/>\r\n       <use x=\"190.869141\" xlink:href=\"#DejaVuSans-48\"/>\r\n      </g>\r\n     </g>\r\n    </g>\r\n    <g id=\"xtick_4\">\r\n     <g id=\"line2d_4\">\r\n      <g>\r\n       <use style=\"stroke:#000000;stroke-width:0.8;\" x=\"130.741587\" xlink:href=\"#mbb803af37e\" y=\"238.238437\"/>\r\n      </g>\r\n     </g>\r\n     <g id=\"text_4\">\r\n      <!-- 2011 -->\r\n      <g transform=\"translate(123.694826 268.607212)rotate(-45)scale(0.1 -0.1)\">\r\n       <use xlink:href=\"#DejaVuSans-50\"/>\r\n       <use x=\"63.623047\" xlink:href=\"#DejaVuSans-48\"/>\r\n       <use x=\"127.246094\" xlink:href=\"#DejaVuSans-49\"/>\r\n       <use x=\"190.869141\" xlink:href=\"#DejaVuSans-49\"/>\r\n      </g>\r\n     </g>\r\n    </g>\r\n    <g id=\"xtick_5\">\r\n     <g id=\"line2d_5\">\r\n      <g>\r\n       <use style=\"stroke:#000000;stroke-width:0.8;\" x=\"156.495433\" xlink:href=\"#mbb803af37e\" y=\"238.238437\"/>\r\n      </g>\r\n     </g>\r\n     <g id=\"text_5\">\r\n      <!-- 2012 -->\r\n      <g transform=\"translate(149.448672 268.607212)rotate(-45)scale(0.1 -0.1)\">\r\n       <use xlink:href=\"#DejaVuSans-50\"/>\r\n       <use x=\"63.623047\" xlink:href=\"#DejaVuSans-48\"/>\r\n       <use x=\"127.246094\" xlink:href=\"#DejaVuSans-49\"/>\r\n       <use x=\"190.869141\" xlink:href=\"#DejaVuSans-50\"/>\r\n      </g>\r\n     </g>\r\n    </g>\r\n    <g id=\"xtick_6\">\r\n     <g id=\"line2d_6\">\r\n      <g>\r\n       <use style=\"stroke:#000000;stroke-width:0.8;\" x=\"182.249279\" xlink:href=\"#mbb803af37e\" y=\"238.238437\"/>\r\n      </g>\r\n     </g>\r\n     <g id=\"text_6\">\r\n      <!-- 2013 -->\r\n      <g transform=\"translate(175.202518 268.607212)rotate(-45)scale(0.1 -0.1)\">\r\n       <defs>\r\n        <path d=\"M 40.578125 39.3125 \r\nQ 47.65625 37.796875 51.625 33 \r\nQ 55.609375 28.21875 55.609375 21.1875 \r\nQ 55.609375 10.40625 48.1875 4.484375 \r\nQ 40.765625 -1.421875 27.09375 -1.421875 \r\nQ 22.515625 -1.421875 17.65625 -0.515625 \r\nQ 12.796875 0.390625 7.625 2.203125 \r\nL 7.625 11.71875 \r\nQ 11.71875 9.328125 16.59375 8.109375 \r\nQ 21.484375 6.890625 26.8125 6.890625 \r\nQ 36.078125 6.890625 40.9375 10.546875 \r\nQ 45.796875 14.203125 45.796875 21.1875 \r\nQ 45.796875 27.640625 41.28125 31.265625 \r\nQ 36.765625 34.90625 28.71875 34.90625 \r\nL 20.21875 34.90625 \r\nL 20.21875 43.015625 \r\nL 29.109375 43.015625 \r\nQ 36.375 43.015625 40.234375 45.921875 \r\nQ 44.09375 48.828125 44.09375 54.296875 \r\nQ 44.09375 59.90625 40.109375 62.90625 \r\nQ 36.140625 65.921875 28.71875 65.921875 \r\nQ 24.65625 65.921875 20.015625 65.03125 \r\nQ 15.375 64.15625 9.8125 62.3125 \r\nL 9.8125 71.09375 \r\nQ 15.4375 72.65625 20.34375 73.4375 \r\nQ 25.25 74.21875 29.59375 74.21875 \r\nQ 40.828125 74.21875 47.359375 69.109375 \r\nQ 53.90625 64.015625 53.90625 55.328125 \r\nQ 53.90625 49.265625 50.4375 45.09375 \r\nQ 46.96875 40.921875 40.578125 39.3125 \r\nz\r\n\" id=\"DejaVuSans-51\"/>\r\n       </defs>\r\n       <use xlink:href=\"#DejaVuSans-50\"/>\r\n       <use x=\"63.623047\" xlink:href=\"#DejaVuSans-48\"/>\r\n       <use x=\"127.246094\" xlink:href=\"#DejaVuSans-49\"/>\r\n       <use x=\"190.869141\" xlink:href=\"#DejaVuSans-51\"/>\r\n      </g>\r\n     </g>\r\n    </g>\r\n    <g id=\"xtick_7\">\r\n     <g id=\"line2d_7\">\r\n      <g>\r\n       <use style=\"stroke:#000000;stroke-width:0.8;\" x=\"208.003125\" xlink:href=\"#mbb803af37e\" y=\"238.238437\"/>\r\n      </g>\r\n     </g>\r\n     <g id=\"text_7\">\r\n      <!-- 2014 -->\r\n      <g transform=\"translate(200.956364 268.607212)rotate(-45)scale(0.1 -0.1)\">\r\n       <defs>\r\n        <path d=\"M 37.796875 64.3125 \r\nL 12.890625 25.390625 \r\nL 37.796875 25.390625 \r\nz\r\nM 35.203125 72.90625 \r\nL 47.609375 72.90625 \r\nL 47.609375 25.390625 \r\nL 58.015625 25.390625 \r\nL 58.015625 17.1875 \r\nL 47.609375 17.1875 \r\nL 47.609375 0 \r\nL 37.796875 0 \r\nL 37.796875 17.1875 \r\nL 4.890625 17.1875 \r\nL 4.890625 26.703125 \r\nz\r\n\" id=\"DejaVuSans-52\"/>\r\n       </defs>\r\n       <use xlink:href=\"#DejaVuSans-50\"/>\r\n       <use x=\"63.623047\" xlink:href=\"#DejaVuSans-48\"/>\r\n       <use x=\"127.246094\" xlink:href=\"#DejaVuSans-49\"/>\r\n       <use x=\"190.869141\" xlink:href=\"#DejaVuSans-52\"/>\r\n      </g>\r\n     </g>\r\n    </g>\r\n    <g id=\"xtick_8\">\r\n     <g id=\"line2d_8\">\r\n      <g>\r\n       <use style=\"stroke:#000000;stroke-width:0.8;\" x=\"233.756971\" xlink:href=\"#mbb803af37e\" y=\"238.238437\"/>\r\n      </g>\r\n     </g>\r\n     <g id=\"text_8\">\r\n      <!-- 2015 -->\r\n      <g transform=\"translate(226.71021 268.607212)rotate(-45)scale(0.1 -0.1)\">\r\n       <defs>\r\n        <path d=\"M 10.796875 72.90625 \r\nL 49.515625 72.90625 \r\nL 49.515625 64.59375 \r\nL 19.828125 64.59375 \r\nL 19.828125 46.734375 \r\nQ 21.96875 47.46875 24.109375 47.828125 \r\nQ 26.265625 48.1875 28.421875 48.1875 \r\nQ 40.625 48.1875 47.75 41.5 \r\nQ 54.890625 34.8125 54.890625 23.390625 \r\nQ 54.890625 11.625 47.5625 5.09375 \r\nQ 40.234375 -1.421875 26.90625 -1.421875 \r\nQ 22.3125 -1.421875 17.546875 -0.640625 \r\nQ 12.796875 0.140625 7.71875 1.703125 \r\nL 7.71875 11.625 \r\nQ 12.109375 9.234375 16.796875 8.0625 \r\nQ 21.484375 6.890625 26.703125 6.890625 \r\nQ 35.15625 6.890625 40.078125 11.328125 \r\nQ 45.015625 15.765625 45.015625 23.390625 \r\nQ 45.015625 31 40.078125 35.4375 \r\nQ 35.15625 39.890625 26.703125 39.890625 \r\nQ 22.75 39.890625 18.8125 39.015625 \r\nQ 14.890625 38.140625 10.796875 36.28125 \r\nz\r\n\" id=\"DejaVuSans-53\"/>\r\n       </defs>\r\n       <use xlink:href=\"#DejaVuSans-50\"/>\r\n       <use x=\"63.623047\" xlink:href=\"#DejaVuSans-48\"/>\r\n       <use x=\"127.246094\" xlink:href=\"#DejaVuSans-49\"/>\r\n       <use x=\"190.869141\" xlink:href=\"#DejaVuSans-53\"/>\r\n      </g>\r\n     </g>\r\n    </g>\r\n    <g id=\"xtick_9\">\r\n     <g id=\"line2d_9\">\r\n      <g>\r\n       <use style=\"stroke:#000000;stroke-width:0.8;\" x=\"259.510817\" xlink:href=\"#mbb803af37e\" y=\"238.238437\"/>\r\n      </g>\r\n     </g>\r\n     <g id=\"text_9\">\r\n      <!-- 2016 -->\r\n      <g transform=\"translate(252.464056 268.607212)rotate(-45)scale(0.1 -0.1)\">\r\n       <defs>\r\n        <path d=\"M 33.015625 40.375 \r\nQ 26.375 40.375 22.484375 35.828125 \r\nQ 18.609375 31.296875 18.609375 23.390625 \r\nQ 18.609375 15.53125 22.484375 10.953125 \r\nQ 26.375 6.390625 33.015625 6.390625 \r\nQ 39.65625 6.390625 43.53125 10.953125 \r\nQ 47.40625 15.53125 47.40625 23.390625 \r\nQ 47.40625 31.296875 43.53125 35.828125 \r\nQ 39.65625 40.375 33.015625 40.375 \r\nz\r\nM 52.59375 71.296875 \r\nL 52.59375 62.3125 \r\nQ 48.875 64.0625 45.09375 64.984375 \r\nQ 41.3125 65.921875 37.59375 65.921875 \r\nQ 27.828125 65.921875 22.671875 59.328125 \r\nQ 17.53125 52.734375 16.796875 39.40625 \r\nQ 19.671875 43.65625 24.015625 45.921875 \r\nQ 28.375 48.1875 33.59375 48.1875 \r\nQ 44.578125 48.1875 50.953125 41.515625 \r\nQ 57.328125 34.859375 57.328125 23.390625 \r\nQ 57.328125 12.15625 50.6875 5.359375 \r\nQ 44.046875 -1.421875 33.015625 -1.421875 \r\nQ 20.359375 -1.421875 13.671875 8.265625 \r\nQ 6.984375 17.96875 6.984375 36.375 \r\nQ 6.984375 53.65625 15.1875 63.9375 \r\nQ 23.390625 74.21875 37.203125 74.21875 \r\nQ 40.921875 74.21875 44.703125 73.484375 \r\nQ 48.484375 72.75 52.59375 71.296875 \r\nz\r\n\" id=\"DejaVuSans-54\"/>\r\n       </defs>\r\n       <use xlink:href=\"#DejaVuSans-50\"/>\r\n       <use x=\"63.623047\" xlink:href=\"#DejaVuSans-48\"/>\r\n       <use x=\"127.246094\" xlink:href=\"#DejaVuSans-49\"/>\r\n       <use x=\"190.869141\" xlink:href=\"#DejaVuSans-54\"/>\r\n      </g>\r\n     </g>\r\n    </g>\r\n    <g id=\"xtick_10\">\r\n     <g id=\"line2d_10\">\r\n      <g>\r\n       <use style=\"stroke:#000000;stroke-width:0.8;\" x=\"285.264663\" xlink:href=\"#mbb803af37e\" y=\"238.238437\"/>\r\n      </g>\r\n     </g>\r\n     <g id=\"text_10\">\r\n      <!-- 2017 -->\r\n      <g transform=\"translate(278.217902 268.607212)rotate(-45)scale(0.1 -0.1)\">\r\n       <defs>\r\n        <path d=\"M 8.203125 72.90625 \r\nL 55.078125 72.90625 \r\nL 55.078125 68.703125 \r\nL 28.609375 0 \r\nL 18.3125 0 \r\nL 43.21875 64.59375 \r\nL 8.203125 64.59375 \r\nz\r\n\" id=\"DejaVuSans-55\"/>\r\n       </defs>\r\n       <use xlink:href=\"#DejaVuSans-50\"/>\r\n       <use x=\"63.623047\" xlink:href=\"#DejaVuSans-48\"/>\r\n       <use x=\"127.246094\" xlink:href=\"#DejaVuSans-49\"/>\r\n       <use x=\"190.869141\" xlink:href=\"#DejaVuSans-55\"/>\r\n      </g>\r\n     </g>\r\n    </g>\r\n    <g id=\"xtick_11\">\r\n     <g id=\"line2d_11\">\r\n      <g>\r\n       <use style=\"stroke:#000000;stroke-width:0.8;\" x=\"311.01851\" xlink:href=\"#mbb803af37e\" y=\"238.238437\"/>\r\n      </g>\r\n     </g>\r\n     <g id=\"text_11\">\r\n      <!-- 2018 -->\r\n      <g transform=\"translate(303.971749 268.607212)rotate(-45)scale(0.1 -0.1)\">\r\n       <use xlink:href=\"#DejaVuSans-50\"/>\r\n       <use x=\"63.623047\" xlink:href=\"#DejaVuSans-48\"/>\r\n       <use x=\"127.246094\" xlink:href=\"#DejaVuSans-49\"/>\r\n       <use x=\"190.869141\" xlink:href=\"#DejaVuSans-56\"/>\r\n      </g>\r\n     </g>\r\n    </g>\r\n    <g id=\"xtick_12\">\r\n     <g id=\"line2d_12\">\r\n      <g>\r\n       <use style=\"stroke:#000000;stroke-width:0.8;\" x=\"336.772356\" xlink:href=\"#mbb803af37e\" y=\"238.238437\"/>\r\n      </g>\r\n     </g>\r\n     <g id=\"text_12\">\r\n      <!-- 2019 -->\r\n      <g transform=\"translate(329.725595 268.607212)rotate(-45)scale(0.1 -0.1)\">\r\n       <use xlink:href=\"#DejaVuSans-50\"/>\r\n       <use x=\"63.623047\" xlink:href=\"#DejaVuSans-48\"/>\r\n       <use x=\"127.246094\" xlink:href=\"#DejaVuSans-49\"/>\r\n       <use x=\"190.869141\" xlink:href=\"#DejaVuSans-57\"/>\r\n      </g>\r\n     </g>\r\n    </g>\r\n    <g id=\"xtick_13\">\r\n     <g id=\"line2d_13\">\r\n      <g>\r\n       <use style=\"stroke:#000000;stroke-width:0.8;\" x=\"362.526202\" xlink:href=\"#mbb803af37e\" y=\"238.238437\"/>\r\n      </g>\r\n     </g>\r\n     <g id=\"text_13\">\r\n      <!-- 2020 -->\r\n      <g transform=\"translate(355.479441 268.607212)rotate(-45)scale(0.1 -0.1)\">\r\n       <use xlink:href=\"#DejaVuSans-50\"/>\r\n       <use x=\"63.623047\" xlink:href=\"#DejaVuSans-48\"/>\r\n       <use x=\"127.246094\" xlink:href=\"#DejaVuSans-50\"/>\r\n       <use x=\"190.869141\" xlink:href=\"#DejaVuSans-48\"/>\r\n      </g>\r\n     </g>\r\n    </g>\r\n    <g id=\"text_14\">\r\n     <!-- Season -->\r\n     <g transform=\"translate(189.855469 281.67621)scale(0.1 -0.1)\">\r\n      <defs>\r\n       <path d=\"M 53.515625 70.515625 \r\nL 53.515625 60.890625 \r\nQ 47.90625 63.578125 42.921875 64.890625 \r\nQ 37.9375 66.21875 33.296875 66.21875 \r\nQ 25.25 66.21875 20.875 63.09375 \r\nQ 16.5 59.96875 16.5 54.203125 \r\nQ 16.5 49.359375 19.40625 46.890625 \r\nQ 22.3125 44.4375 30.421875 42.921875 \r\nL 36.375 41.703125 \r\nQ 47.40625 39.59375 52.65625 34.296875 \r\nQ 57.90625 29 57.90625 20.125 \r\nQ 57.90625 9.515625 50.796875 4.046875 \r\nQ 43.703125 -1.421875 29.984375 -1.421875 \r\nQ 24.8125 -1.421875 18.96875 -0.25 \r\nQ 13.140625 0.921875 6.890625 3.21875 \r\nL 6.890625 13.375 \r\nQ 12.890625 10.015625 18.65625 8.296875 \r\nQ 24.421875 6.59375 29.984375 6.59375 \r\nQ 38.421875 6.59375 43.015625 9.90625 \r\nQ 47.609375 13.234375 47.609375 19.390625 \r\nQ 47.609375 24.75 44.3125 27.78125 \r\nQ 41.015625 30.8125 33.5 32.328125 \r\nL 27.484375 33.5 \r\nQ 16.453125 35.6875 11.515625 40.375 \r\nQ 6.59375 45.0625 6.59375 53.421875 \r\nQ 6.59375 63.09375 13.40625 68.65625 \r\nQ 20.21875 74.21875 32.171875 74.21875 \r\nQ 37.3125 74.21875 42.625 73.28125 \r\nQ 47.953125 72.359375 53.515625 70.515625 \r\nz\r\n\" id=\"DejaVuSans-83\"/>\r\n       <path d=\"M 56.203125 29.59375 \r\nL 56.203125 25.203125 \r\nL 14.890625 25.203125 \r\nQ 15.484375 15.921875 20.484375 11.0625 \r\nQ 25.484375 6.203125 34.421875 6.203125 \r\nQ 39.59375 6.203125 44.453125 7.46875 \r\nQ 49.3125 8.734375 54.109375 11.28125 \r\nL 54.109375 2.78125 \r\nQ 49.265625 0.734375 44.1875 -0.34375 \r\nQ 39.109375 -1.421875 33.890625 -1.421875 \r\nQ 20.796875 -1.421875 13.15625 6.1875 \r\nQ 5.515625 13.8125 5.515625 26.8125 \r\nQ 5.515625 40.234375 12.765625 48.109375 \r\nQ 20.015625 56 32.328125 56 \r\nQ 43.359375 56 49.78125 48.890625 \r\nQ 56.203125 41.796875 56.203125 29.59375 \r\nz\r\nM 47.21875 32.234375 \r\nQ 47.125 39.59375 43.09375 43.984375 \r\nQ 39.0625 48.390625 32.421875 48.390625 \r\nQ 24.90625 48.390625 20.390625 44.140625 \r\nQ 15.875 39.890625 15.1875 32.171875 \r\nz\r\n\" id=\"DejaVuSans-101\"/>\r\n       <path d=\"M 34.28125 27.484375 \r\nQ 23.390625 27.484375 19.1875 25 \r\nQ 14.984375 22.515625 14.984375 16.5 \r\nQ 14.984375 11.71875 18.140625 8.90625 \r\nQ 21.296875 6.109375 26.703125 6.109375 \r\nQ 34.1875 6.109375 38.703125 11.40625 \r\nQ 43.21875 16.703125 43.21875 25.484375 \r\nL 43.21875 27.484375 \r\nz\r\nM 52.203125 31.203125 \r\nL 52.203125 0 \r\nL 43.21875 0 \r\nL 43.21875 8.296875 \r\nQ 40.140625 3.328125 35.546875 0.953125 \r\nQ 30.953125 -1.421875 24.3125 -1.421875 \r\nQ 15.921875 -1.421875 10.953125 3.296875 \r\nQ 6 8.015625 6 15.921875 \r\nQ 6 25.140625 12.171875 29.828125 \r\nQ 18.359375 34.515625 30.609375 34.515625 \r\nL 43.21875 34.515625 \r\nL 43.21875 35.40625 \r\nQ 43.21875 41.609375 39.140625 45 \r\nQ 35.0625 48.390625 27.6875 48.390625 \r\nQ 23 48.390625 18.546875 47.265625 \r\nQ 14.109375 46.140625 10.015625 43.890625 \r\nL 10.015625 52.203125 \r\nQ 14.9375 54.109375 19.578125 55.046875 \r\nQ 24.21875 56 28.609375 56 \r\nQ 40.484375 56 46.34375 49.84375 \r\nQ 52.203125 43.703125 52.203125 31.203125 \r\nz\r\n\" id=\"DejaVuSans-97\"/>\r\n       <path d=\"M 44.28125 53.078125 \r\nL 44.28125 44.578125 \r\nQ 40.484375 46.53125 36.375 47.5 \r\nQ 32.28125 48.484375 27.875 48.484375 \r\nQ 21.1875 48.484375 17.84375 46.4375 \r\nQ 14.5 44.390625 14.5 40.28125 \r\nQ 14.5 37.15625 16.890625 35.375 \r\nQ 19.28125 33.59375 26.515625 31.984375 \r\nL 29.59375 31.296875 \r\nQ 39.15625 29.25 43.1875 25.515625 \r\nQ 47.21875 21.78125 47.21875 15.09375 \r\nQ 47.21875 7.46875 41.1875 3.015625 \r\nQ 35.15625 -1.421875 24.609375 -1.421875 \r\nQ 20.21875 -1.421875 15.453125 -0.5625 \r\nQ 10.6875 0.296875 5.421875 2 \r\nL 5.421875 11.28125 \r\nQ 10.40625 8.6875 15.234375 7.390625 \r\nQ 20.0625 6.109375 24.8125 6.109375 \r\nQ 31.15625 6.109375 34.5625 8.28125 \r\nQ 37.984375 10.453125 37.984375 14.40625 \r\nQ 37.984375 18.0625 35.515625 20.015625 \r\nQ 33.0625 21.96875 24.703125 23.78125 \r\nL 21.578125 24.515625 \r\nQ 13.234375 26.265625 9.515625 29.90625 \r\nQ 5.8125 33.546875 5.8125 39.890625 \r\nQ 5.8125 47.609375 11.28125 51.796875 \r\nQ 16.75 56 26.8125 56 \r\nQ 31.78125 56 36.171875 55.265625 \r\nQ 40.578125 54.546875 44.28125 53.078125 \r\nz\r\n\" id=\"DejaVuSans-115\"/>\r\n       <path d=\"M 30.609375 48.390625 \r\nQ 23.390625 48.390625 19.1875 42.75 \r\nQ 14.984375 37.109375 14.984375 27.296875 \r\nQ 14.984375 17.484375 19.15625 11.84375 \r\nQ 23.34375 6.203125 30.609375 6.203125 \r\nQ 37.796875 6.203125 41.984375 11.859375 \r\nQ 46.1875 17.53125 46.1875 27.296875 \r\nQ 46.1875 37.015625 41.984375 42.703125 \r\nQ 37.796875 48.390625 30.609375 48.390625 \r\nz\r\nM 30.609375 56 \r\nQ 42.328125 56 49.015625 48.375 \r\nQ 55.71875 40.765625 55.71875 27.296875 \r\nQ 55.71875 13.875 49.015625 6.21875 \r\nQ 42.328125 -1.421875 30.609375 -1.421875 \r\nQ 18.84375 -1.421875 12.171875 6.21875 \r\nQ 5.515625 13.875 5.515625 27.296875 \r\nQ 5.515625 40.765625 12.171875 48.375 \r\nQ 18.84375 56 30.609375 56 \r\nz\r\n\" id=\"DejaVuSans-111\"/>\r\n       <path d=\"M 54.890625 33.015625 \r\nL 54.890625 0 \r\nL 45.90625 0 \r\nL 45.90625 32.71875 \r\nQ 45.90625 40.484375 42.875 44.328125 \r\nQ 39.84375 48.1875 33.796875 48.1875 \r\nQ 26.515625 48.1875 22.3125 43.546875 \r\nQ 18.109375 38.921875 18.109375 30.90625 \r\nL 18.109375 0 \r\nL 9.078125 0 \r\nL 9.078125 54.6875 \r\nL 18.109375 54.6875 \r\nL 18.109375 46.1875 \r\nQ 21.34375 51.125 25.703125 53.5625 \r\nQ 30.078125 56 35.796875 56 \r\nQ 45.21875 56 50.046875 50.171875 \r\nQ 54.890625 44.34375 54.890625 33.015625 \r\nz\r\n\" id=\"DejaVuSans-110\"/>\r\n      </defs>\r\n      <use xlink:href=\"#DejaVuSans-83\"/>\r\n      <use x=\"63.476562\" xlink:href=\"#DejaVuSans-101\"/>\r\n      <use x=\"125\" xlink:href=\"#DejaVuSans-97\"/>\r\n      <use x=\"186.279297\" xlink:href=\"#DejaVuSans-115\"/>\r\n      <use x=\"238.378906\" xlink:href=\"#DejaVuSans-111\"/>\r\n      <use x=\"299.560547\" xlink:href=\"#DejaVuSans-110\"/>\r\n     </g>\r\n    </g>\r\n   </g>\r\n   <g id=\"matplotlib.axis_2\">\r\n    <g id=\"ytick_1\">\r\n     <g id=\"line2d_14\">\r\n      <defs>\r\n       <path d=\"M 0 0 \r\nL -3.5 0 \r\n\" id=\"mce68f14ee5\" style=\"stroke:#000000;stroke-width:0.8;\"/>\r\n      </defs>\r\n      <g>\r\n       <use style=\"stroke:#000000;stroke-width:0.8;\" x=\"40.603125\" xlink:href=\"#mce68f14ee5\" y=\"238.238437\"/>\r\n      </g>\r\n     </g>\r\n     <g id=\"text_15\">\r\n      <!-- 0 -->\r\n      <g transform=\"translate(27.240625 242.037656)scale(0.1 -0.1)\">\r\n       <use xlink:href=\"#DejaVuSans-48\"/>\r\n      </g>\r\n     </g>\r\n    </g>\r\n    <g id=\"ytick_2\">\r\n     <g id=\"line2d_15\">\r\n      <g>\r\n       <use style=\"stroke:#000000;stroke-width:0.8;\" x=\"40.603125\" xlink:href=\"#mce68f14ee5\" y=\"210.990317\"/>\r\n      </g>\r\n     </g>\r\n     <g id=\"text_16\">\r\n      <!-- 10 -->\r\n      <g transform=\"translate(20.878125 214.789536)scale(0.1 -0.1)\">\r\n       <use xlink:href=\"#DejaVuSans-49\"/>\r\n       <use x=\"63.623047\" xlink:href=\"#DejaVuSans-48\"/>\r\n      </g>\r\n     </g>\r\n    </g>\r\n    <g id=\"ytick_3\">\r\n     <g id=\"line2d_16\">\r\n      <g>\r\n       <use style=\"stroke:#000000;stroke-width:0.8;\" x=\"40.603125\" xlink:href=\"#mce68f14ee5\" y=\"183.742197\"/>\r\n      </g>\r\n     </g>\r\n     <g id=\"text_17\">\r\n      <!-- 20 -->\r\n      <g transform=\"translate(20.878125 187.541416)scale(0.1 -0.1)\">\r\n       <use xlink:href=\"#DejaVuSans-50\"/>\r\n       <use x=\"63.623047\" xlink:href=\"#DejaVuSans-48\"/>\r\n      </g>\r\n     </g>\r\n    </g>\r\n    <g id=\"ytick_4\">\r\n     <g id=\"line2d_17\">\r\n      <g>\r\n       <use style=\"stroke:#000000;stroke-width:0.8;\" x=\"40.603125\" xlink:href=\"#mce68f14ee5\" y=\"156.494077\"/>\r\n      </g>\r\n     </g>\r\n     <g id=\"text_18\">\r\n      <!-- 30 -->\r\n      <g transform=\"translate(20.878125 160.293295)scale(0.1 -0.1)\">\r\n       <use xlink:href=\"#DejaVuSans-51\"/>\r\n       <use x=\"63.623047\" xlink:href=\"#DejaVuSans-48\"/>\r\n      </g>\r\n     </g>\r\n    </g>\r\n    <g id=\"ytick_5\">\r\n     <g id=\"line2d_18\">\r\n      <g>\r\n       <use style=\"stroke:#000000;stroke-width:0.8;\" x=\"40.603125\" xlink:href=\"#mce68f14ee5\" y=\"129.245956\"/>\r\n      </g>\r\n     </g>\r\n     <g id=\"text_19\">\r\n      <!-- 40 -->\r\n      <g transform=\"translate(20.878125 133.045175)scale(0.1 -0.1)\">\r\n       <use xlink:href=\"#DejaVuSans-52\"/>\r\n       <use x=\"63.623047\" xlink:href=\"#DejaVuSans-48\"/>\r\n      </g>\r\n     </g>\r\n    </g>\r\n    <g id=\"ytick_6\">\r\n     <g id=\"line2d_19\">\r\n      <g>\r\n       <use style=\"stroke:#000000;stroke-width:0.8;\" x=\"40.603125\" xlink:href=\"#mce68f14ee5\" y=\"101.997836\"/>\r\n      </g>\r\n     </g>\r\n     <g id=\"text_20\">\r\n      <!-- 50 -->\r\n      <g transform=\"translate(20.878125 105.797055)scale(0.1 -0.1)\">\r\n       <use xlink:href=\"#DejaVuSans-53\"/>\r\n       <use x=\"63.623047\" xlink:href=\"#DejaVuSans-48\"/>\r\n      </g>\r\n     </g>\r\n    </g>\r\n    <g id=\"ytick_7\">\r\n     <g id=\"line2d_20\">\r\n      <g>\r\n       <use style=\"stroke:#000000;stroke-width:0.8;\" x=\"40.603125\" xlink:href=\"#mce68f14ee5\" y=\"74.749716\"/>\r\n      </g>\r\n     </g>\r\n     <g id=\"text_21\">\r\n      <!-- 60 -->\r\n      <g transform=\"translate(20.878125 78.548934)scale(0.1 -0.1)\">\r\n       <use xlink:href=\"#DejaVuSans-54\"/>\r\n       <use x=\"63.623047\" xlink:href=\"#DejaVuSans-48\"/>\r\n      </g>\r\n     </g>\r\n    </g>\r\n    <g id=\"ytick_8\">\r\n     <g id=\"line2d_21\">\r\n      <g>\r\n       <use style=\"stroke:#000000;stroke-width:0.8;\" x=\"40.603125\" xlink:href=\"#mce68f14ee5\" y=\"47.501595\"/>\r\n      </g>\r\n     </g>\r\n     <g id=\"text_22\">\r\n      <!-- 70 -->\r\n      <g transform=\"translate(20.878125 51.300814)scale(0.1 -0.1)\">\r\n       <use xlink:href=\"#DejaVuSans-55\"/>\r\n       <use x=\"63.623047\" xlink:href=\"#DejaVuSans-48\"/>\r\n      </g>\r\n     </g>\r\n    </g>\r\n    <g id=\"text_23\">\r\n     <!-- Count -->\r\n     <g transform=\"translate(14.798438 144.366875)rotate(-90)scale(0.1 -0.1)\">\r\n      <defs>\r\n       <path d=\"M 64.40625 67.28125 \r\nL 64.40625 56.890625 \r\nQ 59.421875 61.53125 53.78125 63.8125 \r\nQ 48.140625 66.109375 41.796875 66.109375 \r\nQ 29.296875 66.109375 22.65625 58.46875 \r\nQ 16.015625 50.828125 16.015625 36.375 \r\nQ 16.015625 21.96875 22.65625 14.328125 \r\nQ 29.296875 6.6875 41.796875 6.6875 \r\nQ 48.140625 6.6875 53.78125 8.984375 \r\nQ 59.421875 11.28125 64.40625 15.921875 \r\nL 64.40625 5.609375 \r\nQ 59.234375 2.09375 53.4375 0.328125 \r\nQ 47.65625 -1.421875 41.21875 -1.421875 \r\nQ 24.65625 -1.421875 15.125 8.703125 \r\nQ 5.609375 18.84375 5.609375 36.375 \r\nQ 5.609375 53.953125 15.125 64.078125 \r\nQ 24.65625 74.21875 41.21875 74.21875 \r\nQ 47.75 74.21875 53.53125 72.484375 \r\nQ 59.328125 70.75 64.40625 67.28125 \r\nz\r\n\" id=\"DejaVuSans-67\"/>\r\n       <path d=\"M 8.5 21.578125 \r\nL 8.5 54.6875 \r\nL 17.484375 54.6875 \r\nL 17.484375 21.921875 \r\nQ 17.484375 14.15625 20.5 10.265625 \r\nQ 23.53125 6.390625 29.59375 6.390625 \r\nQ 36.859375 6.390625 41.078125 11.03125 \r\nQ 45.3125 15.671875 45.3125 23.6875 \r\nL 45.3125 54.6875 \r\nL 54.296875 54.6875 \r\nL 54.296875 0 \r\nL 45.3125 0 \r\nL 45.3125 8.40625 \r\nQ 42.046875 3.421875 37.71875 1 \r\nQ 33.40625 -1.421875 27.6875 -1.421875 \r\nQ 18.265625 -1.421875 13.375 4.4375 \r\nQ 8.5 10.296875 8.5 21.578125 \r\nz\r\nM 31.109375 56 \r\nz\r\n\" id=\"DejaVuSans-117\"/>\r\n       <path d=\"M 18.3125 70.21875 \r\nL 18.3125 54.6875 \r\nL 36.8125 54.6875 \r\nL 36.8125 47.703125 \r\nL 18.3125 47.703125 \r\nL 18.3125 18.015625 \r\nQ 18.3125 11.328125 20.140625 9.421875 \r\nQ 21.96875 7.515625 27.59375 7.515625 \r\nL 36.8125 7.515625 \r\nL 36.8125 0 \r\nL 27.59375 0 \r\nQ 17.1875 0 13.234375 3.875 \r\nQ 9.28125 7.765625 9.28125 18.015625 \r\nL 9.28125 47.703125 \r\nL 2.6875 47.703125 \r\nL 2.6875 54.6875 \r\nL 9.28125 54.6875 \r\nL 9.28125 70.21875 \r\nz\r\n\" id=\"DejaVuSans-116\"/>\r\n      </defs>\r\n      <use xlink:href=\"#DejaVuSans-67\"/>\r\n      <use x=\"69.824219\" xlink:href=\"#DejaVuSans-111\"/>\r\n      <use x=\"131.005859\" xlink:href=\"#DejaVuSans-117\"/>\r\n      <use x=\"194.384766\" xlink:href=\"#DejaVuSans-110\"/>\r\n      <use x=\"257.763672\" xlink:href=\"#DejaVuSans-116\"/>\r\n     </g>\r\n    </g>\r\n   </g>\r\n   <g id=\"patch_16\">\r\n    <path d=\"M 40.603125 238.238437 \r\nL 40.603125 20.798437 \r\n\" style=\"fill:none;stroke:#000000;stroke-linecap:square;stroke-linejoin:miter;stroke-width:0.8;\"/>\r\n   </g>\r\n   <g id=\"patch_17\">\r\n    <path d=\"M 375.403125 238.238437 \r\nL 375.403125 20.798437 \r\n\" style=\"fill:none;stroke:#000000;stroke-linecap:square;stroke-linejoin:miter;stroke-width:0.8;\"/>\r\n   </g>\r\n   <g id=\"patch_18\">\r\n    <path d=\"M 40.603125 238.238437 \r\nL 375.403125 238.238437 \r\n\" style=\"fill:none;stroke:#000000;stroke-linecap:square;stroke-linejoin:miter;stroke-width:0.8;\"/>\r\n   </g>\r\n   <g id=\"patch_19\">\r\n    <path d=\"M 40.603125 20.798437 \r\nL 375.403125 20.798437 \r\n\" style=\"fill:none;stroke:#000000;stroke-linecap:square;stroke-linejoin:miter;stroke-width:0.8;\"/>\r\n   </g>\r\n   <g id=\"text_24\">\r\n    <!-- Total Matches Played Each Season -->\r\n    <g transform=\"translate(111.271875 14.798437)scale(0.1 -0.1)\">\r\n     <defs>\r\n      <path d=\"M 0.484375 72.90625 \r\nL 67.671875 72.90625 \r\nL 67.671875 58.6875 \r\nL 43.5 58.6875 \r\nL 43.5 0 \r\nL 24.703125 0 \r\nL 24.703125 58.6875 \r\nL 0.484375 58.6875 \r\nz\r\n\" id=\"DejaVuSans-Bold-84\"/>\r\n      <path d=\"M 34.421875 43.5 \r\nQ 28.609375 43.5 25.5625 39.328125 \r\nQ 22.515625 35.15625 22.515625 27.296875 \r\nQ 22.515625 19.4375 25.5625 15.25 \r\nQ 28.609375 11.078125 34.421875 11.078125 \r\nQ 40.140625 11.078125 43.15625 15.25 \r\nQ 46.1875 19.4375 46.1875 27.296875 \r\nQ 46.1875 35.15625 43.15625 39.328125 \r\nQ 40.140625 43.5 34.421875 43.5 \r\nz\r\nM 34.421875 56 \r\nQ 48.53125 56 56.46875 48.375 \r\nQ 64.40625 40.765625 64.40625 27.296875 \r\nQ 64.40625 13.8125 56.46875 6.1875 \r\nQ 48.53125 -1.421875 34.421875 -1.421875 \r\nQ 20.265625 -1.421875 12.28125 6.1875 \r\nQ 4.296875 13.8125 4.296875 27.296875 \r\nQ 4.296875 40.765625 12.28125 48.375 \r\nQ 20.265625 56 34.421875 56 \r\nz\r\n\" id=\"DejaVuSans-Bold-111\"/>\r\n      <path d=\"M 27.484375 70.21875 \r\nL 27.484375 54.6875 \r\nL 45.515625 54.6875 \r\nL 45.515625 42.1875 \r\nL 27.484375 42.1875 \r\nL 27.484375 19 \r\nQ 27.484375 15.1875 29 13.84375 \r\nQ 30.515625 12.5 35.015625 12.5 \r\nL 44 12.5 \r\nL 44 0 \r\nL 29 0 \r\nQ 18.65625 0 14.328125 4.3125 \r\nQ 10.015625 8.640625 10.015625 19 \r\nL 10.015625 42.1875 \r\nL 1.3125 42.1875 \r\nL 1.3125 54.6875 \r\nL 10.015625 54.6875 \r\nL 10.015625 70.21875 \r\nz\r\n\" id=\"DejaVuSans-Bold-116\"/>\r\n      <path d=\"M 32.90625 24.609375 \r\nQ 27.4375 24.609375 24.671875 22.75 \r\nQ 21.921875 20.90625 21.921875 17.28125 \r\nQ 21.921875 13.96875 24.140625 12.078125 \r\nQ 26.375 10.203125 30.328125 10.203125 \r\nQ 35.25 10.203125 38.625 13.734375 \r\nQ 42 17.28125 42 22.609375 \r\nL 42 24.609375 \r\nz\r\nM 59.625 31.203125 \r\nL 59.625 0 \r\nL 42 0 \r\nL 42 8.109375 \r\nQ 38.484375 3.125 34.078125 0.84375 \r\nQ 29.6875 -1.421875 23.390625 -1.421875 \r\nQ 14.890625 -1.421875 9.59375 3.53125 \r\nQ 4.296875 8.5 4.296875 16.40625 \r\nQ 4.296875 26.03125 10.90625 30.515625 \r\nQ 17.53125 35.015625 31.6875 35.015625 \r\nL 42 35.015625 \r\nL 42 36.375 \r\nQ 42 40.53125 38.71875 42.453125 \r\nQ 35.453125 44.390625 28.515625 44.390625 \r\nQ 22.90625 44.390625 18.0625 43.265625 \r\nQ 13.234375 42.140625 9.078125 39.890625 \r\nL 9.078125 53.21875 \r\nQ 14.703125 54.59375 20.359375 55.296875 \r\nQ 26.03125 56 31.6875 56 \r\nQ 46.484375 56 53.046875 50.171875 \r\nQ 59.625 44.34375 59.625 31.203125 \r\nz\r\n\" id=\"DejaVuSans-Bold-97\"/>\r\n      <path d=\"M 8.40625 75.984375 \r\nL 25.875 75.984375 \r\nL 25.875 0 \r\nL 8.40625 0 \r\nz\r\n\" id=\"DejaVuSans-Bold-108\"/>\r\n      <path id=\"DejaVuSans-Bold-32\"/>\r\n      <path d=\"M 9.1875 72.90625 \r\nL 33.109375 72.90625 \r\nL 49.703125 33.890625 \r\nL 66.40625 72.90625 \r\nL 90.28125 72.90625 \r\nL 90.28125 0 \r\nL 72.515625 0 \r\nL 72.515625 53.328125 \r\nL 55.71875 14.015625 \r\nL 43.796875 14.015625 \r\nL 27 53.328125 \r\nL 27 0 \r\nL 9.1875 0 \r\nz\r\n\" id=\"DejaVuSans-Bold-77\"/>\r\n      <path d=\"M 52.59375 52.984375 \r\nL 52.59375 38.71875 \r\nQ 49.03125 41.15625 45.4375 42.328125 \r\nQ 41.84375 43.5 37.984375 43.5 \r\nQ 30.671875 43.5 26.59375 39.234375 \r\nQ 22.515625 34.96875 22.515625 27.296875 \r\nQ 22.515625 19.625 26.59375 15.34375 \r\nQ 30.671875 11.078125 37.984375 11.078125 \r\nQ 42.09375 11.078125 45.78125 12.296875 \r\nQ 49.46875 13.53125 52.59375 15.921875 \r\nL 52.59375 1.609375 \r\nQ 48.484375 0.09375 44.265625 -0.65625 \r\nQ 40.046875 -1.421875 35.796875 -1.421875 \r\nQ 21 -1.421875 12.640625 6.171875 \r\nQ 4.296875 13.765625 4.296875 27.296875 \r\nQ 4.296875 40.828125 12.640625 48.40625 \r\nQ 21 56 35.796875 56 \r\nQ 40.09375 56 44.265625 55.25 \r\nQ 48.4375 54.5 52.59375 52.984375 \r\nz\r\n\" id=\"DejaVuSans-Bold-99\"/>\r\n      <path d=\"M 63.375 33.296875 \r\nL 63.375 0 \r\nL 45.796875 0 \r\nL 45.796875 5.421875 \r\nL 45.796875 25.390625 \r\nQ 45.796875 32.5625 45.484375 35.25 \r\nQ 45.171875 37.9375 44.390625 39.203125 \r\nQ 43.359375 40.921875 41.59375 41.875 \r\nQ 39.84375 42.828125 37.59375 42.828125 \r\nQ 32.125 42.828125 29 38.59375 \r\nQ 25.875 34.375 25.875 26.90625 \r\nL 25.875 0 \r\nL 8.40625 0 \r\nL 8.40625 75.984375 \r\nL 25.875 75.984375 \r\nL 25.875 46.6875 \r\nQ 29.828125 51.46875 34.265625 53.734375 \r\nQ 38.71875 56 44.09375 56 \r\nQ 53.5625 56 58.46875 50.1875 \r\nQ 63.375 44.390625 63.375 33.296875 \r\nz\r\n\" id=\"DejaVuSans-Bold-104\"/>\r\n      <path d=\"M 62.984375 27.484375 \r\nL 62.984375 22.515625 \r\nL 22.125 22.515625 \r\nQ 22.75 16.359375 26.5625 13.28125 \r\nQ 30.375 10.203125 37.203125 10.203125 \r\nQ 42.71875 10.203125 48.5 11.84375 \r\nQ 54.296875 13.484375 60.40625 16.796875 \r\nL 60.40625 3.328125 \r\nQ 54.203125 0.984375 48 -0.21875 \r\nQ 41.796875 -1.421875 35.59375 -1.421875 \r\nQ 20.75 -1.421875 12.515625 6.125 \r\nQ 4.296875 13.671875 4.296875 27.296875 \r\nQ 4.296875 40.671875 12.375 48.328125 \r\nQ 20.453125 56 34.625 56 \r\nQ 47.515625 56 55.25 48.234375 \r\nQ 62.984375 40.484375 62.984375 27.484375 \r\nz\r\nM 45.015625 33.296875 \r\nQ 45.015625 38.28125 42.109375 41.328125 \r\nQ 39.203125 44.390625 34.515625 44.390625 \r\nQ 29.4375 44.390625 26.265625 41.53125 \r\nQ 23.09375 38.671875 22.3125 33.296875 \r\nz\r\n\" id=\"DejaVuSans-Bold-101\"/>\r\n      <path d=\"M 51.125 52.984375 \r\nL 51.125 39.703125 \r\nQ 45.515625 42.046875 40.28125 43.21875 \r\nQ 35.0625 44.390625 30.421875 44.390625 \r\nQ 25.4375 44.390625 23.015625 43.140625 \r\nQ 20.609375 41.890625 20.609375 39.3125 \r\nQ 20.609375 37.203125 22.4375 36.078125 \r\nQ 24.265625 34.96875 29 34.421875 \r\nL 32.078125 33.984375 \r\nQ 45.515625 32.28125 50.140625 28.375 \r\nQ 54.78125 24.46875 54.78125 16.109375 \r\nQ 54.78125 7.375 48.328125 2.96875 \r\nQ 41.890625 -1.421875 29.109375 -1.421875 \r\nQ 23.6875 -1.421875 17.890625 -0.5625 \r\nQ 12.109375 0.296875 6 2 \r\nL 6 15.28125 \r\nQ 11.234375 12.75 16.71875 11.46875 \r\nQ 22.21875 10.203125 27.875 10.203125 \r\nQ 33.015625 10.203125 35.59375 11.609375 \r\nQ 38.1875 13.03125 38.1875 15.828125 \r\nQ 38.1875 18.171875 36.40625 19.3125 \r\nQ 34.625 20.453125 29.296875 21.09375 \r\nL 26.21875 21.484375 \r\nQ 14.546875 22.953125 9.859375 26.90625 \r\nQ 5.171875 30.859375 5.171875 38.921875 \r\nQ 5.171875 47.609375 11.125 51.796875 \r\nQ 17.09375 56 29.390625 56 \r\nQ 34.234375 56 39.546875 55.265625 \r\nQ 44.875 54.546875 51.125 52.984375 \r\nz\r\n\" id=\"DejaVuSans-Bold-115\"/>\r\n      <path d=\"M 9.1875 72.90625 \r\nL 40.375 72.90625 \r\nQ 54.296875 72.90625 61.734375 66.71875 \r\nQ 69.1875 60.546875 69.1875 49.125 \r\nQ 69.1875 37.640625 61.734375 31.46875 \r\nQ 54.296875 25.296875 40.375 25.296875 \r\nL 27.984375 25.296875 \r\nL 27.984375 0 \r\nL 9.1875 0 \r\nz\r\nM 27.984375 59.28125 \r\nL 27.984375 38.921875 \r\nL 38.375 38.921875 \r\nQ 43.84375 38.921875 46.828125 41.578125 \r\nQ 49.8125 44.234375 49.8125 49.125 \r\nQ 49.8125 54 46.828125 56.640625 \r\nQ 43.84375 59.28125 38.375 59.28125 \r\nz\r\n\" id=\"DejaVuSans-Bold-80\"/>\r\n      <path d=\"M 1.21875 54.6875 \r\nL 18.703125 54.6875 \r\nL 33.40625 17.578125 \r\nL 45.90625 54.6875 \r\nL 63.375 54.6875 \r\nL 40.375 -5.171875 \r\nQ 36.921875 -14.3125 32.296875 -17.9375 \r\nQ 27.6875 -21.578125 20.125 -21.578125 \r\nL 10.015625 -21.578125 \r\nL 10.015625 -10.109375 \r\nL 15.484375 -10.109375 \r\nQ 19.921875 -10.109375 21.9375 -8.6875 \r\nQ 23.96875 -7.28125 25.09375 -3.609375 \r\nL 25.59375 -2.09375 \r\nz\r\n\" id=\"DejaVuSans-Bold-121\"/>\r\n      <path d=\"M 45.609375 46.6875 \r\nL 45.609375 75.984375 \r\nL 63.1875 75.984375 \r\nL 63.1875 0 \r\nL 45.609375 0 \r\nL 45.609375 7.90625 \r\nQ 42 3.078125 37.640625 0.828125 \r\nQ 33.296875 -1.421875 27.59375 -1.421875 \r\nQ 17.484375 -1.421875 10.984375 6.609375 \r\nQ 4.5 14.65625 4.5 27.296875 \r\nQ 4.5 39.9375 10.984375 47.96875 \r\nQ 17.484375 56 27.59375 56 \r\nQ 33.25 56 37.625 53.734375 \r\nQ 42 51.46875 45.609375 46.6875 \r\nz\r\nM 34.078125 11.28125 \r\nQ 39.703125 11.28125 42.65625 15.375 \r\nQ 45.609375 19.484375 45.609375 27.296875 \r\nQ 45.609375 35.109375 42.65625 39.203125 \r\nQ 39.703125 43.3125 34.078125 43.3125 \r\nQ 28.515625 43.3125 25.5625 39.203125 \r\nQ 22.609375 35.109375 22.609375 27.296875 \r\nQ 22.609375 19.484375 25.5625 15.375 \r\nQ 28.515625 11.28125 34.078125 11.28125 \r\nz\r\n\" id=\"DejaVuSans-Bold-100\"/>\r\n      <path d=\"M 9.1875 72.90625 \r\nL 59.90625 72.90625 \r\nL 59.90625 58.6875 \r\nL 27.984375 58.6875 \r\nL 27.984375 45.125 \r\nL 58.015625 45.125 \r\nL 58.015625 30.90625 \r\nL 27.984375 30.90625 \r\nL 27.984375 14.203125 \r\nL 60.984375 14.203125 \r\nL 60.984375 0 \r\nL 9.1875 0 \r\nz\r\n\" id=\"DejaVuSans-Bold-69\"/>\r\n      <path d=\"M 59.90625 70.609375 \r\nL 59.90625 55.171875 \r\nQ 53.90625 57.859375 48.1875 59.21875 \r\nQ 42.484375 60.59375 37.40625 60.59375 \r\nQ 30.671875 60.59375 27.4375 58.734375 \r\nQ 24.21875 56.890625 24.21875 52.984375 \r\nQ 24.21875 50.046875 26.390625 48.40625 \r\nQ 28.5625 46.78125 34.28125 45.609375 \r\nL 42.28125 44 \r\nQ 54.4375 41.546875 59.5625 36.5625 \r\nQ 64.703125 31.59375 64.703125 22.40625 \r\nQ 64.703125 10.359375 57.546875 4.46875 \r\nQ 50.390625 -1.421875 35.6875 -1.421875 \r\nQ 28.765625 -1.421875 21.78125 -0.09375 \r\nQ 14.796875 1.21875 7.8125 3.8125 \r\nL 7.8125 19.671875 \r\nQ 14.796875 15.96875 21.3125 14.078125 \r\nQ 27.828125 12.203125 33.890625 12.203125 \r\nQ 40.046875 12.203125 43.3125 14.25 \r\nQ 46.578125 16.3125 46.578125 20.125 \r\nQ 46.578125 23.53125 44.359375 25.390625 \r\nQ 42.140625 27.25 35.5 28.71875 \r\nL 28.21875 30.328125 \r\nQ 17.28125 32.671875 12.21875 37.796875 \r\nQ 7.171875 42.921875 7.171875 51.609375 \r\nQ 7.171875 62.5 14.203125 68.359375 \r\nQ 21.234375 74.21875 34.421875 74.21875 \r\nQ 40.4375 74.21875 46.78125 73.3125 \r\nQ 53.125 72.40625 59.90625 70.609375 \r\nz\r\n\" id=\"DejaVuSans-Bold-83\"/>\r\n      <path d=\"M 63.375 33.296875 \r\nL 63.375 0 \r\nL 45.796875 0 \r\nL 45.796875 5.421875 \r\nL 45.796875 25.484375 \r\nQ 45.796875 32.5625 45.484375 35.25 \r\nQ 45.171875 37.9375 44.390625 39.203125 \r\nQ 43.359375 40.921875 41.59375 41.875 \r\nQ 39.84375 42.828125 37.59375 42.828125 \r\nQ 32.125 42.828125 29 38.59375 \r\nQ 25.875 34.375 25.875 26.90625 \r\nL 25.875 0 \r\nL 8.40625 0 \r\nL 8.40625 54.6875 \r\nL 25.875 54.6875 \r\nL 25.875 46.6875 \r\nQ 29.828125 51.46875 34.265625 53.734375 \r\nQ 38.71875 56 44.09375 56 \r\nQ 53.5625 56 58.46875 50.1875 \r\nQ 63.375 44.390625 63.375 33.296875 \r\nz\r\n\" id=\"DejaVuSans-Bold-110\"/>\r\n     </defs>\r\n     <use xlink:href=\"#DejaVuSans-Bold-84\"/>\r\n     <use x=\"54.962891\" xlink:href=\"#DejaVuSans-Bold-111\"/>\r\n     <use x=\"123.664062\" xlink:href=\"#DejaVuSans-Bold-116\"/>\r\n     <use x=\"171.466797\" xlink:href=\"#DejaVuSans-Bold-97\"/>\r\n     <use x=\"238.947266\" xlink:href=\"#DejaVuSans-Bold-108\"/>\r\n     <use x=\"273.224609\" xlink:href=\"#DejaVuSans-Bold-32\"/>\r\n     <use x=\"308.039062\" xlink:href=\"#DejaVuSans-Bold-77\"/>\r\n     <use x=\"407.550781\" xlink:href=\"#DejaVuSans-Bold-97\"/>\r\n     <use x=\"475.03125\" xlink:href=\"#DejaVuSans-Bold-116\"/>\r\n     <use x=\"522.833984\" xlink:href=\"#DejaVuSans-Bold-99\"/>\r\n     <use x=\"582.111328\" xlink:href=\"#DejaVuSans-Bold-104\"/>\r\n     <use x=\"653.302734\" xlink:href=\"#DejaVuSans-Bold-101\"/>\r\n     <use x=\"721.125\" xlink:href=\"#DejaVuSans-Bold-115\"/>\r\n     <use x=\"780.646484\" xlink:href=\"#DejaVuSans-Bold-32\"/>\r\n     <use x=\"815.460938\" xlink:href=\"#DejaVuSans-Bold-80\"/>\r\n     <use x=\"888.751953\" xlink:href=\"#DejaVuSans-Bold-108\"/>\r\n     <use x=\"923.029297\" xlink:href=\"#DejaVuSans-Bold-97\"/>\r\n     <use x=\"987.384766\" xlink:href=\"#DejaVuSans-Bold-121\"/>\r\n     <use x=\"1052.570312\" xlink:href=\"#DejaVuSans-Bold-101\"/>\r\n     <use x=\"1120.392578\" xlink:href=\"#DejaVuSans-Bold-100\"/>\r\n     <use x=\"1191.974609\" xlink:href=\"#DejaVuSans-Bold-32\"/>\r\n     <use x=\"1226.789062\" xlink:href=\"#DejaVuSans-Bold-69\"/>\r\n     <use x=\"1295.099609\" xlink:href=\"#DejaVuSans-Bold-97\"/>\r\n     <use x=\"1362.580078\" xlink:href=\"#DejaVuSans-Bold-99\"/>\r\n     <use x=\"1421.857422\" xlink:href=\"#DejaVuSans-Bold-104\"/>\r\n     <use x=\"1493.048828\" xlink:href=\"#DejaVuSans-Bold-32\"/>\r\n     <use x=\"1527.863281\" xlink:href=\"#DejaVuSans-Bold-83\"/>\r\n     <use x=\"1599.884766\" xlink:href=\"#DejaVuSans-Bold-101\"/>\r\n     <use x=\"1667.707031\" xlink:href=\"#DejaVuSans-Bold-97\"/>\r\n     <use x=\"1735.1875\" xlink:href=\"#DejaVuSans-Bold-115\"/>\r\n     <use x=\"1794.708984\" xlink:href=\"#DejaVuSans-Bold-111\"/>\r\n     <use x=\"1863.410156\" xlink:href=\"#DejaVuSans-Bold-110\"/>\r\n    </g>\r\n   </g>\r\n  </g>\r\n </g>\r\n <defs>\r\n  <clipPath id=\"p1c095a5893\">\r\n   <rect height=\"217.44\" width=\"334.8\" x=\"40.603125\" y=\"20.798437\"/>\r\n  </clipPath>\r\n </defs>\r\n</svg>\r\n",
      "image/png": "[encoded data removed]"
     },
     "metadata": {
      "needs_background": "light"
     }
    }
   ],
   "source": [
    "# using seaborn library \n",
    "sns.countplot(match_data['Season'])\n",
    "plt.xticks(rotation=45, fontsize=10)\n",
    "plt.yticks(fontsize=10)\n",
    "plt.xlabel('Season', fontsize=10)\n",
    "plt.ylabel('Count', fontsize=10)\n",
    "plt.title('Total Matches Played Each Season', fontsize=10, fontweight='bold')"
   ]
  },
  {
   "cell_type": "code",
   "execution_count": null,
   "metadata": {},
   "outputs": [],
   "source": []
  }
 ]
}