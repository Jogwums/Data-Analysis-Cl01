{
 "cells": [
  {
   "cell_type": "code",
   "execution_count": 1,
   "metadata": {},
   "outputs": [],
   "source": [
    "import re"
   ]
  },
  {
   "cell_type": "code",
   "execution_count": 2,
   "metadata": {},
   "outputs": [],
   "source": [
    "re?"
   ]
  },
  {
   "cell_type": "code",
   "execution_count": 3,
   "metadata": {},
   "outputs": [],
   "source": [
    "re.compile?"
   ]
  },
  {
   "cell_type": "markdown",
   "metadata": {},
   "source": [
    "## Question\n",
    "- display nos from 1 to 100 without using *numbers* in your code "
   ]
  },
  {
   "cell_type": "markdown",
   "metadata": {},
   "source": [
    "## Solution"
   ]
  },
  {
   "cell_type": "code",
   "execution_count": 6,
   "metadata": {},
   "outputs": [
    {
     "data": {
      "text/plain": [
       "10"
      ]
     },
     "execution_count": 6,
     "metadata": {},
     "output_type": "execute_result"
    }
   ],
   "source": [
    "ten = len(r'[A-Z][a-z]')\n",
    "ten"
   ]
  },
  {
   "cell_type": "code",
   "execution_count": 9,
   "metadata": {},
   "outputs": [
    {
     "data": {
      "text/plain": [
       "101"
      ]
     },
     "execution_count": 9,
     "metadata": {},
     "output_type": "execute_result"
    }
   ],
   "source": [
    "end = len(r'[A-Z][a-z]') * len(r'[A-Z][a-z]') + len('a')\n",
    "end"
   ]
  },
  {
   "cell_type": "code",
   "execution_count": 12,
   "metadata": {},
   "outputs": [
    {
     "data": {
      "text/plain": [
       "True"
      ]
     },
     "execution_count": 12,
     "metadata": {},
     "output_type": "execute_result"
    }
   ],
   "source": [
    "## loop\n",
    "1 == 1"
   ]
  },
  {
   "cell_type": "code",
   "execution_count": 13,
   "metadata": {},
   "outputs": [],
   "source": [
    "x = range(True, end)"
   ]
  },
  {
   "cell_type": "code",
   "execution_count": 15,
   "metadata": {},
   "outputs": [
    {
     "name": "stdout",
     "output_type": "stream",
     "text": [
      "1\n",
      "2\n",
      "3\n",
      "4\n",
      "5\n",
      "6\n",
      "7\n",
      "8\n",
      "9\n",
      "10\n",
      "11\n",
      "12\n",
      "13\n",
      "14\n",
      "15\n",
      "16\n",
      "17\n",
      "18\n",
      "19\n",
      "20\n",
      "21\n",
      "22\n",
      "23\n",
      "24\n",
      "25\n",
      "26\n",
      "27\n",
      "28\n",
      "29\n",
      "30\n",
      "31\n",
      "32\n",
      "33\n",
      "34\n",
      "35\n",
      "36\n",
      "37\n",
      "38\n",
      "39\n",
      "40\n",
      "41\n",
      "42\n",
      "43\n",
      "44\n",
      "45\n",
      "46\n",
      "47\n",
      "48\n",
      "49\n",
      "50\n",
      "51\n",
      "52\n",
      "53\n",
      "54\n",
      "55\n",
      "56\n",
      "57\n",
      "58\n",
      "59\n",
      "60\n",
      "61\n",
      "62\n",
      "63\n",
      "64\n",
      "65\n",
      "66\n",
      "67\n",
      "68\n",
      "69\n",
      "70\n",
      "71\n",
      "72\n",
      "73\n",
      "74\n",
      "75\n",
      "76\n",
      "77\n",
      "78\n",
      "79\n",
      "80\n",
      "81\n",
      "82\n",
      "83\n",
      "84\n",
      "85\n",
      "86\n",
      "87\n",
      "88\n",
      "89\n",
      "90\n",
      "91\n",
      "92\n",
      "93\n",
      "94\n",
      "95\n",
      "96\n",
      "97\n",
      "98\n",
      "99\n",
      "100\n"
     ]
    }
   ],
   "source": [
    "for _ in x:\n",
    "    print(_)"
   ]
  },
  {
   "cell_type": "code",
   "execution_count": 18,
   "metadata": {},
   "outputs": [
    {
     "name": "stdout",
     "output_type": "stream",
     "text": [
      "\n",
      "Fine-Tuning String Extraction \n",
      "\n",
      "['ossama.embarak@hct.ac.ae']\n",
      "['ossama.embarak@hct.ac.ae']\n",
      "ossama.embarak@hct.ac.ae\n"
     ]
    }
   ],
   "source": [
    "import re\n",
    "print (\"\\nFine-Tuning String Extraction \\n\") \n",
    "mystr=\"From ossama.embarak@hct.ac.ae Sat Jun 5 08:14:16 2018\" \n",
    "Extract = re.findall('\\S+@\\S+',mystr)\n",
    "print (Extract)\n",
    "E_xtracted = re.findall('^From.*? (\\S+@\\S+)',mystr) # non greedy white space \n",
    "print (E_xtracted) \n",
    "print (E_xtracted[0]) "
   ]
  },
  {
   "cell_type": "code",
   "execution_count": 19,
   "metadata": {},
   "outputs": [
    {
     "name": "stdout",
     "output_type": "stream",
     "text": [
      "hct.ac.ae\n",
      "ossama.embarak\n"
     ]
    }
   ],
   "source": [
    "mystr=\"From ossama.embarak@hct.ac.ae Sat Jun 5 08:14:16 2018\"\n",
    "atpos = mystr.find('@')\n",
    "sppos = mystr.find(' ',atpos) # find white space starting from \n",
    "atpos \n",
    "host = mystr[atpos+1 : sppos] \n",
    "print (host) \n",
    "usernamepos = mystr.find(' ') \n",
    "username = mystr[usernamepos+1 : atpos] \n",
    "print (username) "
   ]
  },
  {
   "cell_type": "raw",
   "metadata": {},
   "source": [
    "re.findall('@([^ ]*)',mystr) retrieves a substring in the mystr \n",
    "string, which starts after @and continues until finding the \n",
    "whitespace. \n",
    "\n",
    "re.findall('^From .*@([^ ]*)', mystr) retrieves a substring in the \n",
    "mystr string, which starts after From and finds zero or more \n",
    "characters and then the @ character and then anything other \n",
    "than whitespace characters."
   ]
  },
  {
   "cell_type": "code",
   "execution_count": 20,
   "metadata": {},
   "outputs": [
    {
     "name": "stdout",
     "output_type": "stream",
     "text": [
      "\n",
      " The Regex Version\n",
      "\n",
      "['hct.ac.ae']\n",
      "['hct.ac.ae']\n"
     ]
    }
   ],
   "source": [
    "print (\"\\n The Regex Version\\n\") \n",
    "import re\n",
    "mystr=\"From ossama.embarak@hct.ac.ae Sat Jun 5 08:14:16 2018\"\n",
    "Extract = re.findall('@([^ ]*)',mystr) \n",
    "print (Extract)\n",
    "Extract1 = re.findall('^From .*@([^ ]*)',mystr) \n",
    "print (Extract1) "
   ]
  },
  {
   "cell_type": "code",
   "execution_count": 23,
   "metadata": {},
   "outputs": [
    {
     "name": "stdout",
     "output_type": "stream",
     "text": [
      "\n",
      "Escape character \n",
      "\n",
      "['$10.00', '$20.23']\n"
     ]
    }
   ],
   "source": [
    "print (\"\\nEscape character \\n\")\n",
    "mystr = 'We just received $10.00 for cookies and $20.23 for \\\n",
    "juice'\n",
    "Extract = re.findall('\\$[0-9.]+',mystr) \n",
    "print (Extract) "
   ]
  },
  {
   "cell_type": "code",
   "execution_count": null,
   "metadata": {},
   "outputs": [],
   "source": []
  }
 ],
 "metadata": {
  "kernelspec": {
   "display_name": "Python 3",
   "language": "python",
   "name": "python3"
  },
  "language_info": {
   "codemirror_mode": {
    "name": "ipython",
    "version": 3
   },
   "file_extension": ".py",
   "mimetype": "text/x-python",
   "name": "python",
   "nbconvert_exporter": "python",
   "pygments_lexer": "ipython3",
   "version": "3.8.5"
  }
 },
 "nbformat": 4,
 "nbformat_minor": 4
}
