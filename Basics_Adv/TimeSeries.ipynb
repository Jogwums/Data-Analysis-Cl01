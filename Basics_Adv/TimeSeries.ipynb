{
 "metadata": {
  "language_info": {
   "codemirror_mode": {
    "name": "ipython",
    "version": 3
   },
   "file_extension": ".py",
   "mimetype": "text/x-python",
   "name": "python",
   "nbconvert_exporter": "python",
   "pygments_lexer": "ipython3",
   "version": "3.9.1-final"
  },
  "orig_nbformat": 2,
  "kernelspec": {
   "name": "python3",
   "display_name": "Python 3.9.1 64-bit",
   "metadata": {
    "interpreter": {
     "hash": "b1ee877665787ef736d896fd412d6716aab4e647147ff7517dc995e63a594f98"
    }
   }
  }
 },
 "nbformat": 4,
 "nbformat_minor": 2,
 "cells": [
  {
   "source": [
    "# Time Series "
   ],
   "cell_type": "markdown",
   "metadata": {}
  },
  {
   "source": [
    "### Table of Contents:\n",
    "1. What makes Time Series Special?\n",
    "2. Loading and Handling Time Series in Pandas\n",
    "3. How to Check Stationarity of a Time Series?\n",
    "4. How to make a Time Series Stationary?\n",
    "5. Forecasting a Time Series"
   ],
   "cell_type": "markdown",
   "metadata": {}
  },
  {
   "source": [
    "## 1. What makes Time Series Special?\n",
    "As the name suggests, TS is a collection of data points collected at constant time intervals. These are analyzed to determine the long term trend so as to forecast the future or perform some other form of analysis. But what makes a TS different from say a regular regression problem? There are 2 things:\n",
    "\n",
    "1. It is time dependent. So the basic assumption of a linear regression model that the observations are independent doesn’t hold in this case.\n",
    "2. Along with an increasing or decreasing trend, most TS have some form of seasonality trends, i.e. variations specific to a particular time frame. For example, if you see the sales of a woolen jacket over time, you will invariably find higher sales in winter seasons."
   ],
   "cell_type": "markdown",
   "metadata": {}
  },
  {
   "cell_type": "code",
   "execution_count": 1,
   "metadata": {},
   "outputs": [
    {
     "output_type": "stream",
     "name": "stdout",
     "text": [
      "Done\n"
     ]
    }
   ],
   "source": [
    "import numpy as np\n",
    "import pandas as pd\n",
    "import matplotlib.pyplot as plt\n",
    "%matplotlib inline \n",
    "\n",
    "print(\"Done\")"
   ]
  },
  {
   "cell_type": "code",
   "execution_count": 3,
   "metadata": {},
   "outputs": [
    {
     "output_type": "execute_result",
     "data": {
      "text/plain": [
       "     Month  #Passengers\n",
       "0  1949-01          112\n",
       "1  1949-02          118\n",
       "2  1949-03          132\n",
       "3  1949-04          129\n",
       "4  1949-05          121"
      ],
      "text/html": "<div>\n<style scoped>\n    .dataframe tbody tr th:only-of-type {\n        vertical-align: middle;\n    }\n\n    .dataframe tbody tr th {\n        vertical-align: top;\n    }\n\n    .dataframe thead th {\n        text-align: right;\n    }\n</style>\n<table border=\"1\" class=\"dataframe\">\n  <thead>\n    <tr style=\"text-align: right;\">\n      <th></th>\n      <th>Month</th>\n      <th>#Passengers</th>\n    </tr>\n  </thead>\n  <tbody>\n    <tr>\n      <th>0</th>\n      <td>1949-01</td>\n      <td>112</td>\n    </tr>\n    <tr>\n      <th>1</th>\n      <td>1949-02</td>\n      <td>118</td>\n    </tr>\n    <tr>\n      <th>2</th>\n      <td>1949-03</td>\n      <td>132</td>\n    </tr>\n    <tr>\n      <th>3</th>\n      <td>1949-04</td>\n      <td>129</td>\n    </tr>\n    <tr>\n      <th>4</th>\n      <td>1949-05</td>\n      <td>121</td>\n    </tr>\n  </tbody>\n</table>\n</div>"
     },
     "metadata": {},
     "execution_count": 3
    }
   ],
   "source": [
    "file_path = \"../datasets/AirPassengers.csv\"\n",
    "df = pd.read_csv(file_path)\n",
    "df.head()"
   ]
  },
  {
   "cell_type": "code",
   "execution_count": 7,
   "metadata": {},
   "outputs": [],
   "source": [
    "df.set_index(df['Month'], inplace=True)"
   ]
  },
  {
   "cell_type": "code",
   "execution_count": 9,
   "metadata": {},
   "outputs": [],
   "source": [
    "del df['Month']"
   ]
  },
  {
   "cell_type": "code",
   "execution_count": 10,
   "metadata": {},
   "outputs": [
    {
     "output_type": "execute_result",
     "data": {
      "text/plain": [
       "         #Passengers\n",
       "Month               \n",
       "1949-01          112\n",
       "1949-02          118\n",
       "1949-03          132\n",
       "1949-04          129\n",
       "1949-05          121\n",
       "...              ...\n",
       "1960-08          606\n",
       "1960-09          508\n",
       "1960-10          461\n",
       "1960-11          390\n",
       "1960-12          432\n",
       "\n",
       "[144 rows x 1 columns]"
      ],
      "text/html": "<div>\n<style scoped>\n    .dataframe tbody tr th:only-of-type {\n        vertical-align: middle;\n    }\n\n    .dataframe tbody tr th {\n        vertical-align: top;\n    }\n\n    .dataframe thead th {\n        text-align: right;\n    }\n</style>\n<table border=\"1\" class=\"dataframe\">\n  <thead>\n    <tr style=\"text-align: right;\">\n      <th></th>\n      <th>#Passengers</th>\n    </tr>\n    <tr>\n      <th>Month</th>\n      <th></th>\n    </tr>\n  </thead>\n  <tbody>\n    <tr>\n      <th>1949-01</th>\n      <td>112</td>\n    </tr>\n    <tr>\n      <th>1949-02</th>\n      <td>118</td>\n    </tr>\n    <tr>\n      <th>1949-03</th>\n      <td>132</td>\n    </tr>\n    <tr>\n      <th>1949-04</th>\n      <td>129</td>\n    </tr>\n    <tr>\n      <th>1949-05</th>\n      <td>121</td>\n    </tr>\n    <tr>\n      <th>...</th>\n      <td>...</td>\n    </tr>\n    <tr>\n      <th>1960-08</th>\n      <td>606</td>\n    </tr>\n    <tr>\n      <th>1960-09</th>\n      <td>508</td>\n    </tr>\n    <tr>\n      <th>1960-10</th>\n      <td>461</td>\n    </tr>\n    <tr>\n      <th>1960-11</th>\n      <td>390</td>\n    </tr>\n    <tr>\n      <th>1960-12</th>\n      <td>432</td>\n    </tr>\n  </tbody>\n</table>\n<p>144 rows × 1 columns</p>\n</div>"
     },
     "metadata": {},
     "execution_count": 10
    }
   ],
   "source": [
    "df"
   ]
  },
  {
   "cell_type": "code",
   "execution_count": null,
   "metadata": {},
   "outputs": [],
   "source": []
  }
 ]
}