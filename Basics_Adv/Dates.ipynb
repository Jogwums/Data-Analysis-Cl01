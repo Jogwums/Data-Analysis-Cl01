{
 "metadata": {
  "language_info": {
   "codemirror_mode": {
    "name": "ipython",
    "version": 3
   },
   "file_extension": ".py",
   "mimetype": "text/x-python",
   "name": "python",
   "nbconvert_exporter": "python",
   "pygments_lexer": "ipython3",
   "version": "3.9.1-final"
  },
  "orig_nbformat": 2,
  "kernelspec": {
   "name": "python3",
   "display_name": "Python 3.9.1 64-bit",
   "metadata": {
    "interpreter": {
     "hash": "b1ee877665787ef736d896fd412d6716aab4e647147ff7517dc995e63a594f98"
    }
   }
  }
 },
 "nbformat": 4,
 "nbformat_minor": 2,
 "cells": [
  {
   "source": [
    "## Working with Dates and Time in Python \n",
    "\n",
    "Python has builtin modules to handle date, time and datetime"
   ],
   "cell_type": "markdown",
   "metadata": {}
  },
  {
   "source": [
    "## Table of Contents\n",
    "- The Importance of the Date-Time Component\n",
    "- Working with Dates in Python\n",
    "- Working with Time in Python\n",
    "- DateTime in Python\n",
    "    - Updating old dates\n",
    "    - Extracting Weekday from DateTime\n",
    "    - What week is it?\n",
    "    - Leap year or not? Use the calendar!\n",
    "    - The Different Datetime formats\n",
    "    - Advanced DateTime formatting with Strptime & Strftime\n",
    "    - Timedelta\n",
    "- DateTime with Pandas\n",
    "    - DateTime and Timedelta objects in Pandas\n",
    "    - Date range in Pandas\n",
    "    - Making DateTime features in Pandas"
   ],
   "cell_type": "markdown",
   "metadata": {}
  },
  {
   "source": [
    "## The Importance of the Date-Time Component\n",
    "It’s worth reiterating, dates and times are a treasure trove of information and that is why data scientists love them so much.\n",
    "\n",
    "Before we dive into the crux of the article, I want you to experience this yourself. Take a look at the date and time right now. Try and imagine all kinds of information that you can extract from it to understand your reading habit. The year, month, day, hour, and minute are the usual suspects.\n",
    "\n",
    "But if you dig a little further, you can determine whether you prefer reading on weekdays or weekends, whether you are a morning person or a night owl (we are in the same boat here!), or whether you accumulate all the interesting articles to read at the end of the month!\n",
    "\n",
    "Clearly, the list will go on and you will gradually learn a lot about your reading habits if you repeat this exercise after collecting the data over a period of time, say a month. Now imagine how useful this feature would be in a real-world scenario where information is collected over a long period of time."
   ],
   "cell_type": "markdown",
   "metadata": {}
  },
  {
   "source": [
    "Date and time features find importance in data science problems spanning industries from sales, marketing, and finance to HR, e-commerce, retail, and many more. Predicting how the stock markets will behave tomorrow, how many products will be sold in the upcoming week, when is the best time to launch a new product, how long before a position at the company gets filled, etc. are some of the problems that we can find answers to using date and time data.\n",
    "\n",
    "This incredible amount of insight that you can unravel from the data is what makes date and time components so fun to work with! So let’s get down to the business of mastering date-time manipulation in Python."
   ],
   "cell_type": "markdown",
   "metadata": {}
  },
  {
   "source": [
    "## Working with Dates in Python\n",
    "The date class in the DateTime module of Python deals with dates in the Gregorian calendar. It accepts three integer arguments: year, month, and day. Let’s have a look at how it’s done:"
   ],
   "cell_type": "markdown",
   "metadata": {}
  },
  {
   "cell_type": "code",
   "execution_count": 2,
   "metadata": {},
   "outputs": [
    {
     "output_type": "stream",
     "name": "stdout",
     "text": [
      "2020-04-23\n<class 'datetime.date'>\n"
     ]
    }
   ],
   "source": [
    "from datetime import date\n",
    "\n",
    "d1 = date(2020,4,23)\n",
    "\n",
    "print(d1)\n",
    "\n",
    "print(type(d1))"
   ]
  },
  {
   "source": [
    "\n",
    "You can see how easy it was to create a date object of datetime class. And it’s even easier to extract features like day, month, and year from the date. This can be done using the day, month, and year attributes. We will see how to do that on the current local day date object that we will create using the today() function:"
   ],
   "cell_type": "markdown",
   "metadata": {}
  },
  {
   "cell_type": "code",
   "execution_count": 3,
   "metadata": {},
   "outputs": [
    {
     "output_type": "stream",
     "name": "stdout",
     "text": [
      "2021-03-26\nDay : 26\nMonth : 3\nYear : 2021\n"
     ]
    }
   ],
   "source": [
    "# present day date\n",
    "d1 = date.today()\n",
    "print(d1)\n",
    "# day\n",
    "print('Day :',d1.day)\n",
    "# month\n",
    "print('Month :',d1.month)\n",
    "# year\n",
    "print('Year :',d1.year)"
   ]
  },
  {
   "source": [
    "## Working with Time in Python\n",
    "time is another class of the DateTime module that accepts integer arguments for time up to microseconds and returns a DateTime object:"
   ],
   "cell_type": "markdown",
   "metadata": {}
  },
  {
   "cell_type": "code",
   "execution_count": 5,
   "metadata": {},
   "outputs": [
    {
     "output_type": "stream",
     "name": "stdout",
     "text": [
      "13:20:13.000040\n<class 'datetime.time'>\n"
     ]
    }
   ],
   "source": [
    "from datetime import time\n",
    "\n",
    "t1 = time(13,20,13,40)\n",
    "\n",
    "print(t1)\n",
    "\n",
    "print(type(t1))"
   ]
  },
  {
   "source": [
    "You can extract features like hour, minute, second, and microsecond from the time object using the respective attributes. Here is an example:"
   ],
   "cell_type": "markdown",
   "metadata": {}
  },
  {
   "cell_type": "code",
   "execution_count": 8,
   "metadata": {},
   "outputs": [
    {
     "output_type": "stream",
     "name": "stdout",
     "text": [
      "Hour : 13\nMinute : 20\nSecond : 13\nMicrosecond : 40\n"
     ]
    }
   ],
   "source": [
    "# hour\n",
    "print('Hour :',t1.hour)\n",
    "# minute\n",
    "print('Minute :',t1.minute)\n",
    "# second\n",
    "print('Second :',t1.second)\n",
    "# microsecond\n",
    "print('Microsecond :',t1.microsecond)"
   ]
  },
  {
   "source": [
    "## DateTime in Python\n",
    "So far, we have seen how to create a date and a time object using the DateTime module. But the beauty of the DateTime module is that it lets you dovetail both the properties into a single object, DateTime!\n",
    "\n",
    "datetime is a class and an object in Python’s DateTime module, just like date and time. The arguments are a combination of date and time attributes, starting from the year and ending in microseconds.\n",
    "\n",
    "So, let’s see how you can create a DateTime object:"
   ],
   "cell_type": "markdown",
   "metadata": {}
  },
  {
   "cell_type": "code",
   "execution_count": 10,
   "metadata": {},
   "outputs": [
    {
     "output_type": "stream",
     "name": "stdout",
     "text": [
      "2020-04-23 11:20:30.000040\n<class 'datetime.datetime'>\n"
     ]
    }
   ],
   "source": [
    "from datetime import datetime\n",
    "d1 = datetime(2020,4,23,11,20,30,40)\n",
    "print(d1)\n",
    "print(type(d1))"
   ]
  },
  {
   "cell_type": "code",
   "execution_count": 11,
   "metadata": {},
   "outputs": [
    {
     "output_type": "execute_result",
     "data": {
      "text/plain": [
       "datetime.datetime(2021, 3, 26, 23, 34, 36, 405300)"
      ]
     },
     "metadata": {},
     "execution_count": 11
    }
   ],
   "source": [
    "# local date-time\n",
    "d1 = datetime.now()\n",
    "d1"
   ]
  },
  {
   "source": [
    "You can go on and extract whichever value you want to from the DateTime object using the same attributes we used with the date and time objects individually.\n",
    "\n",
    "Next, let’s look at some of the methods in the DateTime class."
   ],
   "cell_type": "markdown",
   "metadata": {}
  },
  {
   "source": [
    "## Updating old Dates\n",
    "First, we’ll see how to separate date and time from the DateTime object using the date() and time() methods. But you could also replace a value in the DateTime objects without having to change the entire date using the replace() method:"
   ],
   "cell_type": "markdown",
   "metadata": {}
  },
  {
   "cell_type": "code",
   "execution_count": 13,
   "metadata": {},
   "outputs": [
    {
     "output_type": "stream",
     "name": "stdout",
     "text": [
      "Datetime : 2021-03-26 23:34:36.405300\nDate : 2021-03-26\nTime : 23:34:36.405300\nNew datetime : 2021-03-24 14:34:36.405300\n"
     ]
    }
   ],
   "source": [
    "print('Datetime :',d1)\n",
    "# date\n",
    "print('Date :',d1.date())\n",
    "# time\n",
    "print('Time :',d1.time())\n",
    "# new datetime\n",
    "print('New datetime :',d1.replace(day=24, hour=14))"
   ]
  },
  {
   "source": [
    "## Weekday from DateTime\n",
    "One really cool thing that you can do with the DateTime function is to extract the day of the week! This is especially helpful in feature engineering because the value of the target variable can be dependent on the day of the week, like sales of a product are generally higher on a weekend or traffic on StackOverflow could be higher on a weekday when people are working, etc.\n",
    "\n",
    "The * weekday() * method returns an integer value for the day of the week, where Monday is 0 and Sunday is 6. But if you wanted it to return the weekday value between 1 and 7, like in a real-world scenario, you should use *isoweekday()*:"
   ],
   "cell_type": "markdown",
   "metadata": {}
  },
  {
   "cell_type": "code",
   "execution_count": 15,
   "metadata": {},
   "outputs": [
    {
     "output_type": "stream",
     "name": "stdout",
     "text": [
      "4\n5\n"
     ]
    }
   ],
   "source": [
    "d1 = datetime.now()\n",
    "# week starts from 0\n",
    "print(d1.weekday()) # output 4 for Friday\n",
    "# week starts with 1\n",
    "print(d1.isoweekday()) # output 5 in ISO format"
   ]
  },
  {
   "source": [
    "## What Week is it?\n",
    "Alright, you know the day of the week, but do you know what week of the year is it? This is another very important feature that you can generate from the given date in a dataset.\n",
    "\n",
    "Sometimes the value of the target variable might be higher during certain times of the year. For example, the sales of products on e-commerce websites are generally higher during vacations.\n",
    "\n",
    "You can get the week of the year by slicing the value returned by the isocalendar() method:"
   ],
   "cell_type": "markdown",
   "metadata": {}
  },
  {
   "cell_type": "code",
   "execution_count": 17,
   "metadata": {},
   "outputs": [
    {
     "output_type": "stream",
     "name": "stdout",
     "text": [
      "datetime.IsoCalendarDate(year=2021, week=12, weekday=5)\nWeek : 12\n"
     ]
    }
   ],
   "source": [
    "d1 = datetime.now()\n",
    "# retuns year, week, month\n",
    "print(d1.isocalendar())\n",
    "print('Week :',d1.isocalendar()[1])"
   ]
  },
  {
   "source": [
    "## Leap Year or Not? Use Calendar!\n",
    "Want to check whether it is a leap year or not? You will need to use the isleap() method from the calendar module and pass the year as an attribute:"
   ],
   "cell_type": "markdown",
   "metadata": {}
  },
  {
   "cell_type": "code",
   "execution_count": 20,
   "metadata": {},
   "outputs": [
    {
     "output_type": "execute_result",
     "data": {
      "text/plain": [
       "False"
      ]
     },
     "metadata": {},
     "execution_count": 20
    }
   ],
   "source": [
    "import calendar\n",
    "d1 = datetime.now()\n",
    "# leap year or not\n",
    "calendar.isleap(d1.year) # Output True or False"
   ]
  },
  {
   "cell_type": "code",
   "execution_count": 21,
   "metadata": {},
   "outputs": [
    {
     "output_type": "stream",
     "name": "stdout",
     "text": [
      "     March 2020\nMo Tu We Th Fr Sa Su\n                   1\n 2  3  4  5  6  7  8\n 9 10 11 12 13 14 15\n16 17 18 19 20 21 22\n23 24 25 26 27 28 29\n30 31\n\n"
     ]
    }
   ],
   "source": [
    "# view calendar\n",
    "# Its was March when I worked on this\n",
    "print(calendar.month(2020,3))"
   ]
  },
  {
   "cell_type": "code",
   "execution_count": 22,
   "metadata": {},
   "outputs": [],
   "source": [
    "# Not free this month? You can have a look at the entire calendar for the year:"
   ]
  },
  {
   "cell_type": "code",
   "execution_count": 23,
   "metadata": {},
   "outputs": [
    {
     "output_type": "stream",
     "name": "stdout",
     "text": [
      "                                  2021\n\n      January                   February                   March\nMo Tu We Th Fr Sa Su      Mo Tu We Th Fr Sa Su      Mo Tu We Th Fr Sa Su\n             1  2  3       1  2  3  4  5  6  7       1  2  3  4  5  6  7\n 4  5  6  7  8  9 10       8  9 10 11 12 13 14       8  9 10 11 12 13 14\n11 12 13 14 15 16 17      15 16 17 18 19 20 21      15 16 17 18 19 20 21\n18 19 20 21 22 23 24      22 23 24 25 26 27 28      22 23 24 25 26 27 28\n25 26 27 28 29 30 31                                29 30 31\n\n       April                      May                       June\nMo Tu We Th Fr Sa Su      Mo Tu We Th Fr Sa Su      Mo Tu We Th Fr Sa Su\n          1  2  3  4                      1  2          1  2  3  4  5  6\n 5  6  7  8  9 10 11       3  4  5  6  7  8  9       7  8  9 10 11 12 13\n12 13 14 15 16 17 18      10 11 12 13 14 15 16      14 15 16 17 18 19 20\n19 20 21 22 23 24 25      17 18 19 20 21 22 23      21 22 23 24 25 26 27\n26 27 28 29 30            24 25 26 27 28 29 30      28 29 30\n                          31\n\n        July                     August                  September\nMo Tu We Th Fr Sa Su      Mo Tu We Th Fr Sa Su      Mo Tu We Th Fr Sa Su\n          1  2  3  4                         1             1  2  3  4  5\n 5  6  7  8  9 10 11       2  3  4  5  6  7  8       6  7  8  9 10 11 12\n12 13 14 15 16 17 18       9 10 11 12 13 14 15      13 14 15 16 17 18 19\n19 20 21 22 23 24 25      16 17 18 19 20 21 22      20 21 22 23 24 25 26\n26 27 28 29 30 31         23 24 25 26 27 28 29      27 28 29 30\n                          30 31\n\n      October                   November                  December\nMo Tu We Th Fr Sa Su      Mo Tu We Th Fr Sa Su      Mo Tu We Th Fr Sa Su\n             1  2  3       1  2  3  4  5  6  7             1  2  3  4  5\n 4  5  6  7  8  9 10       8  9 10 11 12 13 14       6  7  8  9 10 11 12\n11 12 13 14 15 16 17      15 16 17 18 19 20 21      13 14 15 16 17 18 19\n18 19 20 21 22 23 24      22 23 24 25 26 27 28      20 21 22 23 24 25 26\n25 26 27 28 29 30 31      29 30                     27 28 29 30 31\n\n"
     ]
    }
   ],
   "source": [
    "print(calendar.calendar(2021))"
   ]
  },
  {
   "source": [
    "## DateTime Formats\n",
    "The Datetime module lets you interchange the format of DateTime between a few options.\n",
    "\n",
    "First up is the ISO format. If you wanted to create a DateTime object from the string form of the date in ISO format, use the fromisoformat() method. And if you intended to do the reverse, use the isoformat() method:"
   ],
   "cell_type": "markdown",
   "metadata": {}
  },
  {
   "cell_type": "code",
   "execution_count": 25,
   "metadata": {},
   "outputs": [
    {
     "output_type": "stream",
     "name": "stdout",
     "text": [
      "2020-04-23\n<class 'datetime.date'>\n2020-04-23\n<class 'str'>\n"
     ]
    }
   ],
   "source": [
    "# ISO format\n",
    "d1_datetime = date.fromisoformat('2020-04-23')\n",
    "print(d1_datetime)\n",
    "print(type(d1_datetime))\n",
    "d1_ISO = date(2020,4,23).isoformat()\n",
    "print(d1_ISO)\n",
    "print(type(d1_ISO))"
   ]
  },
  {
   "source": [
    "If you wanted to convert DateTime into a string format, you could use the ctime() method. This returns the date in a string format. And if you wanted to extract just the date from that, well, you would have to use slicing:"
   ],
   "cell_type": "markdown",
   "metadata": {}
  },
  {
   "cell_type": "code",
   "execution_count": 26,
   "metadata": {},
   "outputs": [
    {
     "output_type": "stream",
     "name": "stdout",
     "text": [
      "Fri Mar 26 23:46:09 2021\nFri Mar 26\n"
     ]
    }
   ],
   "source": [
    "# date in string format\n",
    "d1 = datetime.now()\n",
    "# string format for date\n",
    "print(d1.ctime())\n",
    "# slicing to extract date\n",
    "print(d1.ctime()[:10])"
   ]
  },
  {
   "source": [
    "And if none of these functions strike your fancy, you could use the format() method which lets you define your own format:"
   ],
   "cell_type": "markdown",
   "metadata": {}
  },
  {
   "cell_type": "code",
   "execution_count": 27,
   "metadata": {},
   "outputs": [
    {
     "output_type": "execute_result",
     "data": {
      "text/plain": [
       "'2020/04/23'"
      ]
     },
     "metadata": {},
     "execution_count": 27
    }
   ],
   "source": [
    "date(2020,4,23).__format__('%Y/%m/%d')"
   ]
  },
  {
   "source": [
    "Wait – what are these arguments I passed to the function? These are called formatted string codes and we will look at them in detail in the next section."
   ],
   "cell_type": "markdown",
   "metadata": {}
  },
  {
   "source": [
    "## Advanced DateTime Formatting with Strptime & Strftime\n",
    "These functions are very important as they let you define the format of the DateTime object explicitly. This can give you a lot of flexibility with handling DateTime features.\n",
    "\n",
    "strptime() creates a DateTime object from a string representing date and time. It takes two arguments: the date and the format in which your date is present. Have a look below:"
   ],
   "cell_type": "markdown",
   "metadata": {}
  },
  {
   "cell_type": "code",
   "execution_count": 29,
   "metadata": {},
   "outputs": [
    {
     "output_type": "stream",
     "name": "stdout",
     "text": [
      "2020-04-22 13:20:13\n<class 'datetime.datetime'>\n"
     ]
    }
   ],
   "source": [
    "# strptime\n",
    "date = '22 April, 2020 13:20:13'\n",
    "d1 = datetime.strptime(date,'%d %B, %Y %H:%M:%S')\n",
    "print(d1)\n",
    "print(type(d1))"
   ]
  },
  {
   "source": [
    "You define the format using the formatting codes as I did above. There are a number of formatting codes and you can have a look at them in the [documentation](https://docs.python.org/3/library/datetime.html#strftime-and-strptime-format-codes).\n",
    "\n",
    "The stftime() method, on the other hand, can be used to convert the DateTime object into a string representing date and time:"
   ],
   "cell_type": "markdown",
   "metadata": {}
  },
  {
   "cell_type": "code",
   "execution_count": 30,
   "metadata": {},
   "outputs": [
    {
     "output_type": "stream",
     "name": "stdout",
     "text": [
      "Datetime object : 2021-03-26 23:51:12.001227\nFormatted date : 26/03/2021 23:51\n<class 'str'>\n"
     ]
    }
   ],
   "source": [
    "# strftime\n",
    "d1 = datetime.now()\n",
    "print('Datetime object :',d1)\n",
    "new_date = d1.strftime('%d/%m/%Y %H:%M')\n",
    "print('Formatted date :',new_date)\n",
    "print(type(new_date))"
   ]
  },
  {
   "source": [
    "But you can also extract some important information from the DateTime object like weekday name, month name, week number, etc. which can turn out to be very useful in terms of features as we saw in previous sections."
   ],
   "cell_type": "markdown",
   "metadata": {}
  },
  {
   "cell_type": "code",
   "execution_count": 31,
   "metadata": {},
   "outputs": [
    {
     "output_type": "stream",
     "name": "stdout",
     "text": [
      "Weekday : Friday\nMonth : March\nWeek number : 12\nLocale's date and time representation : Fri Mar 26 23:51:59 2021\n"
     ]
    }
   ],
   "source": [
    "d1 = datetime.now()\n",
    "print('Weekday :',d1.strftime('%A'))\n",
    "print('Month :',d1.strftime('%B'))\n",
    "print('Week number :',d1.strftime('%W'))\n",
    "print(\"Locale's date and time representation :\",d1.strftime('%c'))"
   ]
  },
  {
   "source": [
    "## Timedelta\n",
    "So far, we have seen how to create a DateTime object and how to format it. \n",
    "\n",
    "But sometimes, you might have to find the duration between two dates, which can be another very useful feature that you can derive from a dataset. \n",
    "This duration is, however, returned as a timedelta object."
   ],
   "cell_type": "markdown",
   "metadata": {}
  },
  {
   "cell_type": "code",
   "execution_count": 33,
   "metadata": {},
   "outputs": [
    {
     "output_type": "stream",
     "name": "stdout",
     "text": [
      "<class 'datetime.timedelta'>\n"
     ]
    },
    {
     "output_type": "execute_result",
     "data": {
      "text/plain": [
       "datetime.timedelta(days=365, seconds=3600)"
      ]
     },
     "metadata": {},
     "execution_count": 33
    }
   ],
   "source": [
    "# timedelta : duration between dates\n",
    "d1 = datetime(2020,4,23,11,13,10)\n",
    "d2 = datetime(2021,4,23,12,13,10)\n",
    "duration = d2-d1\n",
    "print(type(duration))\n",
    "duration"
   ]
  },
  {
   "source": [
    "As you can see, the duration is returned as the number of days for the date and seconds for the time between the dates. So you can actually retrieve these values for your features:"
   ],
   "cell_type": "markdown",
   "metadata": {}
  },
  {
   "cell_type": "code",
   "execution_count": 34,
   "metadata": {},
   "outputs": [
    {
     "output_type": "stream",
     "name": "stdout",
     "text": [
      "365\n3600\n"
     ]
    }
   ],
   "source": [
    "print(duration.days) # 365\n",
    "print(duration.seconds) # 3600"
   ]
  },
  {
   "source": [
    "But what if you actually wanted the duration in hours or minutes? Well, there is a simple solution for that.\n",
    "\n",
    "timedelta is also a class in the DateTime module. So, you could use it to convert your duration into hours and minutes as I’ve done below:"
   ],
   "cell_type": "markdown",
   "metadata": {}
  },
  {
   "cell_type": "code",
   "execution_count": 35,
   "metadata": {},
   "outputs": [
    {
     "output_type": "stream",
     "name": "stdout",
     "text": [
      "Duration in hours : 8761.0\nDuration in minutes : 525660.0\nDuration in seconds : 31539600.0\n"
     ]
    }
   ],
   "source": [
    "from datetime import timedelta\n",
    "# duration in hours\n",
    "print('Duration in hours :',duration/timedelta(hours=1))\n",
    "# duration in minutes\n",
    "print('Duration in minutes :',duration/timedelta(minutes=1))\n",
    "# duration in seconds\n",
    "print('Duration in seconds :',duration/timedelta(seconds=1))"
   ]
  },
  {
   "cell_type": "code",
   "execution_count": 36,
   "metadata": {},
   "outputs": [
    {
     "output_type": "error",
     "ename": "TypeError",
     "evalue": "unsupported operand type(s) for +: 'datetime.datetime' and 'int'",
     "traceback": [
      "\u001b[1;31m---------------------------------------------------------------------------\u001b[0m",
      "\u001b[1;31mTypeError\u001b[0m                                 Traceback (most recent call last)",
      "\u001b[1;32m<ipython-input-36-9b0358adfc85>\u001b[0m in \u001b[0;36m<module>\u001b[1;34m\u001b[0m\n\u001b[0;32m      1\u001b[0m \u001b[1;31m## Now, what if you wanted to get the date 5 days from today? Do you simply add 5 to the present date?\u001b[0m\u001b[1;33m\u001b[0m\u001b[1;33m\u001b[0m\u001b[1;33m\u001b[0m\u001b[0m\n\u001b[0;32m      2\u001b[0m \u001b[0md1\u001b[0m \u001b[1;33m=\u001b[0m \u001b[0mdatetime\u001b[0m\u001b[1;33m.\u001b[0m\u001b[0mnow\u001b[0m\u001b[1;33m(\u001b[0m\u001b[1;33m)\u001b[0m\u001b[1;33m\u001b[0m\u001b[1;33m\u001b[0m\u001b[0m\n\u001b[1;32m----> 3\u001b[1;33m \u001b[0md1\u001b[0m\u001b[1;33m+\u001b[0m\u001b[1;36m5\u001b[0m\u001b[1;33m\u001b[0m\u001b[1;33m\u001b[0m\u001b[0m\n\u001b[0m",
      "\u001b[1;31mTypeError\u001b[0m: unsupported operand type(s) for +: 'datetime.datetime' and 'int'"
     ]
    }
   ],
   "source": [
    "## Now, what if you wanted to get the date 5 days from today? Do you simply add 5 to the present date?\n",
    "d1 = datetime.now()\n",
    "d1+5"
   ]
  },
  {
   "source": [
    "Not quite. So how do you go about it then? You use timedelta of course!\n",
    "\n",
    "timedelta makes it possible to add and subtract integers from a DateTime object."
   ],
   "cell_type": "markdown",
   "metadata": {}
  },
  {
   "cell_type": "code",
   "execution_count": 37,
   "metadata": {},
   "outputs": [
    {
     "output_type": "stream",
     "name": "stdout",
     "text": [
      "Today's date : 2021-03-27 00:01:18.696139\nDate 2 days from today : 2021-03-29 00:01:18.696139\nDate 2 weeks from today : 2021-04-10 00:01:18.696139\n"
     ]
    }
   ],
   "source": [
    "d1 = datetime.now()\n",
    "print(\"Today's date :\",d1)\n",
    "\n",
    "d2 = d1+timedelta(days=2)\n",
    "print(\"Date 2 days from today :\",d2)\n",
    "\n",
    "d3 = d1+timedelta(weeks=2)\n",
    "print(\"Date 2 weeks from today :\",d3)"
   ]
  },
  {
   "source": [
    "# Part 2"
   ],
   "cell_type": "markdown",
   "metadata": {}
  },
  {
   "source": [
    "## DateTime in Pandas\n",
    "We already know that Pandas is a great library for doing data analysis tasks. And so it goes without saying that Pandas also supports Python DateTime objects. It has some great methods for handling dates and times, such as to_datetime() and to_timedelta()."
   ],
   "cell_type": "markdown",
   "metadata": {}
  },
  {
   "source": [
    "## DateTime and Timedelta objects in Pandas\n",
    "The to_datetime() method converts the date and time in string format to a DateTime object:"
   ],
   "cell_type": "markdown",
   "metadata": {}
  },
  {
   "cell_type": "code",
   "execution_count": 42,
   "metadata": {},
   "outputs": [
    {
     "output_type": "stream",
     "name": "stdout",
     "text": [
      "2020-04-24 00:00:00\n<class 'pandas._libs.tslibs.timestamps.Timestamp'>\n"
     ]
    }
   ],
   "source": [
    "import pandas as pd\n",
    "# to_datetime\n",
    "date = pd.to_datetime('24th of April, 2020')\n",
    "print(date)\n",
    "print(type(date))"
   ]
  },
  {
   "source": [
    "You might have noticed something strange here. The type of the object returned by to_datetime() is not DateTime but Timestamp. Well, don’t worry, it is just the Pandas equivalent of Python’s DateTime.\n",
    "\n",
    "We already know that timedelta gives differences in times. The Pandas to_timedelta() method does just this:"
   ],
   "cell_type": "markdown",
   "metadata": {}
  },
  {
   "cell_type": "code",
   "execution_count": 51,
   "metadata": {},
   "outputs": [
    {
     "output_type": "stream",
     "name": "stdout",
     "text": [
      "2021-03-27 00:18:29.647666\n2021-03-28 00:18:29.647666\n2021-04-24 00:18:29.647666\n"
     ]
    }
   ],
   "source": [
    "import numpy as np\n",
    "# timedelta\n",
    "import numpy as np\n",
    "date = datetime.now()\n",
    "# present date\n",
    "print(date)\n",
    "# date after 1 day\n",
    "print(date+pd.to_timedelta(1,unit='D'))\n",
    "# date after 1 month i.e written as 4 weeks  \n",
    "print(date+pd.to_timedelta(4,unit='W'))"
   ]
  },
  {
   "source": [
    "In the above, the unit determines the unit of the argument, whether that’s day, month, year, hours, etc."
   ],
   "cell_type": "markdown",
   "metadata": {}
  },
  {
   "source": [
    "## Date Range in Pandas\n",
    "To make the creation of date sequences a convenient task, Pandas provides the date_range() method. It accepts a start date, an end date, and an optional frequency code:"
   ],
   "cell_type": "markdown",
   "metadata": {}
  },
  {
   "cell_type": "code",
   "execution_count": 53,
   "metadata": {},
   "outputs": [
    {
     "output_type": "execute_result",
     "data": {
      "text/plain": [
       "DatetimeIndex(['2020-04-24', '2020-04-25', '2020-04-26', '2020-04-27',\n",
       "               '2020-04-28', '2020-04-29', '2020-04-30', '2020-05-01',\n",
       "               '2020-05-02', '2020-05-03', '2020-05-04', '2020-05-05',\n",
       "               '2020-05-06', '2020-05-07', '2020-05-08', '2020-05-09',\n",
       "               '2020-05-10', '2020-05-11', '2020-05-12', '2020-05-13',\n",
       "               '2020-05-14', '2020-05-15', '2020-05-16', '2020-05-17',\n",
       "               '2020-05-18', '2020-05-19', '2020-05-20', '2020-05-21',\n",
       "               '2020-05-22', '2020-05-23', '2020-05-24'],\n",
       "              dtype='datetime64[ns]', freq='D')"
      ]
     },
     "metadata": {},
     "execution_count": 53
    }
   ],
   "source": [
    "pd.date_range(start='24/4/2020', end='24/5/2020', freq='D')"
   ]
  },
  {
   "source": [
    "Instead of defining the end date, you could define the period or number of time periods you want to generate:"
   ],
   "cell_type": "markdown",
   "metadata": {}
  },
  {
   "cell_type": "code",
   "execution_count": 60,
   "metadata": {},
   "outputs": [
    {
     "output_type": "execute_result",
     "data": {
      "text/plain": [
       "DatetimeIndex(['2021-03-27 00:27:01.906996', '2021-03-27 00:28:01.906996',\n",
       "               '2021-03-27 00:29:01.906996', '2021-03-27 00:30:01.906996',\n",
       "               '2021-03-27 00:31:01.906996'],\n",
       "              dtype='datetime64[ns]', freq='T')"
      ]
     },
     "metadata": {},
     "execution_count": 60
    }
   ],
   "source": [
    "from datetime import datetime\n",
    "start_date = datetime.today()\n",
    "dates_start = pd.date_range(start=start_date, periods=10, freq='T')\n",
    "# freq takes values T, D, W, M, Y\n",
    "dates_start[:5]"
   ]
  },
  {
   "source": [
    "## Making DateTime Features in Pandas\n",
    "Let’s also create a series of end dates and make a dummy dataset from which we can derive some new features and bring our learning about DateTime to fruition."
   ],
   "cell_type": "markdown",
   "metadata": {}
  },
  {
   "cell_type": "code",
   "execution_count": 62,
   "metadata": {},
   "outputs": [
    {
     "output_type": "execute_result",
     "data": {
      "text/plain": [
       "DatetimeIndex(['2021-03-27 00:27:01.906996', '2021-03-28 00:27:01.906996',\n",
       "               '2021-03-29 00:27:01.906996', '2021-03-30 00:27:01.906996',\n",
       "               '2021-03-31 00:27:01.906996'],\n",
       "              dtype='datetime64[ns]', freq='D')"
      ]
     },
     "metadata": {},
     "execution_count": 62
    }
   ],
   "source": [
    "dates_end = pd.date_range(start=start_date, periods=10, freq='D')\n",
    "dates_end[:5]"
   ]
  },
  {
   "cell_type": "code",
   "execution_count": 63,
   "metadata": {},
   "outputs": [
    {
     "output_type": "execute_result",
     "data": {
      "text/plain": [
       "                  Start_date                   End_date  Target\n",
       "0 2021-03-27 00:27:01.906996 2021-03-27 00:27:01.906996       1\n",
       "1 2021-03-27 00:28:01.906996 2021-03-28 00:27:01.906996       1\n",
       "2 2021-03-27 00:29:01.906996 2021-03-29 00:27:01.906996       1\n",
       "3 2021-03-27 00:30:01.906996 2021-03-30 00:27:01.906996       0\n",
       "4 2021-03-27 00:31:01.906996 2021-03-31 00:27:01.906996       1"
      ],
      "text/html": "<div>\n<style scoped>\n    .dataframe tbody tr th:only-of-type {\n        vertical-align: middle;\n    }\n\n    .dataframe tbody tr th {\n        vertical-align: top;\n    }\n\n    .dataframe thead th {\n        text-align: right;\n    }\n</style>\n<table border=\"1\" class=\"dataframe\">\n  <thead>\n    <tr style=\"text-align: right;\">\n      <th></th>\n      <th>Start_date</th>\n      <th>End_date</th>\n      <th>Target</th>\n    </tr>\n  </thead>\n  <tbody>\n    <tr>\n      <th>0</th>\n      <td>2021-03-27 00:27:01.906996</td>\n      <td>2021-03-27 00:27:01.906996</td>\n      <td>1</td>\n    </tr>\n    <tr>\n      <th>1</th>\n      <td>2021-03-27 00:28:01.906996</td>\n      <td>2021-03-28 00:27:01.906996</td>\n      <td>1</td>\n    </tr>\n    <tr>\n      <th>2</th>\n      <td>2021-03-27 00:29:01.906996</td>\n      <td>2021-03-29 00:27:01.906996</td>\n      <td>1</td>\n    </tr>\n    <tr>\n      <th>3</th>\n      <td>2021-03-27 00:30:01.906996</td>\n      <td>2021-03-30 00:27:01.906996</td>\n      <td>0</td>\n    </tr>\n    <tr>\n      <th>4</th>\n      <td>2021-03-27 00:31:01.906996</td>\n      <td>2021-03-31 00:27:01.906996</td>\n      <td>1</td>\n    </tr>\n  </tbody>\n</table>\n</div>"
     },
     "metadata": {},
     "execution_count": 63
    }
   ],
   "source": [
    "import random\n",
    "randomList = []\n",
    "for i in range(10):\n",
    "    randomList.append(random.randint(0,1))\n",
    "\n",
    "# dataframe\n",
    "df = pd.DataFrame()\n",
    "df['Start_date'] = dates_start\n",
    "df['End_date'] = dates_end\n",
    "df['Target'] = randomList\n",
    "\n",
    "df.head()"
   ]
  },
  {
   "source": [
    "We can create multiple new features from the date column, like the day, month, year, hour, minute, etc. using the dt attribute as shown below:"
   ],
   "cell_type": "markdown",
   "metadata": {}
  },
  {
   "cell_type": "code",
   "execution_count": 65,
   "metadata": {},
   "outputs": [],
   "source": [
    "# day\n",
    "df['Day'] = df['Start_date'].dt.day\n",
    "# month\n",
    "df['Month'] = df['Start_date'].dt.month\n",
    "# year\n",
    "df['Year'] = df['Start_date'].dt.year\n",
    "# hour\n",
    "df['Start_hour'] = df['Start_date'].dt.hour\n",
    "# minute\n",
    "df['Start_minute'] = df['Start_date'].dt.minute\n",
    "# second\n",
    "df['Start_second'] = df['Start_date'].dt.second\n",
    "# Monday is 0 and Sunday is 6\n",
    "df['Start_weekday'] = df['Start_date'].dt.weekday\n",
    "# week of the year\n",
    "df['Start_week_of_year'] = df['Start_date'].dt.isocalendar().week\n",
    "# duration\n",
    "df['Duration'] = df['End_date']-df['Start_date']"
   ]
  },
  {
   "cell_type": "code",
   "execution_count": 66,
   "metadata": {},
   "outputs": [
    {
     "output_type": "execute_result",
     "data": {
      "text/plain": [
       "                  Start_date                   End_date  Target  Day  Month  \\\n",
       "0 2021-03-27 00:27:01.906996 2021-03-27 00:27:01.906996       1   27      3   \n",
       "1 2021-03-27 00:28:01.906996 2021-03-28 00:27:01.906996       1   27      3   \n",
       "2 2021-03-27 00:29:01.906996 2021-03-29 00:27:01.906996       1   27      3   \n",
       "3 2021-03-27 00:30:01.906996 2021-03-30 00:27:01.906996       0   27      3   \n",
       "4 2021-03-27 00:31:01.906996 2021-03-31 00:27:01.906996       1   27      3   \n",
       "5 2021-03-27 00:32:01.906996 2021-04-01 00:27:01.906996       0   27      3   \n",
       "6 2021-03-27 00:33:01.906996 2021-04-02 00:27:01.906996       0   27      3   \n",
       "7 2021-03-27 00:34:01.906996 2021-04-03 00:27:01.906996       0   27      3   \n",
       "8 2021-03-27 00:35:01.906996 2021-04-04 00:27:01.906996       1   27      3   \n",
       "9 2021-03-27 00:36:01.906996 2021-04-05 00:27:01.906996       0   27      3   \n",
       "\n",
       "   Year  Start_hour  Start_minute  Start_second  Start_weekday  \\\n",
       "0  2021           0            27             1              5   \n",
       "1  2021           0            28             1              5   \n",
       "2  2021           0            29             1              5   \n",
       "3  2021           0            30             1              5   \n",
       "4  2021           0            31             1              5   \n",
       "5  2021           0            32             1              5   \n",
       "6  2021           0            33             1              5   \n",
       "7  2021           0            34             1              5   \n",
       "8  2021           0            35             1              5   \n",
       "9  2021           0            36             1              5   \n",
       "\n",
       "   Start_week_of_year        Duration  \n",
       "0                  12 0 days 00:00:00  \n",
       "1                  12 0 days 23:59:00  \n",
       "2                  12 1 days 23:58:00  \n",
       "3                  12 2 days 23:57:00  \n",
       "4                  12 3 days 23:56:00  \n",
       "5                  12 4 days 23:55:00  \n",
       "6                  12 5 days 23:54:00  \n",
       "7                  12 6 days 23:53:00  \n",
       "8                  12 7 days 23:52:00  \n",
       "9                  12 8 days 23:51:00  "
      ],
      "text/html": "<div>\n<style scoped>\n    .dataframe tbody tr th:only-of-type {\n        vertical-align: middle;\n    }\n\n    .dataframe tbody tr th {\n        vertical-align: top;\n    }\n\n    .dataframe thead th {\n        text-align: right;\n    }\n</style>\n<table border=\"1\" class=\"dataframe\">\n  <thead>\n    <tr style=\"text-align: right;\">\n      <th></th>\n      <th>Start_date</th>\n      <th>End_date</th>\n      <th>Target</th>\n      <th>Day</th>\n      <th>Month</th>\n      <th>Year</th>\n      <th>Start_hour</th>\n      <th>Start_minute</th>\n      <th>Start_second</th>\n      <th>Start_weekday</th>\n      <th>Start_week_of_year</th>\n      <th>Duration</th>\n    </tr>\n  </thead>\n  <tbody>\n    <tr>\n      <th>0</th>\n      <td>2021-03-27 00:27:01.906996</td>\n      <td>2021-03-27 00:27:01.906996</td>\n      <td>1</td>\n      <td>27</td>\n      <td>3</td>\n      <td>2021</td>\n      <td>0</td>\n      <td>27</td>\n      <td>1</td>\n      <td>5</td>\n      <td>12</td>\n      <td>0 days 00:00:00</td>\n    </tr>\n    <tr>\n      <th>1</th>\n      <td>2021-03-27 00:28:01.906996</td>\n      <td>2021-03-28 00:27:01.906996</td>\n      <td>1</td>\n      <td>27</td>\n      <td>3</td>\n      <td>2021</td>\n      <td>0</td>\n      <td>28</td>\n      <td>1</td>\n      <td>5</td>\n      <td>12</td>\n      <td>0 days 23:59:00</td>\n    </tr>\n    <tr>\n      <th>2</th>\n      <td>2021-03-27 00:29:01.906996</td>\n      <td>2021-03-29 00:27:01.906996</td>\n      <td>1</td>\n      <td>27</td>\n      <td>3</td>\n      <td>2021</td>\n      <td>0</td>\n      <td>29</td>\n      <td>1</td>\n      <td>5</td>\n      <td>12</td>\n      <td>1 days 23:58:00</td>\n    </tr>\n    <tr>\n      <th>3</th>\n      <td>2021-03-27 00:30:01.906996</td>\n      <td>2021-03-30 00:27:01.906996</td>\n      <td>0</td>\n      <td>27</td>\n      <td>3</td>\n      <td>2021</td>\n      <td>0</td>\n      <td>30</td>\n      <td>1</td>\n      <td>5</td>\n      <td>12</td>\n      <td>2 days 23:57:00</td>\n    </tr>\n    <tr>\n      <th>4</th>\n      <td>2021-03-27 00:31:01.906996</td>\n      <td>2021-03-31 00:27:01.906996</td>\n      <td>1</td>\n      <td>27</td>\n      <td>3</td>\n      <td>2021</td>\n      <td>0</td>\n      <td>31</td>\n      <td>1</td>\n      <td>5</td>\n      <td>12</td>\n      <td>3 days 23:56:00</td>\n    </tr>\n    <tr>\n      <th>5</th>\n      <td>2021-03-27 00:32:01.906996</td>\n      <td>2021-04-01 00:27:01.906996</td>\n      <td>0</td>\n      <td>27</td>\n      <td>3</td>\n      <td>2021</td>\n      <td>0</td>\n      <td>32</td>\n      <td>1</td>\n      <td>5</td>\n      <td>12</td>\n      <td>4 days 23:55:00</td>\n    </tr>\n    <tr>\n      <th>6</th>\n      <td>2021-03-27 00:33:01.906996</td>\n      <td>2021-04-02 00:27:01.906996</td>\n      <td>0</td>\n      <td>27</td>\n      <td>3</td>\n      <td>2021</td>\n      <td>0</td>\n      <td>33</td>\n      <td>1</td>\n      <td>5</td>\n      <td>12</td>\n      <td>5 days 23:54:00</td>\n    </tr>\n    <tr>\n      <th>7</th>\n      <td>2021-03-27 00:34:01.906996</td>\n      <td>2021-04-03 00:27:01.906996</td>\n      <td>0</td>\n      <td>27</td>\n      <td>3</td>\n      <td>2021</td>\n      <td>0</td>\n      <td>34</td>\n      <td>1</td>\n      <td>5</td>\n      <td>12</td>\n      <td>6 days 23:53:00</td>\n    </tr>\n    <tr>\n      <th>8</th>\n      <td>2021-03-27 00:35:01.906996</td>\n      <td>2021-04-04 00:27:01.906996</td>\n      <td>1</td>\n      <td>27</td>\n      <td>3</td>\n      <td>2021</td>\n      <td>0</td>\n      <td>35</td>\n      <td>1</td>\n      <td>5</td>\n      <td>12</td>\n      <td>7 days 23:52:00</td>\n    </tr>\n    <tr>\n      <th>9</th>\n      <td>2021-03-27 00:36:01.906996</td>\n      <td>2021-04-05 00:27:01.906996</td>\n      <td>0</td>\n      <td>27</td>\n      <td>3</td>\n      <td>2021</td>\n      <td>0</td>\n      <td>36</td>\n      <td>1</td>\n      <td>5</td>\n      <td>12</td>\n      <td>8 days 23:51:00</td>\n    </tr>\n  </tbody>\n</table>\n</div>"
     },
     "metadata": {},
     "execution_count": 66
    }
   ],
   "source": [
    "df"
   ]
  },
  {
   "source": [
    "Our duration feature is great, but what if we would like to have the duration in minutes or seconds? Remember how in the timedelta section we converted the date to seconds? We could do the same here!"
   ],
   "cell_type": "markdown",
   "metadata": {}
  },
  {
   "cell_type": "code",
   "execution_count": 67,
   "metadata": {},
   "outputs": [],
   "source": [
    "df['Duration_days'] = df['Duration']/timedelta(days=1)\n",
    "df['Duration_minutes'] = df['Duration']/timedelta(minutes=1)\n",
    "df['Duration_seconds'] = df['Duration']/timedelta(seconds=1)"
   ]
  },
  {
   "cell_type": "code",
   "execution_count": 68,
   "metadata": {},
   "outputs": [
    {
     "output_type": "execute_result",
     "data": {
      "text/plain": [
       "                  Start_date                   End_date  Target  Day  Month  \\\n",
       "0 2021-03-27 00:27:01.906996 2021-03-27 00:27:01.906996       1   27      3   \n",
       "1 2021-03-27 00:28:01.906996 2021-03-28 00:27:01.906996       1   27      3   \n",
       "2 2021-03-27 00:29:01.906996 2021-03-29 00:27:01.906996       1   27      3   \n",
       "3 2021-03-27 00:30:01.906996 2021-03-30 00:27:01.906996       0   27      3   \n",
       "4 2021-03-27 00:31:01.906996 2021-03-31 00:27:01.906996       1   27      3   \n",
       "5 2021-03-27 00:32:01.906996 2021-04-01 00:27:01.906996       0   27      3   \n",
       "6 2021-03-27 00:33:01.906996 2021-04-02 00:27:01.906996       0   27      3   \n",
       "7 2021-03-27 00:34:01.906996 2021-04-03 00:27:01.906996       0   27      3   \n",
       "8 2021-03-27 00:35:01.906996 2021-04-04 00:27:01.906996       1   27      3   \n",
       "9 2021-03-27 00:36:01.906996 2021-04-05 00:27:01.906996       0   27      3   \n",
       "\n",
       "   Year  Start_hour  Start_minute  Start_second  Start_weekday  \\\n",
       "0  2021           0            27             1              5   \n",
       "1  2021           0            28             1              5   \n",
       "2  2021           0            29             1              5   \n",
       "3  2021           0            30             1              5   \n",
       "4  2021           0            31             1              5   \n",
       "5  2021           0            32             1              5   \n",
       "6  2021           0            33             1              5   \n",
       "7  2021           0            34             1              5   \n",
       "8  2021           0            35             1              5   \n",
       "9  2021           0            36             1              5   \n",
       "\n",
       "   Start_week_of_year        Duration  Duration_days  Duration_minutes  \\\n",
       "0                  12 0 days 00:00:00       0.000000               0.0   \n",
       "1                  12 0 days 23:59:00       0.999306            1439.0   \n",
       "2                  12 1 days 23:58:00       1.998611            2878.0   \n",
       "3                  12 2 days 23:57:00       2.997917            4317.0   \n",
       "4                  12 3 days 23:56:00       3.997222            5756.0   \n",
       "5                  12 4 days 23:55:00       4.996528            7195.0   \n",
       "6                  12 5 days 23:54:00       5.995833            8634.0   \n",
       "7                  12 6 days 23:53:00       6.995139           10073.0   \n",
       "8                  12 7 days 23:52:00       7.994444           11512.0   \n",
       "9                  12 8 days 23:51:00       8.993750           12951.0   \n",
       "\n",
       "   Duration_seconds  \n",
       "0               0.0  \n",
       "1           86340.0  \n",
       "2          172680.0  \n",
       "3          259020.0  \n",
       "4          345360.0  \n",
       "5          431700.0  \n",
       "6          518040.0  \n",
       "7          604380.0  \n",
       "8          690720.0  \n",
       "9          777060.0  "
      ],
      "text/html": "<div>\n<style scoped>\n    .dataframe tbody tr th:only-of-type {\n        vertical-align: middle;\n    }\n\n    .dataframe tbody tr th {\n        vertical-align: top;\n    }\n\n    .dataframe thead th {\n        text-align: right;\n    }\n</style>\n<table border=\"1\" class=\"dataframe\">\n  <thead>\n    <tr style=\"text-align: right;\">\n      <th></th>\n      <th>Start_date</th>\n      <th>End_date</th>\n      <th>Target</th>\n      <th>Day</th>\n      <th>Month</th>\n      <th>Year</th>\n      <th>Start_hour</th>\n      <th>Start_minute</th>\n      <th>Start_second</th>\n      <th>Start_weekday</th>\n      <th>Start_week_of_year</th>\n      <th>Duration</th>\n      <th>Duration_days</th>\n      <th>Duration_minutes</th>\n      <th>Duration_seconds</th>\n    </tr>\n  </thead>\n  <tbody>\n    <tr>\n      <th>0</th>\n      <td>2021-03-27 00:27:01.906996</td>\n      <td>2021-03-27 00:27:01.906996</td>\n      <td>1</td>\n      <td>27</td>\n      <td>3</td>\n      <td>2021</td>\n      <td>0</td>\n      <td>27</td>\n      <td>1</td>\n      <td>5</td>\n      <td>12</td>\n      <td>0 days 00:00:00</td>\n      <td>0.000000</td>\n      <td>0.0</td>\n      <td>0.0</td>\n    </tr>\n    <tr>\n      <th>1</th>\n      <td>2021-03-27 00:28:01.906996</td>\n      <td>2021-03-28 00:27:01.906996</td>\n      <td>1</td>\n      <td>27</td>\n      <td>3</td>\n      <td>2021</td>\n      <td>0</td>\n      <td>28</td>\n      <td>1</td>\n      <td>5</td>\n      <td>12</td>\n      <td>0 days 23:59:00</td>\n      <td>0.999306</td>\n      <td>1439.0</td>\n      <td>86340.0</td>\n    </tr>\n    <tr>\n      <th>2</th>\n      <td>2021-03-27 00:29:01.906996</td>\n      <td>2021-03-29 00:27:01.906996</td>\n      <td>1</td>\n      <td>27</td>\n      <td>3</td>\n      <td>2021</td>\n      <td>0</td>\n      <td>29</td>\n      <td>1</td>\n      <td>5</td>\n      <td>12</td>\n      <td>1 days 23:58:00</td>\n      <td>1.998611</td>\n      <td>2878.0</td>\n      <td>172680.0</td>\n    </tr>\n    <tr>\n      <th>3</th>\n      <td>2021-03-27 00:30:01.906996</td>\n      <td>2021-03-30 00:27:01.906996</td>\n      <td>0</td>\n      <td>27</td>\n      <td>3</td>\n      <td>2021</td>\n      <td>0</td>\n      <td>30</td>\n      <td>1</td>\n      <td>5</td>\n      <td>12</td>\n      <td>2 days 23:57:00</td>\n      <td>2.997917</td>\n      <td>4317.0</td>\n      <td>259020.0</td>\n    </tr>\n    <tr>\n      <th>4</th>\n      <td>2021-03-27 00:31:01.906996</td>\n      <td>2021-03-31 00:27:01.906996</td>\n      <td>1</td>\n      <td>27</td>\n      <td>3</td>\n      <td>2021</td>\n      <td>0</td>\n      <td>31</td>\n      <td>1</td>\n      <td>5</td>\n      <td>12</td>\n      <td>3 days 23:56:00</td>\n      <td>3.997222</td>\n      <td>5756.0</td>\n      <td>345360.0</td>\n    </tr>\n    <tr>\n      <th>5</th>\n      <td>2021-03-27 00:32:01.906996</td>\n      <td>2021-04-01 00:27:01.906996</td>\n      <td>0</td>\n      <td>27</td>\n      <td>3</td>\n      <td>2021</td>\n      <td>0</td>\n      <td>32</td>\n      <td>1</td>\n      <td>5</td>\n      <td>12</td>\n      <td>4 days 23:55:00</td>\n      <td>4.996528</td>\n      <td>7195.0</td>\n      <td>431700.0</td>\n    </tr>\n    <tr>\n      <th>6</th>\n      <td>2021-03-27 00:33:01.906996</td>\n      <td>2021-04-02 00:27:01.906996</td>\n      <td>0</td>\n      <td>27</td>\n      <td>3</td>\n      <td>2021</td>\n      <td>0</td>\n      <td>33</td>\n      <td>1</td>\n      <td>5</td>\n      <td>12</td>\n      <td>5 days 23:54:00</td>\n      <td>5.995833</td>\n      <td>8634.0</td>\n      <td>518040.0</td>\n    </tr>\n    <tr>\n      <th>7</th>\n      <td>2021-03-27 00:34:01.906996</td>\n      <td>2021-04-03 00:27:01.906996</td>\n      <td>0</td>\n      <td>27</td>\n      <td>3</td>\n      <td>2021</td>\n      <td>0</td>\n      <td>34</td>\n      <td>1</td>\n      <td>5</td>\n      <td>12</td>\n      <td>6 days 23:53:00</td>\n      <td>6.995139</td>\n      <td>10073.0</td>\n      <td>604380.0</td>\n    </tr>\n    <tr>\n      <th>8</th>\n      <td>2021-03-27 00:35:01.906996</td>\n      <td>2021-04-04 00:27:01.906996</td>\n      <td>1</td>\n      <td>27</td>\n      <td>3</td>\n      <td>2021</td>\n      <td>0</td>\n      <td>35</td>\n      <td>1</td>\n      <td>5</td>\n      <td>12</td>\n      <td>7 days 23:52:00</td>\n      <td>7.994444</td>\n      <td>11512.0</td>\n      <td>690720.0</td>\n    </tr>\n    <tr>\n      <th>9</th>\n      <td>2021-03-27 00:36:01.906996</td>\n      <td>2021-04-05 00:27:01.906996</td>\n      <td>0</td>\n      <td>27</td>\n      <td>3</td>\n      <td>2021</td>\n      <td>0</td>\n      <td>36</td>\n      <td>1</td>\n      <td>5</td>\n      <td>12</td>\n      <td>8 days 23:51:00</td>\n      <td>8.993750</td>\n      <td>12951.0</td>\n      <td>777060.0</td>\n    </tr>\n  </tbody>\n</table>\n</div>"
     },
     "metadata": {},
     "execution_count": 68
    }
   ],
   "source": [
    "df"
   ]
  },
  {
   "source": [
    "Great! Can you see how many new features we created from just the dates?\n",
    "\n",
    "Now, let’s make the start date the index of the DataFrame. This will help us easily analyze our dataset because we can use slicing to find data representing our desired dates:"
   ],
   "cell_type": "markdown",
   "metadata": {}
  },
  {
   "cell_type": "code",
   "execution_count": 72,
   "metadata": {},
   "outputs": [
    {
     "output_type": "execute_result",
     "data": {
      "text/plain": [
       "                                           Start_date  \\\n",
       "Start_date                                              \n",
       "2021-03-27 00:27:01.906996 2021-03-27 00:27:01.906996   \n",
       "2021-03-27 00:28:01.906996 2021-03-27 00:28:01.906996   \n",
       "2021-03-27 00:29:01.906996 2021-03-27 00:29:01.906996   \n",
       "2021-03-27 00:30:01.906996 2021-03-27 00:30:01.906996   \n",
       "2021-03-27 00:31:01.906996 2021-03-27 00:31:01.906996   \n",
       "\n",
       "                                             End_date  Target  Day  Month  \\\n",
       "Start_date                                                                  \n",
       "2021-03-27 00:27:01.906996 2021-03-27 00:27:01.906996       1   27      3   \n",
       "2021-03-27 00:28:01.906996 2021-03-28 00:27:01.906996       1   27      3   \n",
       "2021-03-27 00:29:01.906996 2021-03-29 00:27:01.906996       1   27      3   \n",
       "2021-03-27 00:30:01.906996 2021-03-30 00:27:01.906996       0   27      3   \n",
       "2021-03-27 00:31:01.906996 2021-03-31 00:27:01.906996       1   27      3   \n",
       "\n",
       "                            Year  Start_hour  Start_minute  Start_second  \\\n",
       "Start_date                                                                 \n",
       "2021-03-27 00:27:01.906996  2021           0            27             1   \n",
       "2021-03-27 00:28:01.906996  2021           0            28             1   \n",
       "2021-03-27 00:29:01.906996  2021           0            29             1   \n",
       "2021-03-27 00:30:01.906996  2021           0            30             1   \n",
       "2021-03-27 00:31:01.906996  2021           0            31             1   \n",
       "\n",
       "                            Start_weekday  Start_week_of_year        Duration  \\\n",
       "Start_date                                                                      \n",
       "2021-03-27 00:27:01.906996              5                  12 0 days 00:00:00   \n",
       "2021-03-27 00:28:01.906996              5                  12 0 days 23:59:00   \n",
       "2021-03-27 00:29:01.906996              5                  12 1 days 23:58:00   \n",
       "2021-03-27 00:30:01.906996              5                  12 2 days 23:57:00   \n",
       "2021-03-27 00:31:01.906996              5                  12 3 days 23:56:00   \n",
       "\n",
       "                            Duration_days  Duration_minutes  Duration_seconds  \n",
       "Start_date                                                                     \n",
       "2021-03-27 00:27:01.906996       0.000000               0.0               0.0  \n",
       "2021-03-27 00:28:01.906996       0.999306            1439.0           86340.0  \n",
       "2021-03-27 00:29:01.906996       1.998611            2878.0          172680.0  \n",
       "2021-03-27 00:30:01.906996       2.997917            4317.0          259020.0  \n",
       "2021-03-27 00:31:01.906996       3.997222            5756.0          345360.0  "
      ],
      "text/html": "<div>\n<style scoped>\n    .dataframe tbody tr th:only-of-type {\n        vertical-align: middle;\n    }\n\n    .dataframe tbody tr th {\n        vertical-align: top;\n    }\n\n    .dataframe thead th {\n        text-align: right;\n    }\n</style>\n<table border=\"1\" class=\"dataframe\">\n  <thead>\n    <tr style=\"text-align: right;\">\n      <th></th>\n      <th>Start_date</th>\n      <th>End_date</th>\n      <th>Target</th>\n      <th>Day</th>\n      <th>Month</th>\n      <th>Year</th>\n      <th>Start_hour</th>\n      <th>Start_minute</th>\n      <th>Start_second</th>\n      <th>Start_weekday</th>\n      <th>Start_week_of_year</th>\n      <th>Duration</th>\n      <th>Duration_days</th>\n      <th>Duration_minutes</th>\n      <th>Duration_seconds</th>\n    </tr>\n    <tr>\n      <th>Start_date</th>\n      <th></th>\n      <th></th>\n      <th></th>\n      <th></th>\n      <th></th>\n      <th></th>\n      <th></th>\n      <th></th>\n      <th></th>\n      <th></th>\n      <th></th>\n      <th></th>\n      <th></th>\n      <th></th>\n      <th></th>\n    </tr>\n  </thead>\n  <tbody>\n    <tr>\n      <th>2021-03-27 00:27:01.906996</th>\n      <td>2021-03-27 00:27:01.906996</td>\n      <td>2021-03-27 00:27:01.906996</td>\n      <td>1</td>\n      <td>27</td>\n      <td>3</td>\n      <td>2021</td>\n      <td>0</td>\n      <td>27</td>\n      <td>1</td>\n      <td>5</td>\n      <td>12</td>\n      <td>0 days 00:00:00</td>\n      <td>0.000000</td>\n      <td>0.0</td>\n      <td>0.0</td>\n    </tr>\n    <tr>\n      <th>2021-03-27 00:28:01.906996</th>\n      <td>2021-03-27 00:28:01.906996</td>\n      <td>2021-03-28 00:27:01.906996</td>\n      <td>1</td>\n      <td>27</td>\n      <td>3</td>\n      <td>2021</td>\n      <td>0</td>\n      <td>28</td>\n      <td>1</td>\n      <td>5</td>\n      <td>12</td>\n      <td>0 days 23:59:00</td>\n      <td>0.999306</td>\n      <td>1439.0</td>\n      <td>86340.0</td>\n    </tr>\n    <tr>\n      <th>2021-03-27 00:29:01.906996</th>\n      <td>2021-03-27 00:29:01.906996</td>\n      <td>2021-03-29 00:27:01.906996</td>\n      <td>1</td>\n      <td>27</td>\n      <td>3</td>\n      <td>2021</td>\n      <td>0</td>\n      <td>29</td>\n      <td>1</td>\n      <td>5</td>\n      <td>12</td>\n      <td>1 days 23:58:00</td>\n      <td>1.998611</td>\n      <td>2878.0</td>\n      <td>172680.0</td>\n    </tr>\n    <tr>\n      <th>2021-03-27 00:30:01.906996</th>\n      <td>2021-03-27 00:30:01.906996</td>\n      <td>2021-03-30 00:27:01.906996</td>\n      <td>0</td>\n      <td>27</td>\n      <td>3</td>\n      <td>2021</td>\n      <td>0</td>\n      <td>30</td>\n      <td>1</td>\n      <td>5</td>\n      <td>12</td>\n      <td>2 days 23:57:00</td>\n      <td>2.997917</td>\n      <td>4317.0</td>\n      <td>259020.0</td>\n    </tr>\n    <tr>\n      <th>2021-03-27 00:31:01.906996</th>\n      <td>2021-03-27 00:31:01.906996</td>\n      <td>2021-03-31 00:27:01.906996</td>\n      <td>1</td>\n      <td>27</td>\n      <td>3</td>\n      <td>2021</td>\n      <td>0</td>\n      <td>31</td>\n      <td>1</td>\n      <td>5</td>\n      <td>12</td>\n      <td>3 days 23:56:00</td>\n      <td>3.997222</td>\n      <td>5756.0</td>\n      <td>345360.0</td>\n    </tr>\n  </tbody>\n</table>\n</div>"
     },
     "metadata": {},
     "execution_count": 72
    }
   ],
   "source": [
    "df.index=df['Start_date']\n",
    "df['2021-03-27':'2021-03-27'].head()"
   ]
  },
  {
   "source": [
    "Awesome! This is super useful when you want to do visualizations or any data analysis."
   ],
   "cell_type": "markdown",
   "metadata": {}
  },
  {
   "cell_type": "code",
   "execution_count": null,
   "metadata": {},
   "outputs": [],
   "source": []
  }
 ]
}