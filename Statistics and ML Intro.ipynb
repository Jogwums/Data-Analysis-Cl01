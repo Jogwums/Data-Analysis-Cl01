{
 "cells": [
  {
   "cell_type": "code",
   "execution_count": 1,
   "metadata": {},
   "outputs": [],
   "source": [
    "#ML involves the use of mathematics and statistics concepts to prepare and analyze data as well as make predictions \n",
    "#from same data"
   ]
  },
  {
   "cell_type": "code",
   "execution_count": 2,
   "metadata": {},
   "outputs": [],
   "source": [
    "#Basic Stats\n",
    "#Data Types and Operations\n",
    "#Categorical data , Nominal data and Ordinal data\n"
   ]
  },
  {
   "cell_type": "code",
   "execution_count": 3,
   "metadata": {},
   "outputs": [],
   "source": [
    "#Mean Median Mode\n",
    "#Average, Middle number and Most frequently occuring number"
   ]
  },
  {
   "cell_type": "code",
   "execution_count": 4,
   "metadata": {},
   "outputs": [],
   "source": [
    "#Example\n",
    "speed = [99,86,87,88,111,86,103,87,94,78,77,85,86]"
   ]
  },
  {
   "cell_type": "code",
   "execution_count": 5,
   "metadata": {},
   "outputs": [
    {
     "name": "stdout",
     "output_type": "stream",
     "text": [
      "89.76923076923077\n"
     ]
    }
   ],
   "source": [
    "#Mean\n",
    "import numpy\n",
    "\n",
    "x = numpy.mean(speed)\n",
    "\n",
    "print(x)"
   ]
  },
  {
   "cell_type": "code",
   "execution_count": 6,
   "metadata": {},
   "outputs": [
    {
     "name": "stdout",
     "output_type": "stream",
     "text": [
      "87.0\n"
     ]
    }
   ],
   "source": [
    "#Median\n",
    "\n",
    "y = numpy.median(speed)\n",
    "\n",
    "print(y)\n"
   ]
  },
  {
   "cell_type": "code",
   "execution_count": 11,
   "metadata": {},
   "outputs": [
    {
     "name": "stdout",
     "output_type": "stream",
     "text": [
      "ModeResult(mode=array([86]), count=array([3]))\n"
     ]
    }
   ],
   "source": [
    "#Mode\n",
    "import scipy\n",
    "from scipy import stats\n",
    "\n",
    "z = stats.mode(speed)\n",
    "\n",
    "print(z)"
   ]
  },
  {
   "cell_type": "code",
   "execution_count": 12,
   "metadata": {},
   "outputs": [],
   "source": [
    "#Standard Deviation\n",
    "#This gives an idea of how spread out the values are from the mean value\n"
   ]
  },
  {
   "cell_type": "code",
   "execution_count": 2,
   "metadata": {},
   "outputs": [],
   "source": [
    "import numpy\n",
    "speed = [86,87,88,86,87,85,86]\n",
    "\n",
    "mean = numpy.mean(speed) #86.42857142857143\n",
    "\n",
    "S_D = 0.9035079029052513"
   ]
  },
  {
   "cell_type": "code",
   "execution_count": 4,
   "metadata": {},
   "outputs": [
    {
     "output_type": "execute_result",
     "data": {
      "text/plain": [
       "0.9035079029052513"
      ]
     },
     "metadata": {},
     "execution_count": 4
    }
   ],
   "source": [
    "x = numpy.std(speed)\n",
    "x"
   ]
  },
  {
   "cell_type": "code",
   "execution_count": 18,
   "metadata": {},
   "outputs": [],
   "source": [
    "speed = [32,111,138,28,59,77,97]\n",
    "\n",
    "x = numpy.std(speed)\n",
    "\n",
    "S_D = 37.84501153334721\n"
   ]
  },
  {
   "cell_type": "code",
   "execution_count": 22,
   "metadata": {},
   "outputs": [],
   "source": [
    "#the Variance is another number that indicates how spreadout the values are\n",
    "\n",
    "#To calculate the variance\\\n",
    "#1. find the mean of a set of numbers\n",
    "#2. find the difference from the mean\n",
    "#3. for each difference, find the square\n",
    "#4. the VARIANCE is the average number of these squares\n",
    "\n",
    "#Use Numpy var() method to calculate the variance"
   ]
  },
  {
   "cell_type": "code",
   "execution_count": 25,
   "metadata": {},
   "outputs": [
    {
     "name": "stdout",
     "output_type": "stream",
     "text": [
      "The Variance is:  1432.2448979591834\n",
      "The SD is:  37.84501153334721\n"
     ]
    }
   ],
   "source": [
    "import numpy as np\n",
    "\n",
    "speed = [32,111,138,28,59,77,97]\n",
    "\n",
    "x = np.var(speed)\n",
    "\n",
    "print(\"The Variance is: \", x)\n",
    "\n",
    "#The standard deviation, SD is the Sqrt of Variance\n",
    "\n",
    "print(\"The SD is: \", np.sqrt(x))"
   ]
  },
  {
   "cell_type": "markdown",
   "metadata": {},
   "source": [
    "# Percentiles\n",
    "#Percentiles are used in statistics \n",
    "#to give you a number that describes the value that a given percent of the values are lower than."
   ]
  },
  {
   "cell_type": "markdown",
   "metadata": {},
   "source": [
    "'''Example: Let's say we have an array of the ages of all the people that lives in a street.\n",
    "ages = [5,31,43,48,50,41,7,11,15,39,80,82,32,2,8,6,25,36,27,61,31]\n",
    "What is the 75. percentile? The answer is 43, meaning that 75% of the people are 43 or younger.\n",
    "'''"
   ]
  },
  {
   "cell_type": "code",
   "execution_count": 27,
   "metadata": {},
   "outputs": [],
   "source": [
    "ages = [5,31,43,48,50,41,7,11,15,39,80,82,32,2,8,6,25,36,27,61,31]\n",
    "\n",
    "#Using the percentile() method in numpy to find the specified percentile\n"
   ]
  },
  {
   "cell_type": "code",
   "execution_count": 28,
   "metadata": {},
   "outputs": [
    {
     "name": "stdout",
     "output_type": "stream",
     "text": [
      "43.0\n"
     ]
    }
   ],
   "source": [
    "import numpy\n",
    "\n",
    "x = numpy.percentile(ages, 75)\n",
    "\n",
    "print(x)"
   ]
  },
  {
   "cell_type": "code",
   "execution_count": 29,
   "metadata": {},
   "outputs": [
    {
     "name": "stdout",
     "output_type": "stream",
     "text": [
      "61.0\n"
     ]
    }
   ],
   "source": [
    "#What is the age that 90% of the people are younger than?\n",
    "\n",
    "x = numpy.percentile(ages, 90)\n",
    "print(x)"
   ]
  },
  {
   "cell_type": "markdown",
   "metadata": {},
   "source": [
    "# Data Sets\n",
    "\n",
    "#To create big data sets for testing,\n",
    "#we use the Python module NumPy, which comes with a number of methods to create random data sets, of any size."
   ]
  },
  {
   "cell_type": "code",
   "execution_count": 32,
   "metadata": {},
   "outputs": [
    {
     "name": "stdout",
     "output_type": "stream",
     "text": [
      "[2.55629736e+00 1.92196035e+00 4.97857058e+00 4.06018871e+00\n",
      " 4.05006155e+00 2.53422035e+00 2.30317702e+00 2.98999286e+00\n",
      " 4.89617814e+00 9.74155090e-01 9.05243680e-01 6.82154208e-01\n",
      " 6.02965864e-01 1.98872274e+00 4.80415701e+00 4.03813872e+00\n",
      " 3.38097158e+00 1.28433200e+00 4.60291416e+00 3.16383040e+00\n",
      " 2.43880232e+00 1.31761740e+00 1.85752631e+00 6.08640490e-02\n",
      " 4.70323326e+00 4.20987734e+00 1.39156613e+00 2.28557335e+00\n",
      " 1.10471024e+00 3.83627826e+00 4.88844058e+00 6.48023711e-01\n",
      " 1.27178750e+00 3.77754288e+00 3.50753838e+00 4.99239495e+00\n",
      " 4.73581588e+00 1.59514861e+00 3.12539747e+00 1.61860978e+00\n",
      " 3.25944087e+00 6.27096311e-01 7.68634892e-01 3.87123380e+00\n",
      " 2.85582173e+00 1.11241397e+00 3.40348500e+00 4.09852815e+00\n",
      " 3.80137511e+00 4.06805980e+00 3.10088988e+00 1.24204242e+00\n",
      " 3.20293399e+00 2.89566750e+00 1.13880752e+00 4.73739555e+00\n",
      " 2.30849195e+00 3.39730760e+00 3.58138354e-02 2.09893457e+00\n",
      " 3.91072550e+00 3.37176981e+00 2.85440464e-01 3.17121768e-01\n",
      " 4.54829858e-01 1.19432537e+00 2.38173168e+00 2.55906495e+00\n",
      " 3.80265883e+00 3.03115629e-02 3.60596820e+00 3.39715434e+00\n",
      " 3.83425519e+00 1.58038735e+00 2.43994673e-01 2.97098605e+00\n",
      " 4.54990461e+00 1.45148781e+00 3.22956340e-01 3.75291726e+00\n",
      " 4.55667690e+00 9.33689037e-01 2.03425582e+00 4.82528531e+00\n",
      " 4.99523553e+00 1.78535689e+00 6.43401363e-01 1.53993371e+00\n",
      " 1.28516074e+00 1.06139997e+00 4.42976301e+00 2.77760057e+00\n",
      " 2.88051982e+00 3.39660685e-01 3.26736083e+00 2.89256855e+00\n",
      " 2.94975017e+00 4.43121202e+00 1.71199043e+00 2.91347939e+00\n",
      " 3.83030404e+00 1.12148075e+00 1.29296633e+00 1.25072129e+00\n",
      " 1.90730535e+00 3.80211988e-01 1.83808687e+00 2.02698567e+00\n",
      " 4.86854034e+00 4.14344100e+00 8.94523385e-01 1.61426437e+00\n",
      " 3.56908591e+00 3.12182748e+00 3.42748869e+00 1.66879839e+00\n",
      " 3.61255790e+00 2.35023881e+00 2.36242525e+00 1.05753940e+00\n",
      " 1.10589684e+00 1.66160490e+00 3.00605008e+00 7.04985538e-02\n",
      " 2.26291035e+00 1.03489404e+00 3.84935513e+00 3.39765650e+00\n",
      " 4.42410654e+00 4.32705760e+00 4.79404945e+00 3.26343876e+00\n",
      " 1.09693355e+00 1.52924150e+00 4.82355121e+00 2.37196340e+00\n",
      " 4.14231094e+00 4.65387507e-01 5.20706663e-01 3.43588841e+00\n",
      " 1.49778545e+00 3.57536587e+00 1.28637394e+00 3.96795840e+00\n",
      " 4.24163787e+00 6.68853173e-01 1.29006080e+00 1.81480093e+00\n",
      " 1.89459645e-01 3.84267332e+00 2.69838006e+00 6.53393948e-02\n",
      " 2.06615116e+00 3.83465094e+00 4.85687240e+00 4.66312262e+00\n",
      " 2.90599517e+00 4.32694194e+00 3.42840757e-02 2.95073100e+00\n",
      " 4.99968534e+00 1.14091571e+00 1.28011438e+00 1.08085105e+00\n",
      " 1.27871858e+00 1.30657258e+00 5.17729997e-01 1.13152349e+00\n",
      " 7.31441898e-01 3.54398808e+00 3.25250461e+00 1.97708108e+00\n",
      " 4.12426072e+00 4.97134443e+00 2.69173374e+00 2.68305358e+00\n",
      " 4.77237501e+00 1.33309337e+00 3.70554355e+00 5.95505842e-01\n",
      " 1.31174730e+00 3.43960787e+00 2.96669568e+00 2.48914307e+00\n",
      " 2.85484957e+00 6.19586226e-01 2.68276320e+00 2.36276527e+00\n",
      " 2.14903266e+00 2.80101126e+00 3.62523552e+00 7.08662480e-01\n",
      " 3.13973736e+00 8.00850721e-01 3.73816494e+00 1.87925363e+00\n",
      " 4.04251775e+00 8.91585051e-01 1.98499499e+00 4.62311859e+00\n",
      " 1.94896378e+00 9.75605331e-01 1.61356243e+00 2.60113157e+00\n",
      " 2.57387333e-02 2.78588101e+00 2.86306510e-01 3.07740014e+00\n",
      " 4.71150155e+00 3.76733653e+00 4.14694285e+00 1.06206574e+00\n",
      " 3.43343878e+00 1.34580783e+00 1.21920002e+00 1.26679966e-01\n",
      " 3.07605383e-01 3.84994551e+00 2.70013907e+00 9.22129585e-01\n",
      " 6.67248869e-01 1.26727350e+00 4.56407917e+00 1.53565421e+00\n",
      " 1.42379536e+00 7.37182182e-01 2.29045315e+00 1.12178009e-01\n",
      " 2.36956799e+00 4.57539005e+00 1.71526565e+00 1.26039809e+00\n",
      " 3.94452834e+00 4.82164455e+00 1.87165813e-01 1.85445047e-03\n",
      " 1.14404510e+00 4.42008255e+00 1.31199452e-01 1.82080933e+00\n",
      " 1.40041065e+00 1.96326700e+00 2.54894812e+00 1.09289674e+00\n",
      " 4.34721131e+00 4.49726468e-01 3.01954493e+00 3.89656115e+00\n",
      " 4.09866576e+00 3.64727957e+00]\n"
     ]
    }
   ],
   "source": [
    "import numpy\n",
    "\n",
    "x = numpy.random.uniform(0.0, 5.0, 250)\n",
    "\n",
    "print(x)"
   ]
  },
  {
   "cell_type": "markdown",
   "metadata": {},
   "source": [
    "# Histogram\n",
    "\n",
    "#This is used to visualize data"
   ]
  },
  {
   "cell_type": "code",
   "execution_count": 34,
   "metadata": {},
   "outputs": [
    {
     "data": {
      "image/png": "[encoded data removed]",
      "text/plain": [
       "<Figure size 432x288 with 1 Axes>"
      ]
     },
     "metadata": {
      "needs_background": "light"
     },
     "output_type": "display_data"
    }
   ],
   "source": [
    "import numpy\n",
    "import matplotlib.pyplot as plt\n",
    "%matplotlib inline\n",
    "\n",
    "x = numpy.random.uniform(0.0, 5.0, 250)\n",
    "\n",
    "plt.hist(x, 5)\n",
    "plt.show()"
   ]
  },
  {
   "cell_type": "code",
   "execution_count": 35,
   "metadata": {},
   "outputs": [
    {
     "data": {
      "image/png": "[encoded data removed]",
      "text/plain": [
       "<Figure size 432x288 with 1 Axes>"
      ]
     },
     "metadata": {
      "needs_background": "light"
     },
     "output_type": "display_data"
    }
   ],
   "source": [
    "#Create a bigger dataset and plot\n",
    "import numpy\n",
    "import matplotlib.pyplot as plt\n",
    "\n",
    "x = numpy.random.uniform(0.0, 5.0, 100000)\n",
    "\n",
    "plt.hist(x, 100)\n",
    "plt.show()\n"
   ]
  },
  {
   "cell_type": "markdown",
   "metadata": {},
   "source": [
    "# Normal Distribution "
   ]
  },
  {
   "cell_type": "code",
   "execution_count": 6,
   "metadata": {},
   "outputs": [
    {
     "output_type": "display_data",
     "data": {
      "text/plain": "<Figure size 432x288 with 1 Axes>",
      "image/png": "[encoded data removed]"
     },
     "metadata": {
      "needs_background": "light"
     }
    },
    {
     "output_type": "execute_result",
     "data": {
      "text/plain": [
       "'We use the array from the numpy.random.normal() method, with 100000 values,  to draw a histogram with 100 bars.\\nWe specify that the mean value is 5.0, and the standard deviation is 1.0.\\nMeaning that the values should be concentrated around 5.0, and rarely further away than 1.0 from the mean.\\nAnd as you can see from the histogram, most values are between 4.0 and 6.0, with a top at approximately 5.0.\\n'"
      ]
     },
     "metadata": {},
     "execution_count": 6
    }
   ],
   "source": [
    "#Example\n",
    "#A typical normal data distribution:\n",
    "import numpy\n",
    "import matplotlib.pyplot as plt\n",
    "\n",
    "x = numpy.random.normal(5.0, 1.0, 100000)\n",
    "\n",
    "plt.hist(x, 100)\n",
    "plt.show()\n",
    "\n",
    "'''We use the array from the numpy.random.normal() method, with 100000 values,  to draw a histogram with 100 bars.\n",
    "We specify that the mean value is 5.0, and the standard deviation is 1.0.\n",
    "Meaning that the values should be concentrated around 5.0, and rarely further away than 1.0 from the mean.\n",
    "And as you can see from the histogram, most values are between 4.0 and 6.0, with a top at approximately 5.0.\n",
    "'''"
   ]
  },
  {
   "cell_type": "markdown",
   "metadata": {},
   "source": [
    "# Scatter Plot"
   ]
  },
  {
   "cell_type": "code",
   "execution_count": 8,
   "metadata": {},
   "outputs": [],
   "source": [
    "## A scatter plot is a diagram where each value in the data set is represented by a dot."
   ]
  },
  {
   "cell_type": "code",
   "execution_count": 9,
   "metadata": {},
   "outputs": [],
   "source": [
    "#let x be the ages of each car \n",
    "x = [5,7,8,7,2,17,2,9,4,11,12,9,6]\n",
    "\n",
    "#let y be the speed of each car \n",
    "y = [99,86,87,88,111,86,103,87,94,78,77,85,86]"
   ]
  },
  {
   "cell_type": "code",
   "execution_count": 10,
   "metadata": {},
   "outputs": [
    {
     "output_type": "display_data",
     "data": {
      "text/plain": "<Figure size 432x288 with 1 Axes>",
      "image/png": "[encoded data removed]"
     },
     "metadata": {
      "needs_background": "light"
     }
    }
   ],
   "source": [
    "plt.scatter(x,y)\n",
    "plt.show()"
   ]
  },
  {
   "cell_type": "code",
   "execution_count": 11,
   "metadata": {},
   "outputs": [],
   "source": [
    "# The x-axis represents ages, and the y-axis represents speeds.\n",
    "# What we can read from the diagram is that the two fastest cars were both 2 years old, and the slowest car was 12 years old.\n",
    "# Note that we registered only 13 cars so the results might just be a coincedence "
   ]
  },
  {
   "source": [
    "# Random Data Distributions"
   ],
   "cell_type": "markdown",
   "metadata": {}
  },
  {
   "source": [
    "# In Machine Learning the data sets can contain thousands-, or even millions, of values.\n",
    "\n",
    "# You might not have real world data when you are testing an algorithm, you might have to use randomly generated values.\n",
    "\n",
    "# As we have learned in the previous chapter, the NumPy module can help us with that!\n",
    "\n",
    "# Let us create two arrays that are both filled with 1000 random numbers from a normal data distribution.\n",
    "\n",
    "# The first array will have the mean set to 5.0 with a standard deviation of 1.0.\n",
    "\n",
    "# The second array will have the mean set to 10.0 with a standard deviation of 2.0:"
   ],
   "cell_type": "markdown",
   "metadata": {}
  },
  {
   "cell_type": "code",
   "execution_count": 14,
   "metadata": {},
   "outputs": [
    {
     "output_type": "display_data",
     "data": {
      "text/plain": "<Figure size 432x288 with 1 Axes>",
      "image/png": "[encoded data removed]"
     },
     "metadata": {
      "needs_background": "light"
     }
    }
   ],
   "source": [
    "import numpy\n",
    "import matplotlib.pyplot as plt\n",
    "\n",
    "x = numpy.random.normal(5.0, 1.0, 1000)\n",
    "y = numpy.random.normal(10.0, 2.0, 1000)\n",
    "\n",
    "plt.scatter(x, y)\n",
    "plt.show()"
   ]
  },
  {
   "cell_type": "code",
   "execution_count": 15,
   "metadata": {},
   "outputs": [],
   "source": [
    "# Scatter Plot Explained\n",
    "# We can see that the dots are concentrated around the value 5 on the x-axis, and 10 on the y-axis.\n",
    "\n",
    "# We can also see that the spread is wider on the y-axis than on the x-axis."
   ]
  },
  {
   "source": [
    "# Machine Learning - Linear Regression"
   ],
   "cell_type": "markdown",
   "metadata": {}
  },
  {
   "source": [
    "# Regression\n",
    "### The term regression is used when you try to find the relationship between variables.\n",
    "\n",
    "### In Machine Learning, and in statistical modeling, that relationship is used to predict the outcome of future events."
   ],
   "cell_type": "markdown",
   "metadata": {}
  },
  {
   "source": [
    "# Linear Regression\n",
    "Linear regression uses the relationship between the data-points to draw a straight line through all them.\n",
    "\n",
    "This line can be used to predict future values."
   ],
   "cell_type": "markdown",
   "metadata": {}
  },
  {
   "cell_type": "code",
   "execution_count": 17,
   "metadata": {},
   "outputs": [],
   "source": [
    "# Python has methods for finding a relationship between data-points and to draw a line of linear regression. We will show you how to use these methods instead of going through the mathematic formula.\n",
    "\n",
    "# In the example below, the x-axis represents age, and the y-axis represents speed. We have registered the age and speed of 13 cars as they were passing a tollbooth. Let us see if the data we collected could be used in a linear regression:"
   ]
  },
  {
   "cell_type": "code",
   "execution_count": 16,
   "metadata": {},
   "outputs": [
    {
     "output_type": "display_data",
     "data": {
      "text/plain": "<Figure size 432x288 with 1 Axes>",
      "image/png": "[encoded data removed]"
     },
     "metadata": {
      "needs_background": "light"
     }
    }
   ],
   "source": [
    "import matplotlib.pyplot as plt\n",
    "\n",
    "x = [5,7,8,7,2,17,2,9,4,11,12,9,6]\n",
    "y = [99,86,87,88,111,86,103,87,94,78,77,85,86]\n",
    "\n",
    "plt.scatter(x, y)\n",
    "plt.show()"
   ]
  },
  {
   "source": [
    "## In Machine Learning, predicting the future is very important."
   ],
   "cell_type": "markdown",
   "metadata": {}
  },
  {
   "cell_type": "code",
   "execution_count": 19,
   "metadata": {},
   "outputs": [
    {
     "output_type": "display_data",
     "data": {
      "text/plain": "<Figure size 432x288 with 1 Axes>",
      "image/png": "[encoded data removed]"
     },
     "metadata": {
      "needs_background": "light"
     }
    }
   ],
   "source": [
    "#Import scipy and draw the line of Linear Regression:\n",
    "\n",
    "import matplotlib.pyplot as plt\n",
    "from scipy import stats\n",
    "\n",
    "#Create the arrays that represent the values of the x and y axis:\n",
    "\n",
    "x = [5,7,8,7,2,17,2,9,4,11,12,9,6]\n",
    "y = [99,86,87,88,111,86,103,87,94,78,77,85,86]\n",
    "\n",
    "#Execute a method that returns some important key values of Linear Regression:\n",
    "slope, intercept, r, p, std_err = stats.linregress(x, y)\n",
    "\n",
    "# Create a function that uses the slope and intercept values to return a new value. This new value represents where on the y-axis the corresponding x value will be placed:\n",
    "def myfunc(x):\n",
    "  return slope * x + intercept\n",
    "\n",
    "#Run each value of the x array through the function. This will result in a new array with new values for the y-axis:\n",
    "mymodel = list(map(myfunc, x))\n",
    "\n",
    "#Draw the original scatter plot:\n",
    "plt.scatter(x, y)\n",
    "#Draw the line of linear regression:\n",
    "plt.plot(x, mymodel)\n",
    "#Display the diagram:\n",
    "plt.show()"
   ]
  },
  {
   "source": [
    "# R for Relationship\n",
    "## It is important to know how the relationship between the values of the x-axis and the values of the y-axis is, if there are no relationship the linear regression can not be used to predict anything.\n",
    "\n",
    "## This relationship - the coefficient of correlation - is called r.\n",
    " \n",
    "## The r value ranges from -1 to 1, where 0 means no relationship, and 1 (and -1) means 100% related.\n",
    "\n",
    "## Python and the Scipy module will compute this value for you, all you have to do is feed it with the x and y values."
   ],
   "cell_type": "markdown",
   "metadata": {}
  },
  {
   "cell_type": "code",
   "execution_count": 20,
   "metadata": {},
   "outputs": [
    {
     "output_type": "stream",
     "name": "stdout",
     "text": [
      "-0.758591524376155\n"
     ]
    }
   ],
   "source": [
    "#Checking the fit of this data  \n",
    "\n",
    "#How well does my data fit in a linear regression?\n",
    "\n",
    "from scipy import stats\n",
    "\n",
    "x = [5,7,8,7,2,17,2,9,4,11,12,9,6]\n",
    "y = [99,86,87,88,111,86,103,87,94,78,77,85,86]\n",
    "\n",
    "slope, intercept, r, p, std_err = stats.linregress(x, y)\n",
    "\n",
    "print(r)"
   ]
  },
  {
   "cell_type": "code",
   "execution_count": 21,
   "metadata": {},
   "outputs": [],
   "source": [
    "#The result -0.76 shows that there is a relationship, not perfect, but it indicates that we could use linear regression in future predictions."
   ]
  },
  {
   "source": [
    "# How to check the relationship, r in a dataset \n",
    "## To determine if linear regression is useable to predict future values "
   ],
   "cell_type": "markdown",
   "metadata": {}
  },
  {
   "cell_type": "code",
   "execution_count": 24,
   "metadata": {},
   "outputs": [],
   "source": [
    "#Get the Test dataset "
   ]
  },
  {
   "cell_type": "code",
   "execution_count": 25,
   "metadata": {},
   "outputs": [
    {
     "output_type": "stream",
     "name": "stdout",
     "text": [
      "0.01331814154297491\n"
     ]
    }
   ],
   "source": [
    "import numpy\n",
    "from scipy import stats\n",
    "\n",
    "x = [89,43,36,36,95,10,66,34,38,20,26,29,48,64,6,5,36,66,72,40]\n",
    "y = [21,46,3,35,67,95,53,72,58,10,26,34,90,33,38,20,56,2,47,15]\n",
    "\n",
    "slope, intercept, r, p, std_err = stats.linregress(x, y)\n",
    "\n",
    "print(r)"
   ]
  },
  {
   "cell_type": "code",
   "execution_count": 26,
   "metadata": {},
   "outputs": [],
   "source": [
    "#Very low value of r shows that linear regression will not be a good fit \n",
    "# values of r should range from -1 to 1 (-1, 0, 1)\n",
    "# 0 or any value near means bad fit \n",
    "# -1 or 1 means 100% (good fit)"
   ]
  },
  {
   "cell_type": "code",
   "execution_count": 27,
   "metadata": {},
   "outputs": [],
   "source": [
    "#Draw the plot of the above example "
   ]
  },
  {
   "cell_type": "code",
   "execution_count": 28,
   "metadata": {},
   "outputs": [
    {
     "output_type": "display_data",
     "data": {
      "text/plain": "<Figure size 432x288 with 1 Axes>",
      "image/png": "[encoded data removed]"
     },
     "metadata": {
      "needs_background": "light"
     }
    }
   ],
   "source": [
    "import matplotlib.pyplot as plt\n",
    "from scipy import stats\n",
    "\n",
    "x = [89,43,36,36,95,10,66,34,38,20,26,29,48,64,6,5,36,66,72,40]\n",
    "y = [21,46,3,35,67,95,53,72,58,10,26,34,90,33,38,20,56,2,47,15]\n",
    "\n",
    "slope, intercept, r, p, std_err = stats.linregress(x, y)\n",
    "\n",
    "def myfunc(x):\n",
    "  return slope * x + intercept\n",
    "\n",
    "mymodel = list(map(myfunc, x))\n",
    "\n",
    "plt.scatter(x, y)\n",
    "plt.plot(x, mymodel)\n",
    "plt.show()"
   ]
  },
  {
   "cell_type": "code",
   "execution_count": 29,
   "metadata": {},
   "outputs": [],
   "source": [
    "#Plot shows that the fit is bad and that this dataset is not suitable for linear regression "
   ]
  },
  {
   "source": [
    "# Predict Future Values\n",
    "## Now we can use the information we have gathered to predict future values.\n",
    "\n",
    "## Example: Let us try to predict the speed of a 10 years old car.\n",
    "\n",
    "## To do so, we need the same myfunc() function from the example above:"
   ],
   "cell_type": "markdown",
   "metadata": {}
  },
  {
   "cell_type": "code",
   "execution_count": 31,
   "metadata": {},
   "outputs": [
    {
     "output_type": "stream",
     "name": "stdout",
     "text": [
      "85.59308314937454\n"
     ]
    }
   ],
   "source": [
    "from scipy import stats\n",
    "\n",
    "x = [5,7,8,7,2,17,2,9,4,11,12,9,6]\n",
    "y = [99,86,87,88,111,86,103,87,94,78,77,85,86]\n",
    "\n",
    "slope, intercept, r, p, std_err = stats.linregress(x, y)\n",
    "\n",
    "def myfunc(x):\n",
    "  return slope * x + intercept\n",
    "\n",
    "speed = myfunc(10)\n",
    "\n",
    "print(speed)"
   ]
  },
  {
   "cell_type": "code",
   "execution_count": 32,
   "metadata": {},
   "outputs": [],
   "source": [
    "#Result shows a speed of 85.59 / 85.6 for a 10 year old car.\n",
    "#We can also infer that from the diagram "
   ]
  },
  {
   "cell_type": "code",
   "execution_count": null,
   "metadata": {},
   "outputs": [],
   "source": []
  }
 ],
 "metadata": {
  "kernelspec": {
   "display_name": "Python 3",
   "language": "python",
   "name": "python3"
  },
  "language_info": {
   "codemirror_mode": {
    "name": "ipython",
    "version": 3
   },
   "file_extension": ".py",
   "mimetype": "text/x-python",
   "name": "python",
   "nbconvert_exporter": "python",
   "pygments_lexer": "ipython3",
   "version": "3.7.1-final"
  }
 },
 "nbformat": 4,
 "nbformat_minor": 2
}